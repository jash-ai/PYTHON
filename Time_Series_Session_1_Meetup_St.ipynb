{
  "cells": [
    {
      "cell_type": "markdown",
      "metadata": {
        "id": "view-in-github",
        "colab_type": "text"
      },
      "source": [
        "<a href=\"https://colab.research.google.com/github/jash-ai/PYTHON/blob/main/Time_Series_Session_1_Meetup_St.ipynb\" target=\"_parent\"><img src=\"https://colab.research.google.com/assets/colab-badge.svg\" alt=\"Open In Colab\"/></a>"
      ]
    },
    {
      "cell_type": "markdown",
      "metadata": {
        "id": "Y18dkVWNtmBB"
      },
      "source": [
        "# 1. Different Types of Data"
      ]
    },
    {
      "cell_type": "code",
      "execution_count": 6,
      "metadata": {
        "id": "2vMNNA4ItmBF"
      },
      "outputs": [],
      "source": [
        "import os\n",
        "import pandas as pd\n",
        "import numpy as np\n",
        "%matplotlib inline\n",
        "from matplotlib import pyplot as plt\n",
        "import seaborn as sns"
      ]
    },
    {
      "cell_type": "markdown",
      "metadata": {
        "id": "aw43XavvtmBG"
      },
      "source": [
        "1.1 Import the data"
      ]
    },
    {
      "cell_type": "code",
      "execution_count": 8,
      "metadata": {
        "id": "rzZgU3ZwtmBG"
      },
      "outputs": [],
      "source": [
        "data = pd.read_csv(\"WDIData.csv\")"
      ]
    },
    {
      "cell_type": "code",
      "source": [
        "data.head()"
      ],
      "metadata": {
        "colab": {
          "base_uri": "https://localhost:8080/",
          "height": 629
        },
        "id": "Q6hsnAO4vzej",
        "outputId": "6a24a9d0-d434-4d28-9209-3daacde37210"
      },
      "execution_count": 11,
      "outputs": [
        {
          "output_type": "execute_result",
          "data": {
            "text/plain": [
              "  Country Name Country Code  \\\n",
              "0   Arab World          ARB   \n",
              "1   Arab World          ARB   \n",
              "2   Arab World          ARB   \n",
              "3   Arab World          ARB   \n",
              "4   Arab World          ARB   \n",
              "\n",
              "                                      Indicator Name     Indicator Code  1960  \\\n",
              "0  2005 PPP conversion factor, GDP (LCU per inter...      PA.NUS.PPP.05   NaN   \n",
              "1  2005 PPP conversion factor, private consumptio...  PA.NUS.PRVT.PP.05   NaN   \n",
              "2  Access to clean fuels and technologies for coo...     EG.CFT.ACCS.ZS   NaN   \n",
              "3            Access to electricity (% of population)     EG.ELC.ACCS.ZS   NaN   \n",
              "4  Access to electricity, rural (% of rural popul...  EG.ELC.ACCS.RU.ZS   NaN   \n",
              "\n",
              "   1961  1962  1963  1964  1965  ...       2011       2012       2013  \\\n",
              "0   NaN   NaN   NaN   NaN   NaN  ...        NaN        NaN        NaN   \n",
              "1   NaN   NaN   NaN   NaN   NaN  ...        NaN        NaN        NaN   \n",
              "2   NaN   NaN   NaN   NaN   NaN  ...  82.783289  83.120303  83.533457   \n",
              "3   NaN   NaN   NaN   NaN   NaN  ...  86.428272  87.070576  88.176836   \n",
              "4   NaN   NaN   NaN   NaN   NaN  ...  73.942103  75.244104  77.162305   \n",
              "\n",
              "        2014       2015       2016       2017  2018  2019  Unnamed: 64  \n",
              "0        NaN        NaN        NaN        NaN   NaN   NaN          NaN  \n",
              "1        NaN        NaN        NaN        NaN   NaN   NaN          NaN  \n",
              "2  83.897596  84.171599  84.510171        NaN   NaN   NaN          NaN  \n",
              "3  87.342739  89.130121  89.678685  90.273687   NaN   NaN          NaN  \n",
              "4  75.538976  78.741152  79.665635  80.749293   NaN   NaN          NaN  \n",
              "\n",
              "[5 rows x 65 columns]"
            ],
            "text/html": [
              "\n",
              "\n",
              "  <div id=\"df-83fc2f57-e4c3-4e57-9912-88d118f0ae4d\">\n",
              "    <div class=\"colab-df-container\">\n",
              "      <div>\n",
              "<style scoped>\n",
              "    .dataframe tbody tr th:only-of-type {\n",
              "        vertical-align: middle;\n",
              "    }\n",
              "\n",
              "    .dataframe tbody tr th {\n",
              "        vertical-align: top;\n",
              "    }\n",
              "\n",
              "    .dataframe thead th {\n",
              "        text-align: right;\n",
              "    }\n",
              "</style>\n",
              "<table border=\"1\" class=\"dataframe\">\n",
              "  <thead>\n",
              "    <tr style=\"text-align: right;\">\n",
              "      <th></th>\n",
              "      <th>Country Name</th>\n",
              "      <th>Country Code</th>\n",
              "      <th>Indicator Name</th>\n",
              "      <th>Indicator Code</th>\n",
              "      <th>1960</th>\n",
              "      <th>1961</th>\n",
              "      <th>1962</th>\n",
              "      <th>1963</th>\n",
              "      <th>1964</th>\n",
              "      <th>1965</th>\n",
              "      <th>...</th>\n",
              "      <th>2011</th>\n",
              "      <th>2012</th>\n",
              "      <th>2013</th>\n",
              "      <th>2014</th>\n",
              "      <th>2015</th>\n",
              "      <th>2016</th>\n",
              "      <th>2017</th>\n",
              "      <th>2018</th>\n",
              "      <th>2019</th>\n",
              "      <th>Unnamed: 64</th>\n",
              "    </tr>\n",
              "  </thead>\n",
              "  <tbody>\n",
              "    <tr>\n",
              "      <th>0</th>\n",
              "      <td>Arab World</td>\n",
              "      <td>ARB</td>\n",
              "      <td>2005 PPP conversion factor, GDP (LCU per inter...</td>\n",
              "      <td>PA.NUS.PPP.05</td>\n",
              "      <td>NaN</td>\n",
              "      <td>NaN</td>\n",
              "      <td>NaN</td>\n",
              "      <td>NaN</td>\n",
              "      <td>NaN</td>\n",
              "      <td>NaN</td>\n",
              "      <td>...</td>\n",
              "      <td>NaN</td>\n",
              "      <td>NaN</td>\n",
              "      <td>NaN</td>\n",
              "      <td>NaN</td>\n",
              "      <td>NaN</td>\n",
              "      <td>NaN</td>\n",
              "      <td>NaN</td>\n",
              "      <td>NaN</td>\n",
              "      <td>NaN</td>\n",
              "      <td>NaN</td>\n",
              "    </tr>\n",
              "    <tr>\n",
              "      <th>1</th>\n",
              "      <td>Arab World</td>\n",
              "      <td>ARB</td>\n",
              "      <td>2005 PPP conversion factor, private consumptio...</td>\n",
              "      <td>PA.NUS.PRVT.PP.05</td>\n",
              "      <td>NaN</td>\n",
              "      <td>NaN</td>\n",
              "      <td>NaN</td>\n",
              "      <td>NaN</td>\n",
              "      <td>NaN</td>\n",
              "      <td>NaN</td>\n",
              "      <td>...</td>\n",
              "      <td>NaN</td>\n",
              "      <td>NaN</td>\n",
              "      <td>NaN</td>\n",
              "      <td>NaN</td>\n",
              "      <td>NaN</td>\n",
              "      <td>NaN</td>\n",
              "      <td>NaN</td>\n",
              "      <td>NaN</td>\n",
              "      <td>NaN</td>\n",
              "      <td>NaN</td>\n",
              "    </tr>\n",
              "    <tr>\n",
              "      <th>2</th>\n",
              "      <td>Arab World</td>\n",
              "      <td>ARB</td>\n",
              "      <td>Access to clean fuels and technologies for coo...</td>\n",
              "      <td>EG.CFT.ACCS.ZS</td>\n",
              "      <td>NaN</td>\n",
              "      <td>NaN</td>\n",
              "      <td>NaN</td>\n",
              "      <td>NaN</td>\n",
              "      <td>NaN</td>\n",
              "      <td>NaN</td>\n",
              "      <td>...</td>\n",
              "      <td>82.783289</td>\n",
              "      <td>83.120303</td>\n",
              "      <td>83.533457</td>\n",
              "      <td>83.897596</td>\n",
              "      <td>84.171599</td>\n",
              "      <td>84.510171</td>\n",
              "      <td>NaN</td>\n",
              "      <td>NaN</td>\n",
              "      <td>NaN</td>\n",
              "      <td>NaN</td>\n",
              "    </tr>\n",
              "    <tr>\n",
              "      <th>3</th>\n",
              "      <td>Arab World</td>\n",
              "      <td>ARB</td>\n",
              "      <td>Access to electricity (% of population)</td>\n",
              "      <td>EG.ELC.ACCS.ZS</td>\n",
              "      <td>NaN</td>\n",
              "      <td>NaN</td>\n",
              "      <td>NaN</td>\n",
              "      <td>NaN</td>\n",
              "      <td>NaN</td>\n",
              "      <td>NaN</td>\n",
              "      <td>...</td>\n",
              "      <td>86.428272</td>\n",
              "      <td>87.070576</td>\n",
              "      <td>88.176836</td>\n",
              "      <td>87.342739</td>\n",
              "      <td>89.130121</td>\n",
              "      <td>89.678685</td>\n",
              "      <td>90.273687</td>\n",
              "      <td>NaN</td>\n",
              "      <td>NaN</td>\n",
              "      <td>NaN</td>\n",
              "    </tr>\n",
              "    <tr>\n",
              "      <th>4</th>\n",
              "      <td>Arab World</td>\n",
              "      <td>ARB</td>\n",
              "      <td>Access to electricity, rural (% of rural popul...</td>\n",
              "      <td>EG.ELC.ACCS.RU.ZS</td>\n",
              "      <td>NaN</td>\n",
              "      <td>NaN</td>\n",
              "      <td>NaN</td>\n",
              "      <td>NaN</td>\n",
              "      <td>NaN</td>\n",
              "      <td>NaN</td>\n",
              "      <td>...</td>\n",
              "      <td>73.942103</td>\n",
              "      <td>75.244104</td>\n",
              "      <td>77.162305</td>\n",
              "      <td>75.538976</td>\n",
              "      <td>78.741152</td>\n",
              "      <td>79.665635</td>\n",
              "      <td>80.749293</td>\n",
              "      <td>NaN</td>\n",
              "      <td>NaN</td>\n",
              "      <td>NaN</td>\n",
              "    </tr>\n",
              "  </tbody>\n",
              "</table>\n",
              "<p>5 rows × 65 columns</p>\n",
              "</div>\n",
              "      <button class=\"colab-df-convert\" onclick=\"convertToInteractive('df-83fc2f57-e4c3-4e57-9912-88d118f0ae4d')\"\n",
              "              title=\"Convert this dataframe to an interactive table.\"\n",
              "              style=\"display:none;\">\n",
              "\n",
              "  <svg xmlns=\"http://www.w3.org/2000/svg\" height=\"24px\"viewBox=\"0 0 24 24\"\n",
              "       width=\"24px\">\n",
              "    <path d=\"M0 0h24v24H0V0z\" fill=\"none\"/>\n",
              "    <path d=\"M18.56 5.44l.94 2.06.94-2.06 2.06-.94-2.06-.94-.94-2.06-.94 2.06-2.06.94zm-11 1L8.5 8.5l.94-2.06 2.06-.94-2.06-.94L8.5 2.5l-.94 2.06-2.06.94zm10 10l.94 2.06.94-2.06 2.06-.94-2.06-.94-.94-2.06-.94 2.06-2.06.94z\"/><path d=\"M17.41 7.96l-1.37-1.37c-.4-.4-.92-.59-1.43-.59-.52 0-1.04.2-1.43.59L10.3 9.45l-7.72 7.72c-.78.78-.78 2.05 0 2.83L4 21.41c.39.39.9.59 1.41.59.51 0 1.02-.2 1.41-.59l7.78-7.78 2.81-2.81c.8-.78.8-2.07 0-2.86zM5.41 20L4 18.59l7.72-7.72 1.47 1.35L5.41 20z\"/>\n",
              "  </svg>\n",
              "      </button>\n",
              "\n",
              "\n",
              "\n",
              "    <div id=\"df-f141716a-5ac7-40b4-853f-6ee6e7b98533\">\n",
              "      <button class=\"colab-df-quickchart\" onclick=\"quickchart('df-f141716a-5ac7-40b4-853f-6ee6e7b98533')\"\n",
              "              title=\"Suggest charts.\"\n",
              "              style=\"display:none;\">\n",
              "\n",
              "<svg xmlns=\"http://www.w3.org/2000/svg\" height=\"24px\"viewBox=\"0 0 24 24\"\n",
              "     width=\"24px\">\n",
              "    <g>\n",
              "        <path d=\"M19 3H5c-1.1 0-2 .9-2 2v14c0 1.1.9 2 2 2h14c1.1 0 2-.9 2-2V5c0-1.1-.9-2-2-2zM9 17H7v-7h2v7zm4 0h-2V7h2v10zm4 0h-2v-4h2v4z\"/>\n",
              "    </g>\n",
              "</svg>\n",
              "      </button>\n",
              "    </div>\n",
              "\n",
              "<style>\n",
              "  .colab-df-quickchart {\n",
              "    background-color: #E8F0FE;\n",
              "    border: none;\n",
              "    border-radius: 50%;\n",
              "    cursor: pointer;\n",
              "    display: none;\n",
              "    fill: #1967D2;\n",
              "    height: 32px;\n",
              "    padding: 0 0 0 0;\n",
              "    width: 32px;\n",
              "  }\n",
              "\n",
              "  .colab-df-quickchart:hover {\n",
              "    background-color: #E2EBFA;\n",
              "    box-shadow: 0px 1px 2px rgba(60, 64, 67, 0.3), 0px 1px 3px 1px rgba(60, 64, 67, 0.15);\n",
              "    fill: #174EA6;\n",
              "  }\n",
              "\n",
              "  [theme=dark] .colab-df-quickchart {\n",
              "    background-color: #3B4455;\n",
              "    fill: #D2E3FC;\n",
              "  }\n",
              "\n",
              "  [theme=dark] .colab-df-quickchart:hover {\n",
              "    background-color: #434B5C;\n",
              "    box-shadow: 0px 1px 3px 1px rgba(0, 0, 0, 0.15);\n",
              "    filter: drop-shadow(0px 1px 2px rgba(0, 0, 0, 0.3));\n",
              "    fill: #FFFFFF;\n",
              "  }\n",
              "</style>\n",
              "\n",
              "    <script>\n",
              "      async function quickchart(key) {\n",
              "        const containerElement = document.querySelector('#' + key);\n",
              "        const charts = await google.colab.kernel.invokeFunction(\n",
              "            'suggestCharts', [key], {});\n",
              "      }\n",
              "    </script>\n",
              "\n",
              "      <script>\n",
              "\n",
              "function displayQuickchartButton(domScope) {\n",
              "  let quickchartButtonEl =\n",
              "    domScope.querySelector('#df-f141716a-5ac7-40b4-853f-6ee6e7b98533 button.colab-df-quickchart');\n",
              "  quickchartButtonEl.style.display =\n",
              "    google.colab.kernel.accessAllowed ? 'block' : 'none';\n",
              "}\n",
              "\n",
              "        displayQuickchartButton(document);\n",
              "      </script>\n",
              "      <style>\n",
              "    .colab-df-container {\n",
              "      display:flex;\n",
              "      flex-wrap:wrap;\n",
              "      gap: 12px;\n",
              "    }\n",
              "\n",
              "    .colab-df-convert {\n",
              "      background-color: #E8F0FE;\n",
              "      border: none;\n",
              "      border-radius: 50%;\n",
              "      cursor: pointer;\n",
              "      display: none;\n",
              "      fill: #1967D2;\n",
              "      height: 32px;\n",
              "      padding: 0 0 0 0;\n",
              "      width: 32px;\n",
              "    }\n",
              "\n",
              "    .colab-df-convert:hover {\n",
              "      background-color: #E2EBFA;\n",
              "      box-shadow: 0px 1px 2px rgba(60, 64, 67, 0.3), 0px 1px 3px 1px rgba(60, 64, 67, 0.15);\n",
              "      fill: #174EA6;\n",
              "    }\n",
              "\n",
              "    [theme=dark] .colab-df-convert {\n",
              "      background-color: #3B4455;\n",
              "      fill: #D2E3FC;\n",
              "    }\n",
              "\n",
              "    [theme=dark] .colab-df-convert:hover {\n",
              "      background-color: #434B5C;\n",
              "      box-shadow: 0px 1px 3px 1px rgba(0, 0, 0, 0.15);\n",
              "      filter: drop-shadow(0px 1px 2px rgba(0, 0, 0, 0.3));\n",
              "      fill: #FFFFFF;\n",
              "    }\n",
              "  </style>\n",
              "\n",
              "      <script>\n",
              "        const buttonEl =\n",
              "          document.querySelector('#df-83fc2f57-e4c3-4e57-9912-88d118f0ae4d button.colab-df-convert');\n",
              "        buttonEl.style.display =\n",
              "          google.colab.kernel.accessAllowed ? 'block' : 'none';\n",
              "\n",
              "        async function convertToInteractive(key) {\n",
              "          const element = document.querySelector('#df-83fc2f57-e4c3-4e57-9912-88d118f0ae4d');\n",
              "          const dataTable =\n",
              "            await google.colab.kernel.invokeFunction('convertToInteractive',\n",
              "                                                     [key], {});\n",
              "          if (!dataTable) return;\n",
              "\n",
              "          const docLinkHtml = 'Like what you see? Visit the ' +\n",
              "            '<a target=\"_blank\" href=https://colab.research.google.com/notebooks/data_table.ipynb>data table notebook</a>'\n",
              "            + ' to learn more about interactive tables.';\n",
              "          element.innerHTML = '';\n",
              "          dataTable['output_type'] = 'display_data';\n",
              "          await google.colab.output.renderOutput(dataTable, element);\n",
              "          const docLink = document.createElement('div');\n",
              "          docLink.innerHTML = docLinkHtml;\n",
              "          element.appendChild(docLink);\n",
              "        }\n",
              "      </script>\n",
              "    </div>\n",
              "  </div>\n"
            ]
          },
          "metadata": {},
          "execution_count": 11
        }
      ]
    },
    {
      "cell_type": "markdown",
      "metadata": {
        "id": "n4ruRaOftmBH"
      },
      "source": [
        "1.2 Check the number of rows and columns.\n",
        "Check how many unique indicator names and country codes are available in the data."
      ]
    },
    {
      "cell_type": "code",
      "execution_count": 9,
      "metadata": {
        "colab": {
          "base_uri": "https://localhost:8080/"
        },
        "id": "-zYwN0YMtmBH",
        "outputId": "731be3e3-f219-4f55-9036-0be392b55284"
      },
      "outputs": [
        {
          "output_type": "execute_result",
          "data": {
            "text/plain": [
              "1429"
            ]
          },
          "metadata": {},
          "execution_count": 9
        }
      ],
      "source": [
        "data[\"Indicator Name\"].nunique()"
      ]
    },
    {
      "cell_type": "code",
      "source": [
        "data[\"Country Code\"].nunique()"
      ],
      "metadata": {
        "colab": {
          "base_uri": "https://localhost:8080/"
        },
        "id": "YGIAozCrvrrV",
        "outputId": "9b9239b7-a522-4953-8cfc-5f2faef9048f"
      },
      "execution_count": 10,
      "outputs": [
        {
          "output_type": "execute_result",
          "data": {
            "text/plain": [
              "163"
            ]
          },
          "metadata": {},
          "execution_count": 10
        }
      ]
    },
    {
      "cell_type": "markdown",
      "metadata": {
        "id": "Iim_Kd7ztmBH"
      },
      "source": [
        "1.3 Create a new dataframe where indicator name is 'Central government debt, total (% of GDP)'\n",
        "\n",
        "Create a new dataframe where indicator name is 'Military expenditure (% of GDP)'"
      ]
    },
    {
      "cell_type": "code",
      "execution_count": null,
      "metadata": {
        "id": "h1fG0DqPtmBH"
      },
      "outputs": [],
      "source": []
    },
    {
      "cell_type": "markdown",
      "metadata": {
        "id": "ETCmGPyytmBI"
      },
      "source": [
        "1.4 Assign the country code as the index for the two dataframes you created earlier.\n",
        "\n",
        "Keep the countries where both columns have non-missing values.\n",
        "\n",
        "Create a histogram for the military expenditure column.\n",
        "\n"
      ]
    },
    {
      "cell_type": "code",
      "execution_count": null,
      "metadata": {
        "id": "_AaVu2I3tmBI"
      },
      "outputs": [],
      "source": []
    },
    {
      "cell_type": "markdown",
      "metadata": {
        "id": "VSu6P8iztmBI"
      },
      "source": [
        "### 1.1.2 Time Series Data"
      ]
    },
    {
      "cell_type": "markdown",
      "metadata": {
        "id": "ehtGwTgvtmBI"
      },
      "source": [
        "1.5\n",
        "a. filter the two datasets above for country ode 'USA'\n",
        "\n",
        "b. concatenate  the two series (data for the US) after taking a transpose of them.\n",
        "\n",
        "c. keep the data corresponding to years between 1960 and 2010 (including).\n",
        "\n",
        "d. drop the rows with missing values\n",
        "\n",
        "e. Create plots for the military and government expenditure as a function of time"
      ]
    },
    {
      "cell_type": "code",
      "execution_count": null,
      "metadata": {
        "id": "bTTuDCKBtmBJ"
      },
      "outputs": [],
      "source": []
    },
    {
      "cell_type": "markdown",
      "metadata": {
        "tags": [],
        "id": "07YXnAZOtmBJ"
      },
      "source": [
        "### 1.1.3 Panel Data\n",
        "\n",
        "- Cross sectional\n",
        " - Multiple individuals at one point in time\n",
        "- Time Series\n",
        " - Individual entity over multiple points in time\n",
        "- Panel Data (longitudinal data)\n",
        " - Multiple entities over multiple points in time"
      ]
    },
    {
      "cell_type": "markdown",
      "metadata": {
        "id": "u09yfjVJtmBJ"
      },
      "source": [
        "1.6 create the military expenditure for the following countries between\n",
        "1960 and 2010.\n",
        "\n",
        "The country codes:\n",
        "\n",
        "China: 'CHN'\n",
        "\n",
        "USA:'USA'\n",
        "\n",
        "India:'IND'\n",
        "\n",
        "UK:'GBR'"
      ]
    },
    {
      "cell_type": "code",
      "execution_count": null,
      "metadata": {
        "id": "lxQZD-XatmBJ"
      },
      "outputs": [],
      "source": []
    },
    {
      "cell_type": "markdown",
      "metadata": {
        "id": "Lbgvk4catmBK"
      },
      "source": [
        "# 2. Internal Structure of Time Series"
      ]
    },
    {
      "cell_type": "markdown",
      "metadata": {
        "tags": [],
        "id": "ppuF0T27tmBK"
      },
      "source": [
        "### Objectives of Time Series Analysis\n",
        "- Decompose a time series\n",
        "- Develop mathematical models\n",
        "- Uses of models\n",
        " - Understand observed behaviour\n",
        " - Predict series for future points in time"
      ]
    },
    {
      "cell_type": "markdown",
      "metadata": {
        "id": "wAQcun2itmBK"
      },
      "source": [
        "2.1 Read the data 'Monthly_CO2_Concentratioins.xlsx'\n",
        "\n",
        "Keep the rows wihout any missing values\n",
        "\n",
        "Plot the Co2 concentration, observe the upward trend\n",
        "\n",
        "Plot the data for only years 1980 and 1981\n",
        "\n",
        "\n",
        "\n"
      ]
    },
    {
      "cell_type": "code",
      "execution_count": null,
      "metadata": {
        "id": "lQaeWooftmBK"
      },
      "outputs": [],
      "source": []
    },
    {
      "cell_type": "markdown",
      "metadata": {
        "id": "_cUIRUBVtmBK"
      },
      "source": [
        "## 2.1 Upward Trend"
      ]
    },
    {
      "cell_type": "code",
      "execution_count": null,
      "metadata": {
        "id": "-diLpVYHtmBL"
      },
      "outputs": [],
      "source": []
    },
    {
      "cell_type": "markdown",
      "metadata": {
        "id": "pznBpzNGtmBL"
      },
      "source": [
        "### Zoomed-in Version of the Data Between 1980-81"
      ]
    },
    {
      "cell_type": "code",
      "execution_count": null,
      "metadata": {
        "id": "ek22ToA9tmBL"
      },
      "outputs": [],
      "source": []
    },
    {
      "cell_type": "markdown",
      "metadata": {
        "tags": [],
        "id": "jnWZPsGWtmBL"
      },
      "source": [
        "### Fitting The Trend Line\n",
        "\n",
        "Fit a linear regression model using the data and\n",
        "print the coefficient and the intercept\n",
        "\n"
      ]
    },
    {
      "cell_type": "code",
      "execution_count": null,
      "metadata": {
        "id": "P0vpjvW8tmBL"
      },
      "outputs": [],
      "source": []
    },
    {
      "cell_type": "markdown",
      "metadata": {
        "id": "pGY9VMq_tmBL"
      },
      "source": [
        "### Calculating the Residuals\n",
        "\n",
        "Calculate the residuals by subtracting the predictions from the data\n",
        "\n",
        "Plot the residuals\n"
      ]
    },
    {
      "cell_type": "code",
      "execution_count": null,
      "metadata": {
        "id": "9WvVGcfBtmBM"
      },
      "outputs": [],
      "source": []
    },
    {
      "cell_type": "markdown",
      "metadata": {
        "id": "Ir3QGkp6tmBM"
      },
      "source": [
        "### Seasonality\n",
        "\n",
        "Seasonality is manifested as periodic deviations such as those seen in the de-trended observations of CO2 emissions.\n",
        "\n",
        "A practical technique of determining seasonality is through exploratory data analysis through the following plots:\n",
        "\n",
        "- Run sequence plot\n",
        "- Seasonal sub series plot\n",
        "- Multiple box plots\n"
      ]
    },
    {
      "cell_type": "code",
      "execution_count": null,
      "metadata": {
        "id": "0wfWjFprtmBM"
      },
      "outputs": [],
      "source": []
    },
    {
      "cell_type": "markdown",
      "metadata": {
        "id": "BxrLDDXktmBM"
      },
      "source": [
        "### Cylical Changes\n",
        "Cyclical changes are movements observed after every few units of time, but they occur less frequently than seasonal fluctuations. Unlike seasonality, cyclical changes might not have a fixed period of variations."
      ]
    },
    {
      "cell_type": "code",
      "execution_count": null,
      "metadata": {
        "id": "H2jQ10pKtmBM"
      },
      "outputs": [],
      "source": []
    },
    {
      "cell_type": "markdown",
      "metadata": {
        "tags": [],
        "id": "PRG2vCXGtmBM"
      },
      "source": [
        "### Zero-mean Model or White Noise\n",
        "Once predictions have been made by a time series forecast model, they can be collected and analyzed. The series of forecast errors should ideally be white noise. When forecast errors are white noise, it means that all of the signal information in the time series has been harnessed by the model in order to make predictions."
      ]
    },
    {
      "cell_type": "code",
      "execution_count": null,
      "metadata": {
        "id": "_tu4jwp2tmBM"
      },
      "outputs": [],
      "source": []
    },
    {
      "cell_type": "markdown",
      "metadata": {
        "id": "ui0OcEsJtmBN"
      },
      "source": [
        "### Random Walk\n",
        "A random walk is different from a list of random numbers because the next value in the sequence is a modification of the previous value in the sequence.\n",
        "\n",
        "$$y(t)=B_0+B_1\\times y(t-1) + e(t)$$\n",
        "\n",
        "$e(t)$ is a random noise or increment at time t. It represents the random fluctuation or innovation added to the last observed value to obtain the next value in the time series.\n",
        "\n",
        "Given the way that the random walk is constructed, we would expect a strong autocorrelation with the previous observation and a linear fall off from there with previous lag values."
      ]
    },
    {
      "cell_type": "code",
      "execution_count": null,
      "metadata": {
        "id": "hDJHdUROtmBN"
      },
      "outputs": [],
      "source": []
    }
  ],
  "metadata": {
    "kernelspec": {
      "display_name": "Python 3 (ipykernel)",
      "language": "python",
      "name": "python3"
    },
    "language_info": {
      "codemirror_mode": {
        "name": "ipython",
        "version": 3
      },
      "file_extension": ".py",
      "mimetype": "text/x-python",
      "name": "python",
      "nbconvert_exporter": "python",
      "pygments_lexer": "ipython3",
      "version": "3.10.9"
    },
    "colab": {
      "provenance": [],
      "include_colab_link": true
    }
  },
  "nbformat": 4,
  "nbformat_minor": 0
}