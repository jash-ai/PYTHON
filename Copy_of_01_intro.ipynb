{
  "cells": [
    {
      "cell_type": "markdown",
      "metadata": {
        "id": "view-in-github",
        "colab_type": "text"
      },
      "source": [
        "<a href=\"https://colab.research.google.com/github/jash-ai/PYTHON/blob/main/Copy_of_01_intro.ipynb\" target=\"_parent\"><img src=\"https://colab.research.google.com/assets/colab-badge.svg\" alt=\"Open In Colab\"/></a>"
      ]
    },
    {
      "cell_type": "markdown",
      "metadata": {
        "id": "74reK0cahOb4"
      },
      "source": [
        "# Before we Begin!\n",
        "\n",
        "1. Please click the 'Copy to Drive' button in the toolbar above\n",
        "1. Click on the Gear icon next to your picture, Select 'Editor' and make sure 'Show Line Numbers' is selected\n",
        "1. Share in the chat box a quick hello and where you are in the world right now."
      ]
    },
    {
      "cell_type": "markdown",
      "metadata": {
        "id": "QUhlTQ64hObz"
      },
      "source": [
        "![DSL_logo](https://github.com/BrockDSL/Intro_to_Python_Workshop/blob/master/dsl_logo.png?raw=1)\n",
        "\n",
        "\n",
        "# Introduction to Python!\n",
        "\n",
        "Welcome to the Digital Scholarship Lab introduction to Python class. By the end of today we'll know all about the following;\n",
        "- variables\n",
        "- math\n",
        "- conditional\n",
        "- loops\n",
        "- functions\n",
        "\n",
        "We'll use the Zoom's chat feature to interact."
      ]
    },
    {
      "cell_type": "markdown",
      "metadata": {
        "id": "f3Fv1EaDhOb5"
      },
      "source": [
        "## Python via Jupyter\n",
        "\n",
        "- Jupyter notebooks allow us to have code in a webpage\n",
        "- Each bit of code is in a 'cell', we hit the play button to run the code in the cell\n",
        "- The first cell takes a bit to run because the environment is getting created\n",
        "- Let's try it with the code below"
      ]
    },
    {
      "cell_type": "code",
      "execution_count": 1,
      "metadata": {
        "colab": {
          "base_uri": "https://localhost:8080/"
        },
        "id": "KdjR8pWYhOb5",
        "outputId": "19bd7b75-b09a-4ae2-de01-80876d13a596"
      },
      "outputs": [
        {
          "output_type": "stream",
          "name": "stdout",
          "text": [
            "What is your name? Jashvin\n",
            "Hello Jashvin\n"
          ]
        }
      ],
      "source": [
        "# We are going to ask for the user to input their name\n",
        "# We'll then tell that person hello\n",
        "\n",
        "user_name = input(\"What is your name? \")\n",
        "print(\"Hello \" + user_name)\n"
      ]
    },
    {
      "cell_type": "markdown",
      "metadata": {
        "id": "gfsB2_ykhOb6"
      },
      "source": [
        "***\n",
        "\n",
        "## Variables, Printing and Comments\n",
        "\n",
        "- Variable can hold values and come in different types, as we say earlier the user's name is in a variable called `user_name`\n",
        "- variables can all be strings, integers, real numbers, or pretty much anything else\n",
        "- when we want to print something we use the function `print()`\n",
        "- Anything after a `#` is a comment, it is ignored by Python"
      ]
    },
    {
      "cell_type": "code",
      "execution_count": 2,
      "metadata": {
        "id": "a_A48cNGhOb7"
      },
      "outputs": [],
      "source": [
        "# A number with a decimal is called a real float\n",
        "pi = 3.14\n",
        "\n",
        "#A number without a decimal is called an integer\n",
        "items_in_a_dozen = 12\n",
        "\n",
        "#Text in variable is called a string\n",
        "favourite_color = \"blue\"\n",
        "\n",
        "#You can list multiple values in one variable\n",
        "#This is called a list, they can have anything in them\n",
        "\n",
        "crayon_colours = [\"red\",\"blue\",\"yellow\"]"
      ]
    },
    {
      "cell_type": "markdown",
      "metadata": {
        "id": "Zc4PHW6yhOb7"
      },
      "source": [
        "Try questions Q1 - Q3 and type \"Done!\" in the chat when you are finished"
      ]
    },
    {
      "cell_type": "markdown",
      "metadata": {
        "id": "KY936-LXhOb8"
      },
      "source": [
        "- **Q1** Can you create a variable called `age` and give set it to your age in years? "
      ]
    },
    {
      "cell_type": "code",
      "execution_count": 3,
      "metadata": {
        "id": "ZYsGyF1EhOb9",
        "colab": {
          "base_uri": "https://localhost:8080/"
        },
        "outputId": "565faa21-13fa-4b97-dff0-9241a785a3cb"
      },
      "outputs": [
        {
          "output_type": "execute_result",
          "data": {
            "text/plain": [
              "45"
            ]
          },
          "metadata": {},
          "execution_count": 3
        }
      ],
      "source": [
        "age = int(45)\n",
        "\n"
      ]
    },
    {
      "cell_type": "markdown",
      "metadata": {
        "id": "nen87iTvhOb9"
      },
      "source": [
        "- **Q2** Can you print your age to the screen?"
      ]
    },
    {
      "cell_type": "code",
      "execution_count": 4,
      "metadata": {
        "id": "d0OwSdhwhOb-",
        "colab": {
          "base_uri": "https://localhost:8080/"
        },
        "outputId": "f61509b6-53de-4134-da6b-cfc18fb1c085"
      },
      "outputs": [
        {
          "output_type": "stream",
          "name": "stdout",
          "text": [
            "45\n"
          ]
        }
      ],
      "source": [
        "print(age)"
      ]
    },
    {
      "cell_type": "markdown",
      "metadata": {
        "id": "P29CpCW8hOb-"
      },
      "source": [
        "- If we want to combine things and print them all together we join them with at `+` just like we saw above\n",
        "\n",
        "`print(\"Hello \" + user_name)`"
      ]
    },
    {
      "cell_type": "markdown",
      "metadata": {
        "id": "eUM6CsDChOb_"
      },
      "source": [
        "- **Q3** Can you modify favourite colour above, re-run the cell and complete the print statement that follows"
      ]
    },
    {
      "cell_type": "code",
      "execution_count": 6,
      "metadata": {
        "id": "HkgWJ27MhOb_",
        "colab": {
          "base_uri": "https://localhost:8080/"
        },
        "outputId": "d9cc8981-c727-491f-9aad-31a434d46063"
      },
      "outputs": [
        {
          "output_type": "stream",
          "name": "stdout",
          "text": [
            "My name is Jashvin and my favourite colour is blue\n"
          ]
        }
      ],
      "source": [
        "#print(\"My name is \" + user_name + \" and my favourite colour is \" )\n",
        "print(\"My name is \" + user_name + \" and my favourite colour is \" + favourite_color)"
      ]
    },
    {
      "cell_type": "markdown",
      "metadata": {
        "id": "XCAt39e1hOb_"
      },
      "source": [
        "***\n",
        "\n",
        "## A Python thing to keep in mind!\n",
        "\n",
        "- Some programming languages need a `;` at the end of a line of code, not Python!\n",
        "- With Python you need to **indent** your code, the rest of the examples will demonstrate this\n",
        "\n"
      ]
    },
    {
      "cell_type": "markdown",
      "metadata": {
        "id": "9PMa4GAshOb_"
      },
      "source": [
        "***\n",
        "\n",
        "## Variables - Dictionaries\n",
        "\n",
        "- These are fancy variables\n",
        "- These are a bit more complicated as they hold both a 'key' and a 'value'.\n"
      ]
    },
    {
      "cell_type": "code",
      "execution_count": 7,
      "metadata": {
        "id": "eNP2JCxUhOcA"
      },
      "outputs": [],
      "source": [
        "phone_numbers = {\n",
        "    \"Mom\":\"555-8980\",\n",
        "    \"Joe\":\"555-1021\"\n",
        "}\n",
        "\n",
        "toronto_weather = {\n",
        "    \"Monday\": 10,\n",
        "    \"Tuesday\" : 12,\n",
        "    \"Wednesday\" : 15,\n",
        "    \"Thursday\" : 10,\n",
        "    \"Friday\" : 9,\n",
        "    \"Saturday\" : 6,\n",
        "    \"Sunday\" : 6\n",
        "    }"
      ]
    },
    {
      "cell_type": "markdown",
      "metadata": {
        "id": "tLeQZ5XshOcA"
      },
      "source": [
        "- We can print a dictionary in a very similar way to other variables like we saw earlier."
      ]
    },
    {
      "cell_type": "code",
      "execution_count": 8,
      "metadata": {
        "id": "6rgJTc8PhOcA",
        "colab": {
          "base_uri": "https://localhost:8080/"
        },
        "outputId": "bb47b3f9-36de-41c8-bebf-f17e5c233e92"
      },
      "outputs": [
        {
          "output_type": "stream",
          "name": "stdout",
          "text": [
            "{'Mom': '555-8980', 'Joe': '555-1021'}\n"
          ]
        }
      ],
      "source": [
        "##full contents of the dictionary\n",
        "print(phone_numbers)"
      ]
    },
    {
      "cell_type": "markdown",
      "metadata": {
        "id": "aWBHBWE8hOcA"
      },
      "source": [
        "- You can do some interesting things with dictionaries, (we'll see more as time goes on)\n",
        "- For example you can print out different parts of the dictionary by adding in a `key`"
      ]
    },
    {
      "cell_type": "code",
      "execution_count": 9,
      "metadata": {
        "id": "eHB5WOrwhOcA",
        "colab": {
          "base_uri": "https://localhost:8080/"
        },
        "outputId": "c6678b74-23f4-4c19-c628-cd281cad988a"
      },
      "outputs": [
        {
          "output_type": "stream",
          "name": "stdout",
          "text": [
            "10\n"
          ]
        }
      ],
      "source": [
        "#print a certain key of dictionary and get value\n",
        "print(toronto_weather[\"Monday\"])"
      ]
    },
    {
      "cell_type": "markdown",
      "metadata": {
        "id": "_N-g9ZczhOcB"
      },
      "source": [
        "Try questions Q4-Q6 below and type \"Finished!\" in the chat when you are done."
      ]
    },
    {
      "cell_type": "markdown",
      "metadata": {
        "id": "vXS7jr1GhOcB"
      },
      "source": [
        "- **Q4** Print Wednesday's weather"
      ]
    },
    {
      "cell_type": "code",
      "execution_count": 10,
      "metadata": {
        "id": "eyRsYsWchOcB",
        "colab": {
          "base_uri": "https://localhost:8080/"
        },
        "outputId": "c657619f-2ce2-42a1-cfd3-75a57c9037b1"
      },
      "outputs": [
        {
          "output_type": "stream",
          "name": "stdout",
          "text": [
            "15\n"
          ]
        }
      ],
      "source": [
        "print(toronto_weather[\"Wednesday\"])"
      ]
    },
    {
      "cell_type": "markdown",
      "metadata": {
        "id": "j4tXyOKfhOcB"
      },
      "source": [
        "- **Q5** Print Saturday's weather"
      ]
    },
    {
      "cell_type": "code",
      "execution_count": 12,
      "metadata": {
        "id": "boipbzIxhOcB",
        "colab": {
          "base_uri": "https://localhost:8080/"
        },
        "outputId": "a26492f2-063b-4471-a6a7-4af454c5378f"
      },
      "outputs": [
        {
          "output_type": "stream",
          "name": "stdout",
          "text": [
            "6\n"
          ]
        }
      ],
      "source": [
        "print(toronto_weather[\"Saturday\"])"
      ]
    },
    {
      "cell_type": "markdown",
      "metadata": {
        "id": "KuKsfEVahOcC"
      },
      "source": [
        "- **Q6** Print Joe's phone number"
      ]
    },
    {
      "cell_type": "code",
      "execution_count": 11,
      "metadata": {
        "id": "LiQmVBNrhOcC",
        "colab": {
          "base_uri": "https://localhost:8080/"
        },
        "outputId": "80b436a2-ada4-487e-f0da-e6ba3c4422ae"
      },
      "outputs": [
        {
          "output_type": "stream",
          "name": "stdout",
          "text": [
            "555-1021\n"
          ]
        }
      ],
      "source": [
        "print(phone_numbers[\"Joe\"])"
      ]
    },
    {
      "cell_type": "markdown",
      "metadata": {
        "id": "dyZO1HKhhOcC"
      },
      "source": [
        "***\n",
        "\n",
        "## Doing Math\n",
        "\n",
        "As you'd expect with a programming language Python is pretty good at doing math. The basic operators you can use are as follows:\n",
        "\n",
        "- `*` is for multiplication\n",
        "- `+` is for addition\n",
        "- `-` is the subtraction\n",
        "- `%` is the remainder\n",
        "- `/` is division\n",
        "\n",
        "Let's re-use our dictionary variable about the weather from earlier."
      ]
    },
    {
      "cell_type": "markdown",
      "metadata": {
        "id": "iVre2E9DhOcC"
      },
      "source": [
        "- Let's find the average recorded for the weekdays\n",
        "- Another Python hint, if you need to go across multiple lines use `\\` like in the following"
      ]
    },
    {
      "cell_type": "code",
      "execution_count": 16,
      "metadata": {
        "id": "m5juqU6DhOcC",
        "colab": {
          "base_uri": "https://localhost:8080/"
        },
        "outputId": "0ba97bb1-bb76-4c29-aada-e95059389826"
      },
      "outputs": [
        {
          "output_type": "stream",
          "name": "stdout",
          "text": [
            "11.2\n"
          ]
        }
      ],
      "source": [
        "##pulling the value from dictionary toronto_weather\n",
        "# \\ new line of text formatting\n",
        "five_day_total = toronto_weather[\"Monday\"] + \\\n",
        "                    toronto_weather[\"Tuesday\"] + \\\n",
        "                    toronto_weather[\"Wednesday\"] + \\\n",
        "                    toronto_weather[\"Thursday\"] + \\\n",
        "                    toronto_weather[\"Friday\"]\n",
        "\n",
        "print(five_day_total / 5)"
      ]
    },
    {
      "cell_type": "markdown",
      "metadata": {
        "id": "KPVo6clthOcD"
      },
      "source": [
        "- All of our temp data is in **C**\n",
        "- What if we want to know it in **F**?"
      ]
    },
    {
      "cell_type": "code",
      "execution_count": 14,
      "metadata": {
        "id": "0Usex4zkhOcD",
        "colab": {
          "base_uri": "https://localhost:8080/"
        },
        "outputId": "2a22058b-1fb7-46fe-c0f7-0835fd31867a"
      },
      "outputs": [
        {
          "output_type": "stream",
          "name": "stdout",
          "text": [
            "50.0\n"
          ]
        }
      ],
      "source": [
        "print(toronto_weather[\"Monday\"] * 9/5 + 32)"
      ]
    },
    {
      "cell_type": "markdown",
      "metadata": {
        "id": "UsmJog86hOcD"
      },
      "source": [
        "Try questions Q7 - Q10 and type \"Completed\" in the chat box when you are done."
      ]
    },
    {
      "cell_type": "markdown",
      "metadata": {
        "id": "7sr8KGqyhOcD"
      },
      "source": [
        "- **Q7** Can you print out Thursday's temp in F?"
      ]
    },
    {
      "cell_type": "code",
      "execution_count": 15,
      "metadata": {
        "id": "QFfvNtgehOcD",
        "colab": {
          "base_uri": "https://localhost:8080/"
        },
        "outputId": "e903d7c4-6184-48b6-aa9c-d962562d386a"
      },
      "outputs": [
        {
          "output_type": "stream",
          "name": "stdout",
          "text": [
            "50.0\n"
          ]
        }
      ],
      "source": [
        "print(toronto_weather[\"Thursday\"] * 9/5 + 32)"
      ]
    },
    {
      "cell_type": "markdown",
      "metadata": {
        "id": "8KCHC1ZxhOcE"
      },
      "source": [
        "- **Q8** Can you print out the average temp from the weekend?"
      ]
    },
    {
      "cell_type": "code",
      "execution_count": 18,
      "metadata": {
        "id": "U-HCo1R4hOcE",
        "colab": {
          "base_uri": "https://localhost:8080/"
        },
        "outputId": "b7b5e077-ae5d-49cf-d679-bef66850d2ea"
      },
      "outputs": [
        {
          "output_type": "stream",
          "name": "stdout",
          "text": [
            "9.714285714285714\n"
          ]
        }
      ],
      "source": [
        "##total average for 7 days\n",
        "Seven_day_total = five_day_total + toronto_weather[\"Saturday\"] + \\\n",
        "                  toronto_weather[\"Sunday\"] \n",
        "\n",
        "print(Seven_day_total / 7)\n",
        "\n"
      ]
    },
    {
      "cell_type": "code",
      "source": [
        "##weekend average\n",
        "weekendtotal =  toronto_weather[\"Saturday\"] + \\\n",
        "                  toronto_weather[\"Sunday\"] \n",
        "##round to 1 deciimal place\n",
        "print(round(weekendtotal / 2,1))"
      ],
      "metadata": {
        "colab": {
          "base_uri": "https://localhost:8080/"
        },
        "id": "9T4Bh4tAsC2A",
        "outputId": "71afe759-ed21-4e4f-d8de-f8025cb6df2d"
      },
      "execution_count": 26,
      "outputs": [
        {
          "output_type": "stream",
          "name": "stdout",
          "text": [
            "6.0\n"
          ]
        }
      ]
    },
    {
      "cell_type": "markdown",
      "metadata": {
        "id": "_qwHkvXhhOcE"
      },
      "source": [
        "- **Q9** Can you print how many days you've been alive for (approximately) using the `age` variable?"
      ]
    },
    {
      "cell_type": "code",
      "execution_count": 28,
      "metadata": {
        "id": "I1FZNcVFhOcE",
        "colab": {
          "base_uri": "https://localhost:8080/"
        },
        "outputId": "d3f3ec5e-0a91-4c9e-db6b-be8c43d09b59"
      },
      "outputs": [
        {
          "output_type": "stream",
          "name": "stdout",
          "text": [
            "16436.25\n"
          ]
        }
      ],
      "source": [
        "##365.25 days in a year due to leap year\n",
        "age = 45 * 365.25\n",
        "print(age)"
      ]
    },
    {
      "cell_type": "markdown",
      "metadata": {
        "id": "0OPskG21hOcE"
      },
      "source": [
        "- **Q10** If you had 45 donuts and you were putting them in boxes that could hold 12 donuts, how many donuts would be in the last box?"
      ]
    },
    {
      "cell_type": "code",
      "execution_count": 29,
      "metadata": {
        "id": "3GXCa65ihOcF",
        "colab": {
          "base_uri": "https://localhost:8080/"
        },
        "outputId": "ecec8cc8-7973-4f26-c7b9-9d581e901210"
      },
      "outputs": [
        {
          "output_type": "stream",
          "name": "stdout",
          "text": [
            "9\n"
          ]
        }
      ],
      "source": [
        "#remainder by using %\n",
        "lastbox = 45 % 12\n",
        "print(lastbox)"
      ]
    },
    {
      "cell_type": "markdown",
      "metadata": {
        "id": "YxBswIcyhOcF"
      },
      "source": [
        "*** \n",
        "\n",
        "## Loops \n",
        "\n",
        "- When we want to repeat the same thing over and over again we put it in something called a loop\n",
        "- Python lets you do **a lot** with loops without typing in much text\n",
        "- Here `crayon` is a variable that gets assigned to the next item in the `crayon_colours` list every time we loop\n",
        "- Let's print the contents of our list using a loop"
      ]
    },
    {
      "cell_type": "code",
      "execution_count": 31,
      "metadata": {
        "id": "iwrTc6fNhOcF",
        "colab": {
          "base_uri": "https://localhost:8080/"
        },
        "outputId": "7835f126-bca1-4f3e-ff77-1ce4304496ef"
      },
      "outputs": [
        {
          "output_type": "stream",
          "name": "stdout",
          "text": [
            "red\n",
            "blue\n",
            "yellow\n"
          ]
        }
      ],
      "source": [
        "##do the same thing over a over again put it in a loop\n",
        "##here is a list crayon_colours of values red,blue,yellow\n",
        "##3 items in the list\n",
        "\n",
        "crayon_colours = [\"red\",\"blue\",\"yellow\"]\n",
        "\n",
        "##crayon can be called anything you want\n",
        "for crayon in crayon_colours:\n",
        "    print(crayon)\n"
      ]
    },
    {
      "cell_type": "markdown",
      "metadata": {
        "id": "l0IS6Ql8hOcF"
      },
      "source": [
        "- The basic structure of a loop for us looks like the following\n",
        "\n",
        "```\n",
        "for item in loopable_variable:\n",
        "    #do this code\n",
        "```\n",
        "\n",
        "- `item` is the variable you use every time you loop\n",
        "- `loopable_variable` is the variable you'd like to loop through. Often a list, but it can be anything that Python knows how to loop through. For example strings and dictionaries as we will see soon\n"
      ]
    },
    {
      "cell_type": "markdown",
      "metadata": {
        "id": "gtfPkUyuhOcG"
      },
      "source": [
        "### Counting with Loops\n",
        "\n",
        "Very often we use loops to count things. Each time through the loop we update a running value or we increment a counter. The following couple of cells illustrate this."
      ]
    },
    {
      "cell_type": "code",
      "execution_count": 32,
      "metadata": {
        "id": "YtWco5aehOcG",
        "colab": {
          "base_uri": "https://localhost:8080/"
        },
        "outputId": "cf155eda-031e-4f8e-ab08-2319fef2bc7a"
      },
      "outputs": [
        {
          "output_type": "stream",
          "name": "stdout",
          "text": [
            "Total Candy Bars:  4\n"
          ]
        }
      ],
      "source": [
        "#variable name = candy_bars\n",
        "candy_bars = [\"Mars\",\"Snickers\",\"Kit Kat\",\"Butterfinger\"]\n",
        "\n",
        "#This is a counter variable\n",
        "#We'll increase this value by 1 every time we loop\n",
        "##will give you a next value and add 1 to it\n",
        "total_candy_bars = 0\n",
        "\n",
        "\n",
        "for bar in candy_bars:\n",
        "    total_candy_bars = total_candy_bars + 1\n",
        "    ##starts with 0 and then finds mars makes total_candy_bars = 1\n",
        "    ##then add Snickers = 2, then add Kit Kat = 3 and then add \n",
        "    ## Butterfinger = 4 as the output\n",
        "\n",
        "\n",
        "print(\"Total Candy Bars: \", total_candy_bars)\n"
      ]
    },
    {
      "cell_type": "markdown",
      "metadata": {
        "id": "6ZqmIIGvhOcG"
      },
      "source": [
        "In this example line **9** is a bit different. It is a shorthand for line **9** in the cell above. Does it make sense to you?"
      ]
    },
    {
      "cell_type": "code",
      "execution_count": 33,
      "metadata": {
        "id": "eHkNXxQ6hOcG",
        "colab": {
          "base_uri": "https://localhost:8080/"
        },
        "outputId": "0261b46e-eecc-4839-c5f2-5863f5c16d47"
      },
      "outputs": [
        {
          "output_type": "stream",
          "name": "stdout",
          "text": [
            "Total Candy Bars:  4\n"
          ]
        }
      ],
      "source": [
        "candy_bars = [\"Mars\",\"Snickers\",\"Kit Kat\",\"Butterfinger\"]\n",
        "\n",
        "#This is a counter variable\n",
        "#We'll increase this value by 1 every time we loop\n",
        "total_candy_bars = 0\n",
        "\n",
        "#Our first code shortcut. a += b  means a = a + b \n",
        "for bar in candy_bars:\n",
        "    total_candy_bars += 1\n",
        "\n",
        "\n",
        "print(\"Total Candy Bars: \", total_candy_bars)\n"
      ]
    },
    {
      "cell_type": "markdown",
      "metadata": {
        "id": "Z84_0yWrhOcH"
      },
      "source": [
        "Try questions Q11 - Q13 and type \"All done\" into the chat box"
      ]
    },
    {
      "cell_type": "markdown",
      "metadata": {
        "id": "snXxCOH5hOcH"
      },
      "source": [
        "- **Q11** Can you write a loop to print all of the numbers in the list `numbers`?"
      ]
    },
    {
      "cell_type": "code",
      "execution_count": 35,
      "metadata": {
        "id": "PxvL5UyahOcH",
        "colab": {
          "base_uri": "https://localhost:8080/"
        },
        "outputId": "f81416fa-7cf9-4fc8-a7c7-ea3fbbce9d3a"
      },
      "outputs": [
        {
          "output_type": "stream",
          "name": "stdout",
          "text": [
            "1\n",
            "2\n",
            "3\n",
            "4\n",
            "5\n"
          ]
        }
      ],
      "source": [
        "numbers = [1,2,3,4,5]\n",
        "\n",
        "#in numbers is the name of the variable assigned above\n",
        "\n",
        "for digit in numbers: ##digit can be called anything\n",
        "  print(digit)     "
      ]
    },
    {
      "cell_type": "markdown",
      "metadata": {
        "id": "LgQRTelQhOcH"
      },
      "source": [
        "- **Q12** Can you make a loop that prints all of the letters in your name?"
      ]
    },
    {
      "cell_type": "code",
      "execution_count": 37,
      "metadata": {
        "id": "LGs9itpIhOcH",
        "colab": {
          "base_uri": "https://localhost:8080/"
        },
        "outputId": "0051a1da-4523-4802-8744-91eb6b944a71"
      },
      "outputs": [
        {
          "output_type": "stream",
          "name": "stdout",
          "text": [
            "J\n",
            "a\n",
            "s\n",
            "h\n"
          ]
        }
      ],
      "source": [
        "user_name = \"Jash\"\n",
        "for name in user_name:\n",
        "  print(name)\n"
      ]
    },
    {
      "cell_type": "markdown",
      "metadata": {
        "id": "MJLZKqn_hOcI"
      },
      "source": [
        "- **Q13** Can you write a loop that counts the number of letter in the string variable `alphabet` and print that to the screen?"
      ]
    },
    {
      "cell_type": "code",
      "execution_count": 40,
      "metadata": {
        "id": "V72ydafzhOcI",
        "colab": {
          "base_uri": "https://localhost:8080/"
        },
        "outputId": "4aba9d70-2049-4fb5-d367-d2033ddd0a66"
      },
      "outputs": [
        {
          "output_type": "stream",
          "name": "stdout",
          "text": [
            "Total letters:  26\n"
          ]
        }
      ],
      "source": [
        "alphabet = \"abcdefghijklmnopqrstuvwxyz\"\n",
        "\n",
        "letter_count = 0\n",
        "\n",
        "for letter in alphabet:\n",
        "  letter_count += 1\n",
        "  #letter_count = letter_count +1 ##same as above\n",
        "\n",
        "print(\"Total letters: \", letter_count)"
      ]
    },
    {
      "cell_type": "markdown",
      "metadata": {
        "id": "qLIj0-C3hOcI"
      },
      "source": [
        "***\n",
        "\n",
        "## Dictionaries and Loops\n",
        "\n",
        "- Watch what happens when we try to do a loop through a dictionary"
      ]
    },
    {
      "cell_type": "code",
      "execution_count": 42,
      "metadata": {
        "scrolled": false,
        "id": "_3vxNMuwhOcI",
        "colab": {
          "base_uri": "https://localhost:8080/"
        },
        "outputId": "ead67e8a-639e-43d1-fb96-55cadf288c6a"
      },
      "outputs": [
        {
          "output_type": "stream",
          "name": "stdout",
          "text": [
            "Monday\n",
            "Tuesday\n",
            "Wednesday\n",
            "Thursday\n",
            "Friday\n",
            "Saturday\n",
            "Sunday\n"
          ]
        }
      ],
      "source": [
        "##toronto_weather is the weather variable defined above in a dictionary\n",
        "for day in toronto_weather:\n",
        "    print(day)"
      ]
    },
    {
      "cell_type": "markdown",
      "metadata": {
        "id": "LwiHnjGphOcJ"
      },
      "source": [
        "- Since dictionaries are more complex, there are many ways to interact with them\n",
        "- We add `.values()` to get the values of the dictionary\n",
        "- We add `.keys()` to get the keys of the dictionary"
      ]
    },
    {
      "cell_type": "code",
      "source": [
        "print(toronto_weather)"
      ],
      "metadata": {
        "colab": {
          "base_uri": "https://localhost:8080/"
        },
        "id": "XEbXyyily_Ro",
        "outputId": "9e8a81c7-86ad-436c-e13b-5f0e23d5737a"
      },
      "execution_count": 45,
      "outputs": [
        {
          "output_type": "stream",
          "name": "stdout",
          "text": [
            "{'Monday': 10, 'Tuesday': 12, 'Wednesday': 15, 'Thursday': 10, 'Friday': 9, 'Saturday': 6, 'Sunday': 6}\n"
          ]
        }
      ]
    },
    {
      "cell_type": "code",
      "source": [],
      "metadata": {
        "colab": {
          "base_uri": "https://localhost:8080/",
          "height": 166
        },
        "id": "E_ygC6nBzElp",
        "outputId": "e9043f6f-3b97-4802-bceb-15a10e38ddc6"
      },
      "execution_count": 44,
      "outputs": [
        {
          "output_type": "error",
          "ename": "NameError",
          "evalue": "ignored",
          "traceback": [
            "\u001b[0;31m---------------------------------------------------------------------------\u001b[0m",
            "\u001b[0;31mNameError\u001b[0m                                 Traceback (most recent call last)",
            "\u001b[0;32m<ipython-input-44-33bd7ce5e8a2>\u001b[0m in \u001b[0;36m<module>\u001b[0;34m\u001b[0m\n\u001b[0;32m----> 1\u001b[0;31m \u001b[0mprint\u001b[0m\u001b[0;34m(\u001b[0m\u001b[0mtoronto_weather\u001b[0m\u001b[0;34m[\u001b[0m\u001b[0mkeys\u001b[0m\u001b[0;34m]\u001b[0m\u001b[0;34m)\u001b[0m\u001b[0;34m\u001b[0m\u001b[0;34m\u001b[0m\u001b[0m\n\u001b[0m",
            "\u001b[0;31mNameError\u001b[0m: name 'keys' is not defined"
          ]
        }
      ]
    },
    {
      "cell_type": "code",
      "execution_count": 46,
      "metadata": {
        "scrolled": false,
        "id": "A3wUHekMhOcJ",
        "colab": {
          "base_uri": "https://localhost:8080/"
        },
        "outputId": "3fce86cb-ef14-4a1d-aecd-657bfc3463cd"
      },
      "outputs": [
        {
          "output_type": "stream",
          "name": "stdout",
          "text": [
            "10\n",
            "12\n",
            "15\n",
            "10\n",
            "9\n",
            "6\n",
            "6\n"
          ]
        }
      ],
      "source": [
        "#print all the items in our Dictionary\n",
        "\n",
        "for item in toronto_weather.values():\n",
        "    print(item)"
      ]
    },
    {
      "cell_type": "code",
      "execution_count": 47,
      "metadata": {
        "id": "83ajJvk4hOcJ",
        "colab": {
          "base_uri": "https://localhost:8080/"
        },
        "outputId": "9a59880b-a651-48a8-bf2e-0bfc08c89134"
      },
      "outputs": [
        {
          "output_type": "stream",
          "name": "stdout",
          "text": [
            "Monday\n",
            "Tuesday\n",
            "Wednesday\n",
            "Thursday\n",
            "Friday\n",
            "Saturday\n",
            "Sunday\n"
          ]
        }
      ],
      "source": [
        "# print out the keys in our Dictionary\n",
        "\n",
        "for item in toronto_weather.keys():\n",
        "    print(item)\n"
      ]
    },
    {
      "cell_type": "code",
      "source": [
        "for item in toronto_weather:\n",
        "    print(item)"
      ],
      "metadata": {
        "colab": {
          "base_uri": "https://localhost:8080/"
        },
        "id": "_ddxBkgUzRt-",
        "outputId": "14e23a9e-0496-451a-8b94-31437dd38bf6"
      },
      "execution_count": 48,
      "outputs": [
        {
          "output_type": "stream",
          "name": "stdout",
          "text": [
            "Monday\n",
            "Tuesday\n",
            "Wednesday\n",
            "Thursday\n",
            "Friday\n",
            "Saturday\n",
            "Sunday\n"
          ]
        }
      ]
    },
    {
      "cell_type": "markdown",
      "metadata": {
        "id": "i4PCmOx0hOcJ"
      },
      "source": [
        "***\n",
        "\n",
        "## Conditionals \n",
        "\n",
        "- When we want to run a piece of code only if something is true\n",
        "\n",
        "\n",
        "- We can compare with the following:\n",
        " - `==`\n",
        " - `>=`\n",
        " - `<=`\n",
        " - `<`\n",
        " - `>` \n",
        " - `!=`\n",
        " \n",
        " \n",
        " \n",
        " - When we just want to check one `condition` and if is true run `code1`\n",
        "```\n",
        "\n",
        "        if condition:\n",
        "            code1\n",
        "```\n",
        "\n",
        "\n",
        "\n",
        "\n",
        "\n",
        " - When we just want to check one `condition` and if is true run `code1`, if it is not true we run `code2` instead\n",
        "\n",
        "```\n",
        "\n",
        "        if condition:\n",
        "            code1\n",
        "        else:\n",
        "            code2       \n",
        " ```\n",
        " \n",
        " "
      ]
    },
    {
      "cell_type": "markdown",
      "metadata": {
        "id": "cGOnGO2nhOcK"
      },
      "source": [
        "- Let's pretend that anything over 10 degrees is hot, anything that is not is cold. Let' make a conditional that prints out if it is hot on **Wednesday**"
      ]
    },
    {
      "cell_type": "code",
      "execution_count": 52,
      "metadata": {
        "id": "8GOlTDRhhOcK",
        "colab": {
          "base_uri": "https://localhost:8080/"
        },
        "outputId": "b590cdfb-9e70-4a3a-ce5f-87525c39cec3"
      },
      "outputs": [
        {
          "output_type": "stream",
          "name": "stdout",
          "text": [
            "Hot out today\n"
          ]
        }
      ],
      "source": [
        "if toronto_weather[\"Wednesday\"] > 10:\n",
        "  print(\"Hot out today\")\n",
        "else:\n",
        "  print(\"It is cold today\")"
      ]
    },
    {
      "cell_type": "markdown",
      "metadata": {
        "id": "LUI0yNzOhOcK"
      },
      "source": [
        "Try questions Q14-Q15 and type \"check\" into the chat box when you are done"
      ]
    },
    {
      "cell_type": "markdown",
      "metadata": {
        "id": "cJMJeT_XhOcK"
      },
      "source": [
        "- **Q14** Can you complete the following to make it print out \"It is cold\" when it is less then 10 degrees?"
      ]
    },
    {
      "cell_type": "code",
      "execution_count": 54,
      "metadata": {
        "id": "7zC0AxxhhOcL",
        "colab": {
          "base_uri": "https://localhost:8080/"
        },
        "outputId": "bdf7f8d0-d764-49fd-b7c3-30e9ea0c95a8"
      },
      "outputs": [
        {
          "output_type": "stream",
          "name": "stdout",
          "text": [
            "It is cold\n"
          ]
        }
      ],
      "source": [
        "if toronto_weather[\"Sunday\"] < 10:\n",
        "    print(\"It is cold\")\n",
        "else:\n",
        "    print(\"It is hot\")"
      ]
    },
    {
      "cell_type": "markdown",
      "metadata": {
        "id": "Z2d15XOwhOcL"
      },
      "source": [
        "- **Q15** Can you write a loop that goes through all of the days of the week and prints 'Hot out Today' if the tempurature is above 10, and 'It is cold' if it is below or equal to 10 degrees?"
      ]
    },
    {
      "cell_type": "code",
      "execution_count": 55,
      "metadata": {
        "id": "6jBtwkkNhOcL",
        "colab": {
          "base_uri": "https://localhost:8080/"
        },
        "outputId": "bccf16bf-5ce4-46dc-c68a-8c5ee3d42f95"
      },
      "outputs": [
        {
          "output_type": "stream",
          "name": "stdout",
          "text": [
            "It is cold\n",
            "Hot out Today\n",
            "Hot out Today\n",
            "It is cold\n",
            "It is cold\n",
            "It is cold\n",
            "It is cold\n"
          ]
        }
      ],
      "source": [
        "for temp in toronto_weather.values():\n",
        "    \n",
        "    if temp > 10:\n",
        "        print(\"Hot out Today\")\n",
        "    else:\n",
        "        print(\"It is cold\")"
      ]
    },
    {
      "cell_type": "markdown",
      "metadata": {
        "id": "Ptnq48XMhOcL"
      },
      "source": [
        "***\n",
        "\n",
        "## Combining with boolean\n",
        "\n",
        "- Sometimes we want to combine conditionals because we want to test more complicated things\n",
        "- We can do this with the following:\n",
        " - `and`\n",
        " - `or`\n",
        " - `not`"
      ]
    },
    {
      "cell_type": "markdown",
      "metadata": {
        "id": "eLlIwDjXhOcM"
      },
      "source": [
        "- Here's a quick game that demonstrates this\n",
        "- It will ask you to put a value in between 1 and 10. If you don't, it will let you know"
      ]
    },
    {
      "cell_type": "code",
      "execution_count": 57,
      "metadata": {
        "id": "lGeXHXSShOcM",
        "colab": {
          "base_uri": "https://localhost:8080/"
        },
        "outputId": "e714d5bf-c853-4fc3-c83d-247cd49900ab"
      },
      "outputs": [
        {
          "output_type": "stream",
          "name": "stdout",
          "text": [
            "Pick any number between 1 - 10: 60\n",
            "Sorry you didn't pick a number between 1 - 10\n"
          ]
        }
      ],
      "source": [
        "#we can turn a variable into a integer with the int() function\n",
        "number = int(input(\"Pick any number between 1 - 10: \"))\n",
        "\n",
        "if number > 10 or number < 1:\n",
        "    print(\"Sorry you didn't pick a number between 1 - 10\")\n",
        "else:\n",
        "    print(\"Your number is between 1 and 10!\")"
      ]
    },
    {
      "cell_type": "markdown",
      "metadata": {
        "id": "dsR0HibbhOcM"
      },
      "source": [
        "Try questions Q16, type \"all done\" when completed."
      ]
    },
    {
      "cell_type": "markdown",
      "metadata": {
        "id": "K4VWYhjzhOcN"
      },
      "source": [
        "- **Q16** Can you re-write the conditional from the game above to use an `and` to do the same thing? you'll need to use some operators from the **Conditionals** section above. \n",
        "\n",
        "**HINT** It will be easier if you use <= and >= "
      ]
    },
    {
      "cell_type": "code",
      "execution_count": 63,
      "metadata": {
        "id": "FgrtqFjGhOcN",
        "colab": {
          "base_uri": "https://localhost:8080/"
        },
        "outputId": "edd8d9af-a8ea-4f99-98de-ee6560d9af44"
      },
      "outputs": [
        {
          "output_type": "stream",
          "name": "stdout",
          "text": [
            "Pick any number between 1 - 10: 90\n",
            "Sorry you didn't pick a number between 1-10\n"
          ]
        }
      ],
      "source": [
        "#we can turn a variable into a integer with the int() function\n",
        "#as with most programming tasks there are more then 1 way to accomplish something\n",
        "number = int(input(\"Pick any number between 1 - 10: \"))\n",
        "\n",
        "if number >= 0 and number <= 10:\n",
        "    print(\"Your number is between 1 and 10!\")\n",
        "else:\n",
        "    print(\"Sorry you didn't pick a number between 1-10\")"
      ]
    },
    {
      "cell_type": "markdown",
      "metadata": {
        "id": "pQ6lgfafhOcN"
      },
      "source": [
        "***\n",
        "\n",
        "# Functions\n",
        "\n",
        "- Functions are bits of code that do a certain task in a certain way\n",
        "- We saw this earlier with the `print()` function\n",
        "- We also just used the `int()` function in our game\n",
        "- some functions need _arguments_ or _paramaters_. We pass those in the the round brackets. EG. we pass what string variable we want turned into an integer with the `int()` function.\n",
        "- we can create our own functions too"
      ]
    },
    {
      "cell_type": "code",
      "execution_count": 65,
      "metadata": {
        "id": "MpjNnYJjhOcO",
        "colab": {
          "base_uri": "https://localhost:8080/"
        },
        "outputId": "7c0eb1f2-e33e-47e7-e0b4-103d354baa33"
      },
      "outputs": [
        {
          "output_type": "stream",
          "name": "stdout",
          "text": [
            "hello world\n"
          ]
        },
        {
          "output_type": "execute_result",
          "data": {
            "text/plain": [
              "90"
            ]
          },
          "metadata": {},
          "execution_count": 65
        }
      ],
      "source": [
        "print(\"hello world\")\n",
        "int(number)"
      ]
    },
    {
      "cell_type": "markdown",
      "metadata": {
        "id": "3ozQA6KShOcO"
      },
      "source": [
        "- A useful function is `len()` which tells you how long something is\n",
        "- Let's print how long our `user_name` is\n",
        "- Often a function can be applied to different types of variables and the results are ares you expect"
      ]
    },
    {
      "cell_type": "code",
      "execution_count": 66,
      "metadata": {
        "id": "Fr7Z6msXhOcO",
        "colab": {
          "base_uri": "https://localhost:8080/"
        },
        "outputId": "59292a3e-ec96-48de-c3a1-f174208aea64"
      },
      "outputs": [
        {
          "output_type": "execute_result",
          "data": {
            "text/plain": [
              "4"
            ]
          },
          "metadata": {},
          "execution_count": 66
        }
      ],
      "source": [
        "##number of chars using len\n",
        "len(user_name)"
      ]
    },
    {
      "cell_type": "markdown",
      "metadata": {
        "id": "OBfpoykshOcO"
      },
      "source": [
        "A big part of programming is remembering function names!"
      ]
    },
    {
      "cell_type": "markdown",
      "metadata": {
        "id": "rWa2pzwJhOcP"
      },
      "source": [
        "- **Q18** What would the following snippet print on the screen? (Try to figure it out before running it, put your answer in the chat)"
      ]
    },
    {
      "cell_type": "code",
      "execution_count": 67,
      "metadata": {
        "id": "NeM2EuYFhOcP",
        "colab": {
          "base_uri": "https://localhost:8080/"
        },
        "outputId": "67a22b91-94ed-44f9-89f6-072873a86fe3"
      },
      "outputs": [
        {
          "output_type": "execute_result",
          "data": {
            "text/plain": [
              "7"
            ]
          },
          "metadata": {},
          "execution_count": 67
        }
      ],
      "source": [
        "len(toronto_weather)"
      ]
    },
    {
      "cell_type": "markdown",
      "metadata": {
        "id": "3y0N3qK9hOcP"
      },
      "source": [
        "The structure of a function looks like the following:\n",
        "\n",
        "\n",
        "```\n",
        "def name_of_function(arguments):\n",
        "    #code\n",
        "    #code\n",
        "    return answer #not mandtory, only if you need to calculate a value\n",
        "    \n",
        "```\n",
        "When our function produces a value that we use later we make use of `return`. That will pass the variable back to the place that called it. \n",
        "\n",
        "\n",
        "\n",
        "We've already seen how we call a functon:\n",
        "\n",
        "```\n",
        "name_of_function(arguments)\n",
        "\n",
        "```\n",
        "\n",
        "If you would like to print out the results of your function you need to surround it with the `print` function\n",
        "\n",
        "```\n",
        "print(name_of_function(arguments))\n",
        "\n",
        "```\n",
        "\n",
        "The next few code cells demostrates this diffence."
      ]
    },
    {
      "cell_type": "code",
      "execution_count": 68,
      "metadata": {
        "id": "Qpe8w8c0hOcP",
        "colab": {
          "base_uri": "https://localhost:8080/"
        },
        "outputId": "bf63566c-ac39-48c0-bde1-57c6492cb103"
      },
      "outputs": [
        {
          "output_type": "stream",
          "name": "stdout",
          "text": [
            "Captain Kirk\n"
          ]
        }
      ],
      "source": [
        "data_points = [\"Dr. Spock\", \"Captain Kirk\", \"Mr. Sulu\", \"Bones\"]\n",
        "\n",
        "#a function that doesn't return a value\n",
        "def print_longest(data_points):\n",
        "    \n",
        "    longest_count = 0\n",
        "    longest_name = \"\"\n",
        "    \n",
        "    for name in data_points:\n",
        "        if len(name) > longest_count:\n",
        "            longest_count = len(name)\n",
        "            longest_name = name\n",
        "    \n",
        "    print(longest_name)\n",
        "    \n",
        "\n",
        "print_longest(data_points)"
      ]
    },
    {
      "cell_type": "code",
      "execution_count": 69,
      "metadata": {
        "id": "6PGcFxaFhOcP",
        "colab": {
          "base_uri": "https://localhost:8080/"
        },
        "outputId": "7ed92245-11c7-42d8-d7b1-a5c6895982c6"
      },
      "outputs": [
        {
          "output_type": "stream",
          "name": "stdout",
          "text": [
            "12\n"
          ]
        }
      ],
      "source": [
        "name = \"Captain Kirk\"\n",
        "\n",
        "#A function that does return a value\n",
        "def count_name_length(name):\n",
        "    return len(name)\n",
        "\n",
        "print(count_name_length(name))"
      ]
    },
    {
      "cell_type": "markdown",
      "metadata": {
        "id": "7xIGjkiAhOcP"
      },
      "source": [
        "## Functions for our Toronto Weather Analysis\n",
        "\n",
        "- The function below will change the temp to **F** from **C**\n",
        "- Statements can get pretty long if you call lots of functions in them\n",
        "- Here we find **Monday's** temp in **F** and print it"
      ]
    },
    {
      "cell_type": "code",
      "execution_count": 70,
      "metadata": {
        "id": "h7ueLPEAhOcQ",
        "colab": {
          "base_uri": "https://localhost:8080/"
        },
        "outputId": "e9adcdca-f5a9-42a4-9433-81e9d57260d3"
      },
      "outputs": [
        {
          "output_type": "stream",
          "name": "stdout",
          "text": [
            "50.0\n"
          ]
        }
      ],
      "source": [
        "toronto_weather = {\n",
        "    \"Monday\": 10,\n",
        "    \"Tuesday\" : 12,\n",
        "    \"Wednesday\" : 15,\n",
        "    \"Thursday\" : 10,\n",
        "    \"Friday\" : 9,\n",
        "    \"Saturday\" : 6,\n",
        "    \"Sunday\" : 6\n",
        "    }\n",
        "\n",
        "##creating a function called temp_to_f\n",
        "##the value we pass to it\n",
        "def temp_to_f(c):\n",
        "    return c * 9/5 + 32\n",
        "\n",
        "print(temp_to_f(toronto_weather[\"Monday\"]))\n"
      ]
    },
    {
      "cell_type": "markdown",
      "metadata": {
        "id": "4fEsxRW0hOcQ"
      },
      "source": [
        "Try question Q19. Type \"I'm finished!\" into the chat when you are done"
      ]
    },
    {
      "cell_type": "markdown",
      "metadata": {
        "id": "GmG7XlIshOcQ"
      },
      "source": [
        "- **Q19** Can you complete this function that finds the average temperature for the week? You just need to modify line 10."
      ]
    },
    {
      "cell_type": "code",
      "execution_count": 81,
      "metadata": {
        "id": "vJMtjNY3hOcQ",
        "colab": {
          "base_uri": "https://localhost:8080/"
        },
        "outputId": "676d8aa2-f98b-49be-b70f-b2c6b3cc3f83"
      },
      "outputs": [
        {
          "output_type": "stream",
          "name": "stdout",
          "text": [
            "9.714285714285714\n"
          ]
        }
      ],
      "source": [
        "def week_avg_c(toronto_weather):\n",
        "    \n",
        "    total_degrees  = 0\n",
        "    \n",
        "    for day in toronto_weather.values():\n",
        "        total_degrees = total_degrees + day\n",
        "\n",
        "    \n",
        "    #total_degrees has the sum of all 7 days of temp readings\n",
        "    #you just need to modify the next line: \n",
        "    return total_degrees / len(toronto_weather) ##more robust way\n",
        "    #return total_degrees / 7 ##another way\n",
        "\n",
        "#print(week_avg_c(toronto_weather)/len(day))\n",
        "print(week_avg_c(toronto_weather))"
      ]
    },
    {
      "cell_type": "markdown",
      "metadata": {
        "id": "WRTL2CishOcQ"
      },
      "source": [
        "----\n",
        "\n",
        "## All the pieces together\n",
        "\n",
        "**Q20** Here's a bit of code that has all the pieces we've looked at in it:\n",
        "\n",
        "- loops\n",
        "- conditionals\n",
        "- functions\n",
        "- math\n",
        "\n",
        "The part that is new here is that we are returning **two values** from our function. \n",
        "\n",
        "See if you can complete the code chunk, keeping in mind what we've learned. You'll need to modify line:\n",
        "*12*, & *14*\n",
        "\n",
        "\n",
        "When you get the solution type \"Finally Done!\" into the chat box."
      ]
    },
    {
      "cell_type": "code",
      "execution_count": 83,
      "metadata": {
        "id": "Z_AnaRZnhOcQ",
        "colab": {
          "base_uri": "https://localhost:8080/"
        },
        "outputId": "1bad6a85-708e-417f-8544-1d421c705298"
      },
      "outputs": [
        {
          "output_type": "stream",
          "name": "stdout",
          "text": [
            "Longest data point is: Captain Kirk\n"
          ]
        }
      ],
      "source": [
        "##list called data_points\n",
        "data_points = [\"Dr. Spock\", \"Captain Kirk\", \"Mr. Sulu\", \"Bones\"]\n",
        "\n",
        "##function called longest\n",
        "def longest(data):\n",
        "    # 2 variables created\n",
        "    max_length = 0\n",
        "    max_item = \"\"\n",
        "    ##start of loop items in data           \n",
        "    for d in data:\n",
        "               \n",
        "        if len(d) > max_length:\n",
        "            \n",
        "            max_item = d ##to look at longest string\n",
        "            max_length = len(d) ##find longest item using len\n",
        "    \n",
        "    return max_item\n",
        "\n",
        "\n",
        "winner = longest(data_points)\n",
        "\n",
        "print(\"Longest data point is: \" + str(winner) )\n",
        "\n"
      ]
    },
    {
      "cell_type": "markdown",
      "metadata": {
        "id": "B-rsqKnmhOcQ"
      },
      "source": [
        "***\n",
        "\n",
        "# Congrats! #\n",
        "\n",
        "You now know the basics of Python, why not try some of the next workshops in the series:\n",
        "\n",
        "- [Python for Data Science](https://brockdsl.github.io/Python_2.0_Workshop/)\n",
        "- [Machine Learning with Python](https://brockdsl.github.io/Machine_Learning_with_Python/)\n",
        "- [Text Analysis with Python](https://brockdsl.github.io/Text_Analysis_with_Python/)\n",
        "\n",
        "To sign-up for future sessions please check us out on [Eventbrite](https://brockdsl.eventbrite.com) "
      ]
    },
    {
      "cell_type": "markdown",
      "metadata": {
        "id": "g4ugtdIxhOcQ"
      },
      "source": [
        "## Further Reading\n",
        "\n",
        "Now that we've handled the basics here are some interesting next steps you can persue.\n",
        "\n",
        "[Kaggle](https://www.kaggle.com/) - An online portal that teaches data science using Notebooks, also has contests for cash prizes\n",
        "\n",
        "[Python the Hard Way](https://learntocodetogether.com/learn-python-the-hard-way-free-ebook-download/) - Don't let the name fool you, this book is a great introduction to Python and programming more generally\n"
      ]
    },
    {
      "cell_type": "markdown",
      "metadata": {
        "id": "uu5a0NcRhOcR"
      },
      "source": [
        "----\n",
        "\n",
        "# Extra homework!\n",
        "\n",
        "If you'd really like to cement your understanding of functions in Python please these last 3 questions."
      ]
    },
    {
      "cell_type": "markdown",
      "metadata": {
        "id": "07LIQOeohOcR"
      },
      "source": [
        "- **Q21** Can you write a function that finds the average temp for the week but in **F**? You just need to modify line 5."
      ]
    },
    {
      "cell_type": "code",
      "execution_count": null,
      "metadata": {
        "id": "8YbUtMx5hOcR"
      },
      "outputs": [],
      "source": [
        "def week_avg_f(toronto_weather):\n",
        "    \n",
        "    #You just need to add one thing to the line below\n",
        "    #HINT: It is something we've seen already\n",
        "    avg_temp_f = week_avg_c(toronto_weather)\n",
        "    return avg_temp_f\n",
        "\n",
        "\n",
        "print(week_avg_f(toronto_weather))\n"
      ]
    },
    {
      "cell_type": "markdown",
      "metadata": {
        "id": "LLlGJ3enhOcR"
      },
      "source": [
        "- **Q22** Can you write a function that finds the average temperature for the weekend? (Some of it is there for you) HINT: Check out question 19 for inspiration. You just need to modify lines 5 and 8."
      ]
    },
    {
      "cell_type": "code",
      "execution_count": null,
      "metadata": {
        "id": "Fqtb-rDEhOcR"
      },
      "outputs": [],
      "source": [
        "\n",
        "def weekend_avg_c(toronto_weather):\n",
        "\n",
        "    #A weekend is Saturday and Sunday. You need to find the sum of those two temps \n",
        "    total_degrees = 0\n",
        "    \n",
        "    #total_degrees has the sum of the weekend temps.\n",
        "    return total_degrees\n",
        "\n",
        "\n",
        "print(weekend_avg_c(toronto_weather))\n",
        "\n"
      ]
    },
    {
      "cell_type": "markdown",
      "metadata": {
        "id": "ZTNSU1rRhOcS"
      },
      "source": [
        "- **Q23** Can you write a function that finds the average temperature for the weekend in **F**? (Some of it is ther for you) HINT: look at Q20 for inspiration"
      ]
    },
    {
      "cell_type": "code",
      "execution_count": null,
      "metadata": {
        "id": "2rmfCuaxhOcS"
      },
      "outputs": [],
      "source": [
        "def weekend_avg_f(toronto_weather):\n",
        "\n",
        "    #You just need to change the line below\n",
        "    avg_temp_f = weekend_avg_c(toronto_weather)\n",
        "    return avg_temp_f\n",
        "\n",
        "\n",
        "print(weekend_avg_f(toronto_weather))\n"
      ]
    },
    {
      "cell_type": "markdown",
      "metadata": {
        "id": "XKv83LPJhOcS"
      },
      "source": [
        "\n"
      ]
    }
  ],
  "metadata": {
    "kernelspec": {
      "display_name": "Python 3 (ipykernel)",
      "language": "python",
      "name": "python3"
    },
    "language_info": {
      "codemirror_mode": {
        "name": "ipython",
        "version": 3
      },
      "file_extension": ".py",
      "mimetype": "text/x-python",
      "name": "python",
      "nbconvert_exporter": "python",
      "pygments_lexer": "ipython3",
      "version": "3.9.13"
    },
    "colab": {
      "provenance": [],
      "include_colab_link": true
    }
  },
  "nbformat": 4,
  "nbformat_minor": 0
}