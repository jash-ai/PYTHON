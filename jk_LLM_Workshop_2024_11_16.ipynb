{
  "nbformat": 4,
  "nbformat_minor": 0,
  "metadata": {
    "colab": {
      "provenance": [],
      "toc_visible": true
    },
    "kernelspec": {
      "name": "python3",
      "display_name": "Python 3"
    },
    "language_info": {
      "name": "python"
    },
    "widgets": {
      "application/vnd.jupyter.widget-state+json": {
        "4228fc6de09b4794ae55d6804c166cc7": {
          "model_module": "@jupyter-widgets/controls",
          "model_name": "HBoxModel",
          "model_module_version": "1.5.0",
          "state": {
            "_dom_classes": [],
            "_model_module": "@jupyter-widgets/controls",
            "_model_module_version": "1.5.0",
            "_model_name": "HBoxModel",
            "_view_count": null,
            "_view_module": "@jupyter-widgets/controls",
            "_view_module_version": "1.5.0",
            "_view_name": "HBoxView",
            "box_style": "",
            "children": [
              "IPY_MODEL_7111dc8a62e045f5bf1fe1305ed789a2",
              "IPY_MODEL_3ac7092dab2b4d17bbd938e392b7ad7a",
              "IPY_MODEL_e2f577be16d84caf8b82f55622122aa0"
            ],
            "layout": "IPY_MODEL_bfcc2cdb88a2483ba9835aaf137568e6"
          }
        },
        "7111dc8a62e045f5bf1fe1305ed789a2": {
          "model_module": "@jupyter-widgets/controls",
          "model_name": "HTMLModel",
          "model_module_version": "1.5.0",
          "state": {
            "_dom_classes": [],
            "_model_module": "@jupyter-widgets/controls",
            "_model_module_version": "1.5.0",
            "_model_name": "HTMLModel",
            "_view_count": null,
            "_view_module": "@jupyter-widgets/controls",
            "_view_module_version": "1.5.0",
            "_view_name": "HTMLView",
            "description": "",
            "description_tooltip": null,
            "layout": "IPY_MODEL_37f62b2e77a043768fb64ec8d0b5b773",
            "placeholder": "​",
            "style": "IPY_MODEL_4f24653be3784424956ef74b054f5fc1",
            "value": "tokenizer_config.json: 100%"
          }
        },
        "3ac7092dab2b4d17bbd938e392b7ad7a": {
          "model_module": "@jupyter-widgets/controls",
          "model_name": "FloatProgressModel",
          "model_module_version": "1.5.0",
          "state": {
            "_dom_classes": [],
            "_model_module": "@jupyter-widgets/controls",
            "_model_module_version": "1.5.0",
            "_model_name": "FloatProgressModel",
            "_view_count": null,
            "_view_module": "@jupyter-widgets/controls",
            "_view_module_version": "1.5.0",
            "_view_name": "ProgressView",
            "bar_style": "success",
            "description": "",
            "description_tooltip": null,
            "layout": "IPY_MODEL_896e328b227140cb986b17bcc72bff73",
            "max": 48,
            "min": 0,
            "orientation": "horizontal",
            "style": "IPY_MODEL_eaba1aeb34cd498ba60ec88997686c36",
            "value": 48
          }
        },
        "e2f577be16d84caf8b82f55622122aa0": {
          "model_module": "@jupyter-widgets/controls",
          "model_name": "HTMLModel",
          "model_module_version": "1.5.0",
          "state": {
            "_dom_classes": [],
            "_model_module": "@jupyter-widgets/controls",
            "_model_module_version": "1.5.0",
            "_model_name": "HTMLModel",
            "_view_count": null,
            "_view_module": "@jupyter-widgets/controls",
            "_view_module_version": "1.5.0",
            "_view_name": "HTMLView",
            "description": "",
            "description_tooltip": null,
            "layout": "IPY_MODEL_1bc4a3f61db043dfb6edea93febf134f",
            "placeholder": "​",
            "style": "IPY_MODEL_a39d8f2bde7c4671b45570da2383bb15",
            "value": " 48.0/48.0 [00:00&lt;00:00, 2.99kB/s]"
          }
        },
        "bfcc2cdb88a2483ba9835aaf137568e6": {
          "model_module": "@jupyter-widgets/base",
          "model_name": "LayoutModel",
          "model_module_version": "1.2.0",
          "state": {
            "_model_module": "@jupyter-widgets/base",
            "_model_module_version": "1.2.0",
            "_model_name": "LayoutModel",
            "_view_count": null,
            "_view_module": "@jupyter-widgets/base",
            "_view_module_version": "1.2.0",
            "_view_name": "LayoutView",
            "align_content": null,
            "align_items": null,
            "align_self": null,
            "border": null,
            "bottom": null,
            "display": null,
            "flex": null,
            "flex_flow": null,
            "grid_area": null,
            "grid_auto_columns": null,
            "grid_auto_flow": null,
            "grid_auto_rows": null,
            "grid_column": null,
            "grid_gap": null,
            "grid_row": null,
            "grid_template_areas": null,
            "grid_template_columns": null,
            "grid_template_rows": null,
            "height": null,
            "justify_content": null,
            "justify_items": null,
            "left": null,
            "margin": null,
            "max_height": null,
            "max_width": null,
            "min_height": null,
            "min_width": null,
            "object_fit": null,
            "object_position": null,
            "order": null,
            "overflow": null,
            "overflow_x": null,
            "overflow_y": null,
            "padding": null,
            "right": null,
            "top": null,
            "visibility": null,
            "width": null
          }
        },
        "37f62b2e77a043768fb64ec8d0b5b773": {
          "model_module": "@jupyter-widgets/base",
          "model_name": "LayoutModel",
          "model_module_version": "1.2.0",
          "state": {
            "_model_module": "@jupyter-widgets/base",
            "_model_module_version": "1.2.0",
            "_model_name": "LayoutModel",
            "_view_count": null,
            "_view_module": "@jupyter-widgets/base",
            "_view_module_version": "1.2.0",
            "_view_name": "LayoutView",
            "align_content": null,
            "align_items": null,
            "align_self": null,
            "border": null,
            "bottom": null,
            "display": null,
            "flex": null,
            "flex_flow": null,
            "grid_area": null,
            "grid_auto_columns": null,
            "grid_auto_flow": null,
            "grid_auto_rows": null,
            "grid_column": null,
            "grid_gap": null,
            "grid_row": null,
            "grid_template_areas": null,
            "grid_template_columns": null,
            "grid_template_rows": null,
            "height": null,
            "justify_content": null,
            "justify_items": null,
            "left": null,
            "margin": null,
            "max_height": null,
            "max_width": null,
            "min_height": null,
            "min_width": null,
            "object_fit": null,
            "object_position": null,
            "order": null,
            "overflow": null,
            "overflow_x": null,
            "overflow_y": null,
            "padding": null,
            "right": null,
            "top": null,
            "visibility": null,
            "width": null
          }
        },
        "4f24653be3784424956ef74b054f5fc1": {
          "model_module": "@jupyter-widgets/controls",
          "model_name": "DescriptionStyleModel",
          "model_module_version": "1.5.0",
          "state": {
            "_model_module": "@jupyter-widgets/controls",
            "_model_module_version": "1.5.0",
            "_model_name": "DescriptionStyleModel",
            "_view_count": null,
            "_view_module": "@jupyter-widgets/base",
            "_view_module_version": "1.2.0",
            "_view_name": "StyleView",
            "description_width": ""
          }
        },
        "896e328b227140cb986b17bcc72bff73": {
          "model_module": "@jupyter-widgets/base",
          "model_name": "LayoutModel",
          "model_module_version": "1.2.0",
          "state": {
            "_model_module": "@jupyter-widgets/base",
            "_model_module_version": "1.2.0",
            "_model_name": "LayoutModel",
            "_view_count": null,
            "_view_module": "@jupyter-widgets/base",
            "_view_module_version": "1.2.0",
            "_view_name": "LayoutView",
            "align_content": null,
            "align_items": null,
            "align_self": null,
            "border": null,
            "bottom": null,
            "display": null,
            "flex": null,
            "flex_flow": null,
            "grid_area": null,
            "grid_auto_columns": null,
            "grid_auto_flow": null,
            "grid_auto_rows": null,
            "grid_column": null,
            "grid_gap": null,
            "grid_row": null,
            "grid_template_areas": null,
            "grid_template_columns": null,
            "grid_template_rows": null,
            "height": null,
            "justify_content": null,
            "justify_items": null,
            "left": null,
            "margin": null,
            "max_height": null,
            "max_width": null,
            "min_height": null,
            "min_width": null,
            "object_fit": null,
            "object_position": null,
            "order": null,
            "overflow": null,
            "overflow_x": null,
            "overflow_y": null,
            "padding": null,
            "right": null,
            "top": null,
            "visibility": null,
            "width": null
          }
        },
        "eaba1aeb34cd498ba60ec88997686c36": {
          "model_module": "@jupyter-widgets/controls",
          "model_name": "ProgressStyleModel",
          "model_module_version": "1.5.0",
          "state": {
            "_model_module": "@jupyter-widgets/controls",
            "_model_module_version": "1.5.0",
            "_model_name": "ProgressStyleModel",
            "_view_count": null,
            "_view_module": "@jupyter-widgets/base",
            "_view_module_version": "1.2.0",
            "_view_name": "StyleView",
            "bar_color": null,
            "description_width": ""
          }
        },
        "1bc4a3f61db043dfb6edea93febf134f": {
          "model_module": "@jupyter-widgets/base",
          "model_name": "LayoutModel",
          "model_module_version": "1.2.0",
          "state": {
            "_model_module": "@jupyter-widgets/base",
            "_model_module_version": "1.2.0",
            "_model_name": "LayoutModel",
            "_view_count": null,
            "_view_module": "@jupyter-widgets/base",
            "_view_module_version": "1.2.0",
            "_view_name": "LayoutView",
            "align_content": null,
            "align_items": null,
            "align_self": null,
            "border": null,
            "bottom": null,
            "display": null,
            "flex": null,
            "flex_flow": null,
            "grid_area": null,
            "grid_auto_columns": null,
            "grid_auto_flow": null,
            "grid_auto_rows": null,
            "grid_column": null,
            "grid_gap": null,
            "grid_row": null,
            "grid_template_areas": null,
            "grid_template_columns": null,
            "grid_template_rows": null,
            "height": null,
            "justify_content": null,
            "justify_items": null,
            "left": null,
            "margin": null,
            "max_height": null,
            "max_width": null,
            "min_height": null,
            "min_width": null,
            "object_fit": null,
            "object_position": null,
            "order": null,
            "overflow": null,
            "overflow_x": null,
            "overflow_y": null,
            "padding": null,
            "right": null,
            "top": null,
            "visibility": null,
            "width": null
          }
        },
        "a39d8f2bde7c4671b45570da2383bb15": {
          "model_module": "@jupyter-widgets/controls",
          "model_name": "DescriptionStyleModel",
          "model_module_version": "1.5.0",
          "state": {
            "_model_module": "@jupyter-widgets/controls",
            "_model_module_version": "1.5.0",
            "_model_name": "DescriptionStyleModel",
            "_view_count": null,
            "_view_module": "@jupyter-widgets/base",
            "_view_module_version": "1.2.0",
            "_view_name": "StyleView",
            "description_width": ""
          }
        },
        "a2821a680e77452dbe9ff548ff798be3": {
          "model_module": "@jupyter-widgets/controls",
          "model_name": "HBoxModel",
          "model_module_version": "1.5.0",
          "state": {
            "_dom_classes": [],
            "_model_module": "@jupyter-widgets/controls",
            "_model_module_version": "1.5.0",
            "_model_name": "HBoxModel",
            "_view_count": null,
            "_view_module": "@jupyter-widgets/controls",
            "_view_module_version": "1.5.0",
            "_view_name": "HBoxView",
            "box_style": "",
            "children": [
              "IPY_MODEL_74393fe022c54b828e5fec7c43d691d5",
              "IPY_MODEL_45a57a9d09f041ceac2f892eac2d69f6",
              "IPY_MODEL_0ab5be138ee04d379ccf8e3e812004e6"
            ],
            "layout": "IPY_MODEL_5b16b875409a41159f64a4f2a0328a9c"
          }
        },
        "74393fe022c54b828e5fec7c43d691d5": {
          "model_module": "@jupyter-widgets/controls",
          "model_name": "HTMLModel",
          "model_module_version": "1.5.0",
          "state": {
            "_dom_classes": [],
            "_model_module": "@jupyter-widgets/controls",
            "_model_module_version": "1.5.0",
            "_model_name": "HTMLModel",
            "_view_count": null,
            "_view_module": "@jupyter-widgets/controls",
            "_view_module_version": "1.5.0",
            "_view_name": "HTMLView",
            "description": "",
            "description_tooltip": null,
            "layout": "IPY_MODEL_e6787fba702b43c58053f21cef9cd740",
            "placeholder": "​",
            "style": "IPY_MODEL_e419b68854e24cafb006fee0267dfe94",
            "value": "config.json: 100%"
          }
        },
        "45a57a9d09f041ceac2f892eac2d69f6": {
          "model_module": "@jupyter-widgets/controls",
          "model_name": "FloatProgressModel",
          "model_module_version": "1.5.0",
          "state": {
            "_dom_classes": [],
            "_model_module": "@jupyter-widgets/controls",
            "_model_module_version": "1.5.0",
            "_model_name": "FloatProgressModel",
            "_view_count": null,
            "_view_module": "@jupyter-widgets/controls",
            "_view_module_version": "1.5.0",
            "_view_name": "ProgressView",
            "bar_style": "success",
            "description": "",
            "description_tooltip": null,
            "layout": "IPY_MODEL_67e5aa20889145aabd7b8762c267668b",
            "max": 570,
            "min": 0,
            "orientation": "horizontal",
            "style": "IPY_MODEL_b10fd5e146b545fa9b06616a279aa89b",
            "value": 570
          }
        },
        "0ab5be138ee04d379ccf8e3e812004e6": {
          "model_module": "@jupyter-widgets/controls",
          "model_name": "HTMLModel",
          "model_module_version": "1.5.0",
          "state": {
            "_dom_classes": [],
            "_model_module": "@jupyter-widgets/controls",
            "_model_module_version": "1.5.0",
            "_model_name": "HTMLModel",
            "_view_count": null,
            "_view_module": "@jupyter-widgets/controls",
            "_view_module_version": "1.5.0",
            "_view_name": "HTMLView",
            "description": "",
            "description_tooltip": null,
            "layout": "IPY_MODEL_d47c18116b52408b93a6938311970b20",
            "placeholder": "​",
            "style": "IPY_MODEL_716f75b8120e452b841e8e4cfeadfae2",
            "value": " 570/570 [00:00&lt;00:00, 26.8kB/s]"
          }
        },
        "5b16b875409a41159f64a4f2a0328a9c": {
          "model_module": "@jupyter-widgets/base",
          "model_name": "LayoutModel",
          "model_module_version": "1.2.0",
          "state": {
            "_model_module": "@jupyter-widgets/base",
            "_model_module_version": "1.2.0",
            "_model_name": "LayoutModel",
            "_view_count": null,
            "_view_module": "@jupyter-widgets/base",
            "_view_module_version": "1.2.0",
            "_view_name": "LayoutView",
            "align_content": null,
            "align_items": null,
            "align_self": null,
            "border": null,
            "bottom": null,
            "display": null,
            "flex": null,
            "flex_flow": null,
            "grid_area": null,
            "grid_auto_columns": null,
            "grid_auto_flow": null,
            "grid_auto_rows": null,
            "grid_column": null,
            "grid_gap": null,
            "grid_row": null,
            "grid_template_areas": null,
            "grid_template_columns": null,
            "grid_template_rows": null,
            "height": null,
            "justify_content": null,
            "justify_items": null,
            "left": null,
            "margin": null,
            "max_height": null,
            "max_width": null,
            "min_height": null,
            "min_width": null,
            "object_fit": null,
            "object_position": null,
            "order": null,
            "overflow": null,
            "overflow_x": null,
            "overflow_y": null,
            "padding": null,
            "right": null,
            "top": null,
            "visibility": null,
            "width": null
          }
        },
        "e6787fba702b43c58053f21cef9cd740": {
          "model_module": "@jupyter-widgets/base",
          "model_name": "LayoutModel",
          "model_module_version": "1.2.0",
          "state": {
            "_model_module": "@jupyter-widgets/base",
            "_model_module_version": "1.2.0",
            "_model_name": "LayoutModel",
            "_view_count": null,
            "_view_module": "@jupyter-widgets/base",
            "_view_module_version": "1.2.0",
            "_view_name": "LayoutView",
            "align_content": null,
            "align_items": null,
            "align_self": null,
            "border": null,
            "bottom": null,
            "display": null,
            "flex": null,
            "flex_flow": null,
            "grid_area": null,
            "grid_auto_columns": null,
            "grid_auto_flow": null,
            "grid_auto_rows": null,
            "grid_column": null,
            "grid_gap": null,
            "grid_row": null,
            "grid_template_areas": null,
            "grid_template_columns": null,
            "grid_template_rows": null,
            "height": null,
            "justify_content": null,
            "justify_items": null,
            "left": null,
            "margin": null,
            "max_height": null,
            "max_width": null,
            "min_height": null,
            "min_width": null,
            "object_fit": null,
            "object_position": null,
            "order": null,
            "overflow": null,
            "overflow_x": null,
            "overflow_y": null,
            "padding": null,
            "right": null,
            "top": null,
            "visibility": null,
            "width": null
          }
        },
        "e419b68854e24cafb006fee0267dfe94": {
          "model_module": "@jupyter-widgets/controls",
          "model_name": "DescriptionStyleModel",
          "model_module_version": "1.5.0",
          "state": {
            "_model_module": "@jupyter-widgets/controls",
            "_model_module_version": "1.5.0",
            "_model_name": "DescriptionStyleModel",
            "_view_count": null,
            "_view_module": "@jupyter-widgets/base",
            "_view_module_version": "1.2.0",
            "_view_name": "StyleView",
            "description_width": ""
          }
        },
        "67e5aa20889145aabd7b8762c267668b": {
          "model_module": "@jupyter-widgets/base",
          "model_name": "LayoutModel",
          "model_module_version": "1.2.0",
          "state": {
            "_model_module": "@jupyter-widgets/base",
            "_model_module_version": "1.2.0",
            "_model_name": "LayoutModel",
            "_view_count": null,
            "_view_module": "@jupyter-widgets/base",
            "_view_module_version": "1.2.0",
            "_view_name": "LayoutView",
            "align_content": null,
            "align_items": null,
            "align_self": null,
            "border": null,
            "bottom": null,
            "display": null,
            "flex": null,
            "flex_flow": null,
            "grid_area": null,
            "grid_auto_columns": null,
            "grid_auto_flow": null,
            "grid_auto_rows": null,
            "grid_column": null,
            "grid_gap": null,
            "grid_row": null,
            "grid_template_areas": null,
            "grid_template_columns": null,
            "grid_template_rows": null,
            "height": null,
            "justify_content": null,
            "justify_items": null,
            "left": null,
            "margin": null,
            "max_height": null,
            "max_width": null,
            "min_height": null,
            "min_width": null,
            "object_fit": null,
            "object_position": null,
            "order": null,
            "overflow": null,
            "overflow_x": null,
            "overflow_y": null,
            "padding": null,
            "right": null,
            "top": null,
            "visibility": null,
            "width": null
          }
        },
        "b10fd5e146b545fa9b06616a279aa89b": {
          "model_module": "@jupyter-widgets/controls",
          "model_name": "ProgressStyleModel",
          "model_module_version": "1.5.0",
          "state": {
            "_model_module": "@jupyter-widgets/controls",
            "_model_module_version": "1.5.0",
            "_model_name": "ProgressStyleModel",
            "_view_count": null,
            "_view_module": "@jupyter-widgets/base",
            "_view_module_version": "1.2.0",
            "_view_name": "StyleView",
            "bar_color": null,
            "description_width": ""
          }
        },
        "d47c18116b52408b93a6938311970b20": {
          "model_module": "@jupyter-widgets/base",
          "model_name": "LayoutModel",
          "model_module_version": "1.2.0",
          "state": {
            "_model_module": "@jupyter-widgets/base",
            "_model_module_version": "1.2.0",
            "_model_name": "LayoutModel",
            "_view_count": null,
            "_view_module": "@jupyter-widgets/base",
            "_view_module_version": "1.2.0",
            "_view_name": "LayoutView",
            "align_content": null,
            "align_items": null,
            "align_self": null,
            "border": null,
            "bottom": null,
            "display": null,
            "flex": null,
            "flex_flow": null,
            "grid_area": null,
            "grid_auto_columns": null,
            "grid_auto_flow": null,
            "grid_auto_rows": null,
            "grid_column": null,
            "grid_gap": null,
            "grid_row": null,
            "grid_template_areas": null,
            "grid_template_columns": null,
            "grid_template_rows": null,
            "height": null,
            "justify_content": null,
            "justify_items": null,
            "left": null,
            "margin": null,
            "max_height": null,
            "max_width": null,
            "min_height": null,
            "min_width": null,
            "object_fit": null,
            "object_position": null,
            "order": null,
            "overflow": null,
            "overflow_x": null,
            "overflow_y": null,
            "padding": null,
            "right": null,
            "top": null,
            "visibility": null,
            "width": null
          }
        },
        "716f75b8120e452b841e8e4cfeadfae2": {
          "model_module": "@jupyter-widgets/controls",
          "model_name": "DescriptionStyleModel",
          "model_module_version": "1.5.0",
          "state": {
            "_model_module": "@jupyter-widgets/controls",
            "_model_module_version": "1.5.0",
            "_model_name": "DescriptionStyleModel",
            "_view_count": null,
            "_view_module": "@jupyter-widgets/base",
            "_view_module_version": "1.2.0",
            "_view_name": "StyleView",
            "description_width": ""
          }
        },
        "3cf3c1289e974380a72ebbba3fe8ce34": {
          "model_module": "@jupyter-widgets/controls",
          "model_name": "HBoxModel",
          "model_module_version": "1.5.0",
          "state": {
            "_dom_classes": [],
            "_model_module": "@jupyter-widgets/controls",
            "_model_module_version": "1.5.0",
            "_model_name": "HBoxModel",
            "_view_count": null,
            "_view_module": "@jupyter-widgets/controls",
            "_view_module_version": "1.5.0",
            "_view_name": "HBoxView",
            "box_style": "",
            "children": [
              "IPY_MODEL_16b61c4406fd4dee8e96fb372035e094",
              "IPY_MODEL_d9a1e3cbdac547a9b942f50da71f6131",
              "IPY_MODEL_dd851667ef024fe7ac994f89295ad95a"
            ],
            "layout": "IPY_MODEL_52877b71d0fb43fb8842865ce7b861e6"
          }
        },
        "16b61c4406fd4dee8e96fb372035e094": {
          "model_module": "@jupyter-widgets/controls",
          "model_name": "HTMLModel",
          "model_module_version": "1.5.0",
          "state": {
            "_dom_classes": [],
            "_model_module": "@jupyter-widgets/controls",
            "_model_module_version": "1.5.0",
            "_model_name": "HTMLModel",
            "_view_count": null,
            "_view_module": "@jupyter-widgets/controls",
            "_view_module_version": "1.5.0",
            "_view_name": "HTMLView",
            "description": "",
            "description_tooltip": null,
            "layout": "IPY_MODEL_dc82cffdc72648c891ab153efbbd7f17",
            "placeholder": "​",
            "style": "IPY_MODEL_cb479602596d411384776654a7380a2e",
            "value": "vocab.txt: 100%"
          }
        },
        "d9a1e3cbdac547a9b942f50da71f6131": {
          "model_module": "@jupyter-widgets/controls",
          "model_name": "FloatProgressModel",
          "model_module_version": "1.5.0",
          "state": {
            "_dom_classes": [],
            "_model_module": "@jupyter-widgets/controls",
            "_model_module_version": "1.5.0",
            "_model_name": "FloatProgressModel",
            "_view_count": null,
            "_view_module": "@jupyter-widgets/controls",
            "_view_module_version": "1.5.0",
            "_view_name": "ProgressView",
            "bar_style": "success",
            "description": "",
            "description_tooltip": null,
            "layout": "IPY_MODEL_8eb499abac5a450186bce54fee0da0f7",
            "max": 231508,
            "min": 0,
            "orientation": "horizontal",
            "style": "IPY_MODEL_b6606aa3019a465994ccda948732225d",
            "value": 231508
          }
        },
        "dd851667ef024fe7ac994f89295ad95a": {
          "model_module": "@jupyter-widgets/controls",
          "model_name": "HTMLModel",
          "model_module_version": "1.5.0",
          "state": {
            "_dom_classes": [],
            "_model_module": "@jupyter-widgets/controls",
            "_model_module_version": "1.5.0",
            "_model_name": "HTMLModel",
            "_view_count": null,
            "_view_module": "@jupyter-widgets/controls",
            "_view_module_version": "1.5.0",
            "_view_name": "HTMLView",
            "description": "",
            "description_tooltip": null,
            "layout": "IPY_MODEL_27e557df1de34c5e9841745ed6474201",
            "placeholder": "​",
            "style": "IPY_MODEL_9e6a200b9da546b5b14e6e8192136785",
            "value": " 232k/232k [00:00&lt;00:00, 3.16MB/s]"
          }
        },
        "52877b71d0fb43fb8842865ce7b861e6": {
          "model_module": "@jupyter-widgets/base",
          "model_name": "LayoutModel",
          "model_module_version": "1.2.0",
          "state": {
            "_model_module": "@jupyter-widgets/base",
            "_model_module_version": "1.2.0",
            "_model_name": "LayoutModel",
            "_view_count": null,
            "_view_module": "@jupyter-widgets/base",
            "_view_module_version": "1.2.0",
            "_view_name": "LayoutView",
            "align_content": null,
            "align_items": null,
            "align_self": null,
            "border": null,
            "bottom": null,
            "display": null,
            "flex": null,
            "flex_flow": null,
            "grid_area": null,
            "grid_auto_columns": null,
            "grid_auto_flow": null,
            "grid_auto_rows": null,
            "grid_column": null,
            "grid_gap": null,
            "grid_row": null,
            "grid_template_areas": null,
            "grid_template_columns": null,
            "grid_template_rows": null,
            "height": null,
            "justify_content": null,
            "justify_items": null,
            "left": null,
            "margin": null,
            "max_height": null,
            "max_width": null,
            "min_height": null,
            "min_width": null,
            "object_fit": null,
            "object_position": null,
            "order": null,
            "overflow": null,
            "overflow_x": null,
            "overflow_y": null,
            "padding": null,
            "right": null,
            "top": null,
            "visibility": null,
            "width": null
          }
        },
        "dc82cffdc72648c891ab153efbbd7f17": {
          "model_module": "@jupyter-widgets/base",
          "model_name": "LayoutModel",
          "model_module_version": "1.2.0",
          "state": {
            "_model_module": "@jupyter-widgets/base",
            "_model_module_version": "1.2.0",
            "_model_name": "LayoutModel",
            "_view_count": null,
            "_view_module": "@jupyter-widgets/base",
            "_view_module_version": "1.2.0",
            "_view_name": "LayoutView",
            "align_content": null,
            "align_items": null,
            "align_self": null,
            "border": null,
            "bottom": null,
            "display": null,
            "flex": null,
            "flex_flow": null,
            "grid_area": null,
            "grid_auto_columns": null,
            "grid_auto_flow": null,
            "grid_auto_rows": null,
            "grid_column": null,
            "grid_gap": null,
            "grid_row": null,
            "grid_template_areas": null,
            "grid_template_columns": null,
            "grid_template_rows": null,
            "height": null,
            "justify_content": null,
            "justify_items": null,
            "left": null,
            "margin": null,
            "max_height": null,
            "max_width": null,
            "min_height": null,
            "min_width": null,
            "object_fit": null,
            "object_position": null,
            "order": null,
            "overflow": null,
            "overflow_x": null,
            "overflow_y": null,
            "padding": null,
            "right": null,
            "top": null,
            "visibility": null,
            "width": null
          }
        },
        "cb479602596d411384776654a7380a2e": {
          "model_module": "@jupyter-widgets/controls",
          "model_name": "DescriptionStyleModel",
          "model_module_version": "1.5.0",
          "state": {
            "_model_module": "@jupyter-widgets/controls",
            "_model_module_version": "1.5.0",
            "_model_name": "DescriptionStyleModel",
            "_view_count": null,
            "_view_module": "@jupyter-widgets/base",
            "_view_module_version": "1.2.0",
            "_view_name": "StyleView",
            "description_width": ""
          }
        },
        "8eb499abac5a450186bce54fee0da0f7": {
          "model_module": "@jupyter-widgets/base",
          "model_name": "LayoutModel",
          "model_module_version": "1.2.0",
          "state": {
            "_model_module": "@jupyter-widgets/base",
            "_model_module_version": "1.2.0",
            "_model_name": "LayoutModel",
            "_view_count": null,
            "_view_module": "@jupyter-widgets/base",
            "_view_module_version": "1.2.0",
            "_view_name": "LayoutView",
            "align_content": null,
            "align_items": null,
            "align_self": null,
            "border": null,
            "bottom": null,
            "display": null,
            "flex": null,
            "flex_flow": null,
            "grid_area": null,
            "grid_auto_columns": null,
            "grid_auto_flow": null,
            "grid_auto_rows": null,
            "grid_column": null,
            "grid_gap": null,
            "grid_row": null,
            "grid_template_areas": null,
            "grid_template_columns": null,
            "grid_template_rows": null,
            "height": null,
            "justify_content": null,
            "justify_items": null,
            "left": null,
            "margin": null,
            "max_height": null,
            "max_width": null,
            "min_height": null,
            "min_width": null,
            "object_fit": null,
            "object_position": null,
            "order": null,
            "overflow": null,
            "overflow_x": null,
            "overflow_y": null,
            "padding": null,
            "right": null,
            "top": null,
            "visibility": null,
            "width": null
          }
        },
        "b6606aa3019a465994ccda948732225d": {
          "model_module": "@jupyter-widgets/controls",
          "model_name": "ProgressStyleModel",
          "model_module_version": "1.5.0",
          "state": {
            "_model_module": "@jupyter-widgets/controls",
            "_model_module_version": "1.5.0",
            "_model_name": "ProgressStyleModel",
            "_view_count": null,
            "_view_module": "@jupyter-widgets/base",
            "_view_module_version": "1.2.0",
            "_view_name": "StyleView",
            "bar_color": null,
            "description_width": ""
          }
        },
        "27e557df1de34c5e9841745ed6474201": {
          "model_module": "@jupyter-widgets/base",
          "model_name": "LayoutModel",
          "model_module_version": "1.2.0",
          "state": {
            "_model_module": "@jupyter-widgets/base",
            "_model_module_version": "1.2.0",
            "_model_name": "LayoutModel",
            "_view_count": null,
            "_view_module": "@jupyter-widgets/base",
            "_view_module_version": "1.2.0",
            "_view_name": "LayoutView",
            "align_content": null,
            "align_items": null,
            "align_self": null,
            "border": null,
            "bottom": null,
            "display": null,
            "flex": null,
            "flex_flow": null,
            "grid_area": null,
            "grid_auto_columns": null,
            "grid_auto_flow": null,
            "grid_auto_rows": null,
            "grid_column": null,
            "grid_gap": null,
            "grid_row": null,
            "grid_template_areas": null,
            "grid_template_columns": null,
            "grid_template_rows": null,
            "height": null,
            "justify_content": null,
            "justify_items": null,
            "left": null,
            "margin": null,
            "max_height": null,
            "max_width": null,
            "min_height": null,
            "min_width": null,
            "object_fit": null,
            "object_position": null,
            "order": null,
            "overflow": null,
            "overflow_x": null,
            "overflow_y": null,
            "padding": null,
            "right": null,
            "top": null,
            "visibility": null,
            "width": null
          }
        },
        "9e6a200b9da546b5b14e6e8192136785": {
          "model_module": "@jupyter-widgets/controls",
          "model_name": "DescriptionStyleModel",
          "model_module_version": "1.5.0",
          "state": {
            "_model_module": "@jupyter-widgets/controls",
            "_model_module_version": "1.5.0",
            "_model_name": "DescriptionStyleModel",
            "_view_count": null,
            "_view_module": "@jupyter-widgets/base",
            "_view_module_version": "1.2.0",
            "_view_name": "StyleView",
            "description_width": ""
          }
        },
        "f74fcdc1184348d1b2127119c68a6de5": {
          "model_module": "@jupyter-widgets/controls",
          "model_name": "HBoxModel",
          "model_module_version": "1.5.0",
          "state": {
            "_dom_classes": [],
            "_model_module": "@jupyter-widgets/controls",
            "_model_module_version": "1.5.0",
            "_model_name": "HBoxModel",
            "_view_count": null,
            "_view_module": "@jupyter-widgets/controls",
            "_view_module_version": "1.5.0",
            "_view_name": "HBoxView",
            "box_style": "",
            "children": [
              "IPY_MODEL_33ffe84a6b31471e9bc29e9fb35c7ee5",
              "IPY_MODEL_cb1e04442922430586f796ef39234996",
              "IPY_MODEL_2ba18985378d47a7926032f0c41ee1b8"
            ],
            "layout": "IPY_MODEL_b5677fa4ee8a49909f4192d9936bc00c"
          }
        },
        "33ffe84a6b31471e9bc29e9fb35c7ee5": {
          "model_module": "@jupyter-widgets/controls",
          "model_name": "HTMLModel",
          "model_module_version": "1.5.0",
          "state": {
            "_dom_classes": [],
            "_model_module": "@jupyter-widgets/controls",
            "_model_module_version": "1.5.0",
            "_model_name": "HTMLModel",
            "_view_count": null,
            "_view_module": "@jupyter-widgets/controls",
            "_view_module_version": "1.5.0",
            "_view_name": "HTMLView",
            "description": "",
            "description_tooltip": null,
            "layout": "IPY_MODEL_70ea860149e647379fb005ec33ac9f5e",
            "placeholder": "​",
            "style": "IPY_MODEL_f33ea3491d644fba8ee731d43497fdab",
            "value": "tokenizer.json: 100%"
          }
        },
        "cb1e04442922430586f796ef39234996": {
          "model_module": "@jupyter-widgets/controls",
          "model_name": "FloatProgressModel",
          "model_module_version": "1.5.0",
          "state": {
            "_dom_classes": [],
            "_model_module": "@jupyter-widgets/controls",
            "_model_module_version": "1.5.0",
            "_model_name": "FloatProgressModel",
            "_view_count": null,
            "_view_module": "@jupyter-widgets/controls",
            "_view_module_version": "1.5.0",
            "_view_name": "ProgressView",
            "bar_style": "success",
            "description": "",
            "description_tooltip": null,
            "layout": "IPY_MODEL_34aa286ce55148939413e898beb58d70",
            "max": 466062,
            "min": 0,
            "orientation": "horizontal",
            "style": "IPY_MODEL_ac27e094cfcb4d0aa08d5a82077c6942",
            "value": 466062
          }
        },
        "2ba18985378d47a7926032f0c41ee1b8": {
          "model_module": "@jupyter-widgets/controls",
          "model_name": "HTMLModel",
          "model_module_version": "1.5.0",
          "state": {
            "_dom_classes": [],
            "_model_module": "@jupyter-widgets/controls",
            "_model_module_version": "1.5.0",
            "_model_name": "HTMLModel",
            "_view_count": null,
            "_view_module": "@jupyter-widgets/controls",
            "_view_module_version": "1.5.0",
            "_view_name": "HTMLView",
            "description": "",
            "description_tooltip": null,
            "layout": "IPY_MODEL_9eb736455c7045dcb3fa293e4422979d",
            "placeholder": "​",
            "style": "IPY_MODEL_dea5b6492d6542e3895793f89d488160",
            "value": " 466k/466k [00:00&lt;00:00, 5.73MB/s]"
          }
        },
        "b5677fa4ee8a49909f4192d9936bc00c": {
          "model_module": "@jupyter-widgets/base",
          "model_name": "LayoutModel",
          "model_module_version": "1.2.0",
          "state": {
            "_model_module": "@jupyter-widgets/base",
            "_model_module_version": "1.2.0",
            "_model_name": "LayoutModel",
            "_view_count": null,
            "_view_module": "@jupyter-widgets/base",
            "_view_module_version": "1.2.0",
            "_view_name": "LayoutView",
            "align_content": null,
            "align_items": null,
            "align_self": null,
            "border": null,
            "bottom": null,
            "display": null,
            "flex": null,
            "flex_flow": null,
            "grid_area": null,
            "grid_auto_columns": null,
            "grid_auto_flow": null,
            "grid_auto_rows": null,
            "grid_column": null,
            "grid_gap": null,
            "grid_row": null,
            "grid_template_areas": null,
            "grid_template_columns": null,
            "grid_template_rows": null,
            "height": null,
            "justify_content": null,
            "justify_items": null,
            "left": null,
            "margin": null,
            "max_height": null,
            "max_width": null,
            "min_height": null,
            "min_width": null,
            "object_fit": null,
            "object_position": null,
            "order": null,
            "overflow": null,
            "overflow_x": null,
            "overflow_y": null,
            "padding": null,
            "right": null,
            "top": null,
            "visibility": null,
            "width": null
          }
        },
        "70ea860149e647379fb005ec33ac9f5e": {
          "model_module": "@jupyter-widgets/base",
          "model_name": "LayoutModel",
          "model_module_version": "1.2.0",
          "state": {
            "_model_module": "@jupyter-widgets/base",
            "_model_module_version": "1.2.0",
            "_model_name": "LayoutModel",
            "_view_count": null,
            "_view_module": "@jupyter-widgets/base",
            "_view_module_version": "1.2.0",
            "_view_name": "LayoutView",
            "align_content": null,
            "align_items": null,
            "align_self": null,
            "border": null,
            "bottom": null,
            "display": null,
            "flex": null,
            "flex_flow": null,
            "grid_area": null,
            "grid_auto_columns": null,
            "grid_auto_flow": null,
            "grid_auto_rows": null,
            "grid_column": null,
            "grid_gap": null,
            "grid_row": null,
            "grid_template_areas": null,
            "grid_template_columns": null,
            "grid_template_rows": null,
            "height": null,
            "justify_content": null,
            "justify_items": null,
            "left": null,
            "margin": null,
            "max_height": null,
            "max_width": null,
            "min_height": null,
            "min_width": null,
            "object_fit": null,
            "object_position": null,
            "order": null,
            "overflow": null,
            "overflow_x": null,
            "overflow_y": null,
            "padding": null,
            "right": null,
            "top": null,
            "visibility": null,
            "width": null
          }
        },
        "f33ea3491d644fba8ee731d43497fdab": {
          "model_module": "@jupyter-widgets/controls",
          "model_name": "DescriptionStyleModel",
          "model_module_version": "1.5.0",
          "state": {
            "_model_module": "@jupyter-widgets/controls",
            "_model_module_version": "1.5.0",
            "_model_name": "DescriptionStyleModel",
            "_view_count": null,
            "_view_module": "@jupyter-widgets/base",
            "_view_module_version": "1.2.0",
            "_view_name": "StyleView",
            "description_width": ""
          }
        },
        "34aa286ce55148939413e898beb58d70": {
          "model_module": "@jupyter-widgets/base",
          "model_name": "LayoutModel",
          "model_module_version": "1.2.0",
          "state": {
            "_model_module": "@jupyter-widgets/base",
            "_model_module_version": "1.2.0",
            "_model_name": "LayoutModel",
            "_view_count": null,
            "_view_module": "@jupyter-widgets/base",
            "_view_module_version": "1.2.0",
            "_view_name": "LayoutView",
            "align_content": null,
            "align_items": null,
            "align_self": null,
            "border": null,
            "bottom": null,
            "display": null,
            "flex": null,
            "flex_flow": null,
            "grid_area": null,
            "grid_auto_columns": null,
            "grid_auto_flow": null,
            "grid_auto_rows": null,
            "grid_column": null,
            "grid_gap": null,
            "grid_row": null,
            "grid_template_areas": null,
            "grid_template_columns": null,
            "grid_template_rows": null,
            "height": null,
            "justify_content": null,
            "justify_items": null,
            "left": null,
            "margin": null,
            "max_height": null,
            "max_width": null,
            "min_height": null,
            "min_width": null,
            "object_fit": null,
            "object_position": null,
            "order": null,
            "overflow": null,
            "overflow_x": null,
            "overflow_y": null,
            "padding": null,
            "right": null,
            "top": null,
            "visibility": null,
            "width": null
          }
        },
        "ac27e094cfcb4d0aa08d5a82077c6942": {
          "model_module": "@jupyter-widgets/controls",
          "model_name": "ProgressStyleModel",
          "model_module_version": "1.5.0",
          "state": {
            "_model_module": "@jupyter-widgets/controls",
            "_model_module_version": "1.5.0",
            "_model_name": "ProgressStyleModel",
            "_view_count": null,
            "_view_module": "@jupyter-widgets/base",
            "_view_module_version": "1.2.0",
            "_view_name": "StyleView",
            "bar_color": null,
            "description_width": ""
          }
        },
        "9eb736455c7045dcb3fa293e4422979d": {
          "model_module": "@jupyter-widgets/base",
          "model_name": "LayoutModel",
          "model_module_version": "1.2.0",
          "state": {
            "_model_module": "@jupyter-widgets/base",
            "_model_module_version": "1.2.0",
            "_model_name": "LayoutModel",
            "_view_count": null,
            "_view_module": "@jupyter-widgets/base",
            "_view_module_version": "1.2.0",
            "_view_name": "LayoutView",
            "align_content": null,
            "align_items": null,
            "align_self": null,
            "border": null,
            "bottom": null,
            "display": null,
            "flex": null,
            "flex_flow": null,
            "grid_area": null,
            "grid_auto_columns": null,
            "grid_auto_flow": null,
            "grid_auto_rows": null,
            "grid_column": null,
            "grid_gap": null,
            "grid_row": null,
            "grid_template_areas": null,
            "grid_template_columns": null,
            "grid_template_rows": null,
            "height": null,
            "justify_content": null,
            "justify_items": null,
            "left": null,
            "margin": null,
            "max_height": null,
            "max_width": null,
            "min_height": null,
            "min_width": null,
            "object_fit": null,
            "object_position": null,
            "order": null,
            "overflow": null,
            "overflow_x": null,
            "overflow_y": null,
            "padding": null,
            "right": null,
            "top": null,
            "visibility": null,
            "width": null
          }
        },
        "dea5b6492d6542e3895793f89d488160": {
          "model_module": "@jupyter-widgets/controls",
          "model_name": "DescriptionStyleModel",
          "model_module_version": "1.5.0",
          "state": {
            "_model_module": "@jupyter-widgets/controls",
            "_model_module_version": "1.5.0",
            "_model_name": "DescriptionStyleModel",
            "_view_count": null,
            "_view_module": "@jupyter-widgets/base",
            "_view_module_version": "1.2.0",
            "_view_name": "StyleView",
            "description_width": ""
          }
        },
        "4554b2ae0e7440819d2ea77e16b7c9f1": {
          "model_module": "@jupyter-widgets/controls",
          "model_name": "HBoxModel",
          "model_module_version": "1.5.0",
          "state": {
            "_dom_classes": [],
            "_model_module": "@jupyter-widgets/controls",
            "_model_module_version": "1.5.0",
            "_model_name": "HBoxModel",
            "_view_count": null,
            "_view_module": "@jupyter-widgets/controls",
            "_view_module_version": "1.5.0",
            "_view_name": "HBoxView",
            "box_style": "",
            "children": [
              "IPY_MODEL_8044452713ca42d68e3864b65466c502",
              "IPY_MODEL_86e49c4f8fc1498eb9c61ef39478ec77",
              "IPY_MODEL_92b2c7c957b2411f84fb952e89bf5ca6"
            ],
            "layout": "IPY_MODEL_771dcbfbbb6c4a2dbc44855db9ee586f"
          }
        },
        "8044452713ca42d68e3864b65466c502": {
          "model_module": "@jupyter-widgets/controls",
          "model_name": "HTMLModel",
          "model_module_version": "1.5.0",
          "state": {
            "_dom_classes": [],
            "_model_module": "@jupyter-widgets/controls",
            "_model_module_version": "1.5.0",
            "_model_name": "HTMLModel",
            "_view_count": null,
            "_view_module": "@jupyter-widgets/controls",
            "_view_module_version": "1.5.0",
            "_view_name": "HTMLView",
            "description": "",
            "description_tooltip": null,
            "layout": "IPY_MODEL_0c38a8b72a714880b8668aba6c95b107",
            "placeholder": "​",
            "style": "IPY_MODEL_e6da6cad7c214468a12904993d8de8c2",
            "value": "model.safetensors: 100%"
          }
        },
        "86e49c4f8fc1498eb9c61ef39478ec77": {
          "model_module": "@jupyter-widgets/controls",
          "model_name": "FloatProgressModel",
          "model_module_version": "1.5.0",
          "state": {
            "_dom_classes": [],
            "_model_module": "@jupyter-widgets/controls",
            "_model_module_version": "1.5.0",
            "_model_name": "FloatProgressModel",
            "_view_count": null,
            "_view_module": "@jupyter-widgets/controls",
            "_view_module_version": "1.5.0",
            "_view_name": "ProgressView",
            "bar_style": "success",
            "description": "",
            "description_tooltip": null,
            "layout": "IPY_MODEL_ff999c06bf8c4d48b26f7abec9011815",
            "max": 440449768,
            "min": 0,
            "orientation": "horizontal",
            "style": "IPY_MODEL_b6ff0de9e0af4f0d8931a32fa70bc69b",
            "value": 440449768
          }
        },
        "92b2c7c957b2411f84fb952e89bf5ca6": {
          "model_module": "@jupyter-widgets/controls",
          "model_name": "HTMLModel",
          "model_module_version": "1.5.0",
          "state": {
            "_dom_classes": [],
            "_model_module": "@jupyter-widgets/controls",
            "_model_module_version": "1.5.0",
            "_model_name": "HTMLModel",
            "_view_count": null,
            "_view_module": "@jupyter-widgets/controls",
            "_view_module_version": "1.5.0",
            "_view_name": "HTMLView",
            "description": "",
            "description_tooltip": null,
            "layout": "IPY_MODEL_15be6a44358e4f16b46b15fb23aba7d5",
            "placeholder": "​",
            "style": "IPY_MODEL_21115c90c71d4f8c90149dd790b2d3a1",
            "value": " 440M/440M [00:02&lt;00:00, 174MB/s]"
          }
        },
        "771dcbfbbb6c4a2dbc44855db9ee586f": {
          "model_module": "@jupyter-widgets/base",
          "model_name": "LayoutModel",
          "model_module_version": "1.2.0",
          "state": {
            "_model_module": "@jupyter-widgets/base",
            "_model_module_version": "1.2.0",
            "_model_name": "LayoutModel",
            "_view_count": null,
            "_view_module": "@jupyter-widgets/base",
            "_view_module_version": "1.2.0",
            "_view_name": "LayoutView",
            "align_content": null,
            "align_items": null,
            "align_self": null,
            "border": null,
            "bottom": null,
            "display": null,
            "flex": null,
            "flex_flow": null,
            "grid_area": null,
            "grid_auto_columns": null,
            "grid_auto_flow": null,
            "grid_auto_rows": null,
            "grid_column": null,
            "grid_gap": null,
            "grid_row": null,
            "grid_template_areas": null,
            "grid_template_columns": null,
            "grid_template_rows": null,
            "height": null,
            "justify_content": null,
            "justify_items": null,
            "left": null,
            "margin": null,
            "max_height": null,
            "max_width": null,
            "min_height": null,
            "min_width": null,
            "object_fit": null,
            "object_position": null,
            "order": null,
            "overflow": null,
            "overflow_x": null,
            "overflow_y": null,
            "padding": null,
            "right": null,
            "top": null,
            "visibility": null,
            "width": null
          }
        },
        "0c38a8b72a714880b8668aba6c95b107": {
          "model_module": "@jupyter-widgets/base",
          "model_name": "LayoutModel",
          "model_module_version": "1.2.0",
          "state": {
            "_model_module": "@jupyter-widgets/base",
            "_model_module_version": "1.2.0",
            "_model_name": "LayoutModel",
            "_view_count": null,
            "_view_module": "@jupyter-widgets/base",
            "_view_module_version": "1.2.0",
            "_view_name": "LayoutView",
            "align_content": null,
            "align_items": null,
            "align_self": null,
            "border": null,
            "bottom": null,
            "display": null,
            "flex": null,
            "flex_flow": null,
            "grid_area": null,
            "grid_auto_columns": null,
            "grid_auto_flow": null,
            "grid_auto_rows": null,
            "grid_column": null,
            "grid_gap": null,
            "grid_row": null,
            "grid_template_areas": null,
            "grid_template_columns": null,
            "grid_template_rows": null,
            "height": null,
            "justify_content": null,
            "justify_items": null,
            "left": null,
            "margin": null,
            "max_height": null,
            "max_width": null,
            "min_height": null,
            "min_width": null,
            "object_fit": null,
            "object_position": null,
            "order": null,
            "overflow": null,
            "overflow_x": null,
            "overflow_y": null,
            "padding": null,
            "right": null,
            "top": null,
            "visibility": null,
            "width": null
          }
        },
        "e6da6cad7c214468a12904993d8de8c2": {
          "model_module": "@jupyter-widgets/controls",
          "model_name": "DescriptionStyleModel",
          "model_module_version": "1.5.0",
          "state": {
            "_model_module": "@jupyter-widgets/controls",
            "_model_module_version": "1.5.0",
            "_model_name": "DescriptionStyleModel",
            "_view_count": null,
            "_view_module": "@jupyter-widgets/base",
            "_view_module_version": "1.2.0",
            "_view_name": "StyleView",
            "description_width": ""
          }
        },
        "ff999c06bf8c4d48b26f7abec9011815": {
          "model_module": "@jupyter-widgets/base",
          "model_name": "LayoutModel",
          "model_module_version": "1.2.0",
          "state": {
            "_model_module": "@jupyter-widgets/base",
            "_model_module_version": "1.2.0",
            "_model_name": "LayoutModel",
            "_view_count": null,
            "_view_module": "@jupyter-widgets/base",
            "_view_module_version": "1.2.0",
            "_view_name": "LayoutView",
            "align_content": null,
            "align_items": null,
            "align_self": null,
            "border": null,
            "bottom": null,
            "display": null,
            "flex": null,
            "flex_flow": null,
            "grid_area": null,
            "grid_auto_columns": null,
            "grid_auto_flow": null,
            "grid_auto_rows": null,
            "grid_column": null,
            "grid_gap": null,
            "grid_row": null,
            "grid_template_areas": null,
            "grid_template_columns": null,
            "grid_template_rows": null,
            "height": null,
            "justify_content": null,
            "justify_items": null,
            "left": null,
            "margin": null,
            "max_height": null,
            "max_width": null,
            "min_height": null,
            "min_width": null,
            "object_fit": null,
            "object_position": null,
            "order": null,
            "overflow": null,
            "overflow_x": null,
            "overflow_y": null,
            "padding": null,
            "right": null,
            "top": null,
            "visibility": null,
            "width": null
          }
        },
        "b6ff0de9e0af4f0d8931a32fa70bc69b": {
          "model_module": "@jupyter-widgets/controls",
          "model_name": "ProgressStyleModel",
          "model_module_version": "1.5.0",
          "state": {
            "_model_module": "@jupyter-widgets/controls",
            "_model_module_version": "1.5.0",
            "_model_name": "ProgressStyleModel",
            "_view_count": null,
            "_view_module": "@jupyter-widgets/base",
            "_view_module_version": "1.2.0",
            "_view_name": "StyleView",
            "bar_color": null,
            "description_width": ""
          }
        },
        "15be6a44358e4f16b46b15fb23aba7d5": {
          "model_module": "@jupyter-widgets/base",
          "model_name": "LayoutModel",
          "model_module_version": "1.2.0",
          "state": {
            "_model_module": "@jupyter-widgets/base",
            "_model_module_version": "1.2.0",
            "_model_name": "LayoutModel",
            "_view_count": null,
            "_view_module": "@jupyter-widgets/base",
            "_view_module_version": "1.2.0",
            "_view_name": "LayoutView",
            "align_content": null,
            "align_items": null,
            "align_self": null,
            "border": null,
            "bottom": null,
            "display": null,
            "flex": null,
            "flex_flow": null,
            "grid_area": null,
            "grid_auto_columns": null,
            "grid_auto_flow": null,
            "grid_auto_rows": null,
            "grid_column": null,
            "grid_gap": null,
            "grid_row": null,
            "grid_template_areas": null,
            "grid_template_columns": null,
            "grid_template_rows": null,
            "height": null,
            "justify_content": null,
            "justify_items": null,
            "left": null,
            "margin": null,
            "max_height": null,
            "max_width": null,
            "min_height": null,
            "min_width": null,
            "object_fit": null,
            "object_position": null,
            "order": null,
            "overflow": null,
            "overflow_x": null,
            "overflow_y": null,
            "padding": null,
            "right": null,
            "top": null,
            "visibility": null,
            "width": null
          }
        },
        "21115c90c71d4f8c90149dd790b2d3a1": {
          "model_module": "@jupyter-widgets/controls",
          "model_name": "DescriptionStyleModel",
          "model_module_version": "1.5.0",
          "state": {
            "_model_module": "@jupyter-widgets/controls",
            "_model_module_version": "1.5.0",
            "_model_name": "DescriptionStyleModel",
            "_view_count": null,
            "_view_module": "@jupyter-widgets/base",
            "_view_module_version": "1.2.0",
            "_view_name": "StyleView",
            "description_width": ""
          }
        }
      }
    }
  },
  "cells": [
    {
      "cell_type": "markdown",
      "source": [
        "# LLM Development Workshop: An Interactive Guide to Transformers\n",
        "\n",
        "# Introduction\n",
        "Welcome to this workshop on Large Language Model (LLM) development. This notebook is designed to help data scientists, especially those with a solid ML background but less exposure to LLMs and Generative AI, understand the core concepts of transformers in an interactive and intuitive way. We will explore fundamental building blocks such as embeddings, attention, and the transformer architecture, allowing you to not only learn but also experiment.\n",
        "\n",
        "## Agenda for this Workshop\n",
        "1. Overview of Transformers\n",
        "2. Understanding Embeddings\n",
        "3. Exploring Self-Attention\n",
        "4. Building Blocks of Transformer Architecture\n",
        "5. Putting It Together: End-to-End Example\n",
        "\n",
        "## 1. Overview of Transformers\n",
        "Transformers revolutionized natural language processing by enabling models to understand contextual relationships in text, independent of sequence length. They utilize mechanisms such as **attention** to focus on relevant parts of a sequence.\n",
        "\n",
        "We'll start by visualizing how transformer components work, including **tokenization**, **embeddings** and **attention**.\n",
        "\n",
        "### Required Libraries\n",
        "\n",
        "Ensure you have the following libraries installed:"
      ],
      "metadata": {
        "id": "EhCC-gN85JZK"
      }
    },
    {
      "cell_type": "markdown",
      "source": [
        "Install the required libraries, Numpy for Numerical computations, matplotlib for  Data visualisation, torch for Deep learning and tensor computations, transformersfor Pre-trained models for NLP and beyond. These libraries together can form the backbone of projects involving data processing, visualization, and machine learning"
      ],
      "metadata": {
        "id": "6o0NhjDqZ0DH"
      }
    },
    {
      "cell_type": "code",
      "source": [
        "!pip install numpy matplotlib torch transformers"
      ],
      "metadata": {
        "colab": {
          "base_uri": "https://localhost:8080/"
        },
        "collapsed": true,
        "id": "uIMyw0C9BDMi",
        "outputId": "6133251f-0e13-46b4-928e-693054c64632"
      },
      "execution_count": 1,
      "outputs": [
        {
          "output_type": "stream",
          "name": "stdout",
          "text": [
            "Requirement already satisfied: numpy in /usr/local/lib/python3.10/dist-packages (1.26.4)\n",
            "Requirement already satisfied: matplotlib in /usr/local/lib/python3.10/dist-packages (3.8.0)\n",
            "Requirement already satisfied: torch in /usr/local/lib/python3.10/dist-packages (2.5.1+cu121)\n",
            "Requirement already satisfied: transformers in /usr/local/lib/python3.10/dist-packages (4.46.3)\n",
            "Requirement already satisfied: contourpy>=1.0.1 in /usr/local/lib/python3.10/dist-packages (from matplotlib) (1.3.1)\n",
            "Requirement already satisfied: cycler>=0.10 in /usr/local/lib/python3.10/dist-packages (from matplotlib) (0.12.1)\n",
            "Requirement already satisfied: fonttools>=4.22.0 in /usr/local/lib/python3.10/dist-packages (from matplotlib) (4.55.1)\n",
            "Requirement already satisfied: kiwisolver>=1.0.1 in /usr/local/lib/python3.10/dist-packages (from matplotlib) (1.4.7)\n",
            "Requirement already satisfied: packaging>=20.0 in /usr/local/lib/python3.10/dist-packages (from matplotlib) (24.2)\n",
            "Requirement already satisfied: pillow>=6.2.0 in /usr/local/lib/python3.10/dist-packages (from matplotlib) (11.0.0)\n",
            "Requirement already satisfied: pyparsing>=2.3.1 in /usr/local/lib/python3.10/dist-packages (from matplotlib) (3.2.0)\n",
            "Requirement already satisfied: python-dateutil>=2.7 in /usr/local/lib/python3.10/dist-packages (from matplotlib) (2.8.2)\n",
            "Requirement already satisfied: filelock in /usr/local/lib/python3.10/dist-packages (from torch) (3.16.1)\n",
            "Requirement already satisfied: typing-extensions>=4.8.0 in /usr/local/lib/python3.10/dist-packages (from torch) (4.12.2)\n",
            "Requirement already satisfied: networkx in /usr/local/lib/python3.10/dist-packages (from torch) (3.4.2)\n",
            "Requirement already satisfied: jinja2 in /usr/local/lib/python3.10/dist-packages (from torch) (3.1.4)\n",
            "Requirement already satisfied: fsspec in /usr/local/lib/python3.10/dist-packages (from torch) (2024.10.0)\n",
            "Requirement already satisfied: sympy==1.13.1 in /usr/local/lib/python3.10/dist-packages (from torch) (1.13.1)\n",
            "Requirement already satisfied: mpmath<1.4,>=1.1.0 in /usr/local/lib/python3.10/dist-packages (from sympy==1.13.1->torch) (1.3.0)\n",
            "Requirement already satisfied: huggingface-hub<1.0,>=0.23.2 in /usr/local/lib/python3.10/dist-packages (from transformers) (0.26.3)\n",
            "Requirement already satisfied: pyyaml>=5.1 in /usr/local/lib/python3.10/dist-packages (from transformers) (6.0.2)\n",
            "Requirement already satisfied: regex!=2019.12.17 in /usr/local/lib/python3.10/dist-packages (from transformers) (2024.9.11)\n",
            "Requirement already satisfied: requests in /usr/local/lib/python3.10/dist-packages (from transformers) (2.32.3)\n",
            "Requirement already satisfied: tokenizers<0.21,>=0.20 in /usr/local/lib/python3.10/dist-packages (from transformers) (0.20.3)\n",
            "Requirement already satisfied: safetensors>=0.4.1 in /usr/local/lib/python3.10/dist-packages (from transformers) (0.4.5)\n",
            "Requirement already satisfied: tqdm>=4.27 in /usr/local/lib/python3.10/dist-packages (from transformers) (4.66.6)\n",
            "Requirement already satisfied: six>=1.5 in /usr/local/lib/python3.10/dist-packages (from python-dateutil>=2.7->matplotlib) (1.16.0)\n",
            "Requirement already satisfied: MarkupSafe>=2.0 in /usr/local/lib/python3.10/dist-packages (from jinja2->torch) (3.0.2)\n",
            "Requirement already satisfied: charset-normalizer<4,>=2 in /usr/local/lib/python3.10/dist-packages (from requests->transformers) (3.4.0)\n",
            "Requirement already satisfied: idna<4,>=2.5 in /usr/local/lib/python3.10/dist-packages (from requests->transformers) (3.10)\n",
            "Requirement already satisfied: urllib3<3,>=1.21.1 in /usr/local/lib/python3.10/dist-packages (from requests->transformers) (2.2.3)\n",
            "Requirement already satisfied: certifi>=2017.4.17 in /usr/local/lib/python3.10/dist-packages (from requests->transformers) (2024.8.30)\n"
          ]
        }
      ]
    },
    {
      "cell_type": "markdown",
      "source": [
        "The below libraries are imported and numpy will be used to work with arrays, matrices, and mathematical operations in a concise way. Matplotlib to create plots, graphs, and other visualizations using plt. Torch to work with tensors, build neural networks, and utilize GPU acceleration.Functional to offers flexibility when defining custom neural networks or directly applying operations. AutoTokenizer, AutoModel to simplifies the process of using pre-trained models for tasks like text classification, summarization, etc."
      ],
      "metadata": {
        "id": "Z_DOwnvFbHLW"
      }
    },
    {
      "cell_type": "code",
      "source": [
        "import numpy as np\n",
        "import matplotlib.pyplot as plt\n",
        "import torch\n",
        "import torch.nn.functional as F\n",
        "from transformers import AutoTokenizer, AutoModel"
      ],
      "metadata": {
        "id": "orRt3noxBIQv"
      },
      "execution_count": 3,
      "outputs": []
    },
    {
      "cell_type": "markdown",
      "source": [
        "## 2. Understanding Tokens and Embeddings\n",
        "\n",
        "### Overview of Tokenization\n",
        "**Tokenization** is the process of breaking down a sentence or text into smaller components called **tokens**. In natural language processing, these tokens can be words, subwords, or characters, depending on the tokenizer used.\n",
        "\n",
        "In transformers, tokenization is a crucial first step because models cannot directly interpret text; they require numerical representations. Tokenizers like the one from Hugging Face's `transformers` library convert raw text into a sequence of token IDs, which correspond to vocabulary entries in the model. This sequence of token IDs is then used to create embeddings that are fed into the transformer network.\n",
        "\n",
        "There are different types of tokenizers, such as **WordPiece**, **Byte-Pair Encoding (BPE)**, and **SentencePiece**, each with its own way of breaking down text to balance vocabulary size and representation granularity.\n",
        "\n",
        "Tokenization ensures that meaningful parts of the text are captured and allows the transformer model to efficiently learn from them.\n",
        "\n",
        "Word embeddings represent text in a continuous vector space, enabling numerical manipulation and similarity measures.\n",
        "\n",
        "Let's look at how a tokenizer and embeddings are generated using Hugging Face:"
      ],
      "metadata": {
        "id": "VgU37-jzBOJC"
      }
    },
    {
      "cell_type": "markdown",
      "source": [
        "AutoTokenizer processes the text into model-compatible inputs.\n",
        "AutoModel processes the tokenized inputs to generate outputs like embeddings or hidden states.\n",
        "The line inputs = tokenizer(text, return_tensors='pt') prepares the text to be passed into the model."
      ],
      "metadata": {
        "id": "jB40qurjgDA4"
      }
    },
    {
      "cell_type": "code",
      "source": [
        "model_name = \"bert-base-uncased\"\n",
        "tokenizer = AutoTokenizer.from_pretrained(model_name)\n",
        "model = AutoModel.from_pretrained(model_name)\n",
        "\n",
        "# Input Text\n",
        "text = \"Transformers are wonderful, ground-breaking models.\"\n",
        "inputs = tokenizer(text, return_tensors='pt')"
      ],
      "metadata": {
        "colab": {
          "base_uri": "https://localhost:8080/",
          "height": 281,
          "referenced_widgets": [
            "4228fc6de09b4794ae55d6804c166cc7",
            "7111dc8a62e045f5bf1fe1305ed789a2",
            "3ac7092dab2b4d17bbd938e392b7ad7a",
            "e2f577be16d84caf8b82f55622122aa0",
            "bfcc2cdb88a2483ba9835aaf137568e6",
            "37f62b2e77a043768fb64ec8d0b5b773",
            "4f24653be3784424956ef74b054f5fc1",
            "896e328b227140cb986b17bcc72bff73",
            "eaba1aeb34cd498ba60ec88997686c36",
            "1bc4a3f61db043dfb6edea93febf134f",
            "a39d8f2bde7c4671b45570da2383bb15",
            "a2821a680e77452dbe9ff548ff798be3",
            "74393fe022c54b828e5fec7c43d691d5",
            "45a57a9d09f041ceac2f892eac2d69f6",
            "0ab5be138ee04d379ccf8e3e812004e6",
            "5b16b875409a41159f64a4f2a0328a9c",
            "e6787fba702b43c58053f21cef9cd740",
            "e419b68854e24cafb006fee0267dfe94",
            "67e5aa20889145aabd7b8762c267668b",
            "b10fd5e146b545fa9b06616a279aa89b",
            "d47c18116b52408b93a6938311970b20",
            "716f75b8120e452b841e8e4cfeadfae2",
            "3cf3c1289e974380a72ebbba3fe8ce34",
            "16b61c4406fd4dee8e96fb372035e094",
            "d9a1e3cbdac547a9b942f50da71f6131",
            "dd851667ef024fe7ac994f89295ad95a",
            "52877b71d0fb43fb8842865ce7b861e6",
            "dc82cffdc72648c891ab153efbbd7f17",
            "cb479602596d411384776654a7380a2e",
            "8eb499abac5a450186bce54fee0da0f7",
            "b6606aa3019a465994ccda948732225d",
            "27e557df1de34c5e9841745ed6474201",
            "9e6a200b9da546b5b14e6e8192136785",
            "f74fcdc1184348d1b2127119c68a6de5",
            "33ffe84a6b31471e9bc29e9fb35c7ee5",
            "cb1e04442922430586f796ef39234996",
            "2ba18985378d47a7926032f0c41ee1b8",
            "b5677fa4ee8a49909f4192d9936bc00c",
            "70ea860149e647379fb005ec33ac9f5e",
            "f33ea3491d644fba8ee731d43497fdab",
            "34aa286ce55148939413e898beb58d70",
            "ac27e094cfcb4d0aa08d5a82077c6942",
            "9eb736455c7045dcb3fa293e4422979d",
            "dea5b6492d6542e3895793f89d488160",
            "4554b2ae0e7440819d2ea77e16b7c9f1",
            "8044452713ca42d68e3864b65466c502",
            "86e49c4f8fc1498eb9c61ef39478ec77",
            "92b2c7c957b2411f84fb952e89bf5ca6",
            "771dcbfbbb6c4a2dbc44855db9ee586f",
            "0c38a8b72a714880b8668aba6c95b107",
            "e6da6cad7c214468a12904993d8de8c2",
            "ff999c06bf8c4d48b26f7abec9011815",
            "b6ff0de9e0af4f0d8931a32fa70bc69b",
            "15be6a44358e4f16b46b15fb23aba7d5",
            "21115c90c71d4f8c90149dd790b2d3a1"
          ]
        },
        "id": "yBPyH3QkfTKZ",
        "outputId": "225255cc-4374-49d3-b406-c853ca44eaaa"
      },
      "execution_count": 4,
      "outputs": [
        {
          "output_type": "stream",
          "name": "stderr",
          "text": [
            "/usr/local/lib/python3.10/dist-packages/huggingface_hub/utils/_auth.py:94: UserWarning: \n",
            "The secret `HF_TOKEN` does not exist in your Colab secrets.\n",
            "To authenticate with the Hugging Face Hub, create a token in your settings tab (https://huggingface.co/settings/tokens), set it as secret in your Google Colab and restart your session.\n",
            "You will be able to reuse this secret in all of your notebooks.\n",
            "Please note that authentication is recommended but still optional to access public models or datasets.\n",
            "  warnings.warn(\n"
          ]
        },
        {
          "output_type": "display_data",
          "data": {
            "text/plain": [
              "tokenizer_config.json:   0%|          | 0.00/48.0 [00:00<?, ?B/s]"
            ],
            "application/vnd.jupyter.widget-view+json": {
              "version_major": 2,
              "version_minor": 0,
              "model_id": "4228fc6de09b4794ae55d6804c166cc7"
            }
          },
          "metadata": {}
        },
        {
          "output_type": "display_data",
          "data": {
            "text/plain": [
              "config.json:   0%|          | 0.00/570 [00:00<?, ?B/s]"
            ],
            "application/vnd.jupyter.widget-view+json": {
              "version_major": 2,
              "version_minor": 0,
              "model_id": "a2821a680e77452dbe9ff548ff798be3"
            }
          },
          "metadata": {}
        },
        {
          "output_type": "display_data",
          "data": {
            "text/plain": [
              "vocab.txt:   0%|          | 0.00/232k [00:00<?, ?B/s]"
            ],
            "application/vnd.jupyter.widget-view+json": {
              "version_major": 2,
              "version_minor": 0,
              "model_id": "3cf3c1289e974380a72ebbba3fe8ce34"
            }
          },
          "metadata": {}
        },
        {
          "output_type": "display_data",
          "data": {
            "text/plain": [
              "tokenizer.json:   0%|          | 0.00/466k [00:00<?, ?B/s]"
            ],
            "application/vnd.jupyter.widget-view+json": {
              "version_major": 2,
              "version_minor": 0,
              "model_id": "f74fcdc1184348d1b2127119c68a6de5"
            }
          },
          "metadata": {}
        },
        {
          "output_type": "display_data",
          "data": {
            "text/plain": [
              "model.safetensors:   0%|          | 0.00/440M [00:00<?, ?B/s]"
            ],
            "application/vnd.jupyter.widget-view+json": {
              "version_major": 2,
              "version_minor": 0,
              "model_id": "4554b2ae0e7440819d2ea77e16b7c9f1"
            }
          },
          "metadata": {}
        }
      ]
    },
    {
      "cell_type": "markdown",
      "source": [
        "Prepare Text for a BERT Model: Converts raw text into tokenized IDs and attention masks that the BERT model can process.\n",
        "Ready for Model Inference: The inputs dictionary (input_ids and attention_mask) can now be passed to the BERT model for inference."
      ],
      "metadata": {
        "id": "DivIj6v0gXRi"
      }
    },
    {
      "cell_type": "code",
      "source": [
        "model_name = \"bert-base-uncased\"\n",
        "tokenizer = AutoTokenizer.from_pretrained(model_name)\n",
        "model = AutoModel.from_pretrained(model_name)\n",
        "\n",
        "# Input Text\n",
        "text = \"Transformers are wonderful, ground-breaking models.\"\n",
        "inputs = tokenizer(text, return_tensors='pt')"
      ],
      "metadata": {
        "id": "ZfMkzqa7C8o3"
      },
      "execution_count": 5,
      "outputs": []
    },
    {
      "cell_type": "markdown",
      "source": [
        "Below code demonstrate how raw text is tokenized and mapped into numerical token IDs using a pre-trained tokenizer. This process is a crucial step in preparing text data for input into a transformer model like BERT, ensuring the model can process and understand the text in its numerical format."
      ],
      "metadata": {
        "id": "0Utv3gacgWTo"
      }
    },
    {
      "cell_type": "code",
      "source": [
        "print(\"We've mapped:\", text)\n",
        "print(\"To the following token IDs:\", inputs['input_ids'])"
      ],
      "metadata": {
        "colab": {
          "base_uri": "https://localhost:8080/"
        },
        "id": "fg1PtHb9Dhv7",
        "outputId": "d302984a-eed7-4c1d-ba9c-910793377ac5"
      },
      "execution_count": 6,
      "outputs": [
        {
          "output_type": "stream",
          "name": "stdout",
          "text": [
            "We've mapped: Transformers are wonderful, ground-breaking models.\n",
            "To the following token IDs: tensor([[  101, 19081,  2024,  6919,  1010,  2598,  1011,  4911,  4275,  1012,\n",
            "           102]])\n"
          ]
        }
      ]
    },
    {
      "cell_type": "markdown",
      "source": [
        "Below is to reverse the tokenization process and show how each token ID corresponds to its original token (word or subword) in the input text. This is useful for debugging and understanding how text is tokenized and processed by the model."
      ],
      "metadata": {
        "id": "NDFtcLoOg4Tl"
      }
    },
    {
      "cell_type": "code",
      "source": [
        "# what if we map them back?\n",
        "for token_id in inputs['input_ids'][0]:\n",
        "    print(f\"From: {token_id} To: {tokenizer.decode(token_id)}\")"
      ],
      "metadata": {
        "colab": {
          "base_uri": "https://localhost:8080/"
        },
        "id": "93mO3zmjEuCK",
        "outputId": "188e3585-30a0-45b3-e83d-c6cecb788ad6"
      },
      "execution_count": 7,
      "outputs": [
        {
          "output_type": "stream",
          "name": "stdout",
          "text": [
            "From: 101 To: [CLS]\n",
            "From: 19081 To: transformers\n",
            "From: 2024 To: are\n",
            "From: 6919 To: wonderful\n",
            "From: 1010 To: ,\n",
            "From: 2598 To: ground\n",
            "From: 1011 To: -\n",
            "From: 4911 To: breaking\n",
            "From: 4275 To: models\n",
            "From: 1012 To: .\n",
            "From: 102 To: [SEP]\n"
          ]
        }
      ]
    },
    {
      "cell_type": "markdown",
      "source": [
        "FYI: A **Torch Tensor** is a data structure that represents a multi-dimensional array, similar to numpy arrays, but with the added capability to run computations on **GPUs**. This makes it highly efficient for deep learning tasks where fast, large-scale operations are required. Tensors can be used to store numerical data and perform a variety of operations such as matrix multiplication, element-wise functions, and much more.\n",
        "\n",
        "Unlike other number representations, Torch Tensors provide:\n",
        "- **Automatic differentiation**: Tensors in PyTorch can track operations, which makes them very useful for backpropagation when training neural networks.\n",
        "- **Device flexibility**: Tensors can seamlessly move between CPUs and GPUs, allowing for flexible use of computational resources."
      ],
      "metadata": {
        "id": "_WQ7a7rxECAN"
      }
    },
    {
      "cell_type": "markdown",
      "source": [
        "Below code shows how to check if a CUDA-compatible GPU is available for use with PyTorch. This is important because using a GPU can significantly accelerate computations, especially for tasks like training deep learning models, where the processing power of a CPU may not be sufficient for large datasets or complex models."
      ],
      "metadata": {
        "id": "s26U3UsfhMaS"
      }
    },
    {
      "cell_type": "code",
      "source": [
        "# Show whether GPU's are available\n",
        "torch.cuda.is_available()"
      ],
      "metadata": {
        "colab": {
          "base_uri": "https://localhost:8080/"
        },
        "id": "QMbRLq_-EIZl",
        "outputId": "4bdc5c23-6176-43de-ede6-11e087ea808b"
      },
      "execution_count": 8,
      "outputs": [
        {
          "output_type": "execute_result",
          "data": {
            "text/plain": [
              "False"
            ]
          },
          "metadata": {},
          "execution_count": 8
        }
      ]
    },
    {
      "cell_type": "markdown",
      "source": [
        "Below code shows how to check how many CUDA-compatible GPUs are available on your system for use with PyTorch"
      ],
      "metadata": {
        "id": "BgZU88NqhgTA"
      }
    },
    {
      "cell_type": "code",
      "source": [
        "# Show available devices\n",
        "torch.cuda.device_count()"
      ],
      "metadata": {
        "colab": {
          "base_uri": "https://localhost:8080/"
        },
        "id": "Lovh1_xXET_K",
        "outputId": "4d7ff6dc-437c-4f3e-bc39-bf6a925f849d"
      },
      "execution_count": 9,
      "outputs": [
        {
          "output_type": "execute_result",
          "data": {
            "text/plain": [
              "0"
            ]
          },
          "metadata": {},
          "execution_count": 9
        }
      ]
    },
    {
      "cell_type": "markdown",
      "source": [
        "If we have GPU's, we can move computations between devices for efficiency\n",
        "```python\n",
        "# move my tokens to gpu\n",
        "inputs['input_ids'] = inputs['input_ids'].to('cuda')\n",
        "print(inputs)\n",
        "\n",
        "# now move them back to cpu\n",
        "inputs['input_ids'] = inputs['input_ids'].to('cpu')\n",
        "print(inputs)\n",
        "```"
      ],
      "metadata": {
        "id": "G0ojER83F2eh"
      }
    },
    {
      "cell_type": "markdown",
      "source": [
        "### Overview of Embeddings\n",
        "Embeddings are a fundamental part of transformer models. Essentially, an **embedding** is a way of converting words (or tokens) into a fixed-length vector of numbers that captures the semantic meaning of the word. By mapping tokens into continuous vector space, embeddings allow the model to effectively understand and manipulate words as mathematical entities.\n",
        "\n",
        "These vectors are learned during model training such that similar words in the input space have similar vector representations. For example, in a good embedding space, words like \"cat\" and \"dog\" would be closer to each other than to a word like \"car\" because they are semantically more related.\n",
        "\n",
        "In transformers, embeddings serve as the first layer that converts raw token IDs into a vector form, allowing the attention mechanism and other layers to operate on meaningful numerical representations of words."
      ],
      "metadata": {
        "id": "M394jZdBGxom"
      }
    },
    {
      "cell_type": "code",
      "source": [
        "inputs"
      ],
      "metadata": {
        "colab": {
          "base_uri": "https://localhost:8080/"
        },
        "id": "Kf3Of9bygvv3",
        "outputId": "a6f0b81f-e392-46bf-c196-0b72eb2104f7"
      },
      "execution_count": 10,
      "outputs": [
        {
          "output_type": "execute_result",
          "data": {
            "text/plain": [
              "{'input_ids': tensor([[  101, 19081,  2024,  6919,  1010,  2598,  1011,  4911,  4275,  1012,\n",
              "           102]]), 'token_type_ids': tensor([[0, 0, 0, 0, 0, 0, 0, 0, 0, 0, 0]]), 'attention_mask': tensor([[1, 1, 1, 1, 1, 1, 1, 1, 1, 1, 1]])}"
            ]
          },
          "metadata": {},
          "execution_count": 10
        }
      ]
    },
    {
      "cell_type": "code",
      "source": [
        "text"
      ],
      "metadata": {
        "colab": {
          "base_uri": "https://localhost:8080/",
          "height": 35
        },
        "id": "-kUO_uSGgz4E",
        "outputId": "fe2ad3d9-2c3d-42de-a8d6-a1c2bb057f72"
      },
      "execution_count": 11,
      "outputs": [
        {
          "output_type": "execute_result",
          "data": {
            "text/plain": [
              "'Transformers are wonderful, ground-breaking models.'"
            ],
            "application/vnd.google.colaboratory.intrinsic+json": {
              "type": "string"
            }
          },
          "metadata": {},
          "execution_count": 11
        }
      ]
    },
    {
      "cell_type": "markdown",
      "source": [
        "Below code is used to extracts token embeddings from a pre-trained BERT model, demonstrating how to obtain the model's output without updating the model's weights during inference"
      ],
      "metadata": {
        "id": "VHiJU7JPh6Kd"
      }
    },
    {
      "cell_type": "code",
      "source": [
        "# Extract embeddings\n",
        "with torch.no_grad():\n",
        "    outputs = model(**inputs)\n",
        "\n",
        "# Get token embeddings\n",
        "embeddings = outputs.last_hidden_state\n",
        "print(f\"Shape of inputs: {inputs['input_ids'].shape}\")\n",
        "print(f\"Shape of embeddings: {embeddings.shape}\")"
      ],
      "metadata": {
        "colab": {
          "base_uri": "https://localhost:8080/"
        },
        "id": "4TdJHguLBRc5",
        "outputId": "efa17e6e-1968-44b9-bfa4-c7bb81070e1f"
      },
      "execution_count": 12,
      "outputs": [
        {
          "output_type": "stream",
          "name": "stdout",
          "text": [
            "Shape of inputs: torch.Size([1, 11])\n",
            "Shape of embeddings: torch.Size([1, 11, 768])\n"
          ]
        }
      ]
    },
    {
      "cell_type": "markdown",
      "source": [
        "code below returns the shape of the tensor containing the token IDs from the input text"
      ],
      "metadata": {
        "id": "1jtlIw6biM8c"
      }
    },
    {
      "cell_type": "code",
      "source": [
        "inputs['input_ids'].shape"
      ],
      "metadata": {
        "colab": {
          "base_uri": "https://localhost:8080/"
        },
        "id": "fQ5uSNMWg8Bo",
        "outputId": "df1071d1-a880-4a69-c43a-c291d1b10f8a"
      },
      "execution_count": 13,
      "outputs": [
        {
          "output_type": "execute_result",
          "data": {
            "text/plain": [
              "torch.Size([1, 11])"
            ]
          },
          "metadata": {},
          "execution_count": 13
        }
      ]
    },
    {
      "cell_type": "markdown",
      "source": [
        "The below code is designed to explore how the tokenizer decodes a token ID back to a word and how the token embeddings (numerical representations) are structured in the BERT model"
      ],
      "metadata": {
        "id": "JeYjnptSib_T"
      }
    },
    {
      "cell_type": "code",
      "source": [
        "print(\"This word:\", tokenizer.decode(inputs['input_ids'][0][1]))\n",
        "print(\"Maps a token with ID:\", inputs['input_ids'][0][1])\n",
        "print(\"Which maps to an embedding of shape:\", embeddings[:,1,:].shape)\n",
        "\n",
        "print(\"With the following values:\")\n",
        "embeddings[:,0,:]"
      ],
      "metadata": {
        "colab": {
          "base_uri": "https://localhost:8080/"
        },
        "id": "_KyugqC4HHqD",
        "outputId": "c592adc4-0e41-457b-b63a-9e5b07186912"
      },
      "execution_count": 14,
      "outputs": [
        {
          "output_type": "stream",
          "name": "stdout",
          "text": [
            "This word: transformers\n",
            "Maps a token with ID: tensor(19081)\n",
            "Which maps to an embedding of shape: torch.Size([1, 768])\n",
            "With the following values:\n"
          ]
        },
        {
          "output_type": "execute_result",
          "data": {
            "text/plain": [
              "tensor([[-1.1003e-01,  4.7221e-02,  8.1994e-02,  2.1200e-01, -2.3339e-01,\n",
              "         -5.0149e-01, -5.0470e-02,  6.4227e-01,  9.2679e-02, -2.7205e-01,\n",
              "          3.7710e-01,  2.2587e-01,  1.0833e-01,  4.9684e-01,  1.7173e-01,\n",
              "          6.1047e-02, -1.3497e-01,  7.6417e-01,  4.4787e-01,  2.6572e-02,\n",
              "         -3.3130e-01, -3.2338e-01,  2.6717e-01,  8.8687e-02, -1.4587e-01,\n",
              "         -5.9743e-01, -1.6971e-01, -2.0841e-01, -2.2184e-01,  4.8352e-01,\n",
              "         -3.8721e-01,  4.2427e-01, -5.3691e-01, -6.1065e-01,  3.7590e-01,\n",
              "         -7.6415e-02,  1.9237e-01, -1.2533e-01, -1.1953e-01, -3.4416e-01,\n",
              "         -2.4359e-01,  4.0304e-02,  1.2380e-01, -6.0410e-02, -4.8525e-01,\n",
              "         -4.4805e-01, -3.7857e+00, -4.1603e-02, -1.9922e-01, -1.5242e-01,\n",
              "          6.0483e-02, -2.1727e-01, -3.9926e-02,  5.8130e-01,  3.5395e-01,\n",
              "          6.0360e-01, -3.4050e-01,  4.5302e-01,  4.1498e-02,  1.0393e-01,\n",
              "          1.9620e-01,  2.7386e-01, -2.4662e-01, -1.2668e-01, -1.6268e-02,\n",
              "          1.9049e-01,  2.6482e-01,  3.5531e-01, -1.2758e-01,  3.4924e-01,\n",
              "         -5.6123e-01, -2.2905e-01,  2.8755e-01, -4.7185e-01,  1.6976e-02,\n",
              "          5.3009e-03, -2.6726e-01,  2.3610e-01, -9.9634e-02, -3.1221e-01,\n",
              "          3.7165e-01,  7.7080e-01,  1.6752e-01, -1.1316e-01, -5.8533e-04,\n",
              "          9.0985e-01, -6.0033e-02, -4.5974e-01,  1.2652e-01,  3.1388e-01,\n",
              "         -4.7053e-01, -5.8044e-02,  7.5883e-02,  7.2123e-01,  2.5155e-01,\n",
              "         -5.2972e-02,  2.4446e-01, -4.4944e-01, -2.8730e-01,  3.4316e-01,\n",
              "          4.2307e-01, -1.3764e-01,  1.6277e-01, -7.6450e-01,  2.2537e-01,\n",
              "          2.2536e-01, -1.6239e-01, -5.3631e-01,  3.8897e-01, -2.4634e+00,\n",
              "          3.7044e-01, -1.7970e-02, -1.5384e-01, -1.2878e-01, -2.4457e-01,\n",
              "          4.2308e-01,  4.6981e-01, -4.3167e-01,  4.3199e-01, -1.0312e-01,\n",
              "          1.3033e-01, -1.2549e-02, -3.8596e-01,  2.9217e-02, -4.4036e-01,\n",
              "         -1.5193e-01,  5.5114e-02,  1.9205e-01,  1.9992e-01,  2.9491e-01,\n",
              "          4.4985e-01,  6.3079e-01, -6.3463e-02, -2.1076e-01,  1.2345e-02,\n",
              "         -2.4988e-02,  6.1659e-01, -1.3540e-01, -2.3071e-01,  5.0995e-02,\n",
              "         -4.6310e-01, -2.5515e-01, -2.4291e+00, -5.1363e-02,  3.3075e-01,\n",
              "         -1.0100e-01, -2.5029e-01, -4.7591e-02,  1.4552e-01, -2.9373e-01,\n",
              "          1.1986e-01,  2.5929e-01, -3.3635e-01,  5.4026e-02,  8.9137e-02,\n",
              "         -1.4971e-01, -1.6008e-01, -1.1273e-01,  7.4297e-01,  6.0401e-01,\n",
              "         -4.3046e-01, -3.6217e-01,  2.8647e-01, -2.3012e-01, -9.9477e-01,\n",
              "          2.1533e-01,  9.1730e-01,  3.8564e-01,  4.9515e-02,  1.4187e-01,\n",
              "         -1.2351e-02,  5.0697e-01,  7.6794e-01,  3.9669e-01,  1.7693e-01,\n",
              "         -2.4741e-02,  2.1744e-01,  4.4908e-01,  2.9416e-01,  9.4864e-02,\n",
              "         -3.1842e-01,  6.8619e-01,  3.5715e-01, -1.8783e-02,  8.7493e-01,\n",
              "         -2.8706e-01,  4.2127e-01, -2.8158e-01, -4.0166e-01,  8.2237e-02,\n",
              "         -2.4680e-01, -5.7685e-01,  1.7558e-01, -1.7027e-01,  5.1218e-01,\n",
              "         -7.4957e-02,  4.9787e-01, -5.9605e-01,  1.7748e-01,  2.9464e-01,\n",
              "         -9.6188e-02,  1.6186e-01, -4.7443e-01,  6.6439e-02, -4.6320e-01,\n",
              "          4.1171e+00,  1.8777e-01, -1.7087e-01,  1.9649e-02, -4.4782e-01,\n",
              "         -2.5283e-01, -9.3894e-02, -2.7386e-01, -3.5031e-01, -4.8334e-01,\n",
              "          1.6260e-02,  1.1745e-01, -1.7938e-01, -2.1202e-01, -4.0231e-01,\n",
              "          3.1251e-01,  5.5391e-01, -3.6978e-01,  1.8029e-01, -1.8138e-01,\n",
              "         -7.5593e-02, -3.8399e-01,  3.1102e-01, -8.6530e-02, -1.1841e+00,\n",
              "         -2.3878e-01, -1.6074e-01, -6.9668e-01,  3.8802e-01, -7.0931e-02,\n",
              "         -1.4823e-01, -2.9739e-01, -2.3445e-01,  2.2071e-01, -2.6259e-01,\n",
              "         -2.7949e-01,  1.6986e-01, -2.0529e-01,  2.7960e-01, -4.4497e-02,\n",
              "          1.1550e-01,  2.6128e-01, -3.4012e-01,  4.0490e-01, -3.2574e-01,\n",
              "          1.2534e-01,  2.4108e-02,  3.1979e-01, -1.7796e-01, -4.8562e-02,\n",
              "          9.0745e-02, -1.0375e-01,  1.5559e-01, -1.3582e-01, -3.4293e-01,\n",
              "          1.9696e-01, -4.8651e-01,  9.6828e-02,  1.6715e-02, -6.5551e-01,\n",
              "         -9.1475e-01,  4.9475e-01, -2.8749e-01,  6.6372e-02, -5.0809e-01,\n",
              "          2.1346e-03,  3.9729e-02, -1.9923e-01, -3.4461e+00,  2.3835e-02,\n",
              "         -2.1967e-01,  2.1220e-01,  1.4834e-01, -3.6290e-01,  1.2041e-01,\n",
              "          3.2683e-01,  4.3638e-01, -6.8845e-01,  2.2528e-01,  4.4458e-02,\n",
              "          9.3068e-02,  3.0752e-01, -5.5407e-01,  3.5931e-01,  1.7111e-01,\n",
              "         -2.8933e-01, -4.4550e-01, -2.8114e-01,  1.0767e-02,  1.6413e-02,\n",
              "         -1.5162e-01,  3.0975e-01,  6.5043e-02, -1.8591e-01, -4.1651e-01,\n",
              "         -5.8203e-01, -2.1777e-01,  2.0271e-01,  1.4341e-01, -1.4709e-01,\n",
              "         -1.4474e-01,  1.3629e-01, -1.5891e-01, -2.2382e+00,  1.2533e-01,\n",
              "         -4.7031e-01, -3.3065e-01, -2.5543e-02,  7.3128e-02,  3.4044e-01,\n",
              "         -5.7236e-02, -5.8816e-01,  2.4621e-02,  4.6141e-01,  4.6030e-02,\n",
              "          1.6699e-02,  1.3518e-01,  5.7606e-01,  4.0948e-02,  8.6656e-01,\n",
              "         -2.7185e-01,  1.2905e-01,  3.6731e-01, -3.4184e-02, -1.6048e-01,\n",
              "          3.0372e-01, -2.3530e-01,  6.3289e-01,  3.0239e-01, -9.8446e-01,\n",
              "         -2.9592e-01, -1.2332e-01,  2.5748e-01, -8.8386e-02, -4.2076e-01,\n",
              "          8.9551e-02, -4.1609e-02, -3.2876e-01, -5.0437e-01,  2.2720e-01,\n",
              "          1.0887e-01,  2.6057e-01, -3.2036e-02,  1.0754e-01,  6.3697e-01,\n",
              "          7.2139e-02,  6.2381e-01,  9.2667e-01,  5.7995e-02,  1.9789e-01,\n",
              "          3.3081e-01, -8.9488e-02,  1.0641e-01,  3.9859e-01,  3.0305e-01,\n",
              "          1.6442e+00, -2.0944e-01, -1.2827e-01, -4.4534e-02,  5.2987e-01,\n",
              "          3.5006e-03,  3.0735e-01,  2.3925e-01,  7.9526e-01, -4.4768e-01,\n",
              "          3.1060e-01,  1.5694e-01,  1.1123e-01, -3.9290e-01,  1.0933e-01,\n",
              "         -3.5841e-01,  2.3061e-01,  1.8386e-01,  2.0450e-02,  5.6886e-01,\n",
              "         -7.4382e-01, -1.2432e+00,  2.6874e-01,  3.0022e-02, -1.4205e-01,\n",
              "         -1.3579e-01,  4.0231e-01, -7.2651e-02, -4.8923e-01, -2.7980e-01,\n",
              "         -5.3659e-01,  4.1025e-02, -2.3517e-01, -2.9482e-01,  5.6723e-03,\n",
              "          5.6472e-02, -2.1698e-01, -3.5130e-01, -2.2020e-01,  4.1799e-02,\n",
              "          4.4881e-01, -2.5272e-02,  1.2942e-01,  2.0507e-01,  9.2589e-02,\n",
              "         -5.6208e-01,  2.6163e-01, -3.7699e-01, -5.1459e-01, -8.3261e-03,\n",
              "         -3.3652e-01,  4.4009e-01, -2.0566e-01, -2.6772e-01, -8.5554e-01,\n",
              "          1.7694e-01,  8.6247e-03,  2.9104e-01, -2.2048e-01, -7.9326e-02,\n",
              "          4.8511e-01,  5.3816e-01,  9.9199e-01, -4.7321e-01,  1.8006e-01,\n",
              "          7.5904e-01,  4.5854e-01,  4.0004e-02,  4.7007e-01,  6.1319e-01,\n",
              "          1.2441e-01,  3.9185e-01, -6.2616e-01, -5.5387e-02,  3.8029e-01,\n",
              "          2.5439e-01, -8.1246e-01, -4.2812e-01,  2.8478e-02, -1.9921e-01,\n",
              "         -6.1260e-01, -1.6417e-01, -2.6117e-01, -3.2529e-01, -3.1456e-01,\n",
              "          2.3981e-01, -3.2654e-01,  5.0771e-02,  2.8160e-01,  2.3932e-01,\n",
              "         -1.9702e-01,  3.0862e-01,  8.6058e-02,  3.9646e-01, -5.2639e-02,\n",
              "          2.9970e-01,  1.3628e-01,  5.0474e-01,  3.0266e-02,  8.7451e-02,\n",
              "          2.9724e-02, -5.2087e-01,  6.6247e-01,  9.6735e-02,  4.0415e-02,\n",
              "         -8.0132e-03,  2.5611e-02, -3.6870e-01,  3.9360e-01,  3.2667e-01,\n",
              "         -1.8339e+00, -1.8837e-02,  3.8217e-01,  1.4784e-01,  4.8561e-01,\n",
              "         -5.8284e-01, -4.8189e-01,  5.1770e-01,  2.4036e-01,  4.0708e-01,\n",
              "         -4.8408e-01, -5.1295e-01, -1.2248e-01,  3.4396e-01,  3.1859e-02,\n",
              "         -4.8907e-01, -2.8200e-03, -3.1231e-01, -1.2961e-02, -2.1050e-01,\n",
              "         -1.3442e-01, -1.0585e-01,  1.4764e-01,  1.1032e-02, -1.2424e-01,\n",
              "         -2.0079e-01, -1.4888e-01,  2.3631e-01,  2.9814e-01,  4.9589e-02,\n",
              "         -1.6221e-01, -6.0027e-01, -7.4385e-01, -2.5931e-01,  5.1258e-01,\n",
              "         -2.0608e-01,  2.3652e-01, -2.1050e-01,  6.6309e-01,  5.5433e-01,\n",
              "         -3.9368e-01,  7.9168e-01,  4.8578e-01,  1.9008e-01,  1.1870e-01,\n",
              "          4.2433e-01, -3.0941e-01,  5.2478e-01, -2.3131e-01, -4.2689e-01,\n",
              "         -2.2966e-01,  7.5224e-02, -3.2560e-01, -1.1185e-01,  3.3840e-01,\n",
              "          1.3113e-01, -1.5564e-01,  1.0615e-01, -7.9520e-01, -4.5454e-01,\n",
              "          5.1595e-01, -1.3855e-01, -3.7331e-01, -1.4575e-01, -2.0204e-02,\n",
              "         -6.3709e-01, -4.8780e-01, -9.4784e-01, -5.8872e-01,  1.3656e-01,\n",
              "          7.0632e-01,  1.8987e-02, -2.5905e-01,  8.7670e-01, -3.9234e-02,\n",
              "          2.1657e-01,  2.1270e-01, -5.9331e-02,  1.5164e-01, -3.8579e-01,\n",
              "         -4.7226e-01, -1.8367e-01, -2.2456e-01,  1.8606e-01,  1.6208e-01,\n",
              "          3.6816e-01, -8.5817e-02, -2.3171e-01, -2.0900e-01, -1.8274e-01,\n",
              "         -5.6043e-01, -4.5774e-01,  4.1112e-01, -4.5486e-02,  2.5821e-01,\n",
              "         -1.4735e-01,  1.7161e-03, -1.6315e-01, -3.4776e-01, -2.1906e-01,\n",
              "         -2.7654e-01,  4.7104e-01,  3.3798e-01,  2.8982e-01, -1.8529e-01,\n",
              "          1.7983e-01,  6.1063e-01,  2.5893e-01, -1.0416e-01,  2.0523e-01,\n",
              "          3.4439e-01,  1.9354e-01, -7.0240e-02, -8.4507e-02,  3.9870e-01,\n",
              "         -5.9478e-01,  4.5845e-01, -6.0003e-01,  2.1861e+00,  3.3360e-01,\n",
              "          8.2639e-01, -5.9823e-01,  1.6757e-01,  1.4038e-02, -4.0096e-02,\n",
              "          3.1663e-01, -3.9851e-01,  2.9532e-01, -2.9980e-01,  1.3743e-01,\n",
              "          2.4891e-01,  2.5581e-01,  5.6522e-01,  3.2929e-01, -2.2214e-01,\n",
              "         -2.6768e-01, -8.0778e-01,  1.8324e-01, -4.1307e-01,  8.4098e-01,\n",
              "          3.2079e-01, -4.4564e-02,  7.8807e-01,  5.5415e-01,  1.0438e-01,\n",
              "          5.6150e-01,  2.7248e-01,  2.4926e-01, -4.6647e-02,  4.3787e-01,\n",
              "         -3.0933e-02,  4.6280e-01, -6.1054e-01, -9.2924e-02,  1.5504e-01,\n",
              "         -3.9035e-01, -3.7906e-01,  2.3397e-01, -3.0860e-02, -3.1709e-01,\n",
              "          6.5883e-01,  3.8539e-02, -2.0335e-01,  5.7550e-01,  6.1039e-02,\n",
              "         -3.8942e-01,  3.3756e-01,  7.7266e-01, -6.3303e-02,  5.8387e-01,\n",
              "         -8.8307e-01,  2.6190e-01, -4.2571e-01, -2.7221e-01,  1.4154e-02,\n",
              "         -1.2374e-01, -8.8723e-02,  5.3396e-01, -2.1393e-01,  2.7422e-01,\n",
              "          4.2324e-01, -5.6470e-01, -2.7852e-01,  2.7901e-01, -3.5146e-01,\n",
              "          6.8735e-01,  1.9157e-01, -3.3332e-01, -2.2714e-02,  1.0266e-01,\n",
              "          4.0055e-01,  2.6612e-01,  6.3825e-01, -3.8712e-02,  3.1315e-01,\n",
              "          2.2986e-01,  1.4980e-01, -2.7574e+00,  2.4685e-01,  3.9791e-01,\n",
              "          4.5659e-01, -5.5093e-01,  6.4348e-01,  4.8861e-01, -2.1940e-01,\n",
              "         -4.8742e-02, -1.0611e-01, -4.2333e-02,  2.5983e-01,  6.3637e-01,\n",
              "          1.6214e-02,  2.4713e-01,  2.1299e-01,  2.1729e-01, -4.5949e-01,\n",
              "          3.2540e-02, -4.1099e-02,  4.9952e-01,  8.7938e-02,  6.6862e-02,\n",
              "         -2.7410e-01, -4.7049e-01,  2.4359e-01,  1.7024e-01, -1.4682e-01,\n",
              "         -3.1627e-02,  3.2120e-01, -1.0320e-01,  5.4371e-01,  1.7269e-02,\n",
              "          2.7165e-01,  5.2612e-01,  2.8019e-01, -4.4398e-01,  1.8053e-01,\n",
              "          2.1438e-01, -1.9857e-01, -4.3375e-01,  6.4953e-01, -8.5145e-02,\n",
              "          3.5371e-02, -1.1336e-01, -1.1646e-01,  4.7668e-01, -1.0394e-01,\n",
              "          7.4304e-01, -3.8420e-01, -6.8674e-02,  4.9368e-02,  5.1306e-02,\n",
              "          2.3017e-01,  2.5594e-01, -2.0972e-01,  1.7267e-01, -1.8619e-05,\n",
              "          8.5955e-02, -3.3139e-02, -7.6230e-03,  3.7350e-01, -4.3614e-01,\n",
              "         -1.7666e-01,  1.3587e-01, -3.8967e-01, -1.1563e-01, -2.1765e-02,\n",
              "          2.5729e-01, -5.9474e-01, -2.7351e-01, -1.3993e-02,  5.1696e-01,\n",
              "          1.9301e-01,  2.3522e-01,  5.5584e-02,  9.9079e-02, -1.1056e-01,\n",
              "          5.6368e-02, -2.6690e-01, -4.0049e-01,  1.2617e-01, -3.3590e-01,\n",
              "          1.7906e-01, -3.3250e-01, -7.5296e+00, -1.1633e-01, -2.4351e-01,\n",
              "         -3.3387e-01, -1.1949e-01, -3.3657e-01, -5.8890e-02, -1.3699e-01,\n",
              "          5.9810e-02, -5.8171e-01,  1.2151e-01, -1.1996e-01, -1.5525e-01,\n",
              "         -3.9110e-01,  4.2174e-01,  1.0178e-01]])"
            ]
          },
          "metadata": {},
          "execution_count": 14
        }
      ]
    },
    {
      "cell_type": "markdown",
      "source": [
        "### Visualization of Embeddings\n",
        "To get an intuition of embeddings, we'll use **Principal Component Analysis (PCA)** to project these high-dimensional vectors onto a 2D plane.\n",
        "\n",
        "This visualization helps us understand how semantically similar\n",
        "tokens cluster together in vector space."
      ],
      "metadata": {
        "id": "hUYaY16TBWds"
      }
    },
    {
      "cell_type": "markdown",
      "source": [
        "The below code performs Principal Component Analysis (PCA) on the token embeddings from the BERT model and visualizes the embeddings in a 2D space"
      ],
      "metadata": {
        "id": "uW4L8FBNivEH"
      }
    },
    {
      "cell_type": "code",
      "source": [
        "from sklearn.decomposition import PCA\n",
        "\n",
        "# Converting the embeddings into numpy format\n",
        "embedding_vectors = embeddings[0].numpy()\n",
        "pca = PCA(n_components=2)\n",
        "transformed_embeddings = pca.fit_transform(embedding_vectors)\n",
        "\n",
        "# Plotting the embeddings\n",
        "plt.figure(figsize=(10, 6))\n",
        "for idx, token in enumerate(tokenizer.convert_ids_to_tokens(inputs['input_ids'][0])):\n",
        "    plt.scatter(*transformed_embeddings[idx], label=token)\n",
        "    plt.text(*transformed_embeddings[idx], token, fontsize=12)\n",
        "\n",
        "plt.title(\"2D PCA of Token Embeddings\")\n",
        "plt.xlabel(\"PCA Component 1\")\n",
        "plt.ylabel(\"PCA Component 2\")\n",
        "plt.legend()\n",
        "plt.show()"
      ],
      "metadata": {
        "colab": {
          "base_uri": "https://localhost:8080/",
          "height": 564
        },
        "id": "-lDhgkKdBa-4",
        "outputId": "92717374-06fe-4d6e-fa6e-fb9fa161e10e"
      },
      "execution_count": 15,
      "outputs": [
        {
          "output_type": "display_data",
          "data": {
            "text/plain": [
              "<Figure size 1000x600 with 1 Axes>"
            ],
            "image/png": "[encoded data removed]"
          },
          "metadata": {}
        }
      ]
    },
    {
      "cell_type": "markdown",
      "source": [
        "## 3. Exploring Self-Attention\n",
        "\n",
        "Self-attention allows transformers to relate different words in a sentence to one another, regardless of their distance apart.\n",
        "\n",
        "### Generating Queries, Keys, and Values:\n",
        "\n",
        "We start by converting each word's embedding into three distinct vectors: Query (Q), Key (K), and Value (V). This helps determine which words in the input sequence should be attended to.\n",
        "\n",
        "###  Calculating Attention Scores:\n",
        "\n",
        "The attention score between a word and other words is determined by taking the dot product between that word's Query and the other words' Keys, followed by scaling with the dimension size.\n",
        "\n",
        "### Softmax Normalization:\n",
        "\n",
        "These scores are normalized using the softmax function to produce a probability distribution.\n",
        "Weighted Sum of Values:\n",
        "\n",
        "Finally, we take a weighted sum of the Value vectors, weighted by the attention probabilities.\n",
        "\n",
        "\n",
        "This example shows how **queries, keys, and values** are used to calculate attention scores that determine how much focus each word should receive.\n",
        "\n",
        "Let's implement a simple scaled dot-product attention mechanism and visualize it:"
      ],
      "metadata": {
        "id": "GdXMWdmbBjOr"
      }
    },
    {
      "cell_type": "markdown",
      "source": [
        "The below code demonstrates the implementation of scaled dot-product attention, which is a core component of the self-attention mechanism used in transformer models like BERT, GPT, etc."
      ],
      "metadata": {
        "id": "cgW7FCcjjCen"
      }
    },
    {
      "cell_type": "code",
      "source": [
        "def scaled_dot_product_attention(query, key, value):\n",
        "    #\n",
        "    d_k = query.size(-1)\n",
        "    scores = torch.matmul(query, key.transpose(-2, -1)) / np.sqrt(d_k)\n",
        "    attention_weights = F.softmax(scores, dim=-1)\n",
        "    return torch.matmul(attention_weights, value), attention_weights\n",
        "\n",
        "# Creating sample Q, K, V tensors\n",
        "query = torch.tensor([[1.0, 0.0, 1.0], [0.0, 1.0, 0.0]]).unsqueeze(0)\n",
        "key = torch.tensor([[1.0, 0.0, 1.0], [0.0, 1.0, 0.0]]).unsqueeze(0)\n",
        "value = torch.tensor([[1.0, 2.0], [3.0, 4.0]]).unsqueeze(0)\n",
        "\n",
        "# Apply scaled dot-product attention\n",
        "attn_output, attn_weights = scaled_dot_product_attention(query, key, value)\n",
        "print(\"Attention Output:\", attn_output)\n",
        "print(\"Attention Weights:\", attn_weights)"
      ],
      "metadata": {
        "colab": {
          "base_uri": "https://localhost:8080/"
        },
        "id": "e6bfKV4NBnhk",
        "outputId": "9a22461f-620a-4dbb-eb61-afb8547a946e"
      },
      "execution_count": 16,
      "outputs": [
        {
          "output_type": "stream",
          "name": "stdout",
          "text": [
            "Attention Output: tensor([[[1.4793, 2.4793],\n",
            "         [2.2809, 3.2809]]])\n",
            "Attention Weights: tensor([[[0.7604, 0.2396],\n",
            "         [0.3595, 0.6405]]])\n"
          ]
        }
      ]
    },
    {
      "cell_type": "markdown",
      "source": [
        "**Q, K, V Matrices:** Here, we use the same embeddings for Query, Key, and Value. In practice, these are typically linear projections of the token embeddings.\n",
        "\n",
        "**Attention Scores:** We compute the dot product between Query and Key matrices for each token and normalize by the dimension. The resulting matrix contains similarity scores indicating how much each word should attend to others.\n",
        "\n",
        "**Attention Weights and Output:** The scores are passed through a softmax to obtain attention weights. These weights are used to compute a weighted sum of the Value vectors, resulting in the updated representation for each token."
      ],
      "metadata": {
        "id": "R37sJpoIQx8l"
      }
    },
    {
      "cell_type": "markdown",
      "source": [
        "The below code applies scaled dot-product attention on token embeddings, treating the embeddings as the query, key, and value."
      ],
      "metadata": {
        "id": "pDdR8WRzjQWS"
      }
    },
    {
      "cell_type": "code",
      "source": [
        "# Project embeddings to Q, K, V\n",
        "query = embeddings\n",
        "key = embeddings\n",
        "value = embeddings\n",
        "\n",
        "# Compute attention scores\n",
        "scores = torch.matmul(query, key.transpose(-2, -1)) / torch.sqrt(torch.tensor(query.size(-1), dtype=torch.float32))\n",
        "attention_weights = F.softmax(scores, dim=-1)"
      ],
      "metadata": {
        "id": "vkfwS--LQ-_Z"
      },
      "execution_count": 17,
      "outputs": []
    },
    {
      "cell_type": "markdown",
      "source": [
        "The below code prints the shapes of the input_ids and embeddings tensors."
      ],
      "metadata": {
        "id": "2pCHJbX1jacJ"
      }
    },
    {
      "cell_type": "code",
      "source": [
        "# Reminder of inputs:\n",
        "print(\"Shape of inputs:\", inputs['input_ids'].shape)\n",
        "print(\"Shape of embeddings:\", embeddings.shape)"
      ],
      "metadata": {
        "colab": {
          "base_uri": "https://localhost:8080/"
        },
        "id": "jPNJNiTMRCMl",
        "outputId": "9c1a8644-25c8-467c-8fe4-2b3ed31f820f"
      },
      "execution_count": 18,
      "outputs": [
        {
          "output_type": "stream",
          "name": "stdout",
          "text": [
            "Shape of inputs: torch.Size([1, 11])\n",
            "Shape of embeddings: torch.Size([1, 11, 768])\n"
          ]
        }
      ]
    },
    {
      "cell_type": "markdown",
      "source": [
        "The below code you've provided prints the shape of the attention scores tensor and then looks at the attention scores of the 5th word in the input sequence."
      ],
      "metadata": {
        "id": "LZBow4-hjseH"
      }
    },
    {
      "cell_type": "code",
      "source": [
        "# Attention scores\n",
        "print(\"Shape of scores:\", scores.shape)\n",
        "\n",
        "# Lets see attention scores of the 5th word\n",
        "scores[:, 4, :]"
      ],
      "metadata": {
        "colab": {
          "base_uri": "https://localhost:8080/"
        },
        "id": "zz-VXg1kRARD",
        "outputId": "49c8cd19-d2cd-4f27-849c-7dc4de8ba406"
      },
      "execution_count": 19,
      "outputs": [
        {
          "output_type": "stream",
          "name": "stdout",
          "text": [
            "Shape of scores: torch.Size([1, 11, 11])\n"
          ]
        },
        {
          "output_type": "execute_result",
          "data": {
            "text/plain": [
              "tensor([[1.2174, 0.5210, 3.7074, 3.0788, 7.1017, 2.7438, 3.7534, 3.0403, 2.5633,\n",
              "         0.5779, 0.6500]])"
            ]
          },
          "metadata": {},
          "execution_count": 19
        }
      ]
    },
    {
      "cell_type": "markdown",
      "source": [
        "The below code extract the attention weights for the 5th word after applying the softmax operation to the attention scores."
      ],
      "metadata": {
        "id": "YYFcc8ZSj79B"
      }
    },
    {
      "cell_type": "code",
      "source": [
        "# After applying soft-max to values\n",
        "# Interpretation: how much \"weight\" (attention) should word 5 place on each word in the sequence.\n",
        "attention_weights[:, 4, :]"
      ],
      "metadata": {
        "colab": {
          "base_uri": "https://localhost:8080/"
        },
        "id": "wcegoo70RsNv",
        "outputId": "7c1545f3-c327-473b-9c5a-c0e104ea8395"
      },
      "execution_count": 20,
      "outputs": [
        {
          "output_type": "execute_result",
          "data": {
            "text/plain": [
              "tensor([[0.0025, 0.0012, 0.0296, 0.0158, 0.8814, 0.0113, 0.0310, 0.0152, 0.0094,\n",
              "         0.0013, 0.0014]])"
            ]
          },
          "metadata": {},
          "execution_count": 20
        }
      ]
    },
    {
      "cell_type": "markdown",
      "source": [
        "The code below calculates the final attention output by applying the attention weights to the values, and then prints the shape of the resulting tensor."
      ],
      "metadata": {
        "id": "6q9Mpzr0kK7B"
      }
    },
    {
      "cell_type": "code",
      "source": [
        "# Lastly, Compute weighted sum of values\n",
        "# In practice, these attention outputs are added to the original word embeddings.\n",
        "# This process adds context from the sequence to the originally context-less embeddings.\n",
        "attention_output = torch.matmul(attention_weights, value)\n",
        "print(\"Shape of attention_output:\", attention_output.shape)\n",
        "attention_output[:, 4, :]"
      ],
      "metadata": {
        "colab": {
          "base_uri": "https://localhost:8080/"
        },
        "id": "Ixlwe9CMSP5H",
        "outputId": "f57c5b39-4244-4498-ed42-22a11a41d5bc"
      },
      "execution_count": 21,
      "outputs": [
        {
          "output_type": "stream",
          "name": "stdout",
          "text": [
            "Shape of attention_output: torch.Size([1, 11, 768])\n"
          ]
        },
        {
          "output_type": "execute_result",
          "data": {
            "text/plain": [
              "tensor([[ 1.9710e-04,  4.2568e-01,  4.9787e-01,  7.3129e-01,  6.1806e-02,\n",
              "         -7.6824e-01, -5.1381e-01,  9.7528e-01,  3.4740e-02, -2.5768e-02,\n",
              "          2.9173e-01,  1.8283e-01, -3.6433e-01,  1.2219e+00,  1.6976e-01,\n",
              "          3.7958e-01, -3.1650e-01, -2.9530e-01, -1.1638e-01,  7.5226e-01,\n",
              "         -6.4263e-01, -4.3165e-01,  2.5003e-01,  5.8580e-01,  4.2254e-01,\n",
              "         -1.5221e-01, -7.0991e-01, -5.6439e-01, -2.5014e-01,  6.0583e-01,\n",
              "          1.3615e-01,  4.4215e-01, -7.4432e-01, -5.4362e-01,  7.1743e-01,\n",
              "          3.7489e-01, -4.4643e-02,  3.3688e-01, -4.0077e-01, -2.0608e-01,\n",
              "          2.5128e-01, -5.8445e-01, -1.8640e-02,  4.7626e-01, -4.1600e-01,\n",
              "         -3.8683e-01, -5.6957e-03, -1.1556e-01,  2.7603e-01, -8.9656e-01,\n",
              "         -6.0208e-01, -3.2653e-01,  1.3271e-01, -6.8406e-03,  1.1258e-01,\n",
              "          6.9699e-01, -8.1558e-02, -3.8823e-01, -2.2646e-01, -1.2727e-01,\n",
              "         -3.7834e-01, -1.7526e-01,  6.2226e-01, -3.7799e-01, -4.9011e-02,\n",
              "         -9.0143e-02, -4.0849e-01, -6.2294e-02, -5.9797e-01, -7.3234e-01,\n",
              "         -9.5853e-01, -5.0967e-01, -6.1580e-01, -1.0739e-01, -7.8853e-01,\n",
              "         -8.0432e-01,  4.3437e-02, -7.2928e-02,  9.1114e-02,  2.6512e-01,\n",
              "          6.4605e-01,  1.9311e+00,  6.4285e-01,  2.8742e-02,  4.7904e-01,\n",
              "          5.9193e-01, -7.4256e-01,  2.4282e-01, -5.7774e-01, -3.1412e-01,\n",
              "          1.6925e-01, -4.9622e-01,  6.2758e-01,  3.3386e-01, -1.8176e-01,\n",
              "         -6.3566e-01,  2.5022e-01, -2.4260e-01, -3.0277e-01,  2.3922e-02,\n",
              "         -1.2253e-02, -1.4078e+00,  4.2828e-01, -5.0205e-01, -3.2319e-02,\n",
              "          3.8130e-01, -1.9643e-01,  8.6436e-02,  1.3779e-01,  4.5275e-01,\n",
              "          5.7534e-01, -1.1161e-01, -4.3311e-01, -2.7244e-01, -5.4284e-01,\n",
              "          5.3850e-01,  7.8504e-02,  1.6618e-01,  1.7247e-01, -6.8224e-01,\n",
              "          9.2596e-01, -2.6500e-01, -3.7889e-01,  5.6285e-01,  1.2729e-01,\n",
              "          3.2115e-01, -1.1885e-01, -2.4087e-02, -1.7237e-01, -6.0254e-01,\n",
              "         -8.1204e-01, -9.0043e-02, -2.5471e-01, -3.0085e-01, -3.8822e-01,\n",
              "         -1.0013e-01,  1.3878e-01, -2.5176e-01, -4.6975e-01, -3.1561e-01,\n",
              "          3.3988e-02, -1.4302e-01,  9.9210e-01, -2.9584e-01, -3.3004e-01,\n",
              "         -3.2034e-01, -5.2804e-01,  5.4481e-01,  4.3230e-01, -4.8576e-02,\n",
              "          3.1421e-01,  2.5428e-01, -4.7675e-01,  1.2444e-01,  3.1721e-01,\n",
              "          9.7431e-02, -8.7703e-01,  4.1297e-01,  1.0467e+00,  9.0803e-02,\n",
              "         -2.5020e-01, -2.0250e-01, -1.6499e-01,  6.8840e-01, -9.5199e-01,\n",
              "         -1.1696e-01,  2.2877e-01,  7.1877e-01, -4.7234e-01,  5.5175e-01,\n",
              "         -1.9142e-01,  1.3673e-01,  3.5553e-01,  4.0952e-01,  3.5865e-02,\n",
              "         -1.8260e-02,  6.8495e-01, -2.1788e-01,  3.6031e-01,  1.6804e-01,\n",
              "         -4.8247e-01,  8.5316e-02,  2.9866e-02, -6.9194e-01, -8.0586e-01,\n",
              "         -3.9563e-01, -3.3454e-01, -1.0695e-01, -4.9587e-01, -4.5610e-03,\n",
              "         -2.2718e-01,  5.4459e-01,  3.2595e-01, -8.7669e-03,  1.4136e-01,\n",
              "          2.3655e-01,  2.2010e-02, -3.9313e-01, -4.1483e-01,  1.7864e-02,\n",
              "          2.1833e-01,  4.8588e-01, -3.4272e-01,  2.3041e-02, -2.1663e-01,\n",
              "         -6.2683e-01,  1.3927e-01, -4.7939e-01,  2.7306e-01, -5.6252e-02,\n",
              "         -7.1291e-01, -4.2830e-01, -2.2092e-01, -9.8556e-03, -4.7881e-02,\n",
              "          2.9448e-01,  1.5599e-01, -7.7762e-01, -6.2601e-01, -3.4780e-01,\n",
              "          1.7274e-01, -1.2701e-01, -6.8091e-01,  1.0591e-01, -2.1543e-01,\n",
              "          5.7072e-01,  6.5554e-01,  4.2671e-02, -1.1855e-01,  4.9341e-01,\n",
              "          4.6343e-01, -5.8964e-01,  8.2022e-02, -6.0799e-01,  1.8861e-01,\n",
              "          1.6655e-01,  1.2038e-01, -3.5658e-01,  4.0484e-01, -5.3476e-02,\n",
              "         -1.2269e-01,  7.7732e-02,  6.7775e-01,  3.4732e-01,  2.4560e-01,\n",
              "          6.0627e-01,  6.1261e-01, -5.4808e-02, -2.9231e-01, -2.3332e-01,\n",
              "         -1.3297e+00, -7.5544e-01, -3.6985e-01, -4.0285e-02, -3.1329e-01,\n",
              "         -3.7702e-02, -5.0646e-01, -2.2074e-01,  1.6425e-01, -2.7450e-01,\n",
              "          2.9721e-01, -8.8618e-02,  6.7211e-03, -3.3328e-01, -2.0898e-01,\n",
              "         -1.5212e+00,  2.3048e-02, -3.5822e-01,  3.8055e-01,  6.3024e-01,\n",
              "          4.5984e-01,  5.2034e-01,  4.1688e-01,  9.0560e-01,  2.7899e-01,\n",
              "          2.2696e-01,  1.5546e-03, -3.8002e-02, -3.6673e-01, -1.6320e-01,\n",
              "          3.9932e-01,  1.8199e-01, -4.5033e-01,  3.5761e-01, -5.2941e-01,\n",
              "          3.0136e-01,  8.0043e-02, -7.5116e-01, -7.6025e-01, -1.8965e-01,\n",
              "         -2.6867e-02,  3.2123e-02,  1.2887e-02,  9.0379e-02,  1.2829e+00,\n",
              "         -3.6424e-01,  2.4953e-01, -4.6243e-01, -1.4814e-01, -6.1522e-01,\n",
              "          9.9534e-01, -1.3210e-01,  5.8413e-01, -1.8832e-01,  1.0885e-01,\n",
              "          6.0748e-01,  4.7775e-01, -5.7066e-01, -4.5881e+00,  2.6238e-01,\n",
              "         -1.6825e-01,  2.0965e-01,  5.1390e-01,  1.4700e-01, -4.9675e-01,\n",
              "         -1.8433e-01,  3.0045e-01, -2.8973e-01, -6.4544e-01, -9.4361e-02,\n",
              "         -3.9718e-01,  4.0174e-01, -1.5548e-02,  6.9964e-02,  5.6042e-01,\n",
              "          9.6732e-02, -3.0545e-01,  6.3508e-01,  1.5683e-01, -6.6555e-01,\n",
              "         -1.0817e-01,  6.7157e-01,  6.3805e-01,  5.0642e-01, -2.1188e-01,\n",
              "         -5.6985e-01, -3.1149e-01,  1.9670e-01, -2.4973e-01, -4.1271e-02,\n",
              "         -6.5174e-01, -2.6521e-01, -2.1042e-01, -6.2505e-01,  2.1821e-01,\n",
              "          3.4292e-02, -8.7259e-01,  4.8290e-01,  1.1054e-01, -4.3392e-01,\n",
              "          2.1569e-01,  1.0719e-01,  4.9097e-01, -6.8510e-01, -4.6689e-02,\n",
              "          5.4921e-02,  3.3271e-01, -1.4101e-01,  2.6415e-01,  3.6730e-01,\n",
              "          6.5399e-01, -2.3452e-01, -8.4790e-01, -3.2717e-01,  2.1292e-01,\n",
              "          3.6989e-01, -8.2449e-02,  3.0837e-01,  2.7408e-01,  1.1778e-01,\n",
              "          2.9376e-01,  3.6105e-01, -5.1563e-01,  2.7246e-01, -4.3781e-01,\n",
              "         -4.3503e-02,  2.2918e-01,  1.0929e-01,  3.4107e-01,  4.5158e-02,\n",
              "          7.5384e-02, -9.3809e-01,  1.4505e-01, -4.6935e-01,  4.0687e-01,\n",
              "         -2.2919e-03, -1.7232e-01, -1.1526e-01, -3.0552e-01, -7.6213e-01,\n",
              "          5.9366e-01,  4.2145e-01,  3.8829e-01, -6.1139e-01, -4.6115e-01,\n",
              "         -1.8290e-01,  8.3128e-02, -3.9824e-01,  3.4716e-01,  2.9046e-01,\n",
              "          3.9283e-01,  4.1033e-02,  8.8015e-03, -5.5655e-01, -1.8241e-01,\n",
              "          3.7191e-01,  6.6070e-01, -2.6782e-01,  2.6325e-01,  2.5156e-01,\n",
              "          9.3499e-02,  8.9843e-01, -1.4482e-01,  3.5378e-01, -2.1737e-01,\n",
              "          5.8183e-01,  4.9674e-01,  7.0630e-01, -5.6547e-02,  7.1603e-01,\n",
              "          3.3690e-01, -6.9140e-01, -7.2352e-02, -1.7431e-01,  3.2880e-01,\n",
              "          8.7740e-01, -7.5757e-01, -4.6244e-01, -2.5527e-01,  1.0691e+00,\n",
              "         -6.6132e-01,  2.9045e-01,  5.5132e-03,  4.9636e-01, -2.5745e-01,\n",
              "          7.5696e-02, -6.8887e-01, -1.9177e-02,  5.8572e-01,  3.9905e-01,\n",
              "         -7.1138e-01, -4.3830e-01,  3.9921e-01,  4.3454e-01, -4.0498e-01,\n",
              "         -1.2292e+00, -1.9016e-01,  6.3939e-01,  1.9425e-01,  8.6383e-01,\n",
              "          4.1497e-01,  4.2314e-01, -9.0239e-02,  1.8893e-01, -3.6222e-01,\n",
              "          5.3221e-01,  3.5680e-01, -4.1997e-02, -2.2373e-01,  3.0423e-01,\n",
              "          4.1847e-01, -7.8800e-01,  6.0163e-01,  6.8164e-01,  3.9707e-01,\n",
              "         -7.9180e-01,  2.9488e-03, -1.4809e-01,  1.1097e-01,  4.6572e-01,\n",
              "         -4.2330e-02, -2.7875e-01, -3.0196e-01,  3.3496e-01,  2.0221e-01,\n",
              "         -4.2350e-01, -2.2367e-01,  1.3091e-01, -5.1775e-01,  4.5706e-01,\n",
              "         -3.9658e-01, -4.9824e-01, -4.2368e-01,  1.0414e-01, -3.2094e-01,\n",
              "         -1.8999e-01, -6.6085e-02, -2.4386e-01,  1.6731e-01, -4.4845e-01,\n",
              "          3.9757e-01,  3.4078e-01, -6.4137e-02,  1.9541e-01, -4.7246e-02,\n",
              "          9.1903e-03, -1.7549e-02, -5.4146e-01,  1.1907e-01, -1.4266e-01,\n",
              "          2.3591e-01,  4.6289e-02, -8.0379e-01, -1.8250e-01,  7.8710e-01,\n",
              "         -8.0042e-01,  4.4418e-02,  5.2250e-01,  1.0166e-01,  5.0779e-01,\n",
              "         -1.7604e-01,  5.8330e-01, -2.4146e-01, -3.9332e-02, -6.2451e-01,\n",
              "          4.7363e-01, -1.5505e-01, -1.7766e-01, -1.1216e-02, -1.4126e-01,\n",
              "          6.0145e-01,  5.0446e-01, -1.7252e-01, -2.8295e-01, -4.7338e-02,\n",
              "          2.4095e-01, -7.5074e-01, -1.7685e-02, -1.5480e-01, -3.0638e-01,\n",
              "         -1.1943e-01,  4.7532e-01,  3.3092e-01, -5.4926e-01, -3.8057e-01,\n",
              "          1.3985e-01, -5.7790e-01, -1.4540e+00, -7.7037e-02, -1.6534e-01,\n",
              "          2.6539e-01, -1.7997e-01, -2.1518e-02,  2.6871e-01,  3.5928e-01,\n",
              "          2.5988e-02,  4.7575e-02,  2.1504e-01, -1.3114e-01, -3.6163e-01,\n",
              "         -4.4213e-01,  2.6645e-01, -9.7381e-02, -7.8887e-01, -1.1969e-02,\n",
              "          8.0352e-01, -6.4394e-01, -2.4187e-01, -1.2686e-01,  1.7650e-01,\n",
              "         -3.7362e-01, -2.6282e-02,  6.7183e-01,  1.5968e-01, -1.5036e-01,\n",
              "          1.8071e-01,  4.4805e-01, -5.5119e-01, -5.3161e-02,  3.9740e-01,\n",
              "         -1.2737e-01, -4.3248e-01, -3.5617e-01,  7.4204e-03, -1.7037e-01,\n",
              "         -7.0367e-01,  1.3695e-01,  2.9919e-01,  3.7023e-02,  5.4021e-01,\n",
              "          3.1197e-01,  6.9179e-01,  3.0271e-01,  1.1525e-01, -3.7585e-01,\n",
              "         -3.5091e-01,  2.2687e-01, -2.0072e-01, -5.3122e-02, -4.5049e-01,\n",
              "         -1.6371e-01, -2.8196e-02, -9.7181e-01, -8.0058e-01,  5.4684e-01,\n",
              "          6.6113e-01, -7.1652e-01, -8.5958e-02, -9.9529e-02,  4.0550e-01,\n",
              "         -1.0234e-01, -3.0713e-01,  9.9433e-02,  1.3692e-01,  4.5691e-01,\n",
              "          2.9942e-01, -2.7833e-01,  1.9435e-01,  2.7189e-01,  7.3810e-01,\n",
              "          4.2726e-01, -6.9364e-02,  1.2938e-01,  2.9015e-01, -2.9313e-02,\n",
              "         -5.0490e-01,  4.8528e-02, -3.8303e-02,  1.7168e-01, -7.1062e-01,\n",
              "          2.7456e-01,  1.0821e+00,  1.3901e-01, -7.3504e-01,  5.3324e-01,\n",
              "         -2.4882e-01, -4.8965e-01,  4.0728e-01,  1.5016e-02,  1.2118e-02,\n",
              "          7.1866e-01,  1.1407e-01,  1.4475e-01,  1.2118e+00, -1.0919e+00,\n",
              "         -3.4155e-01, -2.3806e-01,  5.5176e-01,  2.2991e-01,  1.3366e-01,\n",
              "         -1.0514e+00, -1.8514e-01, -1.5626e-01, -2.5705e-02, -1.1033e-01,\n",
              "          4.2862e-01,  4.9385e-01,  6.7234e-01,  7.0470e-01, -1.0815e+00,\n",
              "         -1.4443e-01,  7.9041e-01, -6.2790e-01,  1.1160e-01,  9.5466e-02,\n",
              "          3.5890e-01,  3.5871e-02, -4.9781e-01,  2.9344e-02,  1.3500e-01,\n",
              "          9.3586e-01, -1.8978e-01,  7.1690e-01, -4.4991e-01,  4.0043e-01,\n",
              "         -1.4435e-02,  1.0073e+00,  3.7808e-01,  4.1178e-01,  5.7896e-02,\n",
              "          6.5060e-01, -1.0227e+00, -7.6390e-02, -4.3312e-01,  5.2924e-01,\n",
              "         -2.2410e-01, -8.5738e-02,  7.4647e-01,  4.4364e-01, -2.4739e-01,\n",
              "         -4.7718e-01,  9.3733e-02,  4.6505e-01,  1.0023e-01,  2.9092e-01,\n",
              "         -5.1465e-01, -3.3291e-01,  1.6770e-01,  2.3146e-01, -1.1463e-01,\n",
              "         -1.4526e-01, -6.9367e-01, -2.4495e-01, -1.1288e-01, -7.4774e-01,\n",
              "         -8.4772e-01,  3.3198e-01, -3.2440e-01, -9.9199e-02, -3.5211e-01,\n",
              "          5.4624e-01, -1.8137e-01, -1.7155e-01, -9.5289e-01,  7.9561e-01,\n",
              "          1.0184e-01,  2.4970e-01, -3.5216e-01,  7.8086e-02,  1.4727e-01,\n",
              "         -5.0713e-01, -6.7138e-02, -1.0431e-01,  3.0667e-02, -3.4507e-01,\n",
              "          1.3037e+00,  2.7026e-01, -1.9687e-01, -1.4110e-01, -6.7043e-03,\n",
              "         -2.6955e-02,  4.1520e-01,  7.0633e-03,  2.3288e-01,  1.7486e-01,\n",
              "          2.7223e-02,  2.1410e-02, -2.6859e-01, -2.4051e-01, -2.8425e-01,\n",
              "         -1.0139e-01,  3.8363e-01, -5.1921e-01,  8.7562e-02,  9.0094e-01,\n",
              "          8.3716e-01, -9.0977e-02, -8.2621e-01, -4.0209e-01, -3.6460e-01,\n",
              "         -3.3563e-02,  4.0347e-01,  4.5968e-01, -1.4962e-01, -2.9916e-01,\n",
              "         -2.4118e-02, -3.0987e-01, -2.2225e-01,  9.1927e-01,  7.1401e-01,\n",
              "          1.8833e-02, -2.4592e-01,  4.7739e-01,  7.9321e-02,  6.0448e-02,\n",
              "         -1.1688e-01,  1.7215e-01, -1.6363e-01,  5.5065e-01, -1.6621e-02,\n",
              "          1.3862e-01, -7.0232e-02, -1.7638e-01, -5.4235e-01,  7.0049e-02,\n",
              "         -3.6385e-01,  4.4445e-01,  3.3597e-01]])"
            ]
          },
          "metadata": {},
          "execution_count": 21
        }
      ]
    },
    {
      "cell_type": "markdown",
      "source": [
        "### Visualizing Attention Weights\n",
        "Let's add a simple heatmap to visualize how much focus is placed on each token.\n",
        "\n",
        "Rows (Queries): The rows represent the queries, which essentially means the word that is \"looking\" at the rest of the words in the sentence to understand their relationships.\n",
        "\n",
        "Columns (Keys): The columns represent the keys, which can be thought of as the words being \"examined\" by the query words.\n",
        "\n",
        "Color Intensity: The color intensity in each cell indicates the magnitude of the attention weight between the words represented by that row (query) and column (key). The color bar on the right ranges from dark purple (low weight) to bright yellow (high weight)."
      ],
      "metadata": {
        "id": "pttoWwoFBwFZ"
      }
    },
    {
      "cell_type": "markdown",
      "source": [
        "The code below  creates a heatmap to visualize the attention weights between the tokens in the sequence, allowing you to better understand how each token attends to the others."
      ],
      "metadata": {
        "id": "4WziNjNrkbok"
      }
    },
    {
      "cell_type": "code",
      "source": [
        "# Visualize attention weights\n",
        "import seaborn as sns\n",
        "plt.figure(figsize=(10, 8))\n",
        "sns.heatmap(attention_weights[0].numpy(),\n",
        "            annot=True,\n",
        "            cmap=\"viridis\",\n",
        "            xticklabels=tokenizer.convert_ids_to_tokens(inputs['input_ids'][0]),\n",
        "            yticklabels=tokenizer.convert_ids_to_tokens(inputs['input_ids'][0]))\n",
        "plt.xlabel(\"Keys\")\n",
        "plt.ylabel(\"Queries\")\n",
        "plt.title(\"Attention Weights for Each Word in the Sequence\")\n",
        "plt.show()"
      ],
      "metadata": {
        "colab": {
          "base_uri": "https://localhost:8080/",
          "height": 794
        },
        "id": "YE9Ai2DVBydn",
        "outputId": "9de3e27f-2b3b-49c2-d322-88ca2c7dde3e"
      },
      "execution_count": 22,
      "outputs": [
        {
          "output_type": "display_data",
          "data": {
            "text/plain": [
              "<Figure size 1000x800 with 2 Axes>"
            ],
            "image/png": "[encoded data removed]"
          },
          "metadata": {}
        }
      ]
    },
    {
      "cell_type": "markdown",
      "source": [
        "### Interpreting Specific Word Attention:\n",
        "\n",
        "- \"Transformers\": This word places most of its attention (0.96) on itself. This high self-attention suggests that \"transformers\" needs to fully understand its own representation before interacting with other words.\n",
        "- \"Wonderful\" and \"Ground-breaking\": These words show more spread attention to other tokens, suggesting that their meaning relies on context within the sentence. For example, \"wonderful\" has non-zero attention on other tokens like \"transformers\" and \"models,\" indicating its dependence on the context to derive meaning.\n",
        "- \"Models\": The word \"models\" also attends to multiple tokens like \"breaking,\" with attention values distributed moderately. This suggests that understanding \"models\" involves understanding some relationships with \"ground-breaking\" and other preceding tokens."
      ],
      "metadata": {
        "id": "y0cGwD1dPb7c"
      }
    },
    {
      "cell_type": "markdown",
      "source": [
        "## 4. Transformer Building Blocks\n",
        "Here, we'll demonstrate the main components of a transformer: **Multi-Head Attention**, **Feed-Forward Networks**, and **Positional Encoding**.\n",
        "\n",
        "A basic implementation of **Positional Encoding**:"
      ],
      "metadata": {
        "id": "rctD7FQxB1dF"
      }
    },
    {
      "cell_type": "markdown",
      "source": [
        "The code below defines a positional encoding function and visualizes the result using a heatmap"
      ],
      "metadata": {
        "id": "uXp_OSMXk3tA"
      }
    },
    {
      "cell_type": "code",
      "source": [
        "def positional_encoding(seq_len, d_model):\n",
        "    pos = torch.arange(seq_len).unsqueeze(1)\n",
        "    div_term = torch.exp(torch.arange(0, d_model, 2) * -(np.log(10000.0) / d_model))\n",
        "    pe = torch.zeros(seq_len, d_model)\n",
        "    pe[:, 0::2] = torch.sin(pos * div_term)\n",
        "    pe[:, 1::2] = torch.cos(pos * div_term)\n",
        "    return pe\n",
        "\n",
        "# Example visualization\n",
        "pos_encoding = positional_encoding(50, 16)\n",
        "plt.figure(figsize=(10, 6))\n",
        "sns.heatmap(pos_encoding.numpy(), cmap='viridis')\n",
        "plt.title(\"Positional Encoding Heatmap\")\n",
        "plt.xlabel(\"Model Dimensions\")\n",
        "plt.ylabel(\"Position Index\")\n",
        "plt.show()"
      ],
      "metadata": {
        "colab": {
          "base_uri": "https://localhost:8080/",
          "height": 564
        },
        "id": "xGcwC3E-B3tF",
        "outputId": "db62d9e2-a470-4fcc-a957-8f3ed93f8109"
      },
      "execution_count": 23,
      "outputs": [
        {
          "output_type": "display_data",
          "data": {
            "text/plain": [
              "<Figure size 1000x600 with 2 Axes>"
            ],
            "image/png": "[encoded data removed]"
          },
          "metadata": {}
        }
      ]
    },
    {
      "cell_type": "markdown",
      "source": [
        "## 5. Putting It Together: End-to-End Example\n",
        "Now that we understand the building blocks, let's walk through a complete transformer layer and how it processes a toy sentence step by step, including tokenization, embedding, attention, normalization, and the feed-forward layer for next token prediction"
      ],
      "metadata": {
        "id": "-hAjfnraB7EC"
      }
    },
    {
      "cell_type": "markdown",
      "source": [
        "The code below tokenizes the sentence \"Hello how are\" using a pre-trained tokenizer (like BERT's tokenizer) and prints out the corresponding token IDs."
      ],
      "metadata": {
        "id": "TazhpL_SlLu2"
      }
    },
    {
      "cell_type": "code",
      "source": [
        "#### Step 1: Tokenization\n",
        "sentence = \"Hello how are \"\n",
        "\n",
        "# Tokenize the sentence\n",
        "inputs = tokenizer(sentence, return_tensors='pt')\n",
        "input_ids = inputs['input_ids']\n",
        "print(\"Token IDs:\", input_ids)"
      ],
      "metadata": {
        "colab": {
          "base_uri": "https://localhost:8080/"
        },
        "id": "W62UncYjAu3E",
        "outputId": "a67c6d27-b190-48e1-e62c-16d85b6af721"
      },
      "execution_count": null,
      "outputs": [
        {
          "output_type": "stream",
          "name": "stdout",
          "text": [
            "Token IDs: tensor([[ 101, 7592, 2129, 2024,  102]])\n"
          ]
        }
      ]
    },
    {
      "cell_type": "markdown",
      "source": [
        "The code below demonstrates how to extract the embeddings of a sequence of tokens from a pre-trained model (like BERT) and examine the shape of the resulting embeddings."
      ],
      "metadata": {
        "id": "RQG-9ZBKlYJM"
      }
    },
    {
      "cell_type": "code",
      "source": [
        "#### Step 2: Embedding\n",
        "# Extract Embeddings\n",
        "with torch.no_grad():\n",
        "    outputs = model(**inputs)\n",
        "embeddings = outputs.last_hidden_state\n",
        "print(\"Embeddings Shape:\", embeddings.shape)"
      ],
      "metadata": {
        "colab": {
          "base_uri": "https://localhost:8080/"
        },
        "id": "TlcTo-9oULWS",
        "outputId": "a245c3dd-6521-43f8-f35a-bdf03214881b"
      },
      "execution_count": 24,
      "outputs": [
        {
          "output_type": "stream",
          "name": "stdout",
          "text": [
            "Embeddings Shape: torch.Size([1, 11, 768])\n"
          ]
        }
      ]
    },
    {
      "cell_type": "markdown",
      "source": [
        "The code below applies scaled dot-product attention to the embeddings generated from the model's output."
      ],
      "metadata": {
        "id": "Ce5ObHZglql6"
      }
    },
    {
      "cell_type": "code",
      "source": [
        "#### Step 3: Self-Attention Mechanism\n",
        "# Self-Attention Calculation\n",
        "query = key = value = embeddings\n",
        "\n",
        "# Applying Scaled Dot Product Attention\n",
        "attn_output, attn_weights = scaled_dot_product_attention(query, key, value)\n",
        "print(\"Attention Output Shape:\", attn_output.shape)\n",
        "print(\"Attention Weights Shape:\", attn_weights.shape)\n",
        "\n",
        "# Look at the first 5 values of the attention outputs\n",
        "attn_output[:, 1, :5]"
      ],
      "metadata": {
        "colab": {
          "base_uri": "https://localhost:8080/"
        },
        "id": "OsP2FoRnUPNl",
        "outputId": "db502884-33a3-4e16-f1e2-9600f2c5259d"
      },
      "execution_count": 25,
      "outputs": [
        {
          "output_type": "stream",
          "name": "stdout",
          "text": [
            "Attention Output Shape: torch.Size([1, 11, 768])\n",
            "Attention Weights Shape: torch.Size([1, 11, 11])\n"
          ]
        },
        {
          "output_type": "execute_result",
          "data": {
            "text/plain": [
              "tensor([[ 1.5518,  0.0723, -0.1733,  0.2363,  0.4554]])"
            ]
          },
          "metadata": {},
          "execution_count": 25
        }
      ]
    },
    {
      "cell_type": "markdown",
      "source": [
        "The code below demonstrates the application of Layer Normalization to the attention output obtained from the previous attention mechanism."
      ],
      "metadata": {
        "id": "q93gaYBdl7f3"
      }
    },
    {
      "cell_type": "code",
      "source": [
        "#### Step 4: Layer Normalization\n",
        "# Layer normalization helps stabilize training by normalizing the inputs across the feature dimension.\n",
        "from torch.nn import LayerNorm\n",
        "\n",
        "# Apply Layer Normalization\n",
        "layer_norm = LayerNorm(embeddings.size()[1:])\n",
        "norm_output = layer_norm(attn_output)\n",
        "print(\"Layer Normalized Output Shape:\", norm_output.shape)\n",
        "\n",
        "# Look at the first 5 values of the attention outputs after normalization\n",
        "norm_output[:, 1, :5]"
      ],
      "metadata": {
        "colab": {
          "base_uri": "https://localhost:8080/"
        },
        "id": "3YsBr8hcUVgp",
        "outputId": "ace6affe-ad23-4e82-ac8c-a1bed244b226"
      },
      "execution_count": 27,
      "outputs": [
        {
          "output_type": "stream",
          "name": "stdout",
          "text": [
            "Layer Normalized Output Shape: torch.Size([1, 11, 768])\n"
          ]
        },
        {
          "output_type": "execute_result",
          "data": {
            "text/plain": [
              "tensor([[ 3.0981,  0.1696, -0.3167,  0.4942,  0.9279]],\n",
              "       grad_fn=<SliceBackward0>)"
            ]
          },
          "metadata": {},
          "execution_count": 27
        }
      ]
    },
    {
      "cell_type": "markdown",
      "source": [
        "The code below demonstrates the application of a feed-forward network (FFN) to the layer-normalized output of the attention mechanism."
      ],
      "metadata": {
        "id": "-XTN1xpamWgI"
      }
    },
    {
      "cell_type": "code",
      "source": [
        "#### Step 5: Feed-Forward Network\n",
        "# The feed-forward network is typically two linear layers with a ReLU activation in between.\n",
        "from torch import nn\n",
        "\n",
        "# Defining a simple feed-forward network\n",
        "ffn = nn.Sequential(\n",
        "    nn.Linear(norm_output.size(-1), 64),\n",
        "    nn.ReLU(),\n",
        "    nn.Linear(64, norm_output.size(-1))\n",
        ")\n",
        "\n",
        "# Apply Feed-Forward Network\n",
        "ffn_output = ffn(norm_output)\n",
        "print(\"Feed-Forward Network Output Shape:\", ffn_output.shape)"
      ],
      "metadata": {
        "colab": {
          "base_uri": "https://localhost:8080/"
        },
        "id": "OCgVOmNaVv3T",
        "outputId": "8b4ae849-c465-4a67-dbe4-926efbb42b18"
      },
      "execution_count": 28,
      "outputs": [
        {
          "output_type": "stream",
          "name": "stdout",
          "text": [
            "Feed-Forward Network Output Shape: torch.Size([1, 11, 768])\n"
          ]
        }
      ]
    },
    {
      "cell_type": "markdown",
      "source": [
        "This part of the code demonstrates the final output layer of a model like a transformer, where the output of the feed-forward network is passed through a linear layer to produce logits, followed by the application of softmax to convert those logits into probabilities."
      ],
      "metadata": {
        "id": "T_drqNGDmrHg"
      }
    },
    {
      "cell_type": "code",
      "source": [
        "#### Step 6: Next Token Prediction\n",
        "# Finally, the output is used to predict the next token in the sequence. We use a linear layer to project back to the vocabulary size.\n",
        "# Define the output layer\n",
        "vocab_size = tokenizer.vocab_size\n",
        "output_layer = nn.Linear(ffn_output.size(-1), vocab_size)\n",
        "\n",
        "# Predict next token logits\n",
        "logits = output_layer(ffn_output)\n",
        "print(\"Logits Shape:\", logits.shape)\n",
        "\n",
        "# Apply softmax\n",
        "probs = F.softmax(logits, dim=-1)\n",
        "print(\"Probabilities Shape:\", probs.shape)"
      ],
      "metadata": {
        "colab": {
          "base_uri": "https://localhost:8080/"
        },
        "id": "D4IJ3dZPAvAd",
        "outputId": "b422cf50-67d2-48a1-b3b7-bc9c85d3e2ce"
      },
      "execution_count": 29,
      "outputs": [
        {
          "output_type": "stream",
          "name": "stdout",
          "text": [
            "Logits Shape: torch.Size([1, 11, 30522])\n",
            "Probabilities Shape: torch.Size([1, 11, 30522])\n"
          ]
        }
      ]
    },
    {
      "cell_type": "markdown",
      "source": [
        "The below code is used  to find the most likely token for each position in the sequence, based on the predicted probabilities from the softmax output."
      ],
      "metadata": {
        "id": "-VKHWfaim3wi"
      }
    },
    {
      "cell_type": "code",
      "source": [
        "probs.argmax(dim=-1)[0]"
      ],
      "metadata": {
        "colab": {
          "base_uri": "https://localhost:8080/"
        },
        "id": "gfGOlgg-YE9b",
        "outputId": "3548869f-c6eb-4d3f-eb52-ea7fd16d0cd8"
      },
      "execution_count": 30,
      "outputs": [
        {
          "output_type": "execute_result",
          "data": {
            "text/plain": [
              "tensor([ 2450,  4050, 28704, 23589,  3782, 11685, 18473, 16992, 15384, 14843,\n",
              "          152])"
            ]
          },
          "metadata": {},
          "execution_count": 30
        }
      ]
    },
    {
      "cell_type": "markdown",
      "source": [
        "argmax(dim=-1) gives the token IDs of the most likely tokens for each position in the sequence.\n",
        "max(dim=-1)[0] gives the corresponding maximum probabilities for each position.\n",
        "decode() converts the token IDs back into human-readable text (words or subwords)."
      ],
      "metadata": {
        "id": "Lo7ECEy1nQnx"
      }
    },
    {
      "cell_type": "code",
      "source": [
        "# Show the most likely word\n",
        "print(probs.argmax(dim=-1))\n",
        "\n",
        "# Show the probability\n",
        "print(probs.max(dim=-1)[0])\n",
        "\n",
        "# Map the tokens back to words\n",
        "# Keep in mind, these values will be non-sensical since we used a randomly initialized Neural Network :)\n",
        "print(tokenizer.decode(probs.argmax(dim=-1)[0]))"
      ],
      "metadata": {
        "colab": {
          "base_uri": "https://localhost:8080/"
        },
        "id": "CUt5KLC8AvJz",
        "outputId": "ea8456f1-1330-41f2-f8c8-819460ccad92"
      },
      "execution_count": 31,
      "outputs": [
        {
          "output_type": "stream",
          "name": "stdout",
          "text": [
            "tensor([[ 2450,  4050, 28704, 23589,  3782, 11685, 18473, 16992, 15384, 14843,\n",
            "           152]])\n",
            "tensor([[5.6098e-05, 5.8611e-05, 6.4341e-05, 5.5610e-05, 4.8955e-05, 6.1683e-05,\n",
            "         6.4371e-05, 5.6101e-05, 5.3094e-05, 5.1075e-05, 5.1178e-05]],\n",
            "       grad_fn=<MaxBackward0>)\n",
            "woman typicallylais orderly chris santo howelllining uc billed [unused147]\n"
          ]
        }
      ]
    },
    {
      "cell_type": "markdown",
      "source": [
        "# LLM Fine-Tuning"
      ],
      "metadata": {
        "id": "dTH7pTsH5Uc-"
      }
    },
    {
      "cell_type": "markdown",
      "source": [
        "There are various frameworks Machine Learning Engineers use to develop LLM's, such as PyTorch and Huggingface. For this workshop, we will use a new but popular library from `unsloth` to fine-tune LLM's in a compute and memory-efficient manor.\n",
        "\n",
        "`Unlsoth` has several tutorial notebooks and offers free usage of a T4 GPU to jump-start your development. Let's take a look at a couple of examples:\n",
        "\n",
        "CPT for LLMs:\n",
        "- https://colab.research.google.com/drive/1-BF5HndNqQsfWRTxIt7YPjkfDpVUGNgY?usp=sharing\n",
        "\n",
        "SFT for LLMs:\n",
        "- https://colab.research.google.com/drive/15OyFkGoCImV9dSsewU1wa2JuKB4-mDE_?usp=sharing"
      ],
      "metadata": {
        "id": "39xITGPp-cmB"
      }
    }
  ]
}