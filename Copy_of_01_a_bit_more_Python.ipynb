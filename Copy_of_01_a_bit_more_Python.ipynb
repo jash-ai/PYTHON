{
  "cells": [
    {
      "cell_type": "markdown",
      "metadata": {
        "id": "view-in-github",
        "colab_type": "text"
      },
      "source": [
        "<a href=\"https://colab.research.google.com/github/jash-ai/PYTHON/blob/main/Copy_of_01_a_bit_more_Python.ipynb\" target=\"_parent\"><img src=\"https://colab.research.google.com/assets/colab-badge.svg\" alt=\"Open In Colab\"/></a>"
      ]
    },
    {
      "cell_type": "markdown",
      "metadata": {
        "id": "puuZ6XWBJeaR"
      },
      "source": [
        "![DSL_logo](https://github.com/BrockDSL/Python_2.0_Workshop/blob/master/dsl_logo.png?raw=1)\n",
        "\n",
        "\n",
        "# Data Science with Python!\n",
        "\n",
        "Welcome to the Digital Scholarship Lab Level 2 Python workshop. Before proceeding please make sure you've completed [part 1](https://brockdsl.github.io/Intro_to_Python_Workshop/) \n",
        "\n",
        "Which covers:\n",
        "- variables\n",
        "- math\n",
        "- conditional\n",
        "- loops\n",
        "- functions\n",
        "\n",
        "\n",
        "What we'll learn today is:\n",
        "- importing libraries\n",
        "- analyzing data with pandas\n",
        "- plotting data with matplotlib\n",
        "\n",
        "\n",
        "We'll be using Python as a Data Analysis tool\n",
        "This is how the [Kaggle](https://kaggle.com) website works\n"
      ]
    },
    {
      "cell_type": "markdown",
      "metadata": {
        "id": "QWUQNUYZJeaU"
      },
      "source": [
        "\n",
        "Before we get going the next cell should look totally familar to you"
      ]
    },
    {
      "cell_type": "code",
      "execution_count": 1,
      "metadata": {
        "id": "OlmeXLYcJeaW",
        "colab": {
          "base_uri": "https://localhost:8080/"
        },
        "outputId": "505a67e6-1f2a-4089-d6f6-eee8619a757b"
      },
      "outputs": [
        {
          "output_type": "stream",
          "name": "stdout",
          "text": [
            "3.8333333333333335\n"
          ]
        }
      ],
      "source": [
        "##functions are great\n",
        "scores = [3,5,6,2,1,6] ##list of int values\n",
        "\n",
        "def find_mean(scores): ##define a function called find_mean\n",
        "                        ## passing in scores\n",
        "    sum = 0\n",
        "    for s in scores:\n",
        "        sum = sum + s\n",
        "        \n",
        "    return sum/len(scores) ##value of all the numbers here a mean\n",
        "\n",
        "\n",
        "print(find_mean(scores)) ##print the numbers values"
      ]
    },
    {
      "cell_type": "markdown",
      "metadata": {
        "id": "pulh1CljJeaa"
      },
      "source": [
        "----\n",
        "\n",
        "## Importing Libraries\n",
        "\n",
        "- Our end goal is to re-use as much code as possible\n",
        "- To do this we load in different Libraries using the `import` command\n",
        "- For this example we want to load in the [statistics](https://docs.python.org/3/library/statistics.html) library\n"
      ]
    },
    {
      "cell_type": "code",
      "execution_count": 3,
      "metadata": {
        "id": "jmKLgNFGJeab",
        "colab": {
          "base_uri": "https://localhost:8080/"
        },
        "outputId": "10b76c21-6f87-4222-b796-8d90038e054e"
      },
      "outputs": [
        {
          "output_type": "stream",
          "name": "stdout",
          "text": [
            "3.8333333333333335\n",
            "4.0\n",
            "6\n"
          ]
        }
      ],
      "source": [
        "#library called import statistics\n",
        "\n",
        "import statistics\n",
        "\n",
        "print(statistics.mean(scores))\n",
        "print(statistics.median(scores))\n",
        "print(statistics.mode(scores))\n"
      ]
    },
    {
      "cell_type": "markdown",
      "metadata": {
        "id": "2rWg_TL3Jeab"
      },
      "source": [
        "## Question time\n",
        "\n",
        "Try Q1 - Q2 below and type \"Got it\" in the chat when you are done."
      ]
    },
    {
      "cell_type": "markdown",
      "metadata": {
        "id": "eV5XOwPuJeac"
      },
      "source": [
        "- **Q1** We can use the [math](https://docs.python.org/3/library/math.html) library to do interesting calculations, but we need to import it first. Eg. the function that performs that finds the square root of a number is called `math.sqrt()` Modify the following code to print out the square root of the variable `number`."
      ]
    },
    {
      "cell_type": "code",
      "execution_count": 5,
      "metadata": {
        "scrolled": false,
        "id": "SWeVSBLWJeac",
        "colab": {
          "base_uri": "https://localhost:8080/"
        },
        "outputId": "58652097-402a-4394-c61b-cfdda4abc0e2"
      },
      "outputs": [
        {
          "output_type": "stream",
          "name": "stdout",
          "text": [
            "9.0\n"
          ]
        }
      ],
      "source": [
        "import math\n",
        "#number =81 original value shown\n",
        "number = math.sqrt(81) ##find sqrt root of number 9*9=81\n",
        "\n",
        "print(number) ##output 9.0"
      ]
    },
    {
      "cell_type": "markdown",
      "metadata": {
        "id": "yU_-j1AKJead"
      },
      "source": [
        "- **Q2** The `str` library is so important that it is included all the time Python runs. Try to print the contents of the variable `all_caps` to the screen in lower case letters. You can use `str.lower()` function on a string variable to do this. Modify the following code so that it prints out in lowercase. (Details on the [str](https://docs.python.org/3/library/string.html) library, if your interested)"
      ]
    },
    {
      "cell_type": "code",
      "execution_count": 8,
      "metadata": {
        "id": "q8XeFoBuJead",
        "colab": {
          "base_uri": "https://localhost:8080/"
        },
        "outputId": "a0530748-e0fb-44d4-c0c7-d2827fd8c738"
      },
      "outputs": [
        {
          "output_type": "stream",
          "name": "stdout",
          "text": [
            "hello\n"
          ]
        }
      ],
      "source": [
        "#all_caps = \"HELLO\" original value shown\n",
        "all_caps = str.lower(\"HELLO\") ##added str.lower\n",
        "print(all_caps)"
      ]
    },
    {
      "cell_type": "markdown",
      "metadata": {
        "id": "DbMhDyT1Jead"
      },
      "source": [
        "\n",
        "# EXERCISE: Analyzing Data\n",
        "\n",
        "![sick](https://upload.wikimedia.org/wikipedia/commons/9/97/Caladrius2.jpg)\n",
        "\n",
        "We'll be focusing on data analysis for the rest of this workshop so let's import some libraries: [pandas](https://pandas.pydata.org/), and [matplotlib](https://matplotlib.org)\n",
        "\n",
        "We'll be exploring how to do analysis with a riff of a data set taken from [Kaggle](https://www.kaggle.com/carlolepelaars/toy-dataset/). It has been localized with Canadian Cities and shortened a tad. \n",
        "\n",
        "You can explore the [file](https://lite.datasette.io/?csv=https://raw.githubusercontent.com/BrockDSL/SQL-Workshop/main/illness.csv) in a separate browser.\n",
        "\n",
        "---\n",
        "\n",
        "![excel preview](https://raw.githubusercontent.com/BrockDSL/Python_2.0_Workshop/master/data_in_excel.png)\n",
        "\n",
        "You could use Excel to do some of this analysis true, but if you have a large dataset, using Excel is going to be difficult to work with.\n",
        "\n",
        "\n",
        "The data has 5 columns\n",
        "- _City_ is a Canadian Cities\n",
        "- _Gender_ is the self reported gender of the person\n",
        "- _Age_ is a integer that represents how old the person in in the record is\n",
        "- _Income_ the annual salary of the person as an integer\n",
        "- _ill_ a 'Yes' or 'No' to indicate if the person is suffering from our mystery illness\n",
        "\n",
        "\n",
        "\n",
        "We want to explore the data to see if we can pick up any insights about who is ill and who is not ill. In part 3 of this workshop we will use machine learning to see if we can make predictions with the data.\n"
      ]
    },
    {
      "cell_type": "code",
      "source": [
        "#each row has data for the 5 columns shown above\n",
        "##EDA = EXPLORATORY DATA ANALYSIS"
      ],
      "metadata": {
        "id": "mhFHYdB7OmAp"
      },
      "execution_count": 10,
      "outputs": []
    },
    {
      "cell_type": "markdown",
      "metadata": {
        "id": "QfA6Sto4Jeae"
      },
      "source": [
        "- **Q3** What types of questions might we want to ask from the data? Provides some ideas in the Zoom chat box"
      ]
    },
    {
      "cell_type": "markdown",
      "metadata": {
        "id": "Z7xP3an4Jeae"
      },
      "source": [
        "## Loading the Libraries\n",
        "\n",
        "To get everything ready we need to load the following cell"
      ]
    },
    {
      "cell_type": "code",
      "execution_count": 12,
      "metadata": {
        "id": "gpi6zFIuJeae",
        "colab": {
          "base_uri": "https://localhost:8080/"
        },
        "outputId": "3a7e3767-dc71-45bd-cd5d-4e74f88b98b4"
      },
      "outputs": [
        {
          "output_type": "stream",
          "name": "stdout",
          "text": [
            "Libraries loaded!\n"
          ]
        }
      ],
      "source": [
        "#Load the Library Pandas, that works with data Alias as pd\n",
        "import pandas as pd\n",
        "\n",
        "#Load the Library Numpy, that works with numerical calculations\n",
        "import numpy as np\n",
        "\n",
        "#These two libraries are often used together!\n",
        "\n",
        "print(\"Libraries loaded!\")"
      ]
    },
    {
      "cell_type": "markdown",
      "metadata": {
        "id": "dTx8xRbbJeaf"
      },
      "source": [
        "## Loading the data\n",
        "\n",
        "- We'll load the data into a pandas `dataframe`. ([More Info](https://realpython.com/pandas-dataframe/)) A dataframe has a lot of properties we can use.\n",
        "- This data is complete, so we don't need to worry about incomplete rows in our observations\n",
        "- We'll take a look at the first 10 lines of the dataset"
      ]
    },
    {
      "cell_type": "code",
      "execution_count": 13,
      "metadata": {
        "scrolled": false,
        "id": "CzmTYtEcJeaf",
        "colab": {
          "base_uri": "https://localhost:8080/",
          "height": 363
        },
        "outputId": "5686ab3e-641a-4f91-a514-332c5f4e582d"
      },
      "outputs": [
        {
          "output_type": "execute_result",
          "data": {
            "text/plain": [
              "       city  gender  age  income ill\n",
              "0  Montreal    Male   41   40367  No\n",
              "1  Montreal    Male   54   45084  No\n",
              "2  Montreal    Male   42   52483  No\n",
              "3  Montreal    Male   40   40941  No\n",
              "4  Montreal    Male   46   50289  No\n",
              "5  Montreal  Female   36   50786  No\n",
              "6  Montreal  Female   32   33155  No\n",
              "7  Montreal    Male   39   30914  No\n",
              "8  Montreal    Male   51   68667  No\n",
              "9  Montreal  Female   30   50082  No"
            ],
            "text/html": [
              "\n",
              "  <div id=\"df-c49e18d1-a31f-4fbd-acb0-7fc9dda90463\">\n",
              "    <div class=\"colab-df-container\">\n",
              "      <div>\n",
              "<style scoped>\n",
              "    .dataframe tbody tr th:only-of-type {\n",
              "        vertical-align: middle;\n",
              "    }\n",
              "\n",
              "    .dataframe tbody tr th {\n",
              "        vertical-align: top;\n",
              "    }\n",
              "\n",
              "    .dataframe thead th {\n",
              "        text-align: right;\n",
              "    }\n",
              "</style>\n",
              "<table border=\"1\" class=\"dataframe\">\n",
              "  <thead>\n",
              "    <tr style=\"text-align: right;\">\n",
              "      <th></th>\n",
              "      <th>city</th>\n",
              "      <th>gender</th>\n",
              "      <th>age</th>\n",
              "      <th>income</th>\n",
              "      <th>ill</th>\n",
              "    </tr>\n",
              "  </thead>\n",
              "  <tbody>\n",
              "    <tr>\n",
              "      <th>0</th>\n",
              "      <td>Montreal</td>\n",
              "      <td>Male</td>\n",
              "      <td>41</td>\n",
              "      <td>40367</td>\n",
              "      <td>No</td>\n",
              "    </tr>\n",
              "    <tr>\n",
              "      <th>1</th>\n",
              "      <td>Montreal</td>\n",
              "      <td>Male</td>\n",
              "      <td>54</td>\n",
              "      <td>45084</td>\n",
              "      <td>No</td>\n",
              "    </tr>\n",
              "    <tr>\n",
              "      <th>2</th>\n",
              "      <td>Montreal</td>\n",
              "      <td>Male</td>\n",
              "      <td>42</td>\n",
              "      <td>52483</td>\n",
              "      <td>No</td>\n",
              "    </tr>\n",
              "    <tr>\n",
              "      <th>3</th>\n",
              "      <td>Montreal</td>\n",
              "      <td>Male</td>\n",
              "      <td>40</td>\n",
              "      <td>40941</td>\n",
              "      <td>No</td>\n",
              "    </tr>\n",
              "    <tr>\n",
              "      <th>4</th>\n",
              "      <td>Montreal</td>\n",
              "      <td>Male</td>\n",
              "      <td>46</td>\n",
              "      <td>50289</td>\n",
              "      <td>No</td>\n",
              "    </tr>\n",
              "    <tr>\n",
              "      <th>5</th>\n",
              "      <td>Montreal</td>\n",
              "      <td>Female</td>\n",
              "      <td>36</td>\n",
              "      <td>50786</td>\n",
              "      <td>No</td>\n",
              "    </tr>\n",
              "    <tr>\n",
              "      <th>6</th>\n",
              "      <td>Montreal</td>\n",
              "      <td>Female</td>\n",
              "      <td>32</td>\n",
              "      <td>33155</td>\n",
              "      <td>No</td>\n",
              "    </tr>\n",
              "    <tr>\n",
              "      <th>7</th>\n",
              "      <td>Montreal</td>\n",
              "      <td>Male</td>\n",
              "      <td>39</td>\n",
              "      <td>30914</td>\n",
              "      <td>No</td>\n",
              "    </tr>\n",
              "    <tr>\n",
              "      <th>8</th>\n",
              "      <td>Montreal</td>\n",
              "      <td>Male</td>\n",
              "      <td>51</td>\n",
              "      <td>68667</td>\n",
              "      <td>No</td>\n",
              "    </tr>\n",
              "    <tr>\n",
              "      <th>9</th>\n",
              "      <td>Montreal</td>\n",
              "      <td>Female</td>\n",
              "      <td>30</td>\n",
              "      <td>50082</td>\n",
              "      <td>No</td>\n",
              "    </tr>\n",
              "  </tbody>\n",
              "</table>\n",
              "</div>\n",
              "      <button class=\"colab-df-convert\" onclick=\"convertToInteractive('df-c49e18d1-a31f-4fbd-acb0-7fc9dda90463')\"\n",
              "              title=\"Convert this dataframe to an interactive table.\"\n",
              "              style=\"display:none;\">\n",
              "        \n",
              "  <svg xmlns=\"http://www.w3.org/2000/svg\" height=\"24px\"viewBox=\"0 0 24 24\"\n",
              "       width=\"24px\">\n",
              "    <path d=\"M0 0h24v24H0V0z\" fill=\"none\"/>\n",
              "    <path d=\"M18.56 5.44l.94 2.06.94-2.06 2.06-.94-2.06-.94-.94-2.06-.94 2.06-2.06.94zm-11 1L8.5 8.5l.94-2.06 2.06-.94-2.06-.94L8.5 2.5l-.94 2.06-2.06.94zm10 10l.94 2.06.94-2.06 2.06-.94-2.06-.94-.94-2.06-.94 2.06-2.06.94z\"/><path d=\"M17.41 7.96l-1.37-1.37c-.4-.4-.92-.59-1.43-.59-.52 0-1.04.2-1.43.59L10.3 9.45l-7.72 7.72c-.78.78-.78 2.05 0 2.83L4 21.41c.39.39.9.59 1.41.59.51 0 1.02-.2 1.41-.59l7.78-7.78 2.81-2.81c.8-.78.8-2.07 0-2.86zM5.41 20L4 18.59l7.72-7.72 1.47 1.35L5.41 20z\"/>\n",
              "  </svg>\n",
              "      </button>\n",
              "      \n",
              "  <style>\n",
              "    .colab-df-container {\n",
              "      display:flex;\n",
              "      flex-wrap:wrap;\n",
              "      gap: 12px;\n",
              "    }\n",
              "\n",
              "    .colab-df-convert {\n",
              "      background-color: #E8F0FE;\n",
              "      border: none;\n",
              "      border-radius: 50%;\n",
              "      cursor: pointer;\n",
              "      display: none;\n",
              "      fill: #1967D2;\n",
              "      height: 32px;\n",
              "      padding: 0 0 0 0;\n",
              "      width: 32px;\n",
              "    }\n",
              "\n",
              "    .colab-df-convert:hover {\n",
              "      background-color: #E2EBFA;\n",
              "      box-shadow: 0px 1px 2px rgba(60, 64, 67, 0.3), 0px 1px 3px 1px rgba(60, 64, 67, 0.15);\n",
              "      fill: #174EA6;\n",
              "    }\n",
              "\n",
              "    [theme=dark] .colab-df-convert {\n",
              "      background-color: #3B4455;\n",
              "      fill: #D2E3FC;\n",
              "    }\n",
              "\n",
              "    [theme=dark] .colab-df-convert:hover {\n",
              "      background-color: #434B5C;\n",
              "      box-shadow: 0px 1px 3px 1px rgba(0, 0, 0, 0.15);\n",
              "      filter: drop-shadow(0px 1px 2px rgba(0, 0, 0, 0.3));\n",
              "      fill: #FFFFFF;\n",
              "    }\n",
              "  </style>\n",
              "\n",
              "      <script>\n",
              "        const buttonEl =\n",
              "          document.querySelector('#df-c49e18d1-a31f-4fbd-acb0-7fc9dda90463 button.colab-df-convert');\n",
              "        buttonEl.style.display =\n",
              "          google.colab.kernel.accessAllowed ? 'block' : 'none';\n",
              "\n",
              "        async function convertToInteractive(key) {\n",
              "          const element = document.querySelector('#df-c49e18d1-a31f-4fbd-acb0-7fc9dda90463');\n",
              "          const dataTable =\n",
              "            await google.colab.kernel.invokeFunction('convertToInteractive',\n",
              "                                                     [key], {});\n",
              "          if (!dataTable) return;\n",
              "\n",
              "          const docLinkHtml = 'Like what you see? Visit the ' +\n",
              "            '<a target=\"_blank\" href=https://colab.research.google.com/notebooks/data_table.ipynb>data table notebook</a>'\n",
              "            + ' to learn more about interactive tables.';\n",
              "          element.innerHTML = '';\n",
              "          dataTable['output_type'] = 'display_data';\n",
              "          await google.colab.output.renderOutput(dataTable, element);\n",
              "          const docLink = document.createElement('div');\n",
              "          docLink.innerHTML = docLinkHtml;\n",
              "          element.appendChild(docLink);\n",
              "        }\n",
              "      </script>\n",
              "    </div>\n",
              "  </div>\n",
              "  "
            ]
          },
          "metadata": {},
          "execution_count": 13
        }
      ],
      "source": [
        "#Load the file into a dataframe using the pandas read_csv function\n",
        "data = pd.read_csv(\"https://brockdsl.github.io/Python_2.0_Workshop/canadian_toy_dataset.csv\")\n",
        "\n",
        "#Tell it what our columns are by passing along a list of that information\n",
        "#set the column names for the data\n",
        "data.columns = [\"city\",\"gender\",\"age\",\"income\",\"ill\"]\n",
        "\n",
        "#Show the first 10 lines\n",
        "data.head(10)"
      ]
    },
    {
      "cell_type": "markdown",
      "metadata": {
        "id": "Scn4fj9AJeaf"
      },
      "source": [
        "Pandas can provide us some nice quantitative details about our data by calling the `describe()` function"
      ]
    },
    {
      "cell_type": "code",
      "execution_count": 14,
      "metadata": {
        "id": "7qACz6QUJeaf",
        "colab": {
          "base_uri": "https://localhost:8080/",
          "height": 300
        },
        "outputId": "689aea08-c3b8-4a8d-a4be-579d61e52021"
      },
      "outputs": [
        {
          "output_type": "execute_result",
          "data": {
            "text/plain": [
              "                 age         income\n",
              "count  150000.000000  150000.000000\n",
              "mean       44.950200   91252.798273\n",
              "std        11.572486   24989.500948\n",
              "min        25.000000    -654.000000\n",
              "25%        35.000000   80867.750000\n",
              "50%        45.000000   93655.000000\n",
              "75%        55.000000  104519.000000\n",
              "max        65.000000  177157.000000"
            ],
            "text/html": [
              "\n",
              "  <div id=\"df-546f20da-60a3-4f46-85c3-923e5dd253da\">\n",
              "    <div class=\"colab-df-container\">\n",
              "      <div>\n",
              "<style scoped>\n",
              "    .dataframe tbody tr th:only-of-type {\n",
              "        vertical-align: middle;\n",
              "    }\n",
              "\n",
              "    .dataframe tbody tr th {\n",
              "        vertical-align: top;\n",
              "    }\n",
              "\n",
              "    .dataframe thead th {\n",
              "        text-align: right;\n",
              "    }\n",
              "</style>\n",
              "<table border=\"1\" class=\"dataframe\">\n",
              "  <thead>\n",
              "    <tr style=\"text-align: right;\">\n",
              "      <th></th>\n",
              "      <th>age</th>\n",
              "      <th>income</th>\n",
              "    </tr>\n",
              "  </thead>\n",
              "  <tbody>\n",
              "    <tr>\n",
              "      <th>count</th>\n",
              "      <td>150000.000000</td>\n",
              "      <td>150000.000000</td>\n",
              "    </tr>\n",
              "    <tr>\n",
              "      <th>mean</th>\n",
              "      <td>44.950200</td>\n",
              "      <td>91252.798273</td>\n",
              "    </tr>\n",
              "    <tr>\n",
              "      <th>std</th>\n",
              "      <td>11.572486</td>\n",
              "      <td>24989.500948</td>\n",
              "    </tr>\n",
              "    <tr>\n",
              "      <th>min</th>\n",
              "      <td>25.000000</td>\n",
              "      <td>-654.000000</td>\n",
              "    </tr>\n",
              "    <tr>\n",
              "      <th>25%</th>\n",
              "      <td>35.000000</td>\n",
              "      <td>80867.750000</td>\n",
              "    </tr>\n",
              "    <tr>\n",
              "      <th>50%</th>\n",
              "      <td>45.000000</td>\n",
              "      <td>93655.000000</td>\n",
              "    </tr>\n",
              "    <tr>\n",
              "      <th>75%</th>\n",
              "      <td>55.000000</td>\n",
              "      <td>104519.000000</td>\n",
              "    </tr>\n",
              "    <tr>\n",
              "      <th>max</th>\n",
              "      <td>65.000000</td>\n",
              "      <td>177157.000000</td>\n",
              "    </tr>\n",
              "  </tbody>\n",
              "</table>\n",
              "</div>\n",
              "      <button class=\"colab-df-convert\" onclick=\"convertToInteractive('df-546f20da-60a3-4f46-85c3-923e5dd253da')\"\n",
              "              title=\"Convert this dataframe to an interactive table.\"\n",
              "              style=\"display:none;\">\n",
              "        \n",
              "  <svg xmlns=\"http://www.w3.org/2000/svg\" height=\"24px\"viewBox=\"0 0 24 24\"\n",
              "       width=\"24px\">\n",
              "    <path d=\"M0 0h24v24H0V0z\" fill=\"none\"/>\n",
              "    <path d=\"M18.56 5.44l.94 2.06.94-2.06 2.06-.94-2.06-.94-.94-2.06-.94 2.06-2.06.94zm-11 1L8.5 8.5l.94-2.06 2.06-.94-2.06-.94L8.5 2.5l-.94 2.06-2.06.94zm10 10l.94 2.06.94-2.06 2.06-.94-2.06-.94-.94-2.06-.94 2.06-2.06.94z\"/><path d=\"M17.41 7.96l-1.37-1.37c-.4-.4-.92-.59-1.43-.59-.52 0-1.04.2-1.43.59L10.3 9.45l-7.72 7.72c-.78.78-.78 2.05 0 2.83L4 21.41c.39.39.9.59 1.41.59.51 0 1.02-.2 1.41-.59l7.78-7.78 2.81-2.81c.8-.78.8-2.07 0-2.86zM5.41 20L4 18.59l7.72-7.72 1.47 1.35L5.41 20z\"/>\n",
              "  </svg>\n",
              "      </button>\n",
              "      \n",
              "  <style>\n",
              "    .colab-df-container {\n",
              "      display:flex;\n",
              "      flex-wrap:wrap;\n",
              "      gap: 12px;\n",
              "    }\n",
              "\n",
              "    .colab-df-convert {\n",
              "      background-color: #E8F0FE;\n",
              "      border: none;\n",
              "      border-radius: 50%;\n",
              "      cursor: pointer;\n",
              "      display: none;\n",
              "      fill: #1967D2;\n",
              "      height: 32px;\n",
              "      padding: 0 0 0 0;\n",
              "      width: 32px;\n",
              "    }\n",
              "\n",
              "    .colab-df-convert:hover {\n",
              "      background-color: #E2EBFA;\n",
              "      box-shadow: 0px 1px 2px rgba(60, 64, 67, 0.3), 0px 1px 3px 1px rgba(60, 64, 67, 0.15);\n",
              "      fill: #174EA6;\n",
              "    }\n",
              "\n",
              "    [theme=dark] .colab-df-convert {\n",
              "      background-color: #3B4455;\n",
              "      fill: #D2E3FC;\n",
              "    }\n",
              "\n",
              "    [theme=dark] .colab-df-convert:hover {\n",
              "      background-color: #434B5C;\n",
              "      box-shadow: 0px 1px 3px 1px rgba(0, 0, 0, 0.15);\n",
              "      filter: drop-shadow(0px 1px 2px rgba(0, 0, 0, 0.3));\n",
              "      fill: #FFFFFF;\n",
              "    }\n",
              "  </style>\n",
              "\n",
              "      <script>\n",
              "        const buttonEl =\n",
              "          document.querySelector('#df-546f20da-60a3-4f46-85c3-923e5dd253da button.colab-df-convert');\n",
              "        buttonEl.style.display =\n",
              "          google.colab.kernel.accessAllowed ? 'block' : 'none';\n",
              "\n",
              "        async function convertToInteractive(key) {\n",
              "          const element = document.querySelector('#df-546f20da-60a3-4f46-85c3-923e5dd253da');\n",
              "          const dataTable =\n",
              "            await google.colab.kernel.invokeFunction('convertToInteractive',\n",
              "                                                     [key], {});\n",
              "          if (!dataTable) return;\n",
              "\n",
              "          const docLinkHtml = 'Like what you see? Visit the ' +\n",
              "            '<a target=\"_blank\" href=https://colab.research.google.com/notebooks/data_table.ipynb>data table notebook</a>'\n",
              "            + ' to learn more about interactive tables.';\n",
              "          element.innerHTML = '';\n",
              "          dataTable['output_type'] = 'display_data';\n",
              "          await google.colab.output.renderOutput(dataTable, element);\n",
              "          const docLink = document.createElement('div');\n",
              "          docLink.innerHTML = docLinkHtml;\n",
              "          element.appendChild(docLink);\n",
              "        }\n",
              "      </script>\n",
              "    </div>\n",
              "  </div>\n",
              "  "
            ]
          },
          "metadata": {},
          "execution_count": 14
        }
      ],
      "source": [
        "##.describe() give the stats for numerical columns type int, float ie age and income\n",
        "##different functions min,mean,max,count etc\n",
        "data.describe()"
      ]
    },
    {
      "cell_type": "markdown",
      "metadata": {
        "id": "Bfbe_EJyJeag"
      },
      "source": [
        "## Grouping and  Counting\n",
        "\n",
        "- We can also gather the entries we need by grouping them together with the `.groupby()` function. We can chain these things together to ask very specific questions of the data.\n",
        "- We pass what column we'd like to group the data by\n",
        "- We add `.count()` if we are just interested in the counts and not the dataframe\n"
      ]
    },
    {
      "cell_type": "markdown",
      "metadata": {
        "id": "v-AkCjy2Jeag"
      },
      "source": [
        "How many people are `ill`?"
      ]
    },
    {
      "cell_type": "code",
      "execution_count": 15,
      "metadata": {
        "scrolled": false,
        "id": "0IsV_YA5Jeag",
        "colab": {
          "base_uri": "https://localhost:8080/"
        },
        "outputId": "b24b1208-b80e-4d74-8d51-b2561bb5a157"
      },
      "outputs": [
        {
          "output_type": "execute_result",
          "data": {
            "text/plain": [
              "<pandas.core.groupby.generic.DataFrameGroupBy object at 0x7f806b9f4820>"
            ]
          },
          "metadata": {},
          "execution_count": 15
        }
      ],
      "source": [
        "data.groupby(\"ill\")"
      ]
    },
    {
      "cell_type": "code",
      "execution_count": 16,
      "metadata": {
        "scrolled": true,
        "id": "aUX42fCHJeag",
        "colab": {
          "base_uri": "https://localhost:8080/",
          "height": 143
        },
        "outputId": "ee9452d5-a537-4b46-c502-42ae54b386a9"
      },
      "outputs": [
        {
          "output_type": "execute_result",
          "data": {
            "text/plain": [
              "       city  gender     age  income\n",
              "ill                                \n",
              "No   137861  137861  137861  137861\n",
              "Yes   12139   12139   12139   12139"
            ],
            "text/html": [
              "\n",
              "  <div id=\"df-f237756f-ef58-495b-98d1-dfac81a2fb73\">\n",
              "    <div class=\"colab-df-container\">\n",
              "      <div>\n",
              "<style scoped>\n",
              "    .dataframe tbody tr th:only-of-type {\n",
              "        vertical-align: middle;\n",
              "    }\n",
              "\n",
              "    .dataframe tbody tr th {\n",
              "        vertical-align: top;\n",
              "    }\n",
              "\n",
              "    .dataframe thead th {\n",
              "        text-align: right;\n",
              "    }\n",
              "</style>\n",
              "<table border=\"1\" class=\"dataframe\">\n",
              "  <thead>\n",
              "    <tr style=\"text-align: right;\">\n",
              "      <th></th>\n",
              "      <th>city</th>\n",
              "      <th>gender</th>\n",
              "      <th>age</th>\n",
              "      <th>income</th>\n",
              "    </tr>\n",
              "    <tr>\n",
              "      <th>ill</th>\n",
              "      <th></th>\n",
              "      <th></th>\n",
              "      <th></th>\n",
              "      <th></th>\n",
              "    </tr>\n",
              "  </thead>\n",
              "  <tbody>\n",
              "    <tr>\n",
              "      <th>No</th>\n",
              "      <td>137861</td>\n",
              "      <td>137861</td>\n",
              "      <td>137861</td>\n",
              "      <td>137861</td>\n",
              "    </tr>\n",
              "    <tr>\n",
              "      <th>Yes</th>\n",
              "      <td>12139</td>\n",
              "      <td>12139</td>\n",
              "      <td>12139</td>\n",
              "      <td>12139</td>\n",
              "    </tr>\n",
              "  </tbody>\n",
              "</table>\n",
              "</div>\n",
              "      <button class=\"colab-df-convert\" onclick=\"convertToInteractive('df-f237756f-ef58-495b-98d1-dfac81a2fb73')\"\n",
              "              title=\"Convert this dataframe to an interactive table.\"\n",
              "              style=\"display:none;\">\n",
              "        \n",
              "  <svg xmlns=\"http://www.w3.org/2000/svg\" height=\"24px\"viewBox=\"0 0 24 24\"\n",
              "       width=\"24px\">\n",
              "    <path d=\"M0 0h24v24H0V0z\" fill=\"none\"/>\n",
              "    <path d=\"M18.56 5.44l.94 2.06.94-2.06 2.06-.94-2.06-.94-.94-2.06-.94 2.06-2.06.94zm-11 1L8.5 8.5l.94-2.06 2.06-.94-2.06-.94L8.5 2.5l-.94 2.06-2.06.94zm10 10l.94 2.06.94-2.06 2.06-.94-2.06-.94-.94-2.06-.94 2.06-2.06.94z\"/><path d=\"M17.41 7.96l-1.37-1.37c-.4-.4-.92-.59-1.43-.59-.52 0-1.04.2-1.43.59L10.3 9.45l-7.72 7.72c-.78.78-.78 2.05 0 2.83L4 21.41c.39.39.9.59 1.41.59.51 0 1.02-.2 1.41-.59l7.78-7.78 2.81-2.81c.8-.78.8-2.07 0-2.86zM5.41 20L4 18.59l7.72-7.72 1.47 1.35L5.41 20z\"/>\n",
              "  </svg>\n",
              "      </button>\n",
              "      \n",
              "  <style>\n",
              "    .colab-df-container {\n",
              "      display:flex;\n",
              "      flex-wrap:wrap;\n",
              "      gap: 12px;\n",
              "    }\n",
              "\n",
              "    .colab-df-convert {\n",
              "      background-color: #E8F0FE;\n",
              "      border: none;\n",
              "      border-radius: 50%;\n",
              "      cursor: pointer;\n",
              "      display: none;\n",
              "      fill: #1967D2;\n",
              "      height: 32px;\n",
              "      padding: 0 0 0 0;\n",
              "      width: 32px;\n",
              "    }\n",
              "\n",
              "    .colab-df-convert:hover {\n",
              "      background-color: #E2EBFA;\n",
              "      box-shadow: 0px 1px 2px rgba(60, 64, 67, 0.3), 0px 1px 3px 1px rgba(60, 64, 67, 0.15);\n",
              "      fill: #174EA6;\n",
              "    }\n",
              "\n",
              "    [theme=dark] .colab-df-convert {\n",
              "      background-color: #3B4455;\n",
              "      fill: #D2E3FC;\n",
              "    }\n",
              "\n",
              "    [theme=dark] .colab-df-convert:hover {\n",
              "      background-color: #434B5C;\n",
              "      box-shadow: 0px 1px 3px 1px rgba(0, 0, 0, 0.15);\n",
              "      filter: drop-shadow(0px 1px 2px rgba(0, 0, 0, 0.3));\n",
              "      fill: #FFFFFF;\n",
              "    }\n",
              "  </style>\n",
              "\n",
              "      <script>\n",
              "        const buttonEl =\n",
              "          document.querySelector('#df-f237756f-ef58-495b-98d1-dfac81a2fb73 button.colab-df-convert');\n",
              "        buttonEl.style.display =\n",
              "          google.colab.kernel.accessAllowed ? 'block' : 'none';\n",
              "\n",
              "        async function convertToInteractive(key) {\n",
              "          const element = document.querySelector('#df-f237756f-ef58-495b-98d1-dfac81a2fb73');\n",
              "          const dataTable =\n",
              "            await google.colab.kernel.invokeFunction('convertToInteractive',\n",
              "                                                     [key], {});\n",
              "          if (!dataTable) return;\n",
              "\n",
              "          const docLinkHtml = 'Like what you see? Visit the ' +\n",
              "            '<a target=\"_blank\" href=https://colab.research.google.com/notebooks/data_table.ipynb>data table notebook</a>'\n",
              "            + ' to learn more about interactive tables.';\n",
              "          element.innerHTML = '';\n",
              "          dataTable['output_type'] = 'display_data';\n",
              "          await google.colab.output.renderOutput(dataTable, element);\n",
              "          const docLink = document.createElement('div');\n",
              "          docLink.innerHTML = docLinkHtml;\n",
              "          element.appendChild(docLink);\n",
              "        }\n",
              "      </script>\n",
              "    </div>\n",
              "  </div>\n",
              "  "
            ]
          },
          "metadata": {},
          "execution_count": 16
        }
      ],
      "source": [
        "##count on the  ill column and group by\n",
        "data.groupby(\"ill\").count()"
      ]
    },
    {
      "cell_type": "markdown",
      "metadata": {
        "id": "FPcIBcf8Jeag"
      },
      "source": [
        "Try questions Q4 & Q5 below and type \"Finished!\" in the chat box when you are done"
      ]
    },
    {
      "cell_type": "markdown",
      "metadata": {
        "id": "aZTX-EEoJeag"
      },
      "source": [
        "- **Q4** How many people are `Male` in this dataset?"
      ]
    },
    {
      "cell_type": "code",
      "execution_count": 29,
      "metadata": {
        "id": "VnPohtZ4Jeah",
        "colab": {
          "base_uri": "https://localhost:8080/",
          "height": 143
        },
        "outputId": "aa0f57bb-2ae2-4090-d410-c0cafbdebe06"
      },
      "outputs": [
        {
          "output_type": "execute_result",
          "data": {
            "text/plain": [
              "         city    age  income    ill\n",
              "gender                             \n",
              "Female  66200  66200   66200  66200\n",
              "Male    83800  83800   83800  83800"
            ],
            "text/html": [
              "\n",
              "  <div id=\"df-38073910-0bf1-4430-8127-01c3a78f53ff\">\n",
              "    <div class=\"colab-df-container\">\n",
              "      <div>\n",
              "<style scoped>\n",
              "    .dataframe tbody tr th:only-of-type {\n",
              "        vertical-align: middle;\n",
              "    }\n",
              "\n",
              "    .dataframe tbody tr th {\n",
              "        vertical-align: top;\n",
              "    }\n",
              "\n",
              "    .dataframe thead th {\n",
              "        text-align: right;\n",
              "    }\n",
              "</style>\n",
              "<table border=\"1\" class=\"dataframe\">\n",
              "  <thead>\n",
              "    <tr style=\"text-align: right;\">\n",
              "      <th></th>\n",
              "      <th>city</th>\n",
              "      <th>age</th>\n",
              "      <th>income</th>\n",
              "      <th>ill</th>\n",
              "    </tr>\n",
              "    <tr>\n",
              "      <th>gender</th>\n",
              "      <th></th>\n",
              "      <th></th>\n",
              "      <th></th>\n",
              "      <th></th>\n",
              "    </tr>\n",
              "  </thead>\n",
              "  <tbody>\n",
              "    <tr>\n",
              "      <th>Female</th>\n",
              "      <td>66200</td>\n",
              "      <td>66200</td>\n",
              "      <td>66200</td>\n",
              "      <td>66200</td>\n",
              "    </tr>\n",
              "    <tr>\n",
              "      <th>Male</th>\n",
              "      <td>83800</td>\n",
              "      <td>83800</td>\n",
              "      <td>83800</td>\n",
              "      <td>83800</td>\n",
              "    </tr>\n",
              "  </tbody>\n",
              "</table>\n",
              "</div>\n",
              "      <button class=\"colab-df-convert\" onclick=\"convertToInteractive('df-38073910-0bf1-4430-8127-01c3a78f53ff')\"\n",
              "              title=\"Convert this dataframe to an interactive table.\"\n",
              "              style=\"display:none;\">\n",
              "        \n",
              "  <svg xmlns=\"http://www.w3.org/2000/svg\" height=\"24px\"viewBox=\"0 0 24 24\"\n",
              "       width=\"24px\">\n",
              "    <path d=\"M0 0h24v24H0V0z\" fill=\"none\"/>\n",
              "    <path d=\"M18.56 5.44l.94 2.06.94-2.06 2.06-.94-2.06-.94-.94-2.06-.94 2.06-2.06.94zm-11 1L8.5 8.5l.94-2.06 2.06-.94-2.06-.94L8.5 2.5l-.94 2.06-2.06.94zm10 10l.94 2.06.94-2.06 2.06-.94-2.06-.94-.94-2.06-.94 2.06-2.06.94z\"/><path d=\"M17.41 7.96l-1.37-1.37c-.4-.4-.92-.59-1.43-.59-.52 0-1.04.2-1.43.59L10.3 9.45l-7.72 7.72c-.78.78-.78 2.05 0 2.83L4 21.41c.39.39.9.59 1.41.59.51 0 1.02-.2 1.41-.59l7.78-7.78 2.81-2.81c.8-.78.8-2.07 0-2.86zM5.41 20L4 18.59l7.72-7.72 1.47 1.35L5.41 20z\"/>\n",
              "  </svg>\n",
              "      </button>\n",
              "      \n",
              "  <style>\n",
              "    .colab-df-container {\n",
              "      display:flex;\n",
              "      flex-wrap:wrap;\n",
              "      gap: 12px;\n",
              "    }\n",
              "\n",
              "    .colab-df-convert {\n",
              "      background-color: #E8F0FE;\n",
              "      border: none;\n",
              "      border-radius: 50%;\n",
              "      cursor: pointer;\n",
              "      display: none;\n",
              "      fill: #1967D2;\n",
              "      height: 32px;\n",
              "      padding: 0 0 0 0;\n",
              "      width: 32px;\n",
              "    }\n",
              "\n",
              "    .colab-df-convert:hover {\n",
              "      background-color: #E2EBFA;\n",
              "      box-shadow: 0px 1px 2px rgba(60, 64, 67, 0.3), 0px 1px 3px 1px rgba(60, 64, 67, 0.15);\n",
              "      fill: #174EA6;\n",
              "    }\n",
              "\n",
              "    [theme=dark] .colab-df-convert {\n",
              "      background-color: #3B4455;\n",
              "      fill: #D2E3FC;\n",
              "    }\n",
              "\n",
              "    [theme=dark] .colab-df-convert:hover {\n",
              "      background-color: #434B5C;\n",
              "      box-shadow: 0px 1px 3px 1px rgba(0, 0, 0, 0.15);\n",
              "      filter: drop-shadow(0px 1px 2px rgba(0, 0, 0, 0.3));\n",
              "      fill: #FFFFFF;\n",
              "    }\n",
              "  </style>\n",
              "\n",
              "      <script>\n",
              "        const buttonEl =\n",
              "          document.querySelector('#df-38073910-0bf1-4430-8127-01c3a78f53ff button.colab-df-convert');\n",
              "        buttonEl.style.display =\n",
              "          google.colab.kernel.accessAllowed ? 'block' : 'none';\n",
              "\n",
              "        async function convertToInteractive(key) {\n",
              "          const element = document.querySelector('#df-38073910-0bf1-4430-8127-01c3a78f53ff');\n",
              "          const dataTable =\n",
              "            await google.colab.kernel.invokeFunction('convertToInteractive',\n",
              "                                                     [key], {});\n",
              "          if (!dataTable) return;\n",
              "\n",
              "          const docLinkHtml = 'Like what you see? Visit the ' +\n",
              "            '<a target=\"_blank\" href=https://colab.research.google.com/notebooks/data_table.ipynb>data table notebook</a>'\n",
              "            + ' to learn more about interactive tables.';\n",
              "          element.innerHTML = '';\n",
              "          dataTable['output_type'] = 'display_data';\n",
              "          await google.colab.output.renderOutput(dataTable, element);\n",
              "          const docLink = document.createElement('div');\n",
              "          docLink.innerHTML = docLinkHtml;\n",
              "          element.appendChild(docLink);\n",
              "        }\n",
              "      </script>\n",
              "    </div>\n",
              "  </div>\n",
              "  "
            ]
          },
          "metadata": {},
          "execution_count": 29
        }
      ],
      "source": [
        "\n",
        "data.groupby(\"gender\").count()"
      ]
    },
    {
      "cell_type": "markdown",
      "metadata": {
        "id": "esU3p2DiJeah"
      },
      "source": [
        "- **Q5** How many different cities are in the dataset?"
      ]
    },
    {
      "cell_type": "code",
      "execution_count": 30,
      "metadata": {
        "scrolled": true,
        "id": "IkSukx3KJeah",
        "colab": {
          "base_uri": "https://localhost:8080/",
          "height": 331
        },
        "outputId": "b3449853-e9df-4ed2-c71e-a83b55d92e06"
      },
      "outputs": [
        {
          "output_type": "execute_result",
          "data": {
            "text/plain": [
              "           gender    age  income    ill\n",
              "city                                   \n",
              "Edmonton    12292  12292   12292  12292\n",
              "Halifax      8301   8301    8301   8301\n",
              "Montreal    19707  19707   19707  19707\n",
              "Ottawa       8120   8120    8120   8120\n",
              "Regina       4881   4881    4881   4881\n",
              "Toronto     50307  50307   50307  50307\n",
              "Vancouver   32173  32173   32173  32173\n",
              "Waterloo    14219  14219   14219  14219"
            ],
            "text/html": [
              "\n",
              "  <div id=\"df-7663e122-c690-4c30-9c41-48212b7e256b\">\n",
              "    <div class=\"colab-df-container\">\n",
              "      <div>\n",
              "<style scoped>\n",
              "    .dataframe tbody tr th:only-of-type {\n",
              "        vertical-align: middle;\n",
              "    }\n",
              "\n",
              "    .dataframe tbody tr th {\n",
              "        vertical-align: top;\n",
              "    }\n",
              "\n",
              "    .dataframe thead th {\n",
              "        text-align: right;\n",
              "    }\n",
              "</style>\n",
              "<table border=\"1\" class=\"dataframe\">\n",
              "  <thead>\n",
              "    <tr style=\"text-align: right;\">\n",
              "      <th></th>\n",
              "      <th>gender</th>\n",
              "      <th>age</th>\n",
              "      <th>income</th>\n",
              "      <th>ill</th>\n",
              "    </tr>\n",
              "    <tr>\n",
              "      <th>city</th>\n",
              "      <th></th>\n",
              "      <th></th>\n",
              "      <th></th>\n",
              "      <th></th>\n",
              "    </tr>\n",
              "  </thead>\n",
              "  <tbody>\n",
              "    <tr>\n",
              "      <th>Edmonton</th>\n",
              "      <td>12292</td>\n",
              "      <td>12292</td>\n",
              "      <td>12292</td>\n",
              "      <td>12292</td>\n",
              "    </tr>\n",
              "    <tr>\n",
              "      <th>Halifax</th>\n",
              "      <td>8301</td>\n",
              "      <td>8301</td>\n",
              "      <td>8301</td>\n",
              "      <td>8301</td>\n",
              "    </tr>\n",
              "    <tr>\n",
              "      <th>Montreal</th>\n",
              "      <td>19707</td>\n",
              "      <td>19707</td>\n",
              "      <td>19707</td>\n",
              "      <td>19707</td>\n",
              "    </tr>\n",
              "    <tr>\n",
              "      <th>Ottawa</th>\n",
              "      <td>8120</td>\n",
              "      <td>8120</td>\n",
              "      <td>8120</td>\n",
              "      <td>8120</td>\n",
              "    </tr>\n",
              "    <tr>\n",
              "      <th>Regina</th>\n",
              "      <td>4881</td>\n",
              "      <td>4881</td>\n",
              "      <td>4881</td>\n",
              "      <td>4881</td>\n",
              "    </tr>\n",
              "    <tr>\n",
              "      <th>Toronto</th>\n",
              "      <td>50307</td>\n",
              "      <td>50307</td>\n",
              "      <td>50307</td>\n",
              "      <td>50307</td>\n",
              "    </tr>\n",
              "    <tr>\n",
              "      <th>Vancouver</th>\n",
              "      <td>32173</td>\n",
              "      <td>32173</td>\n",
              "      <td>32173</td>\n",
              "      <td>32173</td>\n",
              "    </tr>\n",
              "    <tr>\n",
              "      <th>Waterloo</th>\n",
              "      <td>14219</td>\n",
              "      <td>14219</td>\n",
              "      <td>14219</td>\n",
              "      <td>14219</td>\n",
              "    </tr>\n",
              "  </tbody>\n",
              "</table>\n",
              "</div>\n",
              "      <button class=\"colab-df-convert\" onclick=\"convertToInteractive('df-7663e122-c690-4c30-9c41-48212b7e256b')\"\n",
              "              title=\"Convert this dataframe to an interactive table.\"\n",
              "              style=\"display:none;\">\n",
              "        \n",
              "  <svg xmlns=\"http://www.w3.org/2000/svg\" height=\"24px\"viewBox=\"0 0 24 24\"\n",
              "       width=\"24px\">\n",
              "    <path d=\"M0 0h24v24H0V0z\" fill=\"none\"/>\n",
              "    <path d=\"M18.56 5.44l.94 2.06.94-2.06 2.06-.94-2.06-.94-.94-2.06-.94 2.06-2.06.94zm-11 1L8.5 8.5l.94-2.06 2.06-.94-2.06-.94L8.5 2.5l-.94 2.06-2.06.94zm10 10l.94 2.06.94-2.06 2.06-.94-2.06-.94-.94-2.06-.94 2.06-2.06.94z\"/><path d=\"M17.41 7.96l-1.37-1.37c-.4-.4-.92-.59-1.43-.59-.52 0-1.04.2-1.43.59L10.3 9.45l-7.72 7.72c-.78.78-.78 2.05 0 2.83L4 21.41c.39.39.9.59 1.41.59.51 0 1.02-.2 1.41-.59l7.78-7.78 2.81-2.81c.8-.78.8-2.07 0-2.86zM5.41 20L4 18.59l7.72-7.72 1.47 1.35L5.41 20z\"/>\n",
              "  </svg>\n",
              "      </button>\n",
              "      \n",
              "  <style>\n",
              "    .colab-df-container {\n",
              "      display:flex;\n",
              "      flex-wrap:wrap;\n",
              "      gap: 12px;\n",
              "    }\n",
              "\n",
              "    .colab-df-convert {\n",
              "      background-color: #E8F0FE;\n",
              "      border: none;\n",
              "      border-radius: 50%;\n",
              "      cursor: pointer;\n",
              "      display: none;\n",
              "      fill: #1967D2;\n",
              "      height: 32px;\n",
              "      padding: 0 0 0 0;\n",
              "      width: 32px;\n",
              "    }\n",
              "\n",
              "    .colab-df-convert:hover {\n",
              "      background-color: #E2EBFA;\n",
              "      box-shadow: 0px 1px 2px rgba(60, 64, 67, 0.3), 0px 1px 3px 1px rgba(60, 64, 67, 0.15);\n",
              "      fill: #174EA6;\n",
              "    }\n",
              "\n",
              "    [theme=dark] .colab-df-convert {\n",
              "      background-color: #3B4455;\n",
              "      fill: #D2E3FC;\n",
              "    }\n",
              "\n",
              "    [theme=dark] .colab-df-convert:hover {\n",
              "      background-color: #434B5C;\n",
              "      box-shadow: 0px 1px 3px 1px rgba(0, 0, 0, 0.15);\n",
              "      filter: drop-shadow(0px 1px 2px rgba(0, 0, 0, 0.3));\n",
              "      fill: #FFFFFF;\n",
              "    }\n",
              "  </style>\n",
              "\n",
              "      <script>\n",
              "        const buttonEl =\n",
              "          document.querySelector('#df-7663e122-c690-4c30-9c41-48212b7e256b button.colab-df-convert');\n",
              "        buttonEl.style.display =\n",
              "          google.colab.kernel.accessAllowed ? 'block' : 'none';\n",
              "\n",
              "        async function convertToInteractive(key) {\n",
              "          const element = document.querySelector('#df-7663e122-c690-4c30-9c41-48212b7e256b');\n",
              "          const dataTable =\n",
              "            await google.colab.kernel.invokeFunction('convertToInteractive',\n",
              "                                                     [key], {});\n",
              "          if (!dataTable) return;\n",
              "\n",
              "          const docLinkHtml = 'Like what you see? Visit the ' +\n",
              "            '<a target=\"_blank\" href=https://colab.research.google.com/notebooks/data_table.ipynb>data table notebook</a>'\n",
              "            + ' to learn more about interactive tables.';\n",
              "          element.innerHTML = '';\n",
              "          dataTable['output_type'] = 'display_data';\n",
              "          await google.colab.output.renderOutput(dataTable, element);\n",
              "          const docLink = document.createElement('div');\n",
              "          docLink.innerHTML = docLinkHtml;\n",
              "          element.appendChild(docLink);\n",
              "        }\n",
              "      </script>\n",
              "    </div>\n",
              "  </div>\n",
              "  "
            ]
          },
          "metadata": {},
          "execution_count": 30
        }
      ],
      "source": [
        "data.groupby(\"city\").count()"
      ]
    },
    {
      "cell_type": "markdown",
      "metadata": {
        "id": "vXQO8InnJeah"
      },
      "source": [
        "# Square brackets, parentheses, and curly braces\n",
        "\n",
        "One of the things I hear the most from people first learning Python is, 'when should I use brackets, when should I use braces' The best way I can answer that is with the following:\n",
        "\n",
        "- ` ( ) ` round brackets, or parentheses, when dealing with functions\n",
        "- ` [ ] ` square brackets when dealing with lists. eg. all the parameters we pass to dataframes are lists\n",
        "- ` { } ` when we are dealing with dictionaries\n",
        "\n",
        "These are general rules but they should work ok for about 95% of the cases you'll encounter.\n"
      ]
    },
    {
      "cell_type": "code",
      "source": [
        "##show only the city column\n",
        "data.groupby(\"city\")[\"city\"].count()"
      ],
      "metadata": {
        "colab": {
          "base_uri": "https://localhost:8080/"
        },
        "id": "7iFfcsfySzQ-",
        "outputId": "5eb0351b-1752-40a0-be79-569a7baacf87"
      },
      "execution_count": 31,
      "outputs": [
        {
          "output_type": "execute_result",
          "data": {
            "text/plain": [
              "city\n",
              "Edmonton     12292\n",
              "Halifax       8301\n",
              "Montreal     19707\n",
              "Ottawa        8120\n",
              "Regina        4881\n",
              "Toronto      50307\n",
              "Vancouver    32173\n",
              "Waterloo     14219\n",
              "Name: city, dtype: int64"
            ]
          },
          "metadata": {},
          "execution_count": 31
        }
      ]
    },
    {
      "cell_type": "markdown",
      "metadata": {
        "id": "tAqCqe8BJeah"
      },
      "source": [
        "\n",
        "\n",
        "## Grouping and applying functions\n",
        "\n",
        "- If we want to do some math on the data we need to cluster it together a bit. We use `.groupby()` and then apply our mathematical functions to the result\n",
        "- Here we'll use the following 3 functions:\n",
        " - `mean()` finds the arithmetic mean of the data\n",
        " - `max()` finds the largest occurence of data in that column\n",
        " - `min()` finds the smallest occurennce of data in that column\n"
      ]
    },
    {
      "cell_type": "markdown",
      "metadata": {
        "id": "sUrwiRG8Jeah"
      },
      "source": [
        "What is the average income of people in `Waterloo`?"
      ]
    },
    {
      "cell_type": "code",
      "source": [],
      "metadata": {
        "id": "sQEldBX_TwvE"
      },
      "execution_count": 40,
      "outputs": []
    },
    {
      "cell_type": "code",
      "execution_count": 32,
      "metadata": {
        "scrolled": false,
        "id": "l-73aXUGJeah",
        "colab": {
          "base_uri": "https://localhost:8080/"
        },
        "outputId": "515f327b-7385-49d5-b3d4-230be41818ef"
      },
      "outputs": [
        {
          "output_type": "execute_result",
          "data": {
            "text/plain": [
              "city\n",
              "Edmonton      90277.513423\n",
              "Halifax       91554.571497\n",
              "Montreal      45252.231187\n",
              "Ottawa        70991.612808\n",
              "Regina       100756.209178\n",
              "Toronto       96857.131393\n",
              "Vancouver     95264.155410\n",
              "Waterloo     135078.415782\n",
              "Name: income, dtype: float64"
            ]
          },
          "metadata": {},
          "execution_count": 32
        }
      ],
      "source": [
        "data.groupby(\"city\")[\"income\"].mean()"
      ]
    },
    {
      "cell_type": "markdown",
      "metadata": {
        "id": "nrLI__bbJeah"
      },
      "source": [
        "Try questions Q6-Q8 and type \"All done\" into the chat when you are finished\""
      ]
    },
    {
      "cell_type": "markdown",
      "metadata": {
        "id": "FtA4trFAJeah"
      },
      "source": [
        "- **Q6** What is the average age of people in each `city`?"
      ]
    },
    {
      "cell_type": "code",
      "execution_count": 41,
      "metadata": {
        "scrolled": true,
        "id": "lSFfvkIUJeai",
        "colab": {
          "base_uri": "https://localhost:8080/"
        },
        "outputId": "7c4f2a82-d9d0-4266-d2c8-486faf1387de"
      },
      "outputs": [
        {
          "output_type": "execute_result",
          "data": {
            "text/plain": [
              "city\n",
              "Edmonton     44.651237\n",
              "Halifax      45.197807\n",
              "Montreal     45.058761\n",
              "Ottawa       44.802709\n",
              "Regina       44.965171\n",
              "Toronto      44.922118\n",
              "Vancouver    44.994094\n",
              "Waterloo     44.992756\n",
              "Name: age, dtype: float64"
            ]
          },
          "metadata": {},
          "execution_count": 41
        }
      ],
      "source": [
        "data.groupby(\"city\")[\"age\"].mean()"
      ]
    },
    {
      "cell_type": "markdown",
      "metadata": {
        "id": "P066NZnEJeai"
      },
      "source": [
        "- **Q7** What is the minimum age seen in the data?"
      ]
    },
    {
      "cell_type": "code",
      "execution_count": 42,
      "metadata": {
        "id": "idRCU19gJeai",
        "colab": {
          "base_uri": "https://localhost:8080/"
        },
        "outputId": "244e76e4-c1f2-4427-e752-ae12630f9908"
      },
      "outputs": [
        {
          "output_type": "execute_result",
          "data": {
            "text/plain": [
              "city\n",
              "Edmonton     25\n",
              "Halifax      25\n",
              "Montreal     25\n",
              "Ottawa       25\n",
              "Regina       25\n",
              "Toronto      25\n",
              "Vancouver    25\n",
              "Waterloo     25\n",
              "Name: age, dtype: int64"
            ]
          },
          "metadata": {},
          "execution_count": 42
        }
      ],
      "source": [
        "data.groupby(\"city\")[\"age\"].min()"
      ]
    },
    {
      "cell_type": "code",
      "source": [
        "data[\"age\"].min()"
      ],
      "metadata": {
        "colab": {
          "base_uri": "https://localhost:8080/"
        },
        "id": "08BSEUMoVJHc",
        "outputId": "dff71b8d-6ad3-44c2-d087-4b66123a108d"
      },
      "execution_count": 43,
      "outputs": [
        {
          "output_type": "execute_result",
          "data": {
            "text/plain": [
              "25"
            ]
          },
          "metadata": {},
          "execution_count": 43
        }
      ]
    },
    {
      "cell_type": "markdown",
      "metadata": {
        "id": "yCbRHskYJeai"
      },
      "source": [
        "- **Q7, part 2** What is the maximum age seen in the data?"
      ]
    },
    {
      "cell_type": "code",
      "execution_count": 37,
      "metadata": {
        "id": "EvWgAju3Jeai",
        "colab": {
          "base_uri": "https://localhost:8080/"
        },
        "outputId": "1205dbc4-358a-49a2-ae9d-aee7d4506bf3"
      },
      "outputs": [
        {
          "output_type": "execute_result",
          "data": {
            "text/plain": [
              "city\n",
              "Edmonton     65\n",
              "Halifax      65\n",
              "Montreal     65\n",
              "Ottawa       65\n",
              "Regina       65\n",
              "Toronto      65\n",
              "Vancouver    65\n",
              "Waterloo     65\n",
              "Name: age, dtype: int64"
            ]
          },
          "metadata": {},
          "execution_count": 37
        }
      ],
      "source": [
        "data.groupby(\"city\")[\"age\"].max()"
      ]
    },
    {
      "cell_type": "code",
      "source": [
        "data[\"age\"].max()"
      ],
      "metadata": {
        "colab": {
          "base_uri": "https://localhost:8080/"
        },
        "id": "vYXMAU8IVMcz",
        "outputId": "7231d36e-c937-4202-e22c-2be7f1c787f7"
      },
      "execution_count": 44,
      "outputs": [
        {
          "output_type": "execute_result",
          "data": {
            "text/plain": [
              "65"
            ]
          },
          "metadata": {},
          "execution_count": 44
        }
      ]
    },
    {
      "cell_type": "markdown",
      "metadata": {
        "id": "s_rjIoOEJeai"
      },
      "source": [
        "- **Q8** What is the maximum income seen in the data?"
      ]
    },
    {
      "cell_type": "code",
      "execution_count": 38,
      "metadata": {
        "id": "xD_FfGXvJeai",
        "colab": {
          "base_uri": "https://localhost:8080/"
        },
        "outputId": "68c05683-9c4b-4c01-a98f-aa9671897a9a"
      },
      "outputs": [
        {
          "output_type": "execute_result",
          "data": {
            "text/plain": [
              "city\n",
              "Edmonton     132302\n",
              "Halifax      132348\n",
              "Montreal      91479\n",
              "Ottawa       107704\n",
              "Regina       140190\n",
              "Toronto      147170\n",
              "Vancouver    141249\n",
              "Waterloo     177157\n",
              "Name: income, dtype: int64"
            ]
          },
          "metadata": {},
          "execution_count": 38
        }
      ],
      "source": [
        "data.groupby(\"city\")[\"income\"].max()"
      ]
    },
    {
      "cell_type": "code",
      "source": [
        "data[\"income\"].max()"
      ],
      "metadata": {
        "colab": {
          "base_uri": "https://localhost:8080/"
        },
        "id": "rlfKB-n2VT4c",
        "outputId": "596f10cf-f4db-46b4-ce63-54d11c793bce"
      },
      "execution_count": 45,
      "outputs": [
        {
          "output_type": "execute_result",
          "data": {
            "text/plain": [
              "177157"
            ]
          },
          "metadata": {},
          "execution_count": 45
        }
      ]
    },
    {
      "cell_type": "markdown",
      "metadata": {
        "id": "axrulxweJeai"
      },
      "source": [
        "- **Q8, part 2** What is the minimum income seen in the data?"
      ]
    },
    {
      "cell_type": "code",
      "execution_count": 39,
      "metadata": {
        "id": "Hkrr1nhjJeai",
        "colab": {
          "base_uri": "https://localhost:8080/"
        },
        "outputId": "c3f242ae-06e5-4532-b4c1-2b774093d988"
      },
      "outputs": [
        {
          "output_type": "execute_result",
          "data": {
            "text/plain": [
              "city\n",
              "Edmonton     50602\n",
              "Halifax      48425\n",
              "Montreal      -654\n",
              "Ottawa       33335\n",
              "Regina       64941\n",
              "Toronto      55538\n",
              "Vancouver    51131\n",
              "Waterloo     95202\n",
              "Name: income, dtype: int64"
            ]
          },
          "metadata": {},
          "execution_count": 39
        }
      ],
      "source": [
        "data.groupby(\"city\")[\"income\"].min()"
      ]
    },
    {
      "cell_type": "code",
      "source": [
        "data[\"income\"].min()"
      ],
      "metadata": {
        "colab": {
          "base_uri": "https://localhost:8080/"
        },
        "id": "-EJKHqLwVY7t",
        "outputId": "c0e7d4dd-2434-457c-ccf0-2c824dce4ab8"
      },
      "execution_count": 46,
      "outputs": [
        {
          "output_type": "execute_result",
          "data": {
            "text/plain": [
              "-654"
            ]
          },
          "metadata": {},
          "execution_count": 46
        }
      ]
    },
    {
      "cell_type": "markdown",
      "metadata": {
        "id": "wZsudBlVJeaj"
      },
      "source": [
        "# Sorting & Multi line commands"
      ]
    },
    {
      "cell_type": "markdown",
      "metadata": {
        "id": "EwHIMPOMJeaj"
      },
      "source": [
        "- We can apply sorting to our dataframe actions by using the funciton `.sort_values()`\n",
        "- We need to give what column we'd like to sort it with `by =`\n",
        "- We also need to tell it to display it in an increase way `ascending = False`"
      ]
    },
    {
      "cell_type": "markdown",
      "metadata": {
        "id": "-PTdZBRzJeaj"
      },
      "source": [
        "What city has the most `ill` people? Here we do it in two steps"
      ]
    },
    {
      "cell_type": "code",
      "execution_count": 48,
      "metadata": {
        "id": "Be3DdxOOJeaj",
        "colab": {
          "base_uri": "https://localhost:8080/",
          "height": 331
        },
        "outputId": "03fc7fe6-9707-41de-8c1c-9dee9b376aac"
      },
      "outputs": [
        {
          "output_type": "execute_result",
          "data": {
            "text/plain": [
              "           gender    age  income    ill\n",
              "city                                   \n",
              "Toronto     50307  50307   50307  50307\n",
              "Vancouver   32173  32173   32173  32173\n",
              "Montreal    19707  19707   19707  19707\n",
              "Waterloo    14219  14219   14219  14219\n",
              "Edmonton    12292  12292   12292  12292\n",
              "Halifax      8301   8301    8301   8301\n",
              "Ottawa       8120   8120    8120   8120\n",
              "Regina       4881   4881    4881   4881"
            ],
            "text/html": [
              "\n",
              "  <div id=\"df-d5e7c536-55dd-44be-9f42-a06a54e8f759\">\n",
              "    <div class=\"colab-df-container\">\n",
              "      <div>\n",
              "<style scoped>\n",
              "    .dataframe tbody tr th:only-of-type {\n",
              "        vertical-align: middle;\n",
              "    }\n",
              "\n",
              "    .dataframe tbody tr th {\n",
              "        vertical-align: top;\n",
              "    }\n",
              "\n",
              "    .dataframe thead th {\n",
              "        text-align: right;\n",
              "    }\n",
              "</style>\n",
              "<table border=\"1\" class=\"dataframe\">\n",
              "  <thead>\n",
              "    <tr style=\"text-align: right;\">\n",
              "      <th></th>\n",
              "      <th>gender</th>\n",
              "      <th>age</th>\n",
              "      <th>income</th>\n",
              "      <th>ill</th>\n",
              "    </tr>\n",
              "    <tr>\n",
              "      <th>city</th>\n",
              "      <th></th>\n",
              "      <th></th>\n",
              "      <th></th>\n",
              "      <th></th>\n",
              "    </tr>\n",
              "  </thead>\n",
              "  <tbody>\n",
              "    <tr>\n",
              "      <th>Toronto</th>\n",
              "      <td>50307</td>\n",
              "      <td>50307</td>\n",
              "      <td>50307</td>\n",
              "      <td>50307</td>\n",
              "    </tr>\n",
              "    <tr>\n",
              "      <th>Vancouver</th>\n",
              "      <td>32173</td>\n",
              "      <td>32173</td>\n",
              "      <td>32173</td>\n",
              "      <td>32173</td>\n",
              "    </tr>\n",
              "    <tr>\n",
              "      <th>Montreal</th>\n",
              "      <td>19707</td>\n",
              "      <td>19707</td>\n",
              "      <td>19707</td>\n",
              "      <td>19707</td>\n",
              "    </tr>\n",
              "    <tr>\n",
              "      <th>Waterloo</th>\n",
              "      <td>14219</td>\n",
              "      <td>14219</td>\n",
              "      <td>14219</td>\n",
              "      <td>14219</td>\n",
              "    </tr>\n",
              "    <tr>\n",
              "      <th>Edmonton</th>\n",
              "      <td>12292</td>\n",
              "      <td>12292</td>\n",
              "      <td>12292</td>\n",
              "      <td>12292</td>\n",
              "    </tr>\n",
              "    <tr>\n",
              "      <th>Halifax</th>\n",
              "      <td>8301</td>\n",
              "      <td>8301</td>\n",
              "      <td>8301</td>\n",
              "      <td>8301</td>\n",
              "    </tr>\n",
              "    <tr>\n",
              "      <th>Ottawa</th>\n",
              "      <td>8120</td>\n",
              "      <td>8120</td>\n",
              "      <td>8120</td>\n",
              "      <td>8120</td>\n",
              "    </tr>\n",
              "    <tr>\n",
              "      <th>Regina</th>\n",
              "      <td>4881</td>\n",
              "      <td>4881</td>\n",
              "      <td>4881</td>\n",
              "      <td>4881</td>\n",
              "    </tr>\n",
              "  </tbody>\n",
              "</table>\n",
              "</div>\n",
              "      <button class=\"colab-df-convert\" onclick=\"convertToInteractive('df-d5e7c536-55dd-44be-9f42-a06a54e8f759')\"\n",
              "              title=\"Convert this dataframe to an interactive table.\"\n",
              "              style=\"display:none;\">\n",
              "        \n",
              "  <svg xmlns=\"http://www.w3.org/2000/svg\" height=\"24px\"viewBox=\"0 0 24 24\"\n",
              "       width=\"24px\">\n",
              "    <path d=\"M0 0h24v24H0V0z\" fill=\"none\"/>\n",
              "    <path d=\"M18.56 5.44l.94 2.06.94-2.06 2.06-.94-2.06-.94-.94-2.06-.94 2.06-2.06.94zm-11 1L8.5 8.5l.94-2.06 2.06-.94-2.06-.94L8.5 2.5l-.94 2.06-2.06.94zm10 10l.94 2.06.94-2.06 2.06-.94-2.06-.94-.94-2.06-.94 2.06-2.06.94z\"/><path d=\"M17.41 7.96l-1.37-1.37c-.4-.4-.92-.59-1.43-.59-.52 0-1.04.2-1.43.59L10.3 9.45l-7.72 7.72c-.78.78-.78 2.05 0 2.83L4 21.41c.39.39.9.59 1.41.59.51 0 1.02-.2 1.41-.59l7.78-7.78 2.81-2.81c.8-.78.8-2.07 0-2.86zM5.41 20L4 18.59l7.72-7.72 1.47 1.35L5.41 20z\"/>\n",
              "  </svg>\n",
              "      </button>\n",
              "      \n",
              "  <style>\n",
              "    .colab-df-container {\n",
              "      display:flex;\n",
              "      flex-wrap:wrap;\n",
              "      gap: 12px;\n",
              "    }\n",
              "\n",
              "    .colab-df-convert {\n",
              "      background-color: #E8F0FE;\n",
              "      border: none;\n",
              "      border-radius: 50%;\n",
              "      cursor: pointer;\n",
              "      display: none;\n",
              "      fill: #1967D2;\n",
              "      height: 32px;\n",
              "      padding: 0 0 0 0;\n",
              "      width: 32px;\n",
              "    }\n",
              "\n",
              "    .colab-df-convert:hover {\n",
              "      background-color: #E2EBFA;\n",
              "      box-shadow: 0px 1px 2px rgba(60, 64, 67, 0.3), 0px 1px 3px 1px rgba(60, 64, 67, 0.15);\n",
              "      fill: #174EA6;\n",
              "    }\n",
              "\n",
              "    [theme=dark] .colab-df-convert {\n",
              "      background-color: #3B4455;\n",
              "      fill: #D2E3FC;\n",
              "    }\n",
              "\n",
              "    [theme=dark] .colab-df-convert:hover {\n",
              "      background-color: #434B5C;\n",
              "      box-shadow: 0px 1px 3px 1px rgba(0, 0, 0, 0.15);\n",
              "      filter: drop-shadow(0px 1px 2px rgba(0, 0, 0, 0.3));\n",
              "      fill: #FFFFFF;\n",
              "    }\n",
              "  </style>\n",
              "\n",
              "      <script>\n",
              "        const buttonEl =\n",
              "          document.querySelector('#df-d5e7c536-55dd-44be-9f42-a06a54e8f759 button.colab-df-convert');\n",
              "        buttonEl.style.display =\n",
              "          google.colab.kernel.accessAllowed ? 'block' : 'none';\n",
              "\n",
              "        async function convertToInteractive(key) {\n",
              "          const element = document.querySelector('#df-d5e7c536-55dd-44be-9f42-a06a54e8f759');\n",
              "          const dataTable =\n",
              "            await google.colab.kernel.invokeFunction('convertToInteractive',\n",
              "                                                     [key], {});\n",
              "          if (!dataTable) return;\n",
              "\n",
              "          const docLinkHtml = 'Like what you see? Visit the ' +\n",
              "            '<a target=\"_blank\" href=https://colab.research.google.com/notebooks/data_table.ipynb>data table notebook</a>'\n",
              "            + ' to learn more about interactive tables.';\n",
              "          element.innerHTML = '';\n",
              "          dataTable['output_type'] = 'display_data';\n",
              "          await google.colab.output.renderOutput(dataTable, element);\n",
              "          const docLink = document.createElement('div');\n",
              "          docLink.innerHTML = docLinkHtml;\n",
              "          element.appendChild(docLink);\n",
              "        }\n",
              "      </script>\n",
              "    </div>\n",
              "  </div>\n",
              "  "
            ]
          },
          "metadata": {},
          "execution_count": 48
        }
      ],
      "source": [
        "##new df called by_city\n",
        "by_city = data.groupby(\"city\").count()\n",
        "\n",
        "##another df called sorted_city largest to smallest ascending = false\n",
        "sorted_city = by_city.sort_values(by = \"ill\",ascending = False)\n",
        "\n",
        "##output of sorted_city\n",
        "sorted_city"
      ]
    },
    {
      "cell_type": "markdown",
      "metadata": {
        "id": "ecHec0XKJeaj"
      },
      "source": [
        "We could also do it in one step:"
      ]
    },
    {
      "cell_type": "code",
      "execution_count": 67,
      "metadata": {
        "scrolled": true,
        "id": "r5AQfuSkJeaj",
        "colab": {
          "base_uri": "https://localhost:8080/",
          "height": 331
        },
        "outputId": "5746fdaa-3f2a-4a88-e5bb-d71f844261c1"
      },
      "outputs": [
        {
          "output_type": "execute_result",
          "data": {
            "text/plain": [
              "           gender    age  income    ill\n",
              "city                                   \n",
              "Toronto     50307  50307   50307  50307\n",
              "Vancouver   32173  32173   32173  32173\n",
              "Montreal    19707  19707   19707  19707\n",
              "Waterloo    14219  14219   14219  14219\n",
              "Edmonton    12292  12292   12292  12292\n",
              "Halifax      8301   8301    8301   8301\n",
              "Ottawa       8120   8120    8120   8120\n",
              "Regina       4881   4881    4881   4881"
            ],
            "text/html": [
              "\n",
              "  <div id=\"df-b4cc09ec-e9c1-47e1-a45b-efa97e3a184a\">\n",
              "    <div class=\"colab-df-container\">\n",
              "      <div>\n",
              "<style scoped>\n",
              "    .dataframe tbody tr th:only-of-type {\n",
              "        vertical-align: middle;\n",
              "    }\n",
              "\n",
              "    .dataframe tbody tr th {\n",
              "        vertical-align: top;\n",
              "    }\n",
              "\n",
              "    .dataframe thead th {\n",
              "        text-align: right;\n",
              "    }\n",
              "</style>\n",
              "<table border=\"1\" class=\"dataframe\">\n",
              "  <thead>\n",
              "    <tr style=\"text-align: right;\">\n",
              "      <th></th>\n",
              "      <th>gender</th>\n",
              "      <th>age</th>\n",
              "      <th>income</th>\n",
              "      <th>ill</th>\n",
              "    </tr>\n",
              "    <tr>\n",
              "      <th>city</th>\n",
              "      <th></th>\n",
              "      <th></th>\n",
              "      <th></th>\n",
              "      <th></th>\n",
              "    </tr>\n",
              "  </thead>\n",
              "  <tbody>\n",
              "    <tr>\n",
              "      <th>Toronto</th>\n",
              "      <td>50307</td>\n",
              "      <td>50307</td>\n",
              "      <td>50307</td>\n",
              "      <td>50307</td>\n",
              "    </tr>\n",
              "    <tr>\n",
              "      <th>Vancouver</th>\n",
              "      <td>32173</td>\n",
              "      <td>32173</td>\n",
              "      <td>32173</td>\n",
              "      <td>32173</td>\n",
              "    </tr>\n",
              "    <tr>\n",
              "      <th>Montreal</th>\n",
              "      <td>19707</td>\n",
              "      <td>19707</td>\n",
              "      <td>19707</td>\n",
              "      <td>19707</td>\n",
              "    </tr>\n",
              "    <tr>\n",
              "      <th>Waterloo</th>\n",
              "      <td>14219</td>\n",
              "      <td>14219</td>\n",
              "      <td>14219</td>\n",
              "      <td>14219</td>\n",
              "    </tr>\n",
              "    <tr>\n",
              "      <th>Edmonton</th>\n",
              "      <td>12292</td>\n",
              "      <td>12292</td>\n",
              "      <td>12292</td>\n",
              "      <td>12292</td>\n",
              "    </tr>\n",
              "    <tr>\n",
              "      <th>Halifax</th>\n",
              "      <td>8301</td>\n",
              "      <td>8301</td>\n",
              "      <td>8301</td>\n",
              "      <td>8301</td>\n",
              "    </tr>\n",
              "    <tr>\n",
              "      <th>Ottawa</th>\n",
              "      <td>8120</td>\n",
              "      <td>8120</td>\n",
              "      <td>8120</td>\n",
              "      <td>8120</td>\n",
              "    </tr>\n",
              "    <tr>\n",
              "      <th>Regina</th>\n",
              "      <td>4881</td>\n",
              "      <td>4881</td>\n",
              "      <td>4881</td>\n",
              "      <td>4881</td>\n",
              "    </tr>\n",
              "  </tbody>\n",
              "</table>\n",
              "</div>\n",
              "      <button class=\"colab-df-convert\" onclick=\"convertToInteractive('df-b4cc09ec-e9c1-47e1-a45b-efa97e3a184a')\"\n",
              "              title=\"Convert this dataframe to an interactive table.\"\n",
              "              style=\"display:none;\">\n",
              "        \n",
              "  <svg xmlns=\"http://www.w3.org/2000/svg\" height=\"24px\"viewBox=\"0 0 24 24\"\n",
              "       width=\"24px\">\n",
              "    <path d=\"M0 0h24v24H0V0z\" fill=\"none\"/>\n",
              "    <path d=\"M18.56 5.44l.94 2.06.94-2.06 2.06-.94-2.06-.94-.94-2.06-.94 2.06-2.06.94zm-11 1L8.5 8.5l.94-2.06 2.06-.94-2.06-.94L8.5 2.5l-.94 2.06-2.06.94zm10 10l.94 2.06.94-2.06 2.06-.94-2.06-.94-.94-2.06-.94 2.06-2.06.94z\"/><path d=\"M17.41 7.96l-1.37-1.37c-.4-.4-.92-.59-1.43-.59-.52 0-1.04.2-1.43.59L10.3 9.45l-7.72 7.72c-.78.78-.78 2.05 0 2.83L4 21.41c.39.39.9.59 1.41.59.51 0 1.02-.2 1.41-.59l7.78-7.78 2.81-2.81c.8-.78.8-2.07 0-2.86zM5.41 20L4 18.59l7.72-7.72 1.47 1.35L5.41 20z\"/>\n",
              "  </svg>\n",
              "      </button>\n",
              "      \n",
              "  <style>\n",
              "    .colab-df-container {\n",
              "      display:flex;\n",
              "      flex-wrap:wrap;\n",
              "      gap: 12px;\n",
              "    }\n",
              "\n",
              "    .colab-df-convert {\n",
              "      background-color: #E8F0FE;\n",
              "      border: none;\n",
              "      border-radius: 50%;\n",
              "      cursor: pointer;\n",
              "      display: none;\n",
              "      fill: #1967D2;\n",
              "      height: 32px;\n",
              "      padding: 0 0 0 0;\n",
              "      width: 32px;\n",
              "    }\n",
              "\n",
              "    .colab-df-convert:hover {\n",
              "      background-color: #E2EBFA;\n",
              "      box-shadow: 0px 1px 2px rgba(60, 64, 67, 0.3), 0px 1px 3px 1px rgba(60, 64, 67, 0.15);\n",
              "      fill: #174EA6;\n",
              "    }\n",
              "\n",
              "    [theme=dark] .colab-df-convert {\n",
              "      background-color: #3B4455;\n",
              "      fill: #D2E3FC;\n",
              "    }\n",
              "\n",
              "    [theme=dark] .colab-df-convert:hover {\n",
              "      background-color: #434B5C;\n",
              "      box-shadow: 0px 1px 3px 1px rgba(0, 0, 0, 0.15);\n",
              "      filter: drop-shadow(0px 1px 2px rgba(0, 0, 0, 0.3));\n",
              "      fill: #FFFFFF;\n",
              "    }\n",
              "  </style>\n",
              "\n",
              "      <script>\n",
              "        const buttonEl =\n",
              "          document.querySelector('#df-b4cc09ec-e9c1-47e1-a45b-efa97e3a184a button.colab-df-convert');\n",
              "        buttonEl.style.display =\n",
              "          google.colab.kernel.accessAllowed ? 'block' : 'none';\n",
              "\n",
              "        async function convertToInteractive(key) {\n",
              "          const element = document.querySelector('#df-b4cc09ec-e9c1-47e1-a45b-efa97e3a184a');\n",
              "          const dataTable =\n",
              "            await google.colab.kernel.invokeFunction('convertToInteractive',\n",
              "                                                     [key], {});\n",
              "          if (!dataTable) return;\n",
              "\n",
              "          const docLinkHtml = 'Like what you see? Visit the ' +\n",
              "            '<a target=\"_blank\" href=https://colab.research.google.com/notebooks/data_table.ipynb>data table notebook</a>'\n",
              "            + ' to learn more about interactive tables.';\n",
              "          element.innerHTML = '';\n",
              "          dataTable['output_type'] = 'display_data';\n",
              "          await google.colab.output.renderOutput(dataTable, element);\n",
              "          const docLink = document.createElement('div');\n",
              "          docLink.innerHTML = docLinkHtml;\n",
              "          element.appendChild(docLink);\n",
              "        }\n",
              "      </script>\n",
              "    </div>\n",
              "  </div>\n",
              "  "
            ]
          },
          "metadata": {},
          "execution_count": 67
        }
      ],
      "source": [
        "##same as above but in 1 line\n",
        "data.groupby(\"city\").count().sort_values(by = \"ill\",ascending = False)"
      ]
    },
    {
      "cell_type": "markdown",
      "metadata": {
        "id": "wYx5T2x8Jeaj"
      },
      "source": [
        "## Unique entries & values counts\n",
        "\n",
        "- Here we use `.unique()` to only give the first instances of the item. Results are returned as a list, which is useful for us later\n",
        "- This is useful for seeing how many values are in a categorical column"
      ]
    },
    {
      "cell_type": "code",
      "execution_count": 50,
      "metadata": {
        "scrolled": true,
        "id": "GjL2Y3QLJeaj",
        "colab": {
          "base_uri": "https://localhost:8080/"
        },
        "outputId": "0f5764d0-c760-4c52-ce62-5221681e1f16"
      },
      "outputs": [
        {
          "output_type": "execute_result",
          "data": {
            "text/plain": [
              "array(['Montreal', 'Toronto', 'Vancouver', 'Waterloo', 'Halifax',\n",
              "       'Ottawa', 'Regina', 'Edmonton'], dtype=object)"
            ]
          },
          "metadata": {},
          "execution_count": 50
        }
      ],
      "source": [
        "##unique values in the city column\n",
        "data[\"city\"].unique()"
      ]
    },
    {
      "cell_type": "markdown",
      "metadata": {
        "id": "7u5Yn_67Jeak"
      },
      "source": [
        "What are unique values for the `age` field?"
      ]
    },
    {
      "cell_type": "code",
      "execution_count": 51,
      "metadata": {
        "scrolled": true,
        "id": "wqQMRcM-Jeak",
        "colab": {
          "base_uri": "https://localhost:8080/"
        },
        "outputId": "074047e1-6d86-4a0b-d7cd-de3383361586"
      },
      "outputs": [
        {
          "output_type": "execute_result",
          "data": {
            "text/plain": [
              "array([41, 54, 42, 40, 46, 36, 32, 39, 51, 30, 48, 47, 61, 43, 27, 38, 35,\n",
              "       57, 33, 58, 64, 44, 34, 45, 55, 63, 59, 26, 56, 62, 31, 49, 53, 29,\n",
              "       28, 25, 37, 65, 60, 50, 52])"
            ]
          },
          "metadata": {},
          "execution_count": 51
        }
      ],
      "source": [
        "##unique values in the age column\n",
        "data[\"age\"].unique()"
      ]
    },
    {
      "cell_type": "code",
      "source": [],
      "metadata": {
        "id": "MtqTwX1dYuyz"
      },
      "execution_count": 57,
      "outputs": []
    },
    {
      "cell_type": "code",
      "source": [],
      "metadata": {
        "colab": {
          "base_uri": "https://localhost:8080/",
          "height": 131
        },
        "id": "Lhzd1va9YbHG",
        "outputId": "e0dda7a7-71a8-4217-a9b8-03365f336b18"
      },
      "execution_count": 54,
      "outputs": [
        {
          "output_type": "error",
          "ename": "SyntaxError",
          "evalue": "ignored",
          "traceback": [
            "\u001b[0;36m  File \u001b[0;32m\"<ipython-input-54-bb9fac0d94cf>\"\u001b[0;36m, line \u001b[0;32m1\u001b[0m\n\u001b[0;31m    data[\"age\"].unique(), (ascending = False)\u001b[0m\n\u001b[0m                                     ^\u001b[0m\n\u001b[0;31mSyntaxError\u001b[0m\u001b[0;31m:\u001b[0m invalid syntax\n"
          ]
        }
      ]
    },
    {
      "cell_type": "markdown",
      "metadata": {
        "id": "8RZZ7e7MJeak"
      },
      "source": [
        "- To get total number of unique values and frequency in the data we use `value_counts()` "
      ]
    },
    {
      "cell_type": "code",
      "execution_count": 55,
      "metadata": {
        "scrolled": false,
        "id": "q4I3PW5qJeak",
        "colab": {
          "base_uri": "https://localhost:8080/"
        },
        "outputId": "f515ffbc-984f-47a0-b483-e3400aa35d9e"
      },
      "outputs": [
        {
          "output_type": "execute_result",
          "data": {
            "text/plain": [
              "Toronto      50307\n",
              "Vancouver    32173\n",
              "Montreal     19707\n",
              "Waterloo     14219\n",
              "Edmonton     12292\n",
              "Halifax       8301\n",
              "Ottawa        8120\n",
              "Regina        4881\n",
              "Name: city, dtype: int64"
            ]
          },
          "metadata": {},
          "execution_count": 55
        }
      ],
      "source": [
        "data[\"city\"].value_counts()"
      ]
    },
    {
      "cell_type": "markdown",
      "metadata": {
        "id": "ASLT_T8AJeak"
      },
      "source": [
        "- To get just the number of entries we use `nunique()`"
      ]
    },
    {
      "cell_type": "code",
      "execution_count": 56,
      "metadata": {
        "id": "OKlJq8A4Jeak",
        "colab": {
          "base_uri": "https://localhost:8080/"
        },
        "outputId": "a26504f0-20e2-425f-b57d-d6dcaaccd057"
      },
      "outputs": [
        {
          "output_type": "execute_result",
          "data": {
            "text/plain": [
              "8"
            ]
          },
          "metadata": {},
          "execution_count": 56
        }
      ],
      "source": [
        "data[\"city\"].nunique()"
      ]
    },
    {
      "cell_type": "markdown",
      "metadata": {
        "id": "ggilGv3IJeak"
      },
      "source": [
        "## Selecting subsets of data\n",
        "\n",
        "- To make life easier we can create dataframes that just have the values we are interested in\n",
        "- This is a bit more complicated but follows this type of pattern:\n",
        "\n",
        "```\n",
        "\n",
        "dataframe[  dataframe[search criteria]  ]\n",
        "\n",
        "\n",
        "```\n",
        "\n",
        "- We are basically creating a subset of the dataframe by matching all entries that match `search criteria`\n",
        "- That search criteria can be anything that is a conditional\n",
        "- Doing this gives you a new dataframe"
      ]
    },
    {
      "cell_type": "markdown",
      "metadata": {
        "id": "eqFuS8iZJeal"
      },
      "source": [
        "EG. A new dataframe of people with an income over $100000"
      ]
    },
    {
      "cell_type": "code",
      "execution_count": 60,
      "metadata": {
        "scrolled": false,
        "id": "nA0Ubh6SJeal",
        "colab": {
          "base_uri": "https://localhost:8080/",
          "height": 423
        },
        "outputId": "fb63a463-9148-41a1-9242-94a02f9deca1"
      },
      "outputs": [
        {
          "output_type": "execute_result",
          "data": {
            "text/plain": [
              "            city  gender  age  income ill\n",
              "19707    Toronto    Male   49  112226  No\n",
              "19708    Toronto    Male   42  110534  No\n",
              "19709    Toronto  Female   61  100665  No\n",
              "19713    Toronto    Male   38  120288  No\n",
              "19716    Toronto  Female   39  105036  No\n",
              "...          ...     ...  ...     ...  ..\n",
              "149977  Edmonton    Male   51  107123  No\n",
              "149978  Edmonton    Male   58  100949  No\n",
              "149994  Edmonton  Female   37  106097  No\n",
              "149997  Edmonton    Male   26  111885  No\n",
              "149998  Edmonton    Male   25  111878  No\n",
              "\n",
              "[51845 rows x 5 columns]"
            ],
            "text/html": [
              "\n",
              "  <div id=\"df-5126843e-2924-41bc-b963-218b1fc26d58\">\n",
              "    <div class=\"colab-df-container\">\n",
              "      <div>\n",
              "<style scoped>\n",
              "    .dataframe tbody tr th:only-of-type {\n",
              "        vertical-align: middle;\n",
              "    }\n",
              "\n",
              "    .dataframe tbody tr th {\n",
              "        vertical-align: top;\n",
              "    }\n",
              "\n",
              "    .dataframe thead th {\n",
              "        text-align: right;\n",
              "    }\n",
              "</style>\n",
              "<table border=\"1\" class=\"dataframe\">\n",
              "  <thead>\n",
              "    <tr style=\"text-align: right;\">\n",
              "      <th></th>\n",
              "      <th>city</th>\n",
              "      <th>gender</th>\n",
              "      <th>age</th>\n",
              "      <th>income</th>\n",
              "      <th>ill</th>\n",
              "    </tr>\n",
              "  </thead>\n",
              "  <tbody>\n",
              "    <tr>\n",
              "      <th>19707</th>\n",
              "      <td>Toronto</td>\n",
              "      <td>Male</td>\n",
              "      <td>49</td>\n",
              "      <td>112226</td>\n",
              "      <td>No</td>\n",
              "    </tr>\n",
              "    <tr>\n",
              "      <th>19708</th>\n",
              "      <td>Toronto</td>\n",
              "      <td>Male</td>\n",
              "      <td>42</td>\n",
              "      <td>110534</td>\n",
              "      <td>No</td>\n",
              "    </tr>\n",
              "    <tr>\n",
              "      <th>19709</th>\n",
              "      <td>Toronto</td>\n",
              "      <td>Female</td>\n",
              "      <td>61</td>\n",
              "      <td>100665</td>\n",
              "      <td>No</td>\n",
              "    </tr>\n",
              "    <tr>\n",
              "      <th>19713</th>\n",
              "      <td>Toronto</td>\n",
              "      <td>Male</td>\n",
              "      <td>38</td>\n",
              "      <td>120288</td>\n",
              "      <td>No</td>\n",
              "    </tr>\n",
              "    <tr>\n",
              "      <th>19716</th>\n",
              "      <td>Toronto</td>\n",
              "      <td>Female</td>\n",
              "      <td>39</td>\n",
              "      <td>105036</td>\n",
              "      <td>No</td>\n",
              "    </tr>\n",
              "    <tr>\n",
              "      <th>...</th>\n",
              "      <td>...</td>\n",
              "      <td>...</td>\n",
              "      <td>...</td>\n",
              "      <td>...</td>\n",
              "      <td>...</td>\n",
              "    </tr>\n",
              "    <tr>\n",
              "      <th>149977</th>\n",
              "      <td>Edmonton</td>\n",
              "      <td>Male</td>\n",
              "      <td>51</td>\n",
              "      <td>107123</td>\n",
              "      <td>No</td>\n",
              "    </tr>\n",
              "    <tr>\n",
              "      <th>149978</th>\n",
              "      <td>Edmonton</td>\n",
              "      <td>Male</td>\n",
              "      <td>58</td>\n",
              "      <td>100949</td>\n",
              "      <td>No</td>\n",
              "    </tr>\n",
              "    <tr>\n",
              "      <th>149994</th>\n",
              "      <td>Edmonton</td>\n",
              "      <td>Female</td>\n",
              "      <td>37</td>\n",
              "      <td>106097</td>\n",
              "      <td>No</td>\n",
              "    </tr>\n",
              "    <tr>\n",
              "      <th>149997</th>\n",
              "      <td>Edmonton</td>\n",
              "      <td>Male</td>\n",
              "      <td>26</td>\n",
              "      <td>111885</td>\n",
              "      <td>No</td>\n",
              "    </tr>\n",
              "    <tr>\n",
              "      <th>149998</th>\n",
              "      <td>Edmonton</td>\n",
              "      <td>Male</td>\n",
              "      <td>25</td>\n",
              "      <td>111878</td>\n",
              "      <td>No</td>\n",
              "    </tr>\n",
              "  </tbody>\n",
              "</table>\n",
              "<p>51845 rows × 5 columns</p>\n",
              "</div>\n",
              "      <button class=\"colab-df-convert\" onclick=\"convertToInteractive('df-5126843e-2924-41bc-b963-218b1fc26d58')\"\n",
              "              title=\"Convert this dataframe to an interactive table.\"\n",
              "              style=\"display:none;\">\n",
              "        \n",
              "  <svg xmlns=\"http://www.w3.org/2000/svg\" height=\"24px\"viewBox=\"0 0 24 24\"\n",
              "       width=\"24px\">\n",
              "    <path d=\"M0 0h24v24H0V0z\" fill=\"none\"/>\n",
              "    <path d=\"M18.56 5.44l.94 2.06.94-2.06 2.06-.94-2.06-.94-.94-2.06-.94 2.06-2.06.94zm-11 1L8.5 8.5l.94-2.06 2.06-.94-2.06-.94L8.5 2.5l-.94 2.06-2.06.94zm10 10l.94 2.06.94-2.06 2.06-.94-2.06-.94-.94-2.06-.94 2.06-2.06.94z\"/><path d=\"M17.41 7.96l-1.37-1.37c-.4-.4-.92-.59-1.43-.59-.52 0-1.04.2-1.43.59L10.3 9.45l-7.72 7.72c-.78.78-.78 2.05 0 2.83L4 21.41c.39.39.9.59 1.41.59.51 0 1.02-.2 1.41-.59l7.78-7.78 2.81-2.81c.8-.78.8-2.07 0-2.86zM5.41 20L4 18.59l7.72-7.72 1.47 1.35L5.41 20z\"/>\n",
              "  </svg>\n",
              "      </button>\n",
              "      \n",
              "  <style>\n",
              "    .colab-df-container {\n",
              "      display:flex;\n",
              "      flex-wrap:wrap;\n",
              "      gap: 12px;\n",
              "    }\n",
              "\n",
              "    .colab-df-convert {\n",
              "      background-color: #E8F0FE;\n",
              "      border: none;\n",
              "      border-radius: 50%;\n",
              "      cursor: pointer;\n",
              "      display: none;\n",
              "      fill: #1967D2;\n",
              "      height: 32px;\n",
              "      padding: 0 0 0 0;\n",
              "      width: 32px;\n",
              "    }\n",
              "\n",
              "    .colab-df-convert:hover {\n",
              "      background-color: #E2EBFA;\n",
              "      box-shadow: 0px 1px 2px rgba(60, 64, 67, 0.3), 0px 1px 3px 1px rgba(60, 64, 67, 0.15);\n",
              "      fill: #174EA6;\n",
              "    }\n",
              "\n",
              "    [theme=dark] .colab-df-convert {\n",
              "      background-color: #3B4455;\n",
              "      fill: #D2E3FC;\n",
              "    }\n",
              "\n",
              "    [theme=dark] .colab-df-convert:hover {\n",
              "      background-color: #434B5C;\n",
              "      box-shadow: 0px 1px 3px 1px rgba(0, 0, 0, 0.15);\n",
              "      filter: drop-shadow(0px 1px 2px rgba(0, 0, 0, 0.3));\n",
              "      fill: #FFFFFF;\n",
              "    }\n",
              "  </style>\n",
              "\n",
              "      <script>\n",
              "        const buttonEl =\n",
              "          document.querySelector('#df-5126843e-2924-41bc-b963-218b1fc26d58 button.colab-df-convert');\n",
              "        buttonEl.style.display =\n",
              "          google.colab.kernel.accessAllowed ? 'block' : 'none';\n",
              "\n",
              "        async function convertToInteractive(key) {\n",
              "          const element = document.querySelector('#df-5126843e-2924-41bc-b963-218b1fc26d58');\n",
              "          const dataTable =\n",
              "            await google.colab.kernel.invokeFunction('convertToInteractive',\n",
              "                                                     [key], {});\n",
              "          if (!dataTable) return;\n",
              "\n",
              "          const docLinkHtml = 'Like what you see? Visit the ' +\n",
              "            '<a target=\"_blank\" href=https://colab.research.google.com/notebooks/data_table.ipynb>data table notebook</a>'\n",
              "            + ' to learn more about interactive tables.';\n",
              "          element.innerHTML = '';\n",
              "          dataTable['output_type'] = 'display_data';\n",
              "          await google.colab.output.renderOutput(dataTable, element);\n",
              "          const docLink = document.createElement('div');\n",
              "          docLink.innerHTML = docLinkHtml;\n",
              "          element.appendChild(docLink);\n",
              "        }\n",
              "      </script>\n",
              "    </div>\n",
              "  </div>\n",
              "  "
            ]
          },
          "metadata": {},
          "execution_count": 60
        }
      ],
      "source": [
        "##each row of dataframe where income is >10000\n",
        "over_100k = data[data[\"income\"] > 100000]\n",
        "over_100k"
      ]
    },
    {
      "cell_type": "markdown",
      "metadata": {
        "id": "WysrWOtyJeal"
      },
      "source": [
        "EG. If we want the count of people over 100k, we apply the `.count()` function to what we selected"
      ]
    },
    {
      "cell_type": "code",
      "execution_count": 59,
      "metadata": {
        "scrolled": false,
        "id": "kpo_vubiJeal",
        "colab": {
          "base_uri": "https://localhost:8080/"
        },
        "outputId": "1c04167c-e622-4d15-abe7-f3cdb014658b"
      },
      "outputs": [
        {
          "output_type": "execute_result",
          "data": {
            "text/plain": [
              "city      51845\n",
              "gender    51845\n",
              "age       51845\n",
              "income    51845\n",
              "ill       51845\n",
              "dtype: int64"
            ]
          },
          "metadata": {},
          "execution_count": 59
        }
      ],
      "source": [
        "over_100k.count()"
      ]
    },
    {
      "cell_type": "markdown",
      "metadata": {
        "id": "gETuslc9Jeam"
      },
      "source": [
        "This can be done in 1 line as well"
      ]
    },
    {
      "cell_type": "code",
      "execution_count": 61,
      "metadata": {
        "id": "Jx1OZVGeJeam",
        "colab": {
          "base_uri": "https://localhost:8080/"
        },
        "outputId": "08d36ca5-b6ee-4c07-ded1-0a3c6b098fc9"
      },
      "outputs": [
        {
          "output_type": "execute_result",
          "data": {
            "text/plain": [
              "city      51845\n",
              "gender    51845\n",
              "age       51845\n",
              "income    51845\n",
              "ill       51845\n",
              "dtype: int64"
            ]
          },
          "metadata": {},
          "execution_count": 61
        }
      ],
      "source": [
        "data[data[\"income\"] > 100000].count()"
      ]
    },
    {
      "cell_type": "markdown",
      "metadata": {
        "id": "-hFx8z_6Jeam"
      },
      "source": [
        "Try Q9-Q10 below and type \"I got it\" into the chat when you are done"
      ]
    },
    {
      "cell_type": "markdown",
      "metadata": {
        "id": "gGFjyIQbJean"
      },
      "source": [
        "- **Q9** Can you make a new dataframe that just has people from `Waterloo` in it. Display the first 5 entries."
      ]
    },
    {
      "cell_type": "code",
      "execution_count": 64,
      "metadata": {
        "id": "G8ZOn8QUJean",
        "colab": {
          "base_uri": "https://localhost:8080/",
          "height": 206
        },
        "outputId": "2e0f3fd2-3fb9-4cbf-a72d-326d39e7c661"
      },
      "outputs": [
        {
          "output_type": "execute_result",
          "data": {
            "text/plain": [
              "            city  gender  age  income ill\n",
              "102187  Waterloo    Male   31  150367  No\n",
              "102188  Waterloo  Female   36  130426  No\n",
              "102189  Waterloo  Female   42  130216  No\n",
              "102190  Waterloo    Male   62  143263  No\n",
              "102191  Waterloo  Female   48  152273  No"
            ],
            "text/html": [
              "\n",
              "  <div id=\"df-35c402a3-bac0-4743-b00e-7ea86feae0af\">\n",
              "    <div class=\"colab-df-container\">\n",
              "      <div>\n",
              "<style scoped>\n",
              "    .dataframe tbody tr th:only-of-type {\n",
              "        vertical-align: middle;\n",
              "    }\n",
              "\n",
              "    .dataframe tbody tr th {\n",
              "        vertical-align: top;\n",
              "    }\n",
              "\n",
              "    .dataframe thead th {\n",
              "        text-align: right;\n",
              "    }\n",
              "</style>\n",
              "<table border=\"1\" class=\"dataframe\">\n",
              "  <thead>\n",
              "    <tr style=\"text-align: right;\">\n",
              "      <th></th>\n",
              "      <th>city</th>\n",
              "      <th>gender</th>\n",
              "      <th>age</th>\n",
              "      <th>income</th>\n",
              "      <th>ill</th>\n",
              "    </tr>\n",
              "  </thead>\n",
              "  <tbody>\n",
              "    <tr>\n",
              "      <th>102187</th>\n",
              "      <td>Waterloo</td>\n",
              "      <td>Male</td>\n",
              "      <td>31</td>\n",
              "      <td>150367</td>\n",
              "      <td>No</td>\n",
              "    </tr>\n",
              "    <tr>\n",
              "      <th>102188</th>\n",
              "      <td>Waterloo</td>\n",
              "      <td>Female</td>\n",
              "      <td>36</td>\n",
              "      <td>130426</td>\n",
              "      <td>No</td>\n",
              "    </tr>\n",
              "    <tr>\n",
              "      <th>102189</th>\n",
              "      <td>Waterloo</td>\n",
              "      <td>Female</td>\n",
              "      <td>42</td>\n",
              "      <td>130216</td>\n",
              "      <td>No</td>\n",
              "    </tr>\n",
              "    <tr>\n",
              "      <th>102190</th>\n",
              "      <td>Waterloo</td>\n",
              "      <td>Male</td>\n",
              "      <td>62</td>\n",
              "      <td>143263</td>\n",
              "      <td>No</td>\n",
              "    </tr>\n",
              "    <tr>\n",
              "      <th>102191</th>\n",
              "      <td>Waterloo</td>\n",
              "      <td>Female</td>\n",
              "      <td>48</td>\n",
              "      <td>152273</td>\n",
              "      <td>No</td>\n",
              "    </tr>\n",
              "  </tbody>\n",
              "</table>\n",
              "</div>\n",
              "      <button class=\"colab-df-convert\" onclick=\"convertToInteractive('df-35c402a3-bac0-4743-b00e-7ea86feae0af')\"\n",
              "              title=\"Convert this dataframe to an interactive table.\"\n",
              "              style=\"display:none;\">\n",
              "        \n",
              "  <svg xmlns=\"http://www.w3.org/2000/svg\" height=\"24px\"viewBox=\"0 0 24 24\"\n",
              "       width=\"24px\">\n",
              "    <path d=\"M0 0h24v24H0V0z\" fill=\"none\"/>\n",
              "    <path d=\"M18.56 5.44l.94 2.06.94-2.06 2.06-.94-2.06-.94-.94-2.06-.94 2.06-2.06.94zm-11 1L8.5 8.5l.94-2.06 2.06-.94-2.06-.94L8.5 2.5l-.94 2.06-2.06.94zm10 10l.94 2.06.94-2.06 2.06-.94-2.06-.94-.94-2.06-.94 2.06-2.06.94z\"/><path d=\"M17.41 7.96l-1.37-1.37c-.4-.4-.92-.59-1.43-.59-.52 0-1.04.2-1.43.59L10.3 9.45l-7.72 7.72c-.78.78-.78 2.05 0 2.83L4 21.41c.39.39.9.59 1.41.59.51 0 1.02-.2 1.41-.59l7.78-7.78 2.81-2.81c.8-.78.8-2.07 0-2.86zM5.41 20L4 18.59l7.72-7.72 1.47 1.35L5.41 20z\"/>\n",
              "  </svg>\n",
              "      </button>\n",
              "      \n",
              "  <style>\n",
              "    .colab-df-container {\n",
              "      display:flex;\n",
              "      flex-wrap:wrap;\n",
              "      gap: 12px;\n",
              "    }\n",
              "\n",
              "    .colab-df-convert {\n",
              "      background-color: #E8F0FE;\n",
              "      border: none;\n",
              "      border-radius: 50%;\n",
              "      cursor: pointer;\n",
              "      display: none;\n",
              "      fill: #1967D2;\n",
              "      height: 32px;\n",
              "      padding: 0 0 0 0;\n",
              "      width: 32px;\n",
              "    }\n",
              "\n",
              "    .colab-df-convert:hover {\n",
              "      background-color: #E2EBFA;\n",
              "      box-shadow: 0px 1px 2px rgba(60, 64, 67, 0.3), 0px 1px 3px 1px rgba(60, 64, 67, 0.15);\n",
              "      fill: #174EA6;\n",
              "    }\n",
              "\n",
              "    [theme=dark] .colab-df-convert {\n",
              "      background-color: #3B4455;\n",
              "      fill: #D2E3FC;\n",
              "    }\n",
              "\n",
              "    [theme=dark] .colab-df-convert:hover {\n",
              "      background-color: #434B5C;\n",
              "      box-shadow: 0px 1px 3px 1px rgba(0, 0, 0, 0.15);\n",
              "      filter: drop-shadow(0px 1px 2px rgba(0, 0, 0, 0.3));\n",
              "      fill: #FFFFFF;\n",
              "    }\n",
              "  </style>\n",
              "\n",
              "      <script>\n",
              "        const buttonEl =\n",
              "          document.querySelector('#df-35c402a3-bac0-4743-b00e-7ea86feae0af button.colab-df-convert');\n",
              "        buttonEl.style.display =\n",
              "          google.colab.kernel.accessAllowed ? 'block' : 'none';\n",
              "\n",
              "        async function convertToInteractive(key) {\n",
              "          const element = document.querySelector('#df-35c402a3-bac0-4743-b00e-7ea86feae0af');\n",
              "          const dataTable =\n",
              "            await google.colab.kernel.invokeFunction('convertToInteractive',\n",
              "                                                     [key], {});\n",
              "          if (!dataTable) return;\n",
              "\n",
              "          const docLinkHtml = 'Like what you see? Visit the ' +\n",
              "            '<a target=\"_blank\" href=https://colab.research.google.com/notebooks/data_table.ipynb>data table notebook</a>'\n",
              "            + ' to learn more about interactive tables.';\n",
              "          element.innerHTML = '';\n",
              "          dataTable['output_type'] = 'display_data';\n",
              "          await google.colab.output.renderOutput(dataTable, element);\n",
              "          const docLink = document.createElement('div');\n",
              "          docLink.innerHTML = docLinkHtml;\n",
              "          element.appendChild(docLink);\n",
              "        }\n",
              "      </script>\n",
              "    </div>\n",
              "  </div>\n",
              "  "
            ]
          },
          "metadata": {},
          "execution_count": 64
        }
      ],
      "source": [
        "##column = city where = waterloo\n",
        "waterloo_people = data[data[\"city\"] == \"Waterloo\"]\n",
        "waterloo_people.head(5)"
      ]
    },
    {
      "cell_type": "markdown",
      "metadata": {
        "id": "zmra2u26Jeao"
      },
      "source": [
        "- **Q10** Can you 'describe' the newly created dataframe, to get some basic information on the columns in the dataframe?"
      ]
    },
    {
      "cell_type": "code",
      "execution_count": 65,
      "metadata": {
        "id": "FIktf123Jeao",
        "colab": {
          "base_uri": "https://localhost:8080/",
          "height": 300
        },
        "outputId": "e2f4d0aa-013b-440e-982b-187807e170fe"
      },
      "outputs": [
        {
          "output_type": "execute_result",
          "data": {
            "text/plain": [
              "                age         income\n",
              "count  14219.000000   14219.000000\n",
              "mean      44.992756  135078.415782\n",
              "std       11.562080   11227.302304\n",
              "min       25.000000   95202.000000\n",
              "25%       35.000000  127482.000000\n",
              "50%       45.000000  135220.000000\n",
              "75%       55.000000  142738.500000\n",
              "max       65.000000  177157.000000"
            ],
            "text/html": [
              "\n",
              "  <div id=\"df-73ecc98e-f018-43b7-9e24-e6709541bce2\">\n",
              "    <div class=\"colab-df-container\">\n",
              "      <div>\n",
              "<style scoped>\n",
              "    .dataframe tbody tr th:only-of-type {\n",
              "        vertical-align: middle;\n",
              "    }\n",
              "\n",
              "    .dataframe tbody tr th {\n",
              "        vertical-align: top;\n",
              "    }\n",
              "\n",
              "    .dataframe thead th {\n",
              "        text-align: right;\n",
              "    }\n",
              "</style>\n",
              "<table border=\"1\" class=\"dataframe\">\n",
              "  <thead>\n",
              "    <tr style=\"text-align: right;\">\n",
              "      <th></th>\n",
              "      <th>age</th>\n",
              "      <th>income</th>\n",
              "    </tr>\n",
              "  </thead>\n",
              "  <tbody>\n",
              "    <tr>\n",
              "      <th>count</th>\n",
              "      <td>14219.000000</td>\n",
              "      <td>14219.000000</td>\n",
              "    </tr>\n",
              "    <tr>\n",
              "      <th>mean</th>\n",
              "      <td>44.992756</td>\n",
              "      <td>135078.415782</td>\n",
              "    </tr>\n",
              "    <tr>\n",
              "      <th>std</th>\n",
              "      <td>11.562080</td>\n",
              "      <td>11227.302304</td>\n",
              "    </tr>\n",
              "    <tr>\n",
              "      <th>min</th>\n",
              "      <td>25.000000</td>\n",
              "      <td>95202.000000</td>\n",
              "    </tr>\n",
              "    <tr>\n",
              "      <th>25%</th>\n",
              "      <td>35.000000</td>\n",
              "      <td>127482.000000</td>\n",
              "    </tr>\n",
              "    <tr>\n",
              "      <th>50%</th>\n",
              "      <td>45.000000</td>\n",
              "      <td>135220.000000</td>\n",
              "    </tr>\n",
              "    <tr>\n",
              "      <th>75%</th>\n",
              "      <td>55.000000</td>\n",
              "      <td>142738.500000</td>\n",
              "    </tr>\n",
              "    <tr>\n",
              "      <th>max</th>\n",
              "      <td>65.000000</td>\n",
              "      <td>177157.000000</td>\n",
              "    </tr>\n",
              "  </tbody>\n",
              "</table>\n",
              "</div>\n",
              "      <button class=\"colab-df-convert\" onclick=\"convertToInteractive('df-73ecc98e-f018-43b7-9e24-e6709541bce2')\"\n",
              "              title=\"Convert this dataframe to an interactive table.\"\n",
              "              style=\"display:none;\">\n",
              "        \n",
              "  <svg xmlns=\"http://www.w3.org/2000/svg\" height=\"24px\"viewBox=\"0 0 24 24\"\n",
              "       width=\"24px\">\n",
              "    <path d=\"M0 0h24v24H0V0z\" fill=\"none\"/>\n",
              "    <path d=\"M18.56 5.44l.94 2.06.94-2.06 2.06-.94-2.06-.94-.94-2.06-.94 2.06-2.06.94zm-11 1L8.5 8.5l.94-2.06 2.06-.94-2.06-.94L8.5 2.5l-.94 2.06-2.06.94zm10 10l.94 2.06.94-2.06 2.06-.94-2.06-.94-.94-2.06-.94 2.06-2.06.94z\"/><path d=\"M17.41 7.96l-1.37-1.37c-.4-.4-.92-.59-1.43-.59-.52 0-1.04.2-1.43.59L10.3 9.45l-7.72 7.72c-.78.78-.78 2.05 0 2.83L4 21.41c.39.39.9.59 1.41.59.51 0 1.02-.2 1.41-.59l7.78-7.78 2.81-2.81c.8-.78.8-2.07 0-2.86zM5.41 20L4 18.59l7.72-7.72 1.47 1.35L5.41 20z\"/>\n",
              "  </svg>\n",
              "      </button>\n",
              "      \n",
              "  <style>\n",
              "    .colab-df-container {\n",
              "      display:flex;\n",
              "      flex-wrap:wrap;\n",
              "      gap: 12px;\n",
              "    }\n",
              "\n",
              "    .colab-df-convert {\n",
              "      background-color: #E8F0FE;\n",
              "      border: none;\n",
              "      border-radius: 50%;\n",
              "      cursor: pointer;\n",
              "      display: none;\n",
              "      fill: #1967D2;\n",
              "      height: 32px;\n",
              "      padding: 0 0 0 0;\n",
              "      width: 32px;\n",
              "    }\n",
              "\n",
              "    .colab-df-convert:hover {\n",
              "      background-color: #E2EBFA;\n",
              "      box-shadow: 0px 1px 2px rgba(60, 64, 67, 0.3), 0px 1px 3px 1px rgba(60, 64, 67, 0.15);\n",
              "      fill: #174EA6;\n",
              "    }\n",
              "\n",
              "    [theme=dark] .colab-df-convert {\n",
              "      background-color: #3B4455;\n",
              "      fill: #D2E3FC;\n",
              "    }\n",
              "\n",
              "    [theme=dark] .colab-df-convert:hover {\n",
              "      background-color: #434B5C;\n",
              "      box-shadow: 0px 1px 3px 1px rgba(0, 0, 0, 0.15);\n",
              "      filter: drop-shadow(0px 1px 2px rgba(0, 0, 0, 0.3));\n",
              "      fill: #FFFFFF;\n",
              "    }\n",
              "  </style>\n",
              "\n",
              "      <script>\n",
              "        const buttonEl =\n",
              "          document.querySelector('#df-73ecc98e-f018-43b7-9e24-e6709541bce2 button.colab-df-convert');\n",
              "        buttonEl.style.display =\n",
              "          google.colab.kernel.accessAllowed ? 'block' : 'none';\n",
              "\n",
              "        async function convertToInteractive(key) {\n",
              "          const element = document.querySelector('#df-73ecc98e-f018-43b7-9e24-e6709541bce2');\n",
              "          const dataTable =\n",
              "            await google.colab.kernel.invokeFunction('convertToInteractive',\n",
              "                                                     [key], {});\n",
              "          if (!dataTable) return;\n",
              "\n",
              "          const docLinkHtml = 'Like what you see? Visit the ' +\n",
              "            '<a target=\"_blank\" href=https://colab.research.google.com/notebooks/data_table.ipynb>data table notebook</a>'\n",
              "            + ' to learn more about interactive tables.';\n",
              "          element.innerHTML = '';\n",
              "          dataTable['output_type'] = 'display_data';\n",
              "          await google.colab.output.renderOutput(dataTable, element);\n",
              "          const docLink = document.createElement('div');\n",
              "          docLink.innerHTML = docLinkHtml;\n",
              "          element.appendChild(docLink);\n",
              "        }\n",
              "      </script>\n",
              "    </div>\n",
              "  </div>\n",
              "  "
            ]
          },
          "metadata": {},
          "execution_count": 65
        }
      ],
      "source": [
        "waterloo_people.describe()"
      ]
    },
    {
      "cell_type": "markdown",
      "metadata": {
        "id": "bhZA-1uoJeao"
      },
      "source": [
        "# Some questions now"
      ]
    },
    {
      "cell_type": "markdown",
      "metadata": {
        "id": "xTH5je_EJeap"
      },
      "source": [
        "Let's first make a dataframe of all of the ill people"
      ]
    },
    {
      "cell_type": "code",
      "execution_count": 73,
      "metadata": {
        "scrolled": true,
        "id": "r8jJmxc2Jeap",
        "colab": {
          "base_uri": "https://localhost:8080/",
          "height": 423
        },
        "outputId": "c23ce96c-d738-44dd-e1a5-afa8a4ccf783"
      },
      "outputs": [
        {
          "output_type": "execute_result",
          "data": {
            "text/plain": [
              "            city  gender  age  income  ill\n",
              "10      Montreal  Female   48   41524  Yes\n",
              "17      Montreal    Male   38   46373  Yes\n",
              "23      Montreal  Female   27   34292  Yes\n",
              "29      Montreal    Male   45   47421  Yes\n",
              "38      Montreal  Female   61   39881  Yes\n",
              "...          ...     ...  ...     ...  ...\n",
              "149847  Edmonton  Female   52   64716  Yes\n",
              "149886  Edmonton    Male   64  113221  Yes\n",
              "149936  Edmonton    Male   35  102931  Yes\n",
              "149949  Edmonton    Male   28   93950  Yes\n",
              "149980  Edmonton  Female   53   89384  Yes\n",
              "\n",
              "[12139 rows x 5 columns]"
            ],
            "text/html": [
              "\n",
              "  <div id=\"df-129ee3e0-89ca-4638-8694-da3ae5468e7b\">\n",
              "    <div class=\"colab-df-container\">\n",
              "      <div>\n",
              "<style scoped>\n",
              "    .dataframe tbody tr th:only-of-type {\n",
              "        vertical-align: middle;\n",
              "    }\n",
              "\n",
              "    .dataframe tbody tr th {\n",
              "        vertical-align: top;\n",
              "    }\n",
              "\n",
              "    .dataframe thead th {\n",
              "        text-align: right;\n",
              "    }\n",
              "</style>\n",
              "<table border=\"1\" class=\"dataframe\">\n",
              "  <thead>\n",
              "    <tr style=\"text-align: right;\">\n",
              "      <th></th>\n",
              "      <th>city</th>\n",
              "      <th>gender</th>\n",
              "      <th>age</th>\n",
              "      <th>income</th>\n",
              "      <th>ill</th>\n",
              "    </tr>\n",
              "  </thead>\n",
              "  <tbody>\n",
              "    <tr>\n",
              "      <th>10</th>\n",
              "      <td>Montreal</td>\n",
              "      <td>Female</td>\n",
              "      <td>48</td>\n",
              "      <td>41524</td>\n",
              "      <td>Yes</td>\n",
              "    </tr>\n",
              "    <tr>\n",
              "      <th>17</th>\n",
              "      <td>Montreal</td>\n",
              "      <td>Male</td>\n",
              "      <td>38</td>\n",
              "      <td>46373</td>\n",
              "      <td>Yes</td>\n",
              "    </tr>\n",
              "    <tr>\n",
              "      <th>23</th>\n",
              "      <td>Montreal</td>\n",
              "      <td>Female</td>\n",
              "      <td>27</td>\n",
              "      <td>34292</td>\n",
              "      <td>Yes</td>\n",
              "    </tr>\n",
              "    <tr>\n",
              "      <th>29</th>\n",
              "      <td>Montreal</td>\n",
              "      <td>Male</td>\n",
              "      <td>45</td>\n",
              "      <td>47421</td>\n",
              "      <td>Yes</td>\n",
              "    </tr>\n",
              "    <tr>\n",
              "      <th>38</th>\n",
              "      <td>Montreal</td>\n",
              "      <td>Female</td>\n",
              "      <td>61</td>\n",
              "      <td>39881</td>\n",
              "      <td>Yes</td>\n",
              "    </tr>\n",
              "    <tr>\n",
              "      <th>...</th>\n",
              "      <td>...</td>\n",
              "      <td>...</td>\n",
              "      <td>...</td>\n",
              "      <td>...</td>\n",
              "      <td>...</td>\n",
              "    </tr>\n",
              "    <tr>\n",
              "      <th>149847</th>\n",
              "      <td>Edmonton</td>\n",
              "      <td>Female</td>\n",
              "      <td>52</td>\n",
              "      <td>64716</td>\n",
              "      <td>Yes</td>\n",
              "    </tr>\n",
              "    <tr>\n",
              "      <th>149886</th>\n",
              "      <td>Edmonton</td>\n",
              "      <td>Male</td>\n",
              "      <td>64</td>\n",
              "      <td>113221</td>\n",
              "      <td>Yes</td>\n",
              "    </tr>\n",
              "    <tr>\n",
              "      <th>149936</th>\n",
              "      <td>Edmonton</td>\n",
              "      <td>Male</td>\n",
              "      <td>35</td>\n",
              "      <td>102931</td>\n",
              "      <td>Yes</td>\n",
              "    </tr>\n",
              "    <tr>\n",
              "      <th>149949</th>\n",
              "      <td>Edmonton</td>\n",
              "      <td>Male</td>\n",
              "      <td>28</td>\n",
              "      <td>93950</td>\n",
              "      <td>Yes</td>\n",
              "    </tr>\n",
              "    <tr>\n",
              "      <th>149980</th>\n",
              "      <td>Edmonton</td>\n",
              "      <td>Female</td>\n",
              "      <td>53</td>\n",
              "      <td>89384</td>\n",
              "      <td>Yes</td>\n",
              "    </tr>\n",
              "  </tbody>\n",
              "</table>\n",
              "<p>12139 rows × 5 columns</p>\n",
              "</div>\n",
              "      <button class=\"colab-df-convert\" onclick=\"convertToInteractive('df-129ee3e0-89ca-4638-8694-da3ae5468e7b')\"\n",
              "              title=\"Convert this dataframe to an interactive table.\"\n",
              "              style=\"display:none;\">\n",
              "        \n",
              "  <svg xmlns=\"http://www.w3.org/2000/svg\" height=\"24px\"viewBox=\"0 0 24 24\"\n",
              "       width=\"24px\">\n",
              "    <path d=\"M0 0h24v24H0V0z\" fill=\"none\"/>\n",
              "    <path d=\"M18.56 5.44l.94 2.06.94-2.06 2.06-.94-2.06-.94-.94-2.06-.94 2.06-2.06.94zm-11 1L8.5 8.5l.94-2.06 2.06-.94-2.06-.94L8.5 2.5l-.94 2.06-2.06.94zm10 10l.94 2.06.94-2.06 2.06-.94-2.06-.94-.94-2.06-.94 2.06-2.06.94z\"/><path d=\"M17.41 7.96l-1.37-1.37c-.4-.4-.92-.59-1.43-.59-.52 0-1.04.2-1.43.59L10.3 9.45l-7.72 7.72c-.78.78-.78 2.05 0 2.83L4 21.41c.39.39.9.59 1.41.59.51 0 1.02-.2 1.41-.59l7.78-7.78 2.81-2.81c.8-.78.8-2.07 0-2.86zM5.41 20L4 18.59l7.72-7.72 1.47 1.35L5.41 20z\"/>\n",
              "  </svg>\n",
              "      </button>\n",
              "      \n",
              "  <style>\n",
              "    .colab-df-container {\n",
              "      display:flex;\n",
              "      flex-wrap:wrap;\n",
              "      gap: 12px;\n",
              "    }\n",
              "\n",
              "    .colab-df-convert {\n",
              "      background-color: #E8F0FE;\n",
              "      border: none;\n",
              "      border-radius: 50%;\n",
              "      cursor: pointer;\n",
              "      display: none;\n",
              "      fill: #1967D2;\n",
              "      height: 32px;\n",
              "      padding: 0 0 0 0;\n",
              "      width: 32px;\n",
              "    }\n",
              "\n",
              "    .colab-df-convert:hover {\n",
              "      background-color: #E2EBFA;\n",
              "      box-shadow: 0px 1px 2px rgba(60, 64, 67, 0.3), 0px 1px 3px 1px rgba(60, 64, 67, 0.15);\n",
              "      fill: #174EA6;\n",
              "    }\n",
              "\n",
              "    [theme=dark] .colab-df-convert {\n",
              "      background-color: #3B4455;\n",
              "      fill: #D2E3FC;\n",
              "    }\n",
              "\n",
              "    [theme=dark] .colab-df-convert:hover {\n",
              "      background-color: #434B5C;\n",
              "      box-shadow: 0px 1px 3px 1px rgba(0, 0, 0, 0.15);\n",
              "      filter: drop-shadow(0px 1px 2px rgba(0, 0, 0, 0.3));\n",
              "      fill: #FFFFFF;\n",
              "    }\n",
              "  </style>\n",
              "\n",
              "      <script>\n",
              "        const buttonEl =\n",
              "          document.querySelector('#df-129ee3e0-89ca-4638-8694-da3ae5468e7b button.colab-df-convert');\n",
              "        buttonEl.style.display =\n",
              "          google.colab.kernel.accessAllowed ? 'block' : 'none';\n",
              "\n",
              "        async function convertToInteractive(key) {\n",
              "          const element = document.querySelector('#df-129ee3e0-89ca-4638-8694-da3ae5468e7b');\n",
              "          const dataTable =\n",
              "            await google.colab.kernel.invokeFunction('convertToInteractive',\n",
              "                                                     [key], {});\n",
              "          if (!dataTable) return;\n",
              "\n",
              "          const docLinkHtml = 'Like what you see? Visit the ' +\n",
              "            '<a target=\"_blank\" href=https://colab.research.google.com/notebooks/data_table.ipynb>data table notebook</a>'\n",
              "            + ' to learn more about interactive tables.';\n",
              "          element.innerHTML = '';\n",
              "          dataTable['output_type'] = 'display_data';\n",
              "          await google.colab.output.renderOutput(dataTable, element);\n",
              "          const docLink = document.createElement('div');\n",
              "          docLink.innerHTML = docLinkHtml;\n",
              "          element.appendChild(docLink);\n",
              "        }\n",
              "      </script>\n",
              "    </div>\n",
              "  </div>\n",
              "  "
            ]
          },
          "metadata": {},
          "execution_count": 73
        }
      ],
      "source": [
        "ill_people = data[data[\"ill\"] == \"Yes\"]\n",
        "ill_people"
      ]
    },
    {
      "cell_type": "markdown",
      "metadata": {
        "id": "RKxS7NtxJeap"
      },
      "source": [
        "Try answering Q11 - Q14, type \"Finished\" into the chat when you are done"
      ]
    },
    {
      "cell_type": "markdown",
      "metadata": {
        "id": "eJIfAiBMJeap"
      },
      "source": [
        "- **Q11** Can you display how many people are ill in each city by using a `groupby()` on the `ill_peopple` dataset?"
      ]
    },
    {
      "cell_type": "code",
      "execution_count": 72,
      "metadata": {
        "scrolled": true,
        "id": "k96q_rOwJeaq",
        "colab": {
          "base_uri": "https://localhost:8080/",
          "height": 331
        },
        "outputId": "223b7acb-e6c7-4514-fa23-8dabaf6cf9da"
      },
      "outputs": [
        {
          "output_type": "execute_result",
          "data": {
            "text/plain": [
              "           gender   age  income   ill\n",
              "city                                 \n",
              "Edmonton     1011  1011    1011  1011\n",
              "Halifax       686   686     686   686\n",
              "Montreal     1613  1613    1613  1613\n",
              "Ottawa        668   668     668   668\n",
              "Regina        394   394     394   394\n",
              "Toronto      4021  4021    4021  4021\n",
              "Vancouver    2568  2568    2568  2568\n",
              "Waterloo     1178  1178    1178  1178"
            ],
            "text/html": [
              "\n",
              "  <div id=\"df-8272c751-3dec-4ff9-8654-edc9b8d26f1c\">\n",
              "    <div class=\"colab-df-container\">\n",
              "      <div>\n",
              "<style scoped>\n",
              "    .dataframe tbody tr th:only-of-type {\n",
              "        vertical-align: middle;\n",
              "    }\n",
              "\n",
              "    .dataframe tbody tr th {\n",
              "        vertical-align: top;\n",
              "    }\n",
              "\n",
              "    .dataframe thead th {\n",
              "        text-align: right;\n",
              "    }\n",
              "</style>\n",
              "<table border=\"1\" class=\"dataframe\">\n",
              "  <thead>\n",
              "    <tr style=\"text-align: right;\">\n",
              "      <th></th>\n",
              "      <th>gender</th>\n",
              "      <th>age</th>\n",
              "      <th>income</th>\n",
              "      <th>ill</th>\n",
              "    </tr>\n",
              "    <tr>\n",
              "      <th>city</th>\n",
              "      <th></th>\n",
              "      <th></th>\n",
              "      <th></th>\n",
              "      <th></th>\n",
              "    </tr>\n",
              "  </thead>\n",
              "  <tbody>\n",
              "    <tr>\n",
              "      <th>Edmonton</th>\n",
              "      <td>1011</td>\n",
              "      <td>1011</td>\n",
              "      <td>1011</td>\n",
              "      <td>1011</td>\n",
              "    </tr>\n",
              "    <tr>\n",
              "      <th>Halifax</th>\n",
              "      <td>686</td>\n",
              "      <td>686</td>\n",
              "      <td>686</td>\n",
              "      <td>686</td>\n",
              "    </tr>\n",
              "    <tr>\n",
              "      <th>Montreal</th>\n",
              "      <td>1613</td>\n",
              "      <td>1613</td>\n",
              "      <td>1613</td>\n",
              "      <td>1613</td>\n",
              "    </tr>\n",
              "    <tr>\n",
              "      <th>Ottawa</th>\n",
              "      <td>668</td>\n",
              "      <td>668</td>\n",
              "      <td>668</td>\n",
              "      <td>668</td>\n",
              "    </tr>\n",
              "    <tr>\n",
              "      <th>Regina</th>\n",
              "      <td>394</td>\n",
              "      <td>394</td>\n",
              "      <td>394</td>\n",
              "      <td>394</td>\n",
              "    </tr>\n",
              "    <tr>\n",
              "      <th>Toronto</th>\n",
              "      <td>4021</td>\n",
              "      <td>4021</td>\n",
              "      <td>4021</td>\n",
              "      <td>4021</td>\n",
              "    </tr>\n",
              "    <tr>\n",
              "      <th>Vancouver</th>\n",
              "      <td>2568</td>\n",
              "      <td>2568</td>\n",
              "      <td>2568</td>\n",
              "      <td>2568</td>\n",
              "    </tr>\n",
              "    <tr>\n",
              "      <th>Waterloo</th>\n",
              "      <td>1178</td>\n",
              "      <td>1178</td>\n",
              "      <td>1178</td>\n",
              "      <td>1178</td>\n",
              "    </tr>\n",
              "  </tbody>\n",
              "</table>\n",
              "</div>\n",
              "      <button class=\"colab-df-convert\" onclick=\"convertToInteractive('df-8272c751-3dec-4ff9-8654-edc9b8d26f1c')\"\n",
              "              title=\"Convert this dataframe to an interactive table.\"\n",
              "              style=\"display:none;\">\n",
              "        \n",
              "  <svg xmlns=\"http://www.w3.org/2000/svg\" height=\"24px\"viewBox=\"0 0 24 24\"\n",
              "       width=\"24px\">\n",
              "    <path d=\"M0 0h24v24H0V0z\" fill=\"none\"/>\n",
              "    <path d=\"M18.56 5.44l.94 2.06.94-2.06 2.06-.94-2.06-.94-.94-2.06-.94 2.06-2.06.94zm-11 1L8.5 8.5l.94-2.06 2.06-.94-2.06-.94L8.5 2.5l-.94 2.06-2.06.94zm10 10l.94 2.06.94-2.06 2.06-.94-2.06-.94-.94-2.06-.94 2.06-2.06.94z\"/><path d=\"M17.41 7.96l-1.37-1.37c-.4-.4-.92-.59-1.43-.59-.52 0-1.04.2-1.43.59L10.3 9.45l-7.72 7.72c-.78.78-.78 2.05 0 2.83L4 21.41c.39.39.9.59 1.41.59.51 0 1.02-.2 1.41-.59l7.78-7.78 2.81-2.81c.8-.78.8-2.07 0-2.86zM5.41 20L4 18.59l7.72-7.72 1.47 1.35L5.41 20z\"/>\n",
              "  </svg>\n",
              "      </button>\n",
              "      \n",
              "  <style>\n",
              "    .colab-df-container {\n",
              "      display:flex;\n",
              "      flex-wrap:wrap;\n",
              "      gap: 12px;\n",
              "    }\n",
              "\n",
              "    .colab-df-convert {\n",
              "      background-color: #E8F0FE;\n",
              "      border: none;\n",
              "      border-radius: 50%;\n",
              "      cursor: pointer;\n",
              "      display: none;\n",
              "      fill: #1967D2;\n",
              "      height: 32px;\n",
              "      padding: 0 0 0 0;\n",
              "      width: 32px;\n",
              "    }\n",
              "\n",
              "    .colab-df-convert:hover {\n",
              "      background-color: #E2EBFA;\n",
              "      box-shadow: 0px 1px 2px rgba(60, 64, 67, 0.3), 0px 1px 3px 1px rgba(60, 64, 67, 0.15);\n",
              "      fill: #174EA6;\n",
              "    }\n",
              "\n",
              "    [theme=dark] .colab-df-convert {\n",
              "      background-color: #3B4455;\n",
              "      fill: #D2E3FC;\n",
              "    }\n",
              "\n",
              "    [theme=dark] .colab-df-convert:hover {\n",
              "      background-color: #434B5C;\n",
              "      box-shadow: 0px 1px 3px 1px rgba(0, 0, 0, 0.15);\n",
              "      filter: drop-shadow(0px 1px 2px rgba(0, 0, 0, 0.3));\n",
              "      fill: #FFFFFF;\n",
              "    }\n",
              "  </style>\n",
              "\n",
              "      <script>\n",
              "        const buttonEl =\n",
              "          document.querySelector('#df-8272c751-3dec-4ff9-8654-edc9b8d26f1c button.colab-df-convert');\n",
              "        buttonEl.style.display =\n",
              "          google.colab.kernel.accessAllowed ? 'block' : 'none';\n",
              "\n",
              "        async function convertToInteractive(key) {\n",
              "          const element = document.querySelector('#df-8272c751-3dec-4ff9-8654-edc9b8d26f1c');\n",
              "          const dataTable =\n",
              "            await google.colab.kernel.invokeFunction('convertToInteractive',\n",
              "                                                     [key], {});\n",
              "          if (!dataTable) return;\n",
              "\n",
              "          const docLinkHtml = 'Like what you see? Visit the ' +\n",
              "            '<a target=\"_blank\" href=https://colab.research.google.com/notebooks/data_table.ipynb>data table notebook</a>'\n",
              "            + ' to learn more about interactive tables.';\n",
              "          element.innerHTML = '';\n",
              "          dataTable['output_type'] = 'display_data';\n",
              "          await google.colab.output.renderOutput(dataTable, element);\n",
              "          const docLink = document.createElement('div');\n",
              "          docLink.innerHTML = docLinkHtml;\n",
              "          element.appendChild(docLink);\n",
              "        }\n",
              "      </script>\n",
              "    </div>\n",
              "  </div>\n",
              "  "
            ]
          },
          "metadata": {},
          "execution_count": 72
        }
      ],
      "source": [
        "ill_people_city = ill_people.groupby(\"city\").count()\n",
        "ill_people_city"
      ]
    },
    {
      "cell_type": "markdown",
      "metadata": {
        "id": "RDeDc35kJeaq"
      },
      "source": [
        "- **Q12** Can you display how many people are ill in each city using a `groupby()` and sorting by highest number of ill people to the lowest number of illl people in the `ill_people` dataset? "
      ]
    },
    {
      "cell_type": "code",
      "execution_count": 79,
      "metadata": {
        "id": "vuZ5IN2UJeaq",
        "colab": {
          "base_uri": "https://localhost:8080/",
          "height": 331
        },
        "outputId": "98f1724c-5a1d-4159-88be-9b997b369077"
      },
      "outputs": [
        {
          "output_type": "execute_result",
          "data": {
            "text/plain": [
              "           gender   age  income   ill\n",
              "city                                 \n",
              "Toronto      4021  4021    4021  4021\n",
              "Vancouver    2568  2568    2568  2568\n",
              "Montreal     1613  1613    1613  1613\n",
              "Waterloo     1178  1178    1178  1178\n",
              "Edmonton     1011  1011    1011  1011\n",
              "Halifax       686   686     686   686\n",
              "Ottawa        668   668     668   668\n",
              "Regina        394   394     394   394"
            ],
            "text/html": [
              "\n",
              "  <div id=\"df-04c5edb7-2049-426d-8a3e-004f82f77afc\">\n",
              "    <div class=\"colab-df-container\">\n",
              "      <div>\n",
              "<style scoped>\n",
              "    .dataframe tbody tr th:only-of-type {\n",
              "        vertical-align: middle;\n",
              "    }\n",
              "\n",
              "    .dataframe tbody tr th {\n",
              "        vertical-align: top;\n",
              "    }\n",
              "\n",
              "    .dataframe thead th {\n",
              "        text-align: right;\n",
              "    }\n",
              "</style>\n",
              "<table border=\"1\" class=\"dataframe\">\n",
              "  <thead>\n",
              "    <tr style=\"text-align: right;\">\n",
              "      <th></th>\n",
              "      <th>gender</th>\n",
              "      <th>age</th>\n",
              "      <th>income</th>\n",
              "      <th>ill</th>\n",
              "    </tr>\n",
              "    <tr>\n",
              "      <th>city</th>\n",
              "      <th></th>\n",
              "      <th></th>\n",
              "      <th></th>\n",
              "      <th></th>\n",
              "    </tr>\n",
              "  </thead>\n",
              "  <tbody>\n",
              "    <tr>\n",
              "      <th>Toronto</th>\n",
              "      <td>4021</td>\n",
              "      <td>4021</td>\n",
              "      <td>4021</td>\n",
              "      <td>4021</td>\n",
              "    </tr>\n",
              "    <tr>\n",
              "      <th>Vancouver</th>\n",
              "      <td>2568</td>\n",
              "      <td>2568</td>\n",
              "      <td>2568</td>\n",
              "      <td>2568</td>\n",
              "    </tr>\n",
              "    <tr>\n",
              "      <th>Montreal</th>\n",
              "      <td>1613</td>\n",
              "      <td>1613</td>\n",
              "      <td>1613</td>\n",
              "      <td>1613</td>\n",
              "    </tr>\n",
              "    <tr>\n",
              "      <th>Waterloo</th>\n",
              "      <td>1178</td>\n",
              "      <td>1178</td>\n",
              "      <td>1178</td>\n",
              "      <td>1178</td>\n",
              "    </tr>\n",
              "    <tr>\n",
              "      <th>Edmonton</th>\n",
              "      <td>1011</td>\n",
              "      <td>1011</td>\n",
              "      <td>1011</td>\n",
              "      <td>1011</td>\n",
              "    </tr>\n",
              "    <tr>\n",
              "      <th>Halifax</th>\n",
              "      <td>686</td>\n",
              "      <td>686</td>\n",
              "      <td>686</td>\n",
              "      <td>686</td>\n",
              "    </tr>\n",
              "    <tr>\n",
              "      <th>Ottawa</th>\n",
              "      <td>668</td>\n",
              "      <td>668</td>\n",
              "      <td>668</td>\n",
              "      <td>668</td>\n",
              "    </tr>\n",
              "    <tr>\n",
              "      <th>Regina</th>\n",
              "      <td>394</td>\n",
              "      <td>394</td>\n",
              "      <td>394</td>\n",
              "      <td>394</td>\n",
              "    </tr>\n",
              "  </tbody>\n",
              "</table>\n",
              "</div>\n",
              "      <button class=\"colab-df-convert\" onclick=\"convertToInteractive('df-04c5edb7-2049-426d-8a3e-004f82f77afc')\"\n",
              "              title=\"Convert this dataframe to an interactive table.\"\n",
              "              style=\"display:none;\">\n",
              "        \n",
              "  <svg xmlns=\"http://www.w3.org/2000/svg\" height=\"24px\"viewBox=\"0 0 24 24\"\n",
              "       width=\"24px\">\n",
              "    <path d=\"M0 0h24v24H0V0z\" fill=\"none\"/>\n",
              "    <path d=\"M18.56 5.44l.94 2.06.94-2.06 2.06-.94-2.06-.94-.94-2.06-.94 2.06-2.06.94zm-11 1L8.5 8.5l.94-2.06 2.06-.94-2.06-.94L8.5 2.5l-.94 2.06-2.06.94zm10 10l.94 2.06.94-2.06 2.06-.94-2.06-.94-.94-2.06-.94 2.06-2.06.94z\"/><path d=\"M17.41 7.96l-1.37-1.37c-.4-.4-.92-.59-1.43-.59-.52 0-1.04.2-1.43.59L10.3 9.45l-7.72 7.72c-.78.78-.78 2.05 0 2.83L4 21.41c.39.39.9.59 1.41.59.51 0 1.02-.2 1.41-.59l7.78-7.78 2.81-2.81c.8-.78.8-2.07 0-2.86zM5.41 20L4 18.59l7.72-7.72 1.47 1.35L5.41 20z\"/>\n",
              "  </svg>\n",
              "      </button>\n",
              "      \n",
              "  <style>\n",
              "    .colab-df-container {\n",
              "      display:flex;\n",
              "      flex-wrap:wrap;\n",
              "      gap: 12px;\n",
              "    }\n",
              "\n",
              "    .colab-df-convert {\n",
              "      background-color: #E8F0FE;\n",
              "      border: none;\n",
              "      border-radius: 50%;\n",
              "      cursor: pointer;\n",
              "      display: none;\n",
              "      fill: #1967D2;\n",
              "      height: 32px;\n",
              "      padding: 0 0 0 0;\n",
              "      width: 32px;\n",
              "    }\n",
              "\n",
              "    .colab-df-convert:hover {\n",
              "      background-color: #E2EBFA;\n",
              "      box-shadow: 0px 1px 2px rgba(60, 64, 67, 0.3), 0px 1px 3px 1px rgba(60, 64, 67, 0.15);\n",
              "      fill: #174EA6;\n",
              "    }\n",
              "\n",
              "    [theme=dark] .colab-df-convert {\n",
              "      background-color: #3B4455;\n",
              "      fill: #D2E3FC;\n",
              "    }\n",
              "\n",
              "    [theme=dark] .colab-df-convert:hover {\n",
              "      background-color: #434B5C;\n",
              "      box-shadow: 0px 1px 3px 1px rgba(0, 0, 0, 0.15);\n",
              "      filter: drop-shadow(0px 1px 2px rgba(0, 0, 0, 0.3));\n",
              "      fill: #FFFFFF;\n",
              "    }\n",
              "  </style>\n",
              "\n",
              "      <script>\n",
              "        const buttonEl =\n",
              "          document.querySelector('#df-04c5edb7-2049-426d-8a3e-004f82f77afc button.colab-df-convert');\n",
              "        buttonEl.style.display =\n",
              "          google.colab.kernel.accessAllowed ? 'block' : 'none';\n",
              "\n",
              "        async function convertToInteractive(key) {\n",
              "          const element = document.querySelector('#df-04c5edb7-2049-426d-8a3e-004f82f77afc');\n",
              "          const dataTable =\n",
              "            await google.colab.kernel.invokeFunction('convertToInteractive',\n",
              "                                                     [key], {});\n",
              "          if (!dataTable) return;\n",
              "\n",
              "          const docLinkHtml = 'Like what you see? Visit the ' +\n",
              "            '<a target=\"_blank\" href=https://colab.research.google.com/notebooks/data_table.ipynb>data table notebook</a>'\n",
              "            + ' to learn more about interactive tables.';\n",
              "          element.innerHTML = '';\n",
              "          dataTable['output_type'] = 'display_data';\n",
              "          await google.colab.output.renderOutput(dataTable, element);\n",
              "          const docLink = document.createElement('div');\n",
              "          docLink.innerHTML = docLinkHtml;\n",
              "          element.appendChild(docLink);\n",
              "        }\n",
              "      </script>\n",
              "    </div>\n",
              "  </div>\n",
              "  "
            ]
          },
          "metadata": {},
          "execution_count": 79
        }
      ],
      "source": [
        "ill_people_city = ill_people.groupby(\"city\").count().sort_values(by = \"ill\",ascending = False)\n",
        "ill_people_city"
      ]
    },
    {
      "cell_type": "code",
      "source": [
        "ill_people.describe()"
      ],
      "metadata": {
        "colab": {
          "base_uri": "https://localhost:8080/",
          "height": 300
        },
        "id": "6sWY6crEerJ5",
        "outputId": "730bd27f-cd2d-46fb-aa07-08e511bf0d02"
      },
      "execution_count": 85,
      "outputs": [
        {
          "output_type": "execute_result",
          "data": {
            "text/plain": [
              "                age         income\n",
              "count  12139.000000   12139.000000\n",
              "mean      45.020842   91277.875360\n",
              "std       11.554130   25094.894386\n",
              "min       25.000000    -654.000000\n",
              "25%       35.000000   80796.000000\n",
              "50%       45.000000   93779.000000\n",
              "75%       55.000000  104672.500000\n",
              "max       65.000000  166458.000000"
            ],
            "text/html": [
              "\n",
              "  <div id=\"df-b6cb7889-aca1-4da9-9903-4bb61fa9cd88\">\n",
              "    <div class=\"colab-df-container\">\n",
              "      <div>\n",
              "<style scoped>\n",
              "    .dataframe tbody tr th:only-of-type {\n",
              "        vertical-align: middle;\n",
              "    }\n",
              "\n",
              "    .dataframe tbody tr th {\n",
              "        vertical-align: top;\n",
              "    }\n",
              "\n",
              "    .dataframe thead th {\n",
              "        text-align: right;\n",
              "    }\n",
              "</style>\n",
              "<table border=\"1\" class=\"dataframe\">\n",
              "  <thead>\n",
              "    <tr style=\"text-align: right;\">\n",
              "      <th></th>\n",
              "      <th>age</th>\n",
              "      <th>income</th>\n",
              "    </tr>\n",
              "  </thead>\n",
              "  <tbody>\n",
              "    <tr>\n",
              "      <th>count</th>\n",
              "      <td>12139.000000</td>\n",
              "      <td>12139.000000</td>\n",
              "    </tr>\n",
              "    <tr>\n",
              "      <th>mean</th>\n",
              "      <td>45.020842</td>\n",
              "      <td>91277.875360</td>\n",
              "    </tr>\n",
              "    <tr>\n",
              "      <th>std</th>\n",
              "      <td>11.554130</td>\n",
              "      <td>25094.894386</td>\n",
              "    </tr>\n",
              "    <tr>\n",
              "      <th>min</th>\n",
              "      <td>25.000000</td>\n",
              "      <td>-654.000000</td>\n",
              "    </tr>\n",
              "    <tr>\n",
              "      <th>25%</th>\n",
              "      <td>35.000000</td>\n",
              "      <td>80796.000000</td>\n",
              "    </tr>\n",
              "    <tr>\n",
              "      <th>50%</th>\n",
              "      <td>45.000000</td>\n",
              "      <td>93779.000000</td>\n",
              "    </tr>\n",
              "    <tr>\n",
              "      <th>75%</th>\n",
              "      <td>55.000000</td>\n",
              "      <td>104672.500000</td>\n",
              "    </tr>\n",
              "    <tr>\n",
              "      <th>max</th>\n",
              "      <td>65.000000</td>\n",
              "      <td>166458.000000</td>\n",
              "    </tr>\n",
              "  </tbody>\n",
              "</table>\n",
              "</div>\n",
              "      <button class=\"colab-df-convert\" onclick=\"convertToInteractive('df-b6cb7889-aca1-4da9-9903-4bb61fa9cd88')\"\n",
              "              title=\"Convert this dataframe to an interactive table.\"\n",
              "              style=\"display:none;\">\n",
              "        \n",
              "  <svg xmlns=\"http://www.w3.org/2000/svg\" height=\"24px\"viewBox=\"0 0 24 24\"\n",
              "       width=\"24px\">\n",
              "    <path d=\"M0 0h24v24H0V0z\" fill=\"none\"/>\n",
              "    <path d=\"M18.56 5.44l.94 2.06.94-2.06 2.06-.94-2.06-.94-.94-2.06-.94 2.06-2.06.94zm-11 1L8.5 8.5l.94-2.06 2.06-.94-2.06-.94L8.5 2.5l-.94 2.06-2.06.94zm10 10l.94 2.06.94-2.06 2.06-.94-2.06-.94-.94-2.06-.94 2.06-2.06.94z\"/><path d=\"M17.41 7.96l-1.37-1.37c-.4-.4-.92-.59-1.43-.59-.52 0-1.04.2-1.43.59L10.3 9.45l-7.72 7.72c-.78.78-.78 2.05 0 2.83L4 21.41c.39.39.9.59 1.41.59.51 0 1.02-.2 1.41-.59l7.78-7.78 2.81-2.81c.8-.78.8-2.07 0-2.86zM5.41 20L4 18.59l7.72-7.72 1.47 1.35L5.41 20z\"/>\n",
              "  </svg>\n",
              "      </button>\n",
              "      \n",
              "  <style>\n",
              "    .colab-df-container {\n",
              "      display:flex;\n",
              "      flex-wrap:wrap;\n",
              "      gap: 12px;\n",
              "    }\n",
              "\n",
              "    .colab-df-convert {\n",
              "      background-color: #E8F0FE;\n",
              "      border: none;\n",
              "      border-radius: 50%;\n",
              "      cursor: pointer;\n",
              "      display: none;\n",
              "      fill: #1967D2;\n",
              "      height: 32px;\n",
              "      padding: 0 0 0 0;\n",
              "      width: 32px;\n",
              "    }\n",
              "\n",
              "    .colab-df-convert:hover {\n",
              "      background-color: #E2EBFA;\n",
              "      box-shadow: 0px 1px 2px rgba(60, 64, 67, 0.3), 0px 1px 3px 1px rgba(60, 64, 67, 0.15);\n",
              "      fill: #174EA6;\n",
              "    }\n",
              "\n",
              "    [theme=dark] .colab-df-convert {\n",
              "      background-color: #3B4455;\n",
              "      fill: #D2E3FC;\n",
              "    }\n",
              "\n",
              "    [theme=dark] .colab-df-convert:hover {\n",
              "      background-color: #434B5C;\n",
              "      box-shadow: 0px 1px 3px 1px rgba(0, 0, 0, 0.15);\n",
              "      filter: drop-shadow(0px 1px 2px rgba(0, 0, 0, 0.3));\n",
              "      fill: #FFFFFF;\n",
              "    }\n",
              "  </style>\n",
              "\n",
              "      <script>\n",
              "        const buttonEl =\n",
              "          document.querySelector('#df-b6cb7889-aca1-4da9-9903-4bb61fa9cd88 button.colab-df-convert');\n",
              "        buttonEl.style.display =\n",
              "          google.colab.kernel.accessAllowed ? 'block' : 'none';\n",
              "\n",
              "        async function convertToInteractive(key) {\n",
              "          const element = document.querySelector('#df-b6cb7889-aca1-4da9-9903-4bb61fa9cd88');\n",
              "          const dataTable =\n",
              "            await google.colab.kernel.invokeFunction('convertToInteractive',\n",
              "                                                     [key], {});\n",
              "          if (!dataTable) return;\n",
              "\n",
              "          const docLinkHtml = 'Like what you see? Visit the ' +\n",
              "            '<a target=\"_blank\" href=https://colab.research.google.com/notebooks/data_table.ipynb>data table notebook</a>'\n",
              "            + ' to learn more about interactive tables.';\n",
              "          element.innerHTML = '';\n",
              "          dataTable['output_type'] = 'display_data';\n",
              "          await google.colab.output.renderOutput(dataTable, element);\n",
              "          const docLink = document.createElement('div');\n",
              "          docLink.innerHTML = docLinkHtml;\n",
              "          element.appendChild(docLink);\n",
              "        }\n",
              "      </script>\n",
              "    </div>\n",
              "  </div>\n",
              "  "
            ]
          },
          "metadata": {},
          "execution_count": 85
        }
      ]
    },
    {
      "cell_type": "markdown",
      "metadata": {
        "id": "SkMvaxOfJeaq"
      },
      "source": [
        "- **Q13** What is the average age of people in the `ill_people` dataset?"
      ]
    },
    {
      "cell_type": "code",
      "execution_count": 84,
      "metadata": {
        "id": "aCc7Ung5Jeaq",
        "colab": {
          "base_uri": "https://localhost:8080/",
          "height": 1000
        },
        "outputId": "4640be84-2181-40c6-c2a7-92a6ac0e992e"
      },
      "outputs": [
        {
          "output_type": "execute_result",
          "data": {
            "text/plain": [
              "           income\n",
              "age              \n",
              "25   95165.594771\n",
              "26   90324.937107\n",
              "27   92464.967949\n",
              "28   90958.667808\n",
              "29   90821.557325\n",
              "30   90460.492308\n",
              "31   93397.722408\n",
              "32   90637.593443\n",
              "33   91760.673267\n",
              "34   92388.955326\n",
              "35   91109.639053\n",
              "36   91357.250859\n",
              "37   91767.750877\n",
              "38   90607.764120\n",
              "39   89888.421233\n",
              "40   92074.050794\n",
              "41   92177.488746\n",
              "42   89482.953704\n",
              "43   89636.887283\n",
              "44   91068.809524\n",
              "45   91054.098814\n",
              "46   92049.522876\n",
              "47   91712.166667\n",
              "48   90099.140288\n",
              "49   89912.011905\n",
              "50   91318.760606\n",
              "51   95147.190000\n",
              "52   92014.238411\n",
              "53   91580.340909\n",
              "54   91700.163701\n",
              "55   91767.961905\n",
              "56   91262.254613\n",
              "57   90926.057325\n",
              "58   91375.305556\n",
              "59   89679.359862\n",
              "60   92288.003484\n",
              "61   91322.203125\n",
              "62   90723.630769\n",
              "63   89125.778878\n",
              "64   91973.668750\n",
              "65   88644.151724"
            ],
            "text/html": [
              "\n",
              "  <div id=\"df-2ca85e8f-435f-497d-bd53-e5b0463bf4d2\">\n",
              "    <div class=\"colab-df-container\">\n",
              "      <div>\n",
              "<style scoped>\n",
              "    .dataframe tbody tr th:only-of-type {\n",
              "        vertical-align: middle;\n",
              "    }\n",
              "\n",
              "    .dataframe tbody tr th {\n",
              "        vertical-align: top;\n",
              "    }\n",
              "\n",
              "    .dataframe thead th {\n",
              "        text-align: right;\n",
              "    }\n",
              "</style>\n",
              "<table border=\"1\" class=\"dataframe\">\n",
              "  <thead>\n",
              "    <tr style=\"text-align: right;\">\n",
              "      <th></th>\n",
              "      <th>income</th>\n",
              "    </tr>\n",
              "    <tr>\n",
              "      <th>age</th>\n",
              "      <th></th>\n",
              "    </tr>\n",
              "  </thead>\n",
              "  <tbody>\n",
              "    <tr>\n",
              "      <th>25</th>\n",
              "      <td>95165.594771</td>\n",
              "    </tr>\n",
              "    <tr>\n",
              "      <th>26</th>\n",
              "      <td>90324.937107</td>\n",
              "    </tr>\n",
              "    <tr>\n",
              "      <th>27</th>\n",
              "      <td>92464.967949</td>\n",
              "    </tr>\n",
              "    <tr>\n",
              "      <th>28</th>\n",
              "      <td>90958.667808</td>\n",
              "    </tr>\n",
              "    <tr>\n",
              "      <th>29</th>\n",
              "      <td>90821.557325</td>\n",
              "    </tr>\n",
              "    <tr>\n",
              "      <th>30</th>\n",
              "      <td>90460.492308</td>\n",
              "    </tr>\n",
              "    <tr>\n",
              "      <th>31</th>\n",
              "      <td>93397.722408</td>\n",
              "    </tr>\n",
              "    <tr>\n",
              "      <th>32</th>\n",
              "      <td>90637.593443</td>\n",
              "    </tr>\n",
              "    <tr>\n",
              "      <th>33</th>\n",
              "      <td>91760.673267</td>\n",
              "    </tr>\n",
              "    <tr>\n",
              "      <th>34</th>\n",
              "      <td>92388.955326</td>\n",
              "    </tr>\n",
              "    <tr>\n",
              "      <th>35</th>\n",
              "      <td>91109.639053</td>\n",
              "    </tr>\n",
              "    <tr>\n",
              "      <th>36</th>\n",
              "      <td>91357.250859</td>\n",
              "    </tr>\n",
              "    <tr>\n",
              "      <th>37</th>\n",
              "      <td>91767.750877</td>\n",
              "    </tr>\n",
              "    <tr>\n",
              "      <th>38</th>\n",
              "      <td>90607.764120</td>\n",
              "    </tr>\n",
              "    <tr>\n",
              "      <th>39</th>\n",
              "      <td>89888.421233</td>\n",
              "    </tr>\n",
              "    <tr>\n",
              "      <th>40</th>\n",
              "      <td>92074.050794</td>\n",
              "    </tr>\n",
              "    <tr>\n",
              "      <th>41</th>\n",
              "      <td>92177.488746</td>\n",
              "    </tr>\n",
              "    <tr>\n",
              "      <th>42</th>\n",
              "      <td>89482.953704</td>\n",
              "    </tr>\n",
              "    <tr>\n",
              "      <th>43</th>\n",
              "      <td>89636.887283</td>\n",
              "    </tr>\n",
              "    <tr>\n",
              "      <th>44</th>\n",
              "      <td>91068.809524</td>\n",
              "    </tr>\n",
              "    <tr>\n",
              "      <th>45</th>\n",
              "      <td>91054.098814</td>\n",
              "    </tr>\n",
              "    <tr>\n",
              "      <th>46</th>\n",
              "      <td>92049.522876</td>\n",
              "    </tr>\n",
              "    <tr>\n",
              "      <th>47</th>\n",
              "      <td>91712.166667</td>\n",
              "    </tr>\n",
              "    <tr>\n",
              "      <th>48</th>\n",
              "      <td>90099.140288</td>\n",
              "    </tr>\n",
              "    <tr>\n",
              "      <th>49</th>\n",
              "      <td>89912.011905</td>\n",
              "    </tr>\n",
              "    <tr>\n",
              "      <th>50</th>\n",
              "      <td>91318.760606</td>\n",
              "    </tr>\n",
              "    <tr>\n",
              "      <th>51</th>\n",
              "      <td>95147.190000</td>\n",
              "    </tr>\n",
              "    <tr>\n",
              "      <th>52</th>\n",
              "      <td>92014.238411</td>\n",
              "    </tr>\n",
              "    <tr>\n",
              "      <th>53</th>\n",
              "      <td>91580.340909</td>\n",
              "    </tr>\n",
              "    <tr>\n",
              "      <th>54</th>\n",
              "      <td>91700.163701</td>\n",
              "    </tr>\n",
              "    <tr>\n",
              "      <th>55</th>\n",
              "      <td>91767.961905</td>\n",
              "    </tr>\n",
              "    <tr>\n",
              "      <th>56</th>\n",
              "      <td>91262.254613</td>\n",
              "    </tr>\n",
              "    <tr>\n",
              "      <th>57</th>\n",
              "      <td>90926.057325</td>\n",
              "    </tr>\n",
              "    <tr>\n",
              "      <th>58</th>\n",
              "      <td>91375.305556</td>\n",
              "    </tr>\n",
              "    <tr>\n",
              "      <th>59</th>\n",
              "      <td>89679.359862</td>\n",
              "    </tr>\n",
              "    <tr>\n",
              "      <th>60</th>\n",
              "      <td>92288.003484</td>\n",
              "    </tr>\n",
              "    <tr>\n",
              "      <th>61</th>\n",
              "      <td>91322.203125</td>\n",
              "    </tr>\n",
              "    <tr>\n",
              "      <th>62</th>\n",
              "      <td>90723.630769</td>\n",
              "    </tr>\n",
              "    <tr>\n",
              "      <th>63</th>\n",
              "      <td>89125.778878</td>\n",
              "    </tr>\n",
              "    <tr>\n",
              "      <th>64</th>\n",
              "      <td>91973.668750</td>\n",
              "    </tr>\n",
              "    <tr>\n",
              "      <th>65</th>\n",
              "      <td>88644.151724</td>\n",
              "    </tr>\n",
              "  </tbody>\n",
              "</table>\n",
              "</div>\n",
              "      <button class=\"colab-df-convert\" onclick=\"convertToInteractive('df-2ca85e8f-435f-497d-bd53-e5b0463bf4d2')\"\n",
              "              title=\"Convert this dataframe to an interactive table.\"\n",
              "              style=\"display:none;\">\n",
              "        \n",
              "  <svg xmlns=\"http://www.w3.org/2000/svg\" height=\"24px\"viewBox=\"0 0 24 24\"\n",
              "       width=\"24px\">\n",
              "    <path d=\"M0 0h24v24H0V0z\" fill=\"none\"/>\n",
              "    <path d=\"M18.56 5.44l.94 2.06.94-2.06 2.06-.94-2.06-.94-.94-2.06-.94 2.06-2.06.94zm-11 1L8.5 8.5l.94-2.06 2.06-.94-2.06-.94L8.5 2.5l-.94 2.06-2.06.94zm10 10l.94 2.06.94-2.06 2.06-.94-2.06-.94-.94-2.06-.94 2.06-2.06.94z\"/><path d=\"M17.41 7.96l-1.37-1.37c-.4-.4-.92-.59-1.43-.59-.52 0-1.04.2-1.43.59L10.3 9.45l-7.72 7.72c-.78.78-.78 2.05 0 2.83L4 21.41c.39.39.9.59 1.41.59.51 0 1.02-.2 1.41-.59l7.78-7.78 2.81-2.81c.8-.78.8-2.07 0-2.86zM5.41 20L4 18.59l7.72-7.72 1.47 1.35L5.41 20z\"/>\n",
              "  </svg>\n",
              "      </button>\n",
              "      \n",
              "  <style>\n",
              "    .colab-df-container {\n",
              "      display:flex;\n",
              "      flex-wrap:wrap;\n",
              "      gap: 12px;\n",
              "    }\n",
              "\n",
              "    .colab-df-convert {\n",
              "      background-color: #E8F0FE;\n",
              "      border: none;\n",
              "      border-radius: 50%;\n",
              "      cursor: pointer;\n",
              "      display: none;\n",
              "      fill: #1967D2;\n",
              "      height: 32px;\n",
              "      padding: 0 0 0 0;\n",
              "      width: 32px;\n",
              "    }\n",
              "\n",
              "    .colab-df-convert:hover {\n",
              "      background-color: #E2EBFA;\n",
              "      box-shadow: 0px 1px 2px rgba(60, 64, 67, 0.3), 0px 1px 3px 1px rgba(60, 64, 67, 0.15);\n",
              "      fill: #174EA6;\n",
              "    }\n",
              "\n",
              "    [theme=dark] .colab-df-convert {\n",
              "      background-color: #3B4455;\n",
              "      fill: #D2E3FC;\n",
              "    }\n",
              "\n",
              "    [theme=dark] .colab-df-convert:hover {\n",
              "      background-color: #434B5C;\n",
              "      box-shadow: 0px 1px 3px 1px rgba(0, 0, 0, 0.15);\n",
              "      filter: drop-shadow(0px 1px 2px rgba(0, 0, 0, 0.3));\n",
              "      fill: #FFFFFF;\n",
              "    }\n",
              "  </style>\n",
              "\n",
              "      <script>\n",
              "        const buttonEl =\n",
              "          document.querySelector('#df-2ca85e8f-435f-497d-bd53-e5b0463bf4d2 button.colab-df-convert');\n",
              "        buttonEl.style.display =\n",
              "          google.colab.kernel.accessAllowed ? 'block' : 'none';\n",
              "\n",
              "        async function convertToInteractive(key) {\n",
              "          const element = document.querySelector('#df-2ca85e8f-435f-497d-bd53-e5b0463bf4d2');\n",
              "          const dataTable =\n",
              "            await google.colab.kernel.invokeFunction('convertToInteractive',\n",
              "                                                     [key], {});\n",
              "          if (!dataTable) return;\n",
              "\n",
              "          const docLinkHtml = 'Like what you see? Visit the ' +\n",
              "            '<a target=\"_blank\" href=https://colab.research.google.com/notebooks/data_table.ipynb>data table notebook</a>'\n",
              "            + ' to learn more about interactive tables.';\n",
              "          element.innerHTML = '';\n",
              "          dataTable['output_type'] = 'display_data';\n",
              "          await google.colab.output.renderOutput(dataTable, element);\n",
              "          const docLink = document.createElement('div');\n",
              "          docLink.innerHTML = docLinkHtml;\n",
              "          element.appendChild(docLink);\n",
              "        }\n",
              "      </script>\n",
              "    </div>\n",
              "  </div>\n",
              "  "
            ]
          },
          "metadata": {},
          "execution_count": 84
        }
      ],
      "source": [
        "ill_people_city = ill_people.groupby(\"age\").mean()\n",
        "ill_people_city"
      ]
    },
    {
      "cell_type": "markdown",
      "metadata": {
        "id": "saBlfg2uJeaq"
      },
      "source": [
        "- **Q14** What percentage of people in the `ill_people` dataset have a salary over $100000. (This is probably the most complex question of the day, feel free to take as much time as you need to answer it. Remember you can use `(` & `)` to make sure calculations are done in certain order and the python symbol for division is `/`.)"
      ]
    },
    {
      "cell_type": "code",
      "execution_count": 105,
      "metadata": {
        "id": "sGS4Zj2kJeaq",
        "colab": {
          "base_uri": "https://localhost:8080/"
        },
        "outputId": "8e606586-4c84-4a61-f6f1-7ac544d0f4e5"
      },
      "outputs": [
        {
          "output_type": "stream",
          "name": "stdout",
          "text": [
            "35.06878655572947\n"
          ]
        }
      ],
      "source": [
        "ratio = ill_people[ill_people[\"income\"]> 100000][\"ill\"].count()/ill_people[\"income\"].count()\n",
        "ill_people_percent = ratio * 100\n",
        "print(ill_people_percent)"
      ]
    },
    {
      "cell_type": "code",
      "execution_count": null,
      "metadata": {
        "colab": {
          "base_uri": "https://localhost:8080/",
          "height": 131
        },
        "outputId": "e0f99aa7-56e3-40d3-9590-548633e73aeb",
        "id": "P83gOqNnfKGZ"
      },
      "outputs": [
        {
          "output_type": "error",
          "ename": "SyntaxError",
          "evalue": "ignored",
          "traceback": [
            "\u001b[0;36m  File \u001b[0;32m\"<ipython-input-86-dab75ca130be>\"\u001b[0;36m, line \u001b[0;32m1\u001b[0m\n\u001b[0;31m    ratio = /\u001b[0m\n\u001b[0m            ^\u001b[0m\n\u001b[0;31mSyntaxError\u001b[0m\u001b[0;31m:\u001b[0m invalid syntax\n"
          ]
        }
      ],
      "source": [
        "ratio = ill_people(ill_people[\"income\"]> 1000000.coun()/\n",
        "ill_people_percent = ratio * 100\n",
        "print(ill_people_percent)"
      ]
    },
    {
      "cell_type": "markdown",
      "metadata": {
        "id": "51czuc4iJeaq"
      },
      "source": [
        "## One brief statistical digression\n",
        "\n",
        "Before we change gears to look at how we can visualize some of this data, let's just take a look at a (admittedly) more complex piece on analysis just to demonstrate how much heaving lifing Pandas can do for us.\n",
        "\n",
        "We are just going to create a [Correlation Matrix](https://en.wikipedia.org/wiki/Correlation#Correlation_matrices). This will basically tell us how strongly each column influences on another."
      ]
    },
    {
      "cell_type": "code",
      "execution_count": 87,
      "metadata": {
        "id": "dIJMOSEBJeat",
        "colab": {
          "base_uri": "https://localhost:8080/",
          "height": 143
        },
        "outputId": "08d83869-5eb4-47da-ce38-9e96bc8d45e1"
      },
      "outputs": [
        {
          "output_type": "execute_result",
          "data": {
            "text/plain": [
              "             age    income       ill\n",
              "age     1.000000 -0.001318  0.001811\n",
              "income -0.001318  1.000000  0.000298\n",
              "ill     0.001811  0.000298  1.000000"
            ],
            "text/html": [
              "\n",
              "  <div id=\"df-f29b69f0-c1c4-486c-be58-f09b1e6d4e3e\">\n",
              "    <div class=\"colab-df-container\">\n",
              "      <div>\n",
              "<style scoped>\n",
              "    .dataframe tbody tr th:only-of-type {\n",
              "        vertical-align: middle;\n",
              "    }\n",
              "\n",
              "    .dataframe tbody tr th {\n",
              "        vertical-align: top;\n",
              "    }\n",
              "\n",
              "    .dataframe thead th {\n",
              "        text-align: right;\n",
              "    }\n",
              "</style>\n",
              "<table border=\"1\" class=\"dataframe\">\n",
              "  <thead>\n",
              "    <tr style=\"text-align: right;\">\n",
              "      <th></th>\n",
              "      <th>age</th>\n",
              "      <th>income</th>\n",
              "      <th>ill</th>\n",
              "    </tr>\n",
              "  </thead>\n",
              "  <tbody>\n",
              "    <tr>\n",
              "      <th>age</th>\n",
              "      <td>1.000000</td>\n",
              "      <td>-0.001318</td>\n",
              "      <td>0.001811</td>\n",
              "    </tr>\n",
              "    <tr>\n",
              "      <th>income</th>\n",
              "      <td>-0.001318</td>\n",
              "      <td>1.000000</td>\n",
              "      <td>0.000298</td>\n",
              "    </tr>\n",
              "    <tr>\n",
              "      <th>ill</th>\n",
              "      <td>0.001811</td>\n",
              "      <td>0.000298</td>\n",
              "      <td>1.000000</td>\n",
              "    </tr>\n",
              "  </tbody>\n",
              "</table>\n",
              "</div>\n",
              "      <button class=\"colab-df-convert\" onclick=\"convertToInteractive('df-f29b69f0-c1c4-486c-be58-f09b1e6d4e3e')\"\n",
              "              title=\"Convert this dataframe to an interactive table.\"\n",
              "              style=\"display:none;\">\n",
              "        \n",
              "  <svg xmlns=\"http://www.w3.org/2000/svg\" height=\"24px\"viewBox=\"0 0 24 24\"\n",
              "       width=\"24px\">\n",
              "    <path d=\"M0 0h24v24H0V0z\" fill=\"none\"/>\n",
              "    <path d=\"M18.56 5.44l.94 2.06.94-2.06 2.06-.94-2.06-.94-.94-2.06-.94 2.06-2.06.94zm-11 1L8.5 8.5l.94-2.06 2.06-.94-2.06-.94L8.5 2.5l-.94 2.06-2.06.94zm10 10l.94 2.06.94-2.06 2.06-.94-2.06-.94-.94-2.06-.94 2.06-2.06.94z\"/><path d=\"M17.41 7.96l-1.37-1.37c-.4-.4-.92-.59-1.43-.59-.52 0-1.04.2-1.43.59L10.3 9.45l-7.72 7.72c-.78.78-.78 2.05 0 2.83L4 21.41c.39.39.9.59 1.41.59.51 0 1.02-.2 1.41-.59l7.78-7.78 2.81-2.81c.8-.78.8-2.07 0-2.86zM5.41 20L4 18.59l7.72-7.72 1.47 1.35L5.41 20z\"/>\n",
              "  </svg>\n",
              "      </button>\n",
              "      \n",
              "  <style>\n",
              "    .colab-df-container {\n",
              "      display:flex;\n",
              "      flex-wrap:wrap;\n",
              "      gap: 12px;\n",
              "    }\n",
              "\n",
              "    .colab-df-convert {\n",
              "      background-color: #E8F0FE;\n",
              "      border: none;\n",
              "      border-radius: 50%;\n",
              "      cursor: pointer;\n",
              "      display: none;\n",
              "      fill: #1967D2;\n",
              "      height: 32px;\n",
              "      padding: 0 0 0 0;\n",
              "      width: 32px;\n",
              "    }\n",
              "\n",
              "    .colab-df-convert:hover {\n",
              "      background-color: #E2EBFA;\n",
              "      box-shadow: 0px 1px 2px rgba(60, 64, 67, 0.3), 0px 1px 3px 1px rgba(60, 64, 67, 0.15);\n",
              "      fill: #174EA6;\n",
              "    }\n",
              "\n",
              "    [theme=dark] .colab-df-convert {\n",
              "      background-color: #3B4455;\n",
              "      fill: #D2E3FC;\n",
              "    }\n",
              "\n",
              "    [theme=dark] .colab-df-convert:hover {\n",
              "      background-color: #434B5C;\n",
              "      box-shadow: 0px 1px 3px 1px rgba(0, 0, 0, 0.15);\n",
              "      filter: drop-shadow(0px 1px 2px rgba(0, 0, 0, 0.3));\n",
              "      fill: #FFFFFF;\n",
              "    }\n",
              "  </style>\n",
              "\n",
              "      <script>\n",
              "        const buttonEl =\n",
              "          document.querySelector('#df-f29b69f0-c1c4-486c-be58-f09b1e6d4e3e button.colab-df-convert');\n",
              "        buttonEl.style.display =\n",
              "          google.colab.kernel.accessAllowed ? 'block' : 'none';\n",
              "\n",
              "        async function convertToInteractive(key) {\n",
              "          const element = document.querySelector('#df-f29b69f0-c1c4-486c-be58-f09b1e6d4e3e');\n",
              "          const dataTable =\n",
              "            await google.colab.kernel.invokeFunction('convertToInteractive',\n",
              "                                                     [key], {});\n",
              "          if (!dataTable) return;\n",
              "\n",
              "          const docLinkHtml = 'Like what you see? Visit the ' +\n",
              "            '<a target=\"_blank\" href=https://colab.research.google.com/notebooks/data_table.ipynb>data table notebook</a>'\n",
              "            + ' to learn more about interactive tables.';\n",
              "          element.innerHTML = '';\n",
              "          dataTable['output_type'] = 'display_data';\n",
              "          await google.colab.output.renderOutput(dataTable, element);\n",
              "          const docLink = document.createElement('div');\n",
              "          docLink.innerHTML = docLinkHtml;\n",
              "          element.appendChild(docLink);\n",
              "        }\n",
              "      </script>\n",
              "    </div>\n",
              "  </div>\n",
              "  "
            ]
          },
          "metadata": {},
          "execution_count": 87
        }
      ],
      "source": [
        "#Reload our data\n",
        "data = pd.read_csv(\"https://brockdsl.github.io/Python_2.0_Workshop/canadian_toy_dataset.csv\")\n",
        "\n",
        "#Tell it what our columns are by passing along a list of that information\n",
        "data.columns = [\"city\",\"gender\",\"age\",\"income\",\"ill\"]\n",
        "\n",
        "#Change our ill_data to a number so the analysis will pick it up\n",
        "data[\"ill\"].replace({\"No\":0, \"Yes\":1},inplace=True)\n",
        "\n",
        "#First the correlation matrix directly from pandas\n",
        "data.corr()\n"
      ]
    },
    {
      "cell_type": "code",
      "execution_count": 91,
      "metadata": {
        "id": "9xqc7AgQJeat",
        "colab": {
          "base_uri": "https://localhost:8080/",
          "height": 326
        },
        "outputId": "0d329934-826a-43d4-d63a-0c61e96cf1e6"
      },
      "outputs": [
        {
          "output_type": "display_data",
          "data": {
            "text/plain": [
              "<Figure size 360x360 with 2 Axes>"
            ],
            "image/png": "[encoded data removed]"
          },
          "metadata": {}
        }
      ],
      "source": [
        "#We'll be using the Seaborne library (https://seaborn.pydata.org/) here \n",
        "#as it has a great corr matrix visualization\n",
        "import seaborn as sn\n",
        "\n",
        "sn.set(rc={'figure.figsize':(5,5)})\n",
        "sn.heatmap(data.corr(), annot=True)\n",
        "plt.show()"
      ]
    },
    {
      "cell_type": "markdown",
      "metadata": {
        "id": "C-Ni1f7PJeat"
      },
      "source": [
        "If you've never seen on of these below, this basically tell us there is no strong correlation between our columns of data. So if continue to keep digging into the numbers we are not likely to find any interesting statistical nuggets. "
      ]
    },
    {
      "cell_type": "markdown",
      "metadata": {
        "id": "o3mXIxB0Jeau"
      },
      "source": [
        "# Another Library, MatplotLib\n",
        "\n",
        "Let's take a look at graphing our results. We can use the `matplotlib` library to generate some graphs of our results. We always gives lists as parameters for the graphs\n"
      ]
    },
    {
      "cell_type": "code",
      "execution_count": 90,
      "metadata": {
        "id": "vU_a1P9AJeau",
        "colab": {
          "base_uri": "https://localhost:8080/"
        },
        "outputId": "b54362b0-9ce2-453f-9c7e-ba31a2d955c8"
      },
      "outputs": [
        {
          "output_type": "stream",
          "name": "stdout",
          "text": [
            "Additional Libraries are loaded and ready!\n"
          ]
        }
      ],
      "source": [
        "#This line is for Jupyter's benefit\n",
        "%matplotlib inline\n",
        "#Import MayPlotLib to graph some results\n",
        "import matplotlib.pyplot as plt\n",
        "\n",
        "print(\"Additional Libraries are loaded and ready!\")"
      ]
    },
    {
      "cell_type": "markdown",
      "metadata": {
        "id": "tKGVg3ijJeau"
      },
      "source": [
        "Let's reload our data into a new dataframe"
      ]
    },
    {
      "cell_type": "code",
      "execution_count": 92,
      "metadata": {
        "id": "bQstYewyJeau",
        "colab": {
          "base_uri": "https://localhost:8080/"
        },
        "outputId": "6d2c35cc-3989-4ad0-e8c4-4cd882471280"
      },
      "outputs": [
        {
          "output_type": "stream",
          "name": "stdout",
          "text": [
            "Data loaded!\n"
          ]
        }
      ],
      "source": [
        "#Load the file\n",
        "graph_data = pd.read_csv(\"https://brockdsl.github.io/Python_2.0_Workshop/canadian_toy_dataset.csv\")\n",
        "\n",
        "#Tell it what our columns are\n",
        "graph_data.columns = [\"city\",\"gender\",\"age\",\"income\",\"ill\"]\n",
        "\n",
        "print(\"Data loaded!\")"
      ]
    },
    {
      "cell_type": "markdown",
      "metadata": {
        "id": "0FHPe1QpJeau"
      },
      "source": [
        "## Pie Graphs\n",
        "\n",
        "Let's draw a pie graph of the number of people that are `ill` versus people that are not ill. We create smaller data frames that match a selection criteria. In the first case, only people with the `ill` column set to `yes`, line 2. In the second case only people with the `ill` column set to `no`, line 6."
      ]
    },
    {
      "cell_type": "code",
      "execution_count": 95,
      "metadata": {
        "scrolled": false,
        "id": "rSIHTTxTJeau",
        "colab": {
          "base_uri": "https://localhost:8080/",
          "height": 338
        },
        "outputId": "142f3417-5be6-4463-9eb1-182168595876"
      },
      "outputs": [
        {
          "output_type": "stream",
          "name": "stdout",
          "text": [
            "People ill: 12139\n",
            "People Not ill: 137861\n"
          ]
        },
        {
          "output_type": "display_data",
          "data": {
            "text/plain": [
              "<Figure size 360x360 with 1 Axes>"
            ],
            "image/png": "[encoded data removed]"
          },
          "metadata": {}
        }
      ],
      "source": [
        "#All of the ill people with only ill column abd ill == Yes\n",
        "total_ill = graph_data[graph_data[\"ill\"] == \"Yes\"][\"ill\"].count()\n",
        "print(\"People ill: \" + str(total_ill))\n",
        "\n",
        "#All the people not ill only ill column abd ill == No\n",
        "total_not_ill = graph_data[graph_data['ill'] == \"No\"][\"ill\"].count()\n",
        "print(\"People Not ill: \"+ str(total_not_ill))\n",
        "\n",
        "\n",
        "# Matplot lib always wants data in a list, so we'll make one\n",
        "pie_data = [total_ill,total_not_ill]\n",
        "pie_labels = [\"Ill\", \"Not Ill\"] ##labels\n",
        "plt.pie(pie_data,labels=pie_labels) ##renders the pie show labels\n",
        "\n",
        "plt.show() ##show the graph"
      ]
    },
    {
      "cell_type": "markdown",
      "metadata": {
        "id": "fTAoVPysJeau"
      },
      "source": [
        "Try questions Q15  - Q16 and type \"Completed\" in the chat when you're done."
      ]
    },
    {
      "cell_type": "markdown",
      "metadata": {
        "id": "t7V_QoLAJeau"
      },
      "source": [
        "- **Q15** Can you create a pie graph that shows the gender distribution in the data? You just need to modify line 2 & 5"
      ]
    },
    {
      "cell_type": "code",
      "execution_count": 106,
      "metadata": {
        "id": "dw8KCZuxJeau",
        "colab": {
          "base_uri": "https://localhost:8080/",
          "height": 303
        },
        "outputId": "0444e765-844a-4d52-9444-ced9d84235bf"
      },
      "outputs": [
        {
          "output_type": "display_data",
          "data": {
            "text/plain": [
              "<Figure size 360x360 with 1 Axes>"
            ],
            "image/png": "[encoded data removed]"
          },
          "metadata": {}
        }
      ],
      "source": [
        "#Fill in the following\n",
        "females_ill = graph_data[graph_data[\"gender\"] ==\"Female\"][\"ill\"].count()\n",
        "\n",
        "#Fill in the following\n",
        "males_ill = graph_data[graph_data[\"gender\"] ==\"Male\"][\"ill\"].count()\n",
        "\n",
        "pie_data = [females_ill,males_ill]\n",
        "pie_labels = [\"Females\",\"Males\"]\n",
        "plt.pie(pie_data,labels=pie_labels)\n",
        "\n",
        "plt.show()"
      ]
    },
    {
      "cell_type": "markdown",
      "metadata": {
        "id": "NXgvxxUoJeav"
      },
      "source": [
        "- **Q16** Can you create a pie graph that shows the how many people in the dataset make over 100000 annual income? You just need to modify line 2 & 5."
      ]
    },
    {
      "cell_type": "code",
      "execution_count": 102,
      "metadata": {
        "id": "WxWPhbbXJeav",
        "colab": {
          "base_uri": "https://localhost:8080/",
          "height": 303
        },
        "outputId": "38eef632-8929-49b8-eac8-d4fbc3ed5812"
      },
      "outputs": [
        {
          "output_type": "display_data",
          "data": {
            "text/plain": [
              "<Figure size 360x360 with 1 Axes>"
            ],
            "image/png": "[encoded data removed]"
          },
          "metadata": {}
        }
      ],
      "source": [
        "#Fill in the following\n",
        "over_100k = graph_data[graph_data[\"income\"] > 100000][\"income\"].count()\n",
        "\n",
        "#Fill in the following\n",
        "under_100k = graph_data[graph_data[\"income\"] <= 100000][\"income\"].count()\n",
        "\n",
        "pie_data = [over_100k, under_100k]\n",
        "pie_labels = [\"Over 100k\",\"Under 100k\"]\n",
        "plt.pie(pie_data,labels=pie_labels)\n",
        "\n",
        "plt.show()"
      ]
    },
    {
      "cell_type": "code",
      "source": [
        "#Fill in the following\n",
        "over_100k = graph_data[graph_data[\"income\"] > 100000][\"income\"].count()\n",
        "\n",
        "#Fill in the following\n",
        "under_100k = graph_data[graph_data[\"income\"] < 100000][\"income\"].count()\n",
        "\n",
        "#Fill in the following\n",
        "equal_100k = graph_data[graph_data[\"income\"] == 100000][\"income\"].count()\n",
        "\n",
        "\n",
        "pie_data = [over_100k, under_100k,equal_100k]\n",
        "pie_labels = [\"Over 100k\",\"Under 100k\", \"equal_100k\"]\n",
        "plt.pie(pie_data,labels=pie_labels)\n",
        "\n",
        "plt.show()"
      ],
      "metadata": {
        "colab": {
          "base_uri": "https://localhost:8080/",
          "height": 303
        },
        "id": "oywJ1weEivjB",
        "outputId": "105346b8-9bcb-46aa-c0e1-671c86c18427"
      },
      "execution_count": 108,
      "outputs": [
        {
          "output_type": "display_data",
          "data": {
            "text/plain": [
              "<Figure size 360x360 with 1 Axes>"
            ],
            "image/png": "[encoded data removed]"
          },
          "metadata": {}
        }
      ]
    },
    {
      "cell_type": "markdown",
      "metadata": {
        "id": "U8hE0NfPJeav"
      },
      "source": [
        "# Congrats!\n",
        "\n",
        "You now know a bit about Python Libraries and using advance features of the Language. Try adding new cells to this page and asking yourself more questions"
      ]
    },
    {
      "cell_type": "markdown",
      "metadata": {
        "id": "Pbp19z6QJeav"
      },
      "source": [
        "## Interested in more workshop?\n",
        "\n",
        "We offer a few other Python workshops that build on what we learned today.\n",
        "\n",
        "- [Text Analysis with Python](https://brockdsl.github.io/Text_Analysis_with_Python/) - An introduction to the different types of analysis you can perform on text using Python\n",
        "- [Machine Learning with Python](https://brockdsl.github.io/Machine_Learning_with_Python/) - A very easy introduction to the first step of artificial intelligence programming. \n",
        "\n",
        "All of our workshop times are listed on our [Eventbrite](https://brockdsl.eventbrite.com) page."
      ]
    },
    {
      "cell_type": "markdown",
      "metadata": {
        "id": "uZDtGij3Jeav"
      },
      "source": [
        "## Further Reading\n",
        "\n",
        "- Now that we've handled the basics here are some interesting next steps you can persue.\n",
        "\n",
        "[Python For Librarians](https://libraryjuiceacademy.com/shop/course/270-python-for-librarians/?attribute_pa_session=2021-05-may) - A four week asynchronous professional development course that examines how to use Python.\n",
        "\n",
        "[Kaggle](https://www.kaggle.com/) - An online portal that teaches data science using Notebooks, also has contests for cash prizes\n",
        "\n",
        "[Python the Hard Way](https://learntocodetogether.com/learn-python-the-hard-way-free-ebook-download/) - Don't let the name fool you, this book is a great introduction to Python and programming more generally\n",
        "\n",
        "[Data Analysis with Python and Sci Hub](https://brockdsl.github.io/SciHub_Workshop/) - A tutorial on using Python to analyze Sci-Hub data. Similar to what we saw today, but with real data.\n",
        "\n",
        "[Google Colab FAQ](https://research.google.com/colaboratory/faq.html) - A concise set of questions and answers on how to use the Google Colab environment.\n",
        "\n",
        "[Thinking in Pandas](https://www.apress.com/gp/book/9781484258385) - A short book that looks at how to use Pandas for analysis.\n",
        "\n",
        "\n",
        "Have questions about Python and data science. Drop us a line at `dsl @ brocku.ca`"
      ]
    },
    {
      "cell_type": "markdown",
      "metadata": {
        "id": "qayY2GsUJeav"
      },
      "source": [
        "## Extra Question: Automatic Histograms\n",
        "\n",
        "\n",
        "Say we wanted to plot out the income distribution of our data set as a [historgram](https://en.wikipedia.org/wiki/Histogram) "
      ]
    },
    {
      "cell_type": "code",
      "execution_count": 109,
      "metadata": {
        "scrolled": true,
        "id": "cPHBRoX6Jeav",
        "colab": {
          "base_uri": "https://localhost:8080/",
          "height": 355
        },
        "outputId": "3ca2c233-d7ef-4e1f-f3fc-e5dc6815d83d"
      },
      "outputs": [
        {
          "output_type": "display_data",
          "data": {
            "text/plain": [
              "<Figure size 360x360 with 1 Axes>"
            ],
            "image/png": "[encoded data removed]"
          },
          "metadata": {}
        }
      ],
      "source": [
        "# bins is the number of containers we'll split our x-axis values into\n",
        "bins = 250\n",
        "\n",
        "plt.hist(graph_data[\"income\"],bins)\n",
        "\n",
        "plt.title(\"Income distribution\")\n",
        "plt.xlabel(\"Income\")\n",
        "plt.ylabel(\"Occurrences\")\n",
        "\n",
        "plt.show()"
      ]
    },
    {
      "cell_type": "markdown",
      "metadata": {
        "id": "hQXz7QeeJeav"
      },
      "source": [
        "**Q17** Can you draw a histogram of the `age` distribution? Make sure to give it the axes good descriptions. You just need to modify line 1,5, & 6. (The example above should help you) "
      ]
    },
    {
      "cell_type": "code",
      "execution_count": 111,
      "metadata": {
        "scrolled": true,
        "id": "YfrsZh32Jeaw",
        "colab": {
          "base_uri": "https://localhost:8080/",
          "height": 355
        },
        "outputId": "ef1b6b76-a34f-443e-8ad7-cdb6a437bbb2"
      },
      "outputs": [
        {
          "output_type": "display_data",
          "data": {
            "text/plain": [
              "<Figure size 360x360 with 1 Axes>"
            ],
            "image/png": "[encoded data removed]"
          },
          "metadata": {}
        }
      ],
      "source": [
        "bins = 20 #FILL\n",
        "\n",
        "plt.hist(graph_data[\"age\"],bins) \n",
        "plt.title(\"Age Distribution\")\n",
        "plt.xlabel(\"Age\") #FILL\n",
        "plt.ylabel(\"number\") #FILL\n",
        "\n",
        "plt.show()"
      ]
    }
  ],
  "metadata": {
    "kernelspec": {
      "display_name": "Python 3 (ipykernel)",
      "language": "python",
      "name": "python3"
    },
    "language_info": {
      "codemirror_mode": {
        "name": "ipython",
        "version": 3
      },
      "file_extension": ".py",
      "mimetype": "text/x-python",
      "name": "python",
      "nbconvert_exporter": "python",
      "pygments_lexer": "ipython3",
      "version": "3.9.13"
    },
    "colab": {
      "provenance": [],
      "include_colab_link": true
    }
  },
  "nbformat": 4,
  "nbformat_minor": 0
}