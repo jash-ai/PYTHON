{
  "cells": [
    {
      "cell_type": "markdown",
      "metadata": {
        "id": "view-in-github",
        "colab_type": "text"
      },
      "source": [
        "<a href=\"https://colab.research.google.com/github/jash-ai/PYTHON/blob/main/Magnimind_time_series_Session_1_Meetup_St.ipynb\" target=\"_parent\"><img src=\"https://colab.research.google.com/assets/colab-badge.svg\" alt=\"Open In Colab\"/></a>"
      ]
    },
    {
      "cell_type": "markdown",
      "metadata": {
        "id": "Y18dkVWNtmBB"
      },
      "source": [
        "# 1. Different Types of Data"
      ]
    },
    {
      "cell_type": "code",
      "execution_count": 2,
      "metadata": {
        "id": "2vMNNA4ItmBF"
      },
      "outputs": [],
      "source": [
        "import os\n",
        "import pandas as pd\n",
        "import numpy as np\n",
        "%matplotlib inline\n",
        "from matplotlib import pyplot as plt\n",
        "import seaborn as sns"
      ]
    },
    {
      "cell_type": "markdown",
      "metadata": {
        "id": "aw43XavvtmBG"
      },
      "source": [
        "1.1 Import the data"
      ]
    },
    {
      "cell_type": "code",
      "execution_count": null,
      "metadata": {
        "id": "rzZgU3ZwtmBG"
      },
      "outputs": [],
      "source": []
    },
    {
      "cell_type": "markdown",
      "metadata": {
        "id": "n4ruRaOftmBH"
      },
      "source": [
        "1.2 Check the number of rows and columns.\n",
        "Check how many unique indicator names and country codes are available in the data."
      ]
    },
    {
      "cell_type": "code",
      "execution_count": null,
      "metadata": {
        "id": "-zYwN0YMtmBH"
      },
      "outputs": [],
      "source": []
    },
    {
      "cell_type": "markdown",
      "metadata": {
        "id": "Iim_Kd7ztmBH"
      },
      "source": [
        "1.3 Create a new dataframe where indicator name is 'Central government debt, total (% of GDP)'\n",
        "\n",
        "Create a new dataframe where indicator name is 'Military expenditure (% of GDP)'"
      ]
    },
    {
      "cell_type": "code",
      "execution_count": null,
      "metadata": {
        "id": "h1fG0DqPtmBH"
      },
      "outputs": [],
      "source": []
    },
    {
      "cell_type": "markdown",
      "metadata": {
        "id": "ETCmGPyytmBI"
      },
      "source": [
        "1.4 Assign the country code as the index for the two dataframes you created earlier.\n",
        "\n",
        "Keep the countries where both columns have non-missing values.\n",
        "\n",
        "Create a histogram for the military expenditure column.\n",
        "\n"
      ]
    },
    {
      "cell_type": "code",
      "execution_count": null,
      "metadata": {
        "id": "_AaVu2I3tmBI"
      },
      "outputs": [],
      "source": []
    },
    {
      "cell_type": "markdown",
      "metadata": {
        "id": "VSu6P8iztmBI"
      },
      "source": [
        "### 1.1.2 Time Series Data"
      ]
    },
    {
      "cell_type": "markdown",
      "metadata": {
        "id": "ehtGwTgvtmBI"
      },
      "source": [
        "1.5\n",
        "a. filter the two datasets above for country ode 'USA'\n",
        "\n",
        "b. concatenate  the two series (data for the US) after taking a transpose of them.\n",
        "\n",
        "c. keep the data corresponding to years between 1960 and 2010 (including).\n",
        "\n",
        "d. drop the rows with missing values\n",
        "\n",
        "e. Create plots for the military and government expenditure as a function of time"
      ]
    },
    {
      "cell_type": "code",
      "execution_count": null,
      "metadata": {
        "id": "bTTuDCKBtmBJ"
      },
      "outputs": [],
      "source": []
    },
    {
      "cell_type": "markdown",
      "metadata": {
        "tags": [],
        "id": "07YXnAZOtmBJ"
      },
      "source": [
        "### 1.1.3 Panel Data\n",
        "\n",
        "- Cross sectional\n",
        " - Multiple individuals at one point in time\n",
        "- Time Series\n",
        " - Individual entity over multiple points in time\n",
        "- Panel Data (longitudinal data)\n",
        " - Multiple entities over multiple points in time"
      ]
    },
    {
      "cell_type": "markdown",
      "metadata": {
        "id": "u09yfjVJtmBJ"
      },
      "source": [
        "1.6 create the military expenditure for the following countries between\n",
        "1960 and 2010.\n",
        "\n",
        "The country codes:\n",
        "\n",
        "China: 'CHN'\n",
        "\n",
        "USA:'USA'\n",
        "\n",
        "India:'IND'\n",
        "\n",
        "UK:'GBR'"
      ]
    },
    {
      "cell_type": "code",
      "execution_count": null,
      "metadata": {
        "id": "lxQZD-XatmBJ"
      },
      "outputs": [],
      "source": []
    },
    {
      "cell_type": "markdown",
      "metadata": {
        "id": "Lbgvk4catmBK"
      },
      "source": [
        "# 2. Internal Structure of Time Series"
      ]
    },
    {
      "cell_type": "markdown",
      "metadata": {
        "tags": [],
        "id": "ppuF0T27tmBK"
      },
      "source": [
        "### Objectives of Time Series Analysis\n",
        "- Decompose a time series\n",
        "- Develop mathematical models\n",
        "- Uses of models\n",
        " - Understand observed behaviour\n",
        " - Predict series for future points in time"
      ]
    },
    {
      "cell_type": "markdown",
      "metadata": {
        "id": "wAQcun2itmBK"
      },
      "source": [
        "2.1 Read the data 'Monthly_CO2_Concentratioins.xlsx'\n",
        "\n",
        "Keep the rows wihout any missing values\n",
        "\n",
        "Plot the Co2 concentration, observe the upward trend\n",
        "\n",
        "Plot the data for only years 1980 and 1981\n",
        "\n",
        "\n",
        "\n"
      ]
    },
    {
      "cell_type": "code",
      "execution_count": null,
      "metadata": {
        "id": "lQaeWooftmBK"
      },
      "outputs": [],
      "source": []
    },
    {
      "cell_type": "markdown",
      "metadata": {
        "id": "_cUIRUBVtmBK"
      },
      "source": [
        "## 2.1 Upward Trend"
      ]
    },
    {
      "cell_type": "code",
      "execution_count": null,
      "metadata": {
        "id": "-diLpVYHtmBL"
      },
      "outputs": [],
      "source": []
    },
    {
      "cell_type": "markdown",
      "metadata": {
        "id": "pznBpzNGtmBL"
      },
      "source": [
        "### Zoomed-in Version of the Data Between 1980-81"
      ]
    },
    {
      "cell_type": "code",
      "execution_count": null,
      "metadata": {
        "id": "ek22ToA9tmBL"
      },
      "outputs": [],
      "source": []
    },
    {
      "cell_type": "markdown",
      "metadata": {
        "tags": [],
        "id": "jnWZPsGWtmBL"
      },
      "source": [
        "### Fitting The Trend Line\n",
        "\n",
        "Fit a linear regression model using the data and\n",
        "print the coefficient and the intercept\n",
        "\n"
      ]
    },
    {
      "cell_type": "code",
      "execution_count": null,
      "metadata": {
        "id": "P0vpjvW8tmBL"
      },
      "outputs": [],
      "source": []
    },
    {
      "cell_type": "markdown",
      "metadata": {
        "id": "pGY9VMq_tmBL"
      },
      "source": [
        "### Calculating the Residuals\n",
        "\n",
        "Calculate the residuals by subtracting the predictions from the data\n",
        "\n",
        "Plot the residuals\n"
      ]
    },
    {
      "cell_type": "code",
      "execution_count": null,
      "metadata": {
        "id": "9WvVGcfBtmBM"
      },
      "outputs": [],
      "source": []
    },
    {
      "cell_type": "markdown",
      "metadata": {
        "id": "Ir3QGkp6tmBM"
      },
      "source": [
        "### Seasonality\n",
        "\n",
        "Seasonality is manifested as periodic deviations such as those seen in the de-trended observations of CO2 emissions.\n",
        "\n",
        "A practical technique of determining seasonality is through exploratory data analysis through the following plots:\n",
        "\n",
        "- Run sequence plot\n",
        "- Seasonal sub series plot\n",
        "- Multiple box plots\n"
      ]
    },
    {
      "cell_type": "code",
      "execution_count": null,
      "metadata": {
        "id": "0wfWjFprtmBM"
      },
      "outputs": [],
      "source": []
    },
    {
      "cell_type": "markdown",
      "metadata": {
        "id": "BxrLDDXktmBM"
      },
      "source": [
        "### Cylical Changes\n",
        "Cyclical changes are movements observed after every few units of time, but they occur less frequently than seasonal fluctuations. Unlike seasonality, cyclical changes might not have a fixed period of variations."
      ]
    },
    {
      "cell_type": "code",
      "execution_count": null,
      "metadata": {
        "id": "H2jQ10pKtmBM"
      },
      "outputs": [],
      "source": []
    },
    {
      "cell_type": "markdown",
      "metadata": {
        "tags": [],
        "id": "PRG2vCXGtmBM"
      },
      "source": [
        "### Zero-mean Model or White Noise\n",
        "Once predictions have been made by a time series forecast model, they can be collected and analyzed. The series of forecast errors should ideally be white noise. When forecast errors are white noise, it means that all of the signal information in the time series has been harnessed by the model in order to make predictions."
      ]
    },
    {
      "cell_type": "code",
      "execution_count": null,
      "metadata": {
        "id": "_tu4jwp2tmBM"
      },
      "outputs": [],
      "source": []
    },
    {
      "cell_type": "markdown",
      "metadata": {
        "id": "ui0OcEsJtmBN"
      },
      "source": [
        "### Random Walk\n",
        "A random walk is different from a list of random numbers because the next value in the sequence is a modification of the previous value in the sequence.\n",
        "\n",
        "$$y(t)=B_0+B_1\\times y(t-1) + e(t)$$\n",
        "\n",
        "$e(t)$ is a random noise or increment at time t. It represents the random fluctuation or innovation added to the last observed value to obtain the next value in the time series.\n",
        "\n",
        "Given the way that the random walk is constructed, we would expect a strong autocorrelation with the previous observation and a linear fall off from there with previous lag values."
      ]
    },
    {
      "cell_type": "code",
      "execution_count": null,
      "metadata": {
        "id": "hDJHdUROtmBN"
      },
      "outputs": [],
      "source": []
    }
  ],
  "metadata": {
    "kernelspec": {
      "display_name": "Python 3 (ipykernel)",
      "language": "python",
      "name": "python3"
    },
    "language_info": {
      "codemirror_mode": {
        "name": "ipython",
        "version": 3
      },
      "file_extension": ".py",
      "mimetype": "text/x-python",
      "name": "python",
      "nbconvert_exporter": "python",
      "pygments_lexer": "ipython3",
      "version": "3.10.9"
    },
    "colab": {
      "provenance": [],
      "include_colab_link": true
    }
  },
  "nbformat": 4,
  "nbformat_minor": 0
}