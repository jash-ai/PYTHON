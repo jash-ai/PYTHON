{
  "nbformat": 4,
  "nbformat_minor": 0,
  "metadata": {
    "colab": {
      "provenance": [],
      "authorship_tag": "ABX9TyMtBhXR2lBWNmetN3jIf///",
      "include_colab_link": true
    },
    "kernelspec": {
      "name": "python3",
      "display_name": "Python 3"
    },
    "language_info": {
      "name": "python"
    }
  },
  "cells": [
    {
      "cell_type": "markdown",
      "metadata": {
        "id": "view-in-github",
        "colab_type": "text"
      },
      "source": [
        "<a href=\"https://colab.research.google.com/github/jash-ai/PYTHON/blob/main/PySpark%20for%20Data%20Science.ipynb\" target=\"_parent\"><img src=\"https://colab.research.google.com/assets/colab-badge.svg\" alt=\"Open In Colab\"/></a>"
      ]
    },
    {
      "cell_type": "code",
      "execution_count": null,
      "metadata": {
        "id": "KzNqRfxDbgiZ"
      },
      "outputs": [],
      "source": [
        "##https://www.kdnuggets.com/2023/02/pyspark-data-science.html\n",
        "##google colab"
      ]
    },
    {
      "cell_type": "markdown",
      "source": [
        "## **PySpark for Data Science**"
      ],
      "metadata": {
        "id": "xyXF0RGCnzf4"
      }
    },
    {
      "cell_type": "code",
      "source": [
        "%pip install pyspark py4j -qq"
      ],
      "metadata": {
        "colab": {
          "base_uri": "https://localhost:8080/"
        },
        "id": "rjA5lYLIbn6m",
        "outputId": "ad615326-95e1-4183-da93-804845e24e47"
      },
      "execution_count": 1,
      "outputs": [
        {
          "output_type": "stream",
          "name": "stdout",
          "text": [
            "\u001b[2K     \u001b[90m━━━━━━━━━━━━━━━━━━━━━━━━━━━━━━━━━━━━━━━\u001b[0m \u001b[32m281.4/281.4 MB\u001b[0m \u001b[31m4.6 MB/s\u001b[0m eta \u001b[36m0:00:00\u001b[0m\n",
            "\u001b[?25h  Preparing metadata (setup.py) ... \u001b[?25l\u001b[?25hdone\n",
            "\u001b[2K     \u001b[90m━━━━━━━━━━━━━━━━━━━━━━━━━━━━━━━━━━━━━━━\u001b[0m \u001b[32m200.5/200.5 KB\u001b[0m \u001b[31m9.6 MB/s\u001b[0m eta \u001b[36m0:00:00\u001b[0m\n",
            "\u001b[2K     \u001b[90m━━━━━━━━━━━━━━━━━━━━━━━━━━━━━━━━━━━━━━\u001b[0m \u001b[32m199.7/199.7 KB\u001b[0m \u001b[31m15.2 MB/s\u001b[0m eta \u001b[36m0:00:00\u001b[0m\n",
            "\u001b[?25h  Building wheel for pyspark (setup.py) ... \u001b[?25l\u001b[?25hdone\n"
          ]
        }
      ]
    },
    {
      "cell_type": "markdown",
      "source": [
        "After that, we will need to provide the session name to initialize the Spark session."
      ],
      "metadata": {
        "id": "_9DHUrzGb68N"
      }
    },
    {
      "cell_type": "code",
      "source": [
        "from pyspark.sql import SparkSession\n",
        "\n",
        "spark = SparkSession.builder.appName('PySpark_for_DataScience').getOrCreate()"
      ],
      "metadata": {
        "id": "00J-4LPib8Vm"
      },
      "execution_count": 2,
      "outputs": []
    },
    {
      "cell_type": "markdown",
      "source": [
        "**Importing the Data using PySpark**"
      ],
      "metadata": {
        "id": "B15oqKgkcF11"
      }
    },
    {
      "cell_type": "markdown",
      "source": [
        "In this tutorial, we will be using Global Spotify Weekly Chart from Kaggle. It contains information about the artist and the songs on the Spotify global weekly chart.\n",
        "\n",
        "Just like Pandas, we can load the data from CSV to dataframe using spark.read.csv function and display Schema using printSchema() function."
      ],
      "metadata": {
        "id": "02Az8n5YcMeG"
      }
    },
    {
      "cell_type": "markdown",
      "source": [
        "DOWNLOAD FILE FROM:\n",
        "https://www.kaggle.com/datasets/kabhishm/global-spotify-weekly-chart"
      ],
      "metadata": {
        "id": "EGPM1zB6ce5e"
      }
    },
    {
      "cell_type": "code",
      "source": [
        "## COPY THE FILE AND ADD IT TO GOOGLE COLAB FILE SECTION"
      ],
      "metadata": {
        "id": "1imzBwIPchyW"
      },
      "execution_count": null,
      "outputs": []
    },
    {
      "cell_type": "code",
      "source": [
        "df = spark.read.csv(\n",
        "    '/content/spotify_weekly_chart.csv',\n",
        "    sep = ',',\n",
        "    header = True,\n",
        "    )\n",
        "\n",
        "df.printSchema()"
      ],
      "metadata": {
        "colab": {
          "base_uri": "https://localhost:8080/"
        },
        "id": "bKKpYI4pcRYW",
        "outputId": "53140929-d785-46b9-84ae-8e6982009813"
      },
      "execution_count": 4,
      "outputs": [
        {
          "output_type": "stream",
          "name": "stdout",
          "text": [
            "root\n",
            " |-- Pos: string (nullable = true)\n",
            " |-- P+: string (nullable = true)\n",
            " |-- Artist: string (nullable = true)\n",
            " |-- Title: string (nullable = true)\n",
            " |-- Wks: string (nullable = true)\n",
            " |-- Pk: string (nullable = true)\n",
            " |-- (x?): string (nullable = true)\n",
            " |-- Streams: string (nullable = true)\n",
            " |-- Streams+: string (nullable = true)\n",
            " |-- Total: string (nullable = true)\n",
            "\n"
          ]
        }
      ]
    },
    {
      "cell_type": "markdown",
      "source": [
        "Output:\n",
        "\n",
        "As we can observe, PySpark has loaded all of the columns as a string. To perform exploratory data analysis, we need to change the Schema."
      ],
      "metadata": {
        "id": "de7j_1oedX1n"
      }
    },
    {
      "cell_type": "markdown",
      "source": [
        "**Updating the Schema**"
      ],
      "metadata": {
        "id": "qxrh8rw_dgGG"
      }
    },
    {
      "cell_type": "markdown",
      "source": [
        "To change the schema, we need to create a new data schema that we will add to StructType function. You need to make sure that each column field is getting the right data type. "
      ],
      "metadata": {
        "id": "c7DrijAtdojF"
      }
    },
    {
      "cell_type": "code",
      "source": [
        "from pyspark.sql.types import *\n",
        "\n",
        "data_schema = [\n",
        "               StructField('Pos', IntegerType(), True),\n",
        "               StructField('P+', StringType(), True),\n",
        "               StructField('Artist', StringType(), True),\n",
        "               StructField('Title', StringType(), True),\n",
        "               StructField('Wks', IntegerType(), True),\n",
        "               StructField('Pk', IntegerType(), True),\n",
        "               StructField('(x?)', StringType(), True),\n",
        "               StructField('Streams', IntegerType(), True),\n",
        "               StructField('Streams+', DoubleType(), True),\n",
        "               StructField('Total', IntegerType(), True),\n",
        "            ]\n",
        "\n",
        "final_struc = StructType(fields = data_schema)"
      ],
      "metadata": {
        "id": "DWDxzrbqdsw-"
      },
      "execution_count": 5,
      "outputs": []
    },
    {
      "cell_type": "markdown",
      "source": [
        "Then, we will load the CSV files using extra argument schema. After that, we will print the schema to check if the correct changes were made."
      ],
      "metadata": {
        "id": "UsYXCaXPd2R-"
      }
    },
    {
      "cell_type": "code",
      "source": [
        "df = spark.read.csv(\n",
        "    '/content/spotify_weekly_chart.csv',\n",
        "    sep = ',',\n",
        "    header = True,\n",
        "    schema = final_struc ##EXTRA BIT ADDED TO CHECK THE SCHEMA\n",
        "    )\n",
        "\n",
        "df.printSchema()"
      ],
      "metadata": {
        "colab": {
          "base_uri": "https://localhost:8080/"
        },
        "id": "fVtuu9A6d20e",
        "outputId": "0b08da54-bc4d-4f7d-cb6f-e7906bc21fc6"
      },
      "execution_count": 6,
      "outputs": [
        {
          "output_type": "stream",
          "name": "stdout",
          "text": [
            "root\n",
            " |-- Pos: integer (nullable = true)\n",
            " |-- P+: string (nullable = true)\n",
            " |-- Artist: string (nullable = true)\n",
            " |-- Title: string (nullable = true)\n",
            " |-- Wks: integer (nullable = true)\n",
            " |-- Pk: integer (nullable = true)\n",
            " |-- (x?): string (nullable = true)\n",
            " |-- Streams: integer (nullable = true)\n",
            " |-- Streams+: double (nullable = true)\n",
            " |-- Total: integer (nullable = true)\n",
            "\n"
          ]
        }
      ]
    },
    {
      "cell_type": "markdown",
      "source": [
        "**Output:**\n",
        "\n",
        "As we can see, we have different data types for the columns. "
      ],
      "metadata": {
        "id": "SA2gfBv9eRQe"
      }
    },
    {
      "cell_type": "markdown",
      "source": [
        "**Exploring the Data**"
      ],
      "metadata": {
        "id": "9gyLCM_QeVaG"
      }
    },
    {
      "cell_type": "markdown",
      "source": [
        "You can explore your data as a dataframe by using toPandas() function."
      ],
      "metadata": {
        "id": "ZRZXypesenYm"
      }
    },
    {
      "cell_type": "markdown",
      "source": [
        "Note: we have used limit to display the first five rows. It is similar to SQL commands. This means that we can use PySpark Python API for SQL command to run queries"
      ],
      "metadata": {
        "id": "gnOuRAHfepc2"
      }
    },
    {
      "cell_type": "markdown",
      "source": [],
      "metadata": {
        "id": "-NF6yE__esCu"
      }
    },
    {
      "cell_type": "code",
      "source": [
        "df.limit(5).toPandas()"
      ],
      "metadata": {
        "colab": {
          "base_uri": "https://localhost:8080/",
          "height": 250
        },
        "id": "_UfPtpc0euQe",
        "outputId": "0bea83d4-8ebf-4633-8f00-806187ea69d6"
      },
      "execution_count": 7,
      "outputs": [
        {
          "output_type": "execute_result",
          "data": {
            "text/plain": [
              "   Pos  P+           Artist                                  Title  Wks  Pk  \\\n",
              "0    1   =     Miley Cyrus                                 Flowers    6   1   \n",
              "1    2   =             SZA                               Kill Bill   11   1   \n",
              "2    3  +1  PinkPantheress                      Boy's a liar Pt. 2    3   3   \n",
              "3    4  -1        Bizarrap   Shakira: Bzrp Music Sessions, Vol. 53    7   2   \n",
              "4    5   =    Harry Styles                               As It Was   47   1   \n",
              "\n",
              "  (x?)   Streams   Streams+       Total  \n",
              "0    6  61763072 -9016633.0   528646130  \n",
              "1    2  46549077 -2452314.0   510454785  \n",
              "2    1  39172306  7520136.0    83824655  \n",
              "3    3  34781301 -3881780.0   335240889  \n",
              "4   11  29532543 -1523395.0  1924932123  "
            ],
            "text/html": [
              "\n",
              "  <div id=\"df-906ea622-c7d7-4eaf-871b-7372bd2e3865\">\n",
              "    <div class=\"colab-df-container\">\n",
              "      <div>\n",
              "<style scoped>\n",
              "    .dataframe tbody tr th:only-of-type {\n",
              "        vertical-align: middle;\n",
              "    }\n",
              "\n",
              "    .dataframe tbody tr th {\n",
              "        vertical-align: top;\n",
              "    }\n",
              "\n",
              "    .dataframe thead th {\n",
              "        text-align: right;\n",
              "    }\n",
              "</style>\n",
              "<table border=\"1\" class=\"dataframe\">\n",
              "  <thead>\n",
              "    <tr style=\"text-align: right;\">\n",
              "      <th></th>\n",
              "      <th>Pos</th>\n",
              "      <th>P+</th>\n",
              "      <th>Artist</th>\n",
              "      <th>Title</th>\n",
              "      <th>Wks</th>\n",
              "      <th>Pk</th>\n",
              "      <th>(x?)</th>\n",
              "      <th>Streams</th>\n",
              "      <th>Streams+</th>\n",
              "      <th>Total</th>\n",
              "    </tr>\n",
              "  </thead>\n",
              "  <tbody>\n",
              "    <tr>\n",
              "      <th>0</th>\n",
              "      <td>1</td>\n",
              "      <td>=</td>\n",
              "      <td>Miley Cyrus</td>\n",
              "      <td>Flowers</td>\n",
              "      <td>6</td>\n",
              "      <td>1</td>\n",
              "      <td>6</td>\n",
              "      <td>61763072</td>\n",
              "      <td>-9016633.0</td>\n",
              "      <td>528646130</td>\n",
              "    </tr>\n",
              "    <tr>\n",
              "      <th>1</th>\n",
              "      <td>2</td>\n",
              "      <td>=</td>\n",
              "      <td>SZA</td>\n",
              "      <td>Kill Bill</td>\n",
              "      <td>11</td>\n",
              "      <td>1</td>\n",
              "      <td>2</td>\n",
              "      <td>46549077</td>\n",
              "      <td>-2452314.0</td>\n",
              "      <td>510454785</td>\n",
              "    </tr>\n",
              "    <tr>\n",
              "      <th>2</th>\n",
              "      <td>3</td>\n",
              "      <td>+1</td>\n",
              "      <td>PinkPantheress</td>\n",
              "      <td>Boy's a liar Pt. 2</td>\n",
              "      <td>3</td>\n",
              "      <td>3</td>\n",
              "      <td>1</td>\n",
              "      <td>39172306</td>\n",
              "      <td>7520136.0</td>\n",
              "      <td>83824655</td>\n",
              "    </tr>\n",
              "    <tr>\n",
              "      <th>3</th>\n",
              "      <td>4</td>\n",
              "      <td>-1</td>\n",
              "      <td>Bizarrap</td>\n",
              "      <td>Shakira: Bzrp Music Sessions, Vol. 53</td>\n",
              "      <td>7</td>\n",
              "      <td>2</td>\n",
              "      <td>3</td>\n",
              "      <td>34781301</td>\n",
              "      <td>-3881780.0</td>\n",
              "      <td>335240889</td>\n",
              "    </tr>\n",
              "    <tr>\n",
              "      <th>4</th>\n",
              "      <td>5</td>\n",
              "      <td>=</td>\n",
              "      <td>Harry Styles</td>\n",
              "      <td>As It Was</td>\n",
              "      <td>47</td>\n",
              "      <td>1</td>\n",
              "      <td>11</td>\n",
              "      <td>29532543</td>\n",
              "      <td>-1523395.0</td>\n",
              "      <td>1924932123</td>\n",
              "    </tr>\n",
              "  </tbody>\n",
              "</table>\n",
              "</div>\n",
              "      <button class=\"colab-df-convert\" onclick=\"convertToInteractive('df-906ea622-c7d7-4eaf-871b-7372bd2e3865')\"\n",
              "              title=\"Convert this dataframe to an interactive table.\"\n",
              "              style=\"display:none;\">\n",
              "        \n",
              "  <svg xmlns=\"http://www.w3.org/2000/svg\" height=\"24px\"viewBox=\"0 0 24 24\"\n",
              "       width=\"24px\">\n",
              "    <path d=\"M0 0h24v24H0V0z\" fill=\"none\"/>\n",
              "    <path d=\"M18.56 5.44l.94 2.06.94-2.06 2.06-.94-2.06-.94-.94-2.06-.94 2.06-2.06.94zm-11 1L8.5 8.5l.94-2.06 2.06-.94-2.06-.94L8.5 2.5l-.94 2.06-2.06.94zm10 10l.94 2.06.94-2.06 2.06-.94-2.06-.94-.94-2.06-.94 2.06-2.06.94z\"/><path d=\"M17.41 7.96l-1.37-1.37c-.4-.4-.92-.59-1.43-.59-.52 0-1.04.2-1.43.59L10.3 9.45l-7.72 7.72c-.78.78-.78 2.05 0 2.83L4 21.41c.39.39.9.59 1.41.59.51 0 1.02-.2 1.41-.59l7.78-7.78 2.81-2.81c.8-.78.8-2.07 0-2.86zM5.41 20L4 18.59l7.72-7.72 1.47 1.35L5.41 20z\"/>\n",
              "  </svg>\n",
              "      </button>\n",
              "      \n",
              "  <style>\n",
              "    .colab-df-container {\n",
              "      display:flex;\n",
              "      flex-wrap:wrap;\n",
              "      gap: 12px;\n",
              "    }\n",
              "\n",
              "    .colab-df-convert {\n",
              "      background-color: #E8F0FE;\n",
              "      border: none;\n",
              "      border-radius: 50%;\n",
              "      cursor: pointer;\n",
              "      display: none;\n",
              "      fill: #1967D2;\n",
              "      height: 32px;\n",
              "      padding: 0 0 0 0;\n",
              "      width: 32px;\n",
              "    }\n",
              "\n",
              "    .colab-df-convert:hover {\n",
              "      background-color: #E2EBFA;\n",
              "      box-shadow: 0px 1px 2px rgba(60, 64, 67, 0.3), 0px 1px 3px 1px rgba(60, 64, 67, 0.15);\n",
              "      fill: #174EA6;\n",
              "    }\n",
              "\n",
              "    [theme=dark] .colab-df-convert {\n",
              "      background-color: #3B4455;\n",
              "      fill: #D2E3FC;\n",
              "    }\n",
              "\n",
              "    [theme=dark] .colab-df-convert:hover {\n",
              "      background-color: #434B5C;\n",
              "      box-shadow: 0px 1px 3px 1px rgba(0, 0, 0, 0.15);\n",
              "      filter: drop-shadow(0px 1px 2px rgba(0, 0, 0, 0.3));\n",
              "      fill: #FFFFFF;\n",
              "    }\n",
              "  </style>\n",
              "\n",
              "      <script>\n",
              "        const buttonEl =\n",
              "          document.querySelector('#df-906ea622-c7d7-4eaf-871b-7372bd2e3865 button.colab-df-convert');\n",
              "        buttonEl.style.display =\n",
              "          google.colab.kernel.accessAllowed ? 'block' : 'none';\n",
              "\n",
              "        async function convertToInteractive(key) {\n",
              "          const element = document.querySelector('#df-906ea622-c7d7-4eaf-871b-7372bd2e3865');\n",
              "          const dataTable =\n",
              "            await google.colab.kernel.invokeFunction('convertToInteractive',\n",
              "                                                     [key], {});\n",
              "          if (!dataTable) return;\n",
              "\n",
              "          const docLinkHtml = 'Like what you see? Visit the ' +\n",
              "            '<a target=\"_blank\" href=https://colab.research.google.com/notebooks/data_table.ipynb>data table notebook</a>'\n",
              "            + ' to learn more about interactive tables.';\n",
              "          element.innerHTML = '';\n",
              "          dataTable['output_type'] = 'display_data';\n",
              "          await google.colab.output.renderOutput(dataTable, element);\n",
              "          const docLink = document.createElement('div');\n",
              "          docLink.innerHTML = docLinkHtml;\n",
              "          element.appendChild(docLink);\n",
              "        }\n",
              "      </script>\n",
              "    </div>\n",
              "  </div>\n",
              "  "
            ]
          },
          "metadata": {},
          "execution_count": 7
        }
      ]
    },
    {
      "cell_type": "markdown",
      "source": [
        "Just like pandas, we can use describe() function to display a summary of data distribution. "
      ],
      "metadata": {
        "id": "qytHQAjZe3IW"
      }
    },
    {
      "cell_type": "code",
      "source": [
        "df.describe().show()"
      ],
      "metadata": {
        "colab": {
          "base_uri": "https://localhost:8080/"
        },
        "id": "avXxr8AOe5--",
        "outputId": "13844d98-8415-4a95-c6cd-a8e00928f854"
      },
      "execution_count": 8,
      "outputs": [
        {
          "output_type": "stream",
          "name": "stdout",
          "text": [
            "+-------+------------------+-------------------+-----------+------+-----------------+-----------------+------------------+-----------------+------------------+-------------------+\n",
            "|summary|               Pos|                 P+|     Artist| Title|              Wks|               Pk|              (x?)|          Streams|          Streams+|              Total|\n",
            "+-------+------------------+-------------------+-----------+------+-----------------+-----------------+------------------+-----------------+------------------+-------------------+\n",
            "|  count|               200|                200|        200|   200|              200|              200|                32|              200|               185|                192|\n",
            "|   mean|             100.5|-3.3257142857142856|       null| 505.0|           44.775|            42.68|           4.40625|   1.1778173855E7|-516817.8864864865|       3.85947391E8|\n",
            "| stddev|57.879184513951124| 17.479122897737746|       null|  null|62.69367479496223|42.72240182960751|3.9907908101430953|6643338.568806558|1246488.1820555397|4.144556519574003E8|\n",
            "|    min|                 1|                 +1|     Adele | 10:35|                1|                1|                 1|          7242499|        -9016633.0|            7464351|\n",
            "|    max|               200|                 RE|Ñengo Flow |lovely|              316|              191|                 9|         61763072|         7520136.0|         2091949036|\n",
            "+-------+------------------+-------------------+-----------+------+-----------------+-----------------+------------------+-----------------+------------------+-------------------+\n",
            "\n"
          ]
        }
      ]
    },
    {
      "cell_type": "markdown",
      "source": [
        "The count() function used for displaying number of rows. Read Pandas API on Spark to learn about similar APIs."
      ],
      "metadata": {
        "id": "VWAZbW9XfaoI"
      }
    },
    {
      "cell_type": "markdown",
      "source": [
        "https://spark.apache.org/docs/latest/api/python/reference/pyspark.pandas/index.html"
      ],
      "metadata": {
        "id": "KJeUEUfTffL2"
      }
    },
    {
      "cell_type": "code",
      "source": [
        "##NUMBER OF ROWS\n",
        "df.count()"
      ],
      "metadata": {
        "colab": {
          "base_uri": "https://localhost:8080/"
        },
        "id": "2T7HuVuBfcVI",
        "outputId": "ac4b741e-81c8-455f-d5c3-67eb754c42c7"
      },
      "execution_count": 9,
      "outputs": [
        {
          "output_type": "execute_result",
          "data": {
            "text/plain": [
              "200"
            ]
          },
          "metadata": {},
          "execution_count": 9
        }
      ]
    },
    {
      "cell_type": "markdown",
      "source": [
        "**Column Manipulation**"
      ],
      "metadata": {
        "id": "51GGv2EMfo1H"
      }
    },
    {
      "cell_type": "markdown",
      "source": [
        "You can rename your column by using **withColumnRenamed** function. It requires an old name and a new name as string. "
      ],
      "metadata": {
        "id": "8QvBni2cfrRn"
      }
    },
    {
      "cell_type": "code",
      "source": [
        "##HERE WE ARE RENAMING Pos to Rank (which is the first column)\n",
        "df = df.withColumnRenamed('Pos', 'Rank')\n",
        "\n",
        "df.show(5)"
      ],
      "metadata": {
        "colab": {
          "base_uri": "https://localhost:8080/"
        },
        "id": "zFNhAL-vfts2",
        "outputId": "9caa1a79-670c-48f8-e6cb-44541dd6cb6e"
      },
      "execution_count": 10,
      "outputs": [
        {
          "output_type": "stream",
          "name": "stdout",
          "text": [
            "+----+---+---------------+--------------------+---+---+----+--------+----------+----------+\n",
            "|Rank| P+|         Artist|               Title|Wks| Pk|(x?)| Streams|  Streams+|     Total|\n",
            "+----+---+---------------+--------------------+---+---+----+--------+----------+----------+\n",
            "|   1|  =|   Miley Cyrus |             Flowers|  6|  1|   6|61763072|-9016633.0| 528646130|\n",
            "|   2|  =|           SZA |           Kill Bill| 11|  1|   2|46549077|-2452314.0| 510454785|\n",
            "|   3| +1|PinkPantheress |  Boy's a liar Pt. 2|  3|  3|   1|39172306| 7520136.0|  83824655|\n",
            "|   4| -1|      Bizarrap |Shakira: Bzrp Mus...|  7|  2|   3|34781301|-3881780.0| 335240889|\n",
            "|   5|  =|  Harry Styles |           As It Was| 47|  1|  11|29532543|-1523395.0|1924932123|\n",
            "+----+---+---------------+--------------------+---+---+----+--------+----------+----------+\n",
            "only showing top 5 rows\n",
            "\n"
          ]
        }
      ]
    },
    {
      "cell_type": "markdown",
      "source": [
        "To drop single or multiple columns, you can use **drop()** function"
      ],
      "metadata": {
        "id": "VIpiBWVAgAI_"
      }
    },
    {
      "cell_type": "code",
      "source": [
        "##THE COLUMNS DROPPED ARE 'P+','Pk','(x?)','Streams+'\n",
        "\n",
        "df = df.drop('P+','Pk','(x?)','Streams+')\n",
        "\n",
        "df.show(5)\n"
      ],
      "metadata": {
        "colab": {
          "base_uri": "https://localhost:8080/"
        },
        "id": "9tZRLnzxfojn",
        "outputId": "addafadd-c7d6-4761-c56c-c6c645584238"
      },
      "execution_count": 11,
      "outputs": [
        {
          "output_type": "stream",
          "name": "stdout",
          "text": [
            "+----+---------------+--------------------+---+--------+----------+\n",
            "|Rank|         Artist|               Title|Wks| Streams|     Total|\n",
            "+----+---------------+--------------------+---+--------+----------+\n",
            "|   1|   Miley Cyrus |             Flowers|  6|61763072| 528646130|\n",
            "|   2|           SZA |           Kill Bill| 11|46549077| 510454785|\n",
            "|   3|PinkPantheress |  Boy's a liar Pt. 2|  3|39172306|  83824655|\n",
            "|   4|      Bizarrap |Shakira: Bzrp Mus...|  7|34781301| 335240889|\n",
            "|   5|  Harry Styles |           As It Was| 47|29532543|1924932123|\n",
            "+----+---------------+--------------------+---+--------+----------+\n",
            "only showing top 5 rows\n",
            "\n"
          ]
        }
      ]
    },
    {
      "cell_type": "markdown",
      "source": [
        "You can use **.na** for dealing with missing valuse. In our case, we are dropping all missing values rows. "
      ],
      "metadata": {
        "id": "-QFgg6KogUNm"
      }
    },
    {
      "cell_type": "code",
      "source": [
        "df = df.na.drop()\n",
        "## Or\n",
        "#data.na.replace(old_value, new_vallue)"
      ],
      "metadata": {
        "id": "xEh13KqpgX3u"
      },
      "execution_count": 12,
      "outputs": []
    },
    {
      "cell_type": "markdown",
      "source": [
        "# Data **Analysis** "
      ],
      "metadata": {
        "id": "RKsQOvfAggwH"
      }
    },
    {
      "cell_type": "markdown",
      "source": [
        "For data analysis, we will be using PySpark API to translate SQL commands. In the first example, we are selecting three columns and display the top 5 rows. "
      ],
      "metadata": {
        "id": "tVB-YNkIgs0_"
      }
    },
    {
      "cell_type": "code",
      "source": [
        "##SHOW THE TOP 5 ROWS FOR THE COLUMNS: 'Artist', 'Artist', 'Total'\n",
        "df.select(['Artist', 'Artist', 'Total']).show(5)"
      ],
      "metadata": {
        "colab": {
          "base_uri": "https://localhost:8080/"
        },
        "id": "tcRwwpYzgTUW",
        "outputId": "9e019558-29d8-4fbd-846e-bfc5c4235f55"
      },
      "execution_count": 13,
      "outputs": [
        {
          "output_type": "stream",
          "name": "stdout",
          "text": [
            "+---------------+---------------+----------+\n",
            "|         Artist|         Artist|     Total|\n",
            "+---------------+---------------+----------+\n",
            "|   Miley Cyrus |   Miley Cyrus | 528646130|\n",
            "|           SZA |           SZA | 510454785|\n",
            "|PinkPantheress |PinkPantheress |  83824655|\n",
            "|      Bizarrap |      Bizarrap | 335240889|\n",
            "|  Harry Styles |  Harry Styles |1924932123|\n",
            "+---------------+---------------+----------+\n",
            "only showing top 5 rows\n",
            "\n"
          ]
        }
      ]
    },
    {
      "cell_type": "code",
      "source": [
        "##shows column Wks between 25 to 40\n",
        "df.filter(df.Wks.between(25, 40)).show()"
      ],
      "metadata": {
        "colab": {
          "base_uri": "https://localhost:8080/"
        },
        "id": "3_D9mpCukUrA",
        "outputId": "edc1162a-98cf-4ba8-b9a8-b3d64347c5c5"
      },
      "execution_count": 21,
      "outputs": [
        {
          "output_type": "stream",
          "name": "stdout",
          "text": [
            "+----+---------------+--------------------+---+--------+----------+\n",
            "|Rank|         Artist|               Title|Wks| Streams|     Total|\n",
            "+----+---------------+--------------------+---+--------+----------+\n",
            "|   9| Manuel Turizo |          La Bachata| 34|23186047| 846097336|\n",
            "|  10|  David Guetta |     I'm Good (Blue)| 26|22894913| 720903885|\n",
            "|  11|          Rema |           Calm Down| 26|22203214| 450018480|\n",
            "|  19|      Bizarrap |Quevedo: Bzrp Mus...| 33|17919127|1038380457|\n",
            "|  21|          JVKE |         golden hour| 26|17765736| 400095833|\n",
            "|  25|   OneRepublic |     I Ain't Worried| 38|16373032| 735941599|\n",
            "|  28|Arctic Monkeys |    I Wanna Be Yours| 33|15951368| 431611710|\n",
            "|  32|          Feid |Feliz Cumpleaños ...| 27|15699791| 339141750|\n",
            "|  44|          d4vd |   Romantic Homicide| 25|13849720| 374978264|\n",
            "|  48|   Chris Brown | Under The Influence| 31|13325722| 590537056|\n",
            "|  50|       Beyoncé |             CUFF IT| 27|12993495| 387588573|\n",
            "|  57|    Steve Lacy |           Bad Habit| 33|12458884| 604464538|\n",
            "|  65|     Rosa Linn |                SNAP| 33|11667334| 497746364|\n",
            "|  70|       ROSALÍA |            DESPECHÁ| 30|10598135| 594703087|\n",
            "|  74|          Joji |       Glimpse of Us| 37|10338629| 765563740|\n",
            "|  83|    The Weeknd |   I Was Never There| 38|10047381| 368073236|\n",
            "|  93|       Rihanna |   Love On The Brain| 38| 9579335| 165068501|\n",
            "|  98|          Feid |              Normal| 29| 9453935| 230701388|\n",
            "| 102|  Harry Styles |  Late Night Talking| 40| 9414660| 572003040|\n",
            "| 109|      Coldplay |        Viva La Vida| 30| 9199177| 215698967|\n",
            "+----+---------------+--------------------+---+--------+----------+\n",
            "only showing top 20 rows\n",
            "\n"
          ]
        }
      ]
    },
    {
      "cell_type": "markdown",
      "source": [
        "For more complex queries, we will filter values where ‘Total’ is greater than or equal to 600 million to 700 million. "
      ],
      "metadata": {
        "id": "aN0VhAvag7-v"
      }
    },
    {
      "cell_type": "markdown",
      "source": [
        "Note: you can also use df.Total.between(600000000, 700000000) to filter out records."
      ],
      "metadata": {
        "id": "mj8XbHifhBAa"
      }
    },
    {
      "cell_type": "markdown",
      "source": [
        "lit = Creates a Column of literal value"
      ],
      "metadata": {
        "id": "92JplQPrhU02"
      }
    },
    {
      "cell_type": "code",
      "source": [
        "from pyspark.sql.functions import col, lit, when\n",
        "\n",
        "df.filter(\n",
        "    (col(\"Total\") >= lit(\"600000000\")) & (col(\"Total\") <= lit(\"700000000\"))\n",
        ").show(5)"
      ],
      "metadata": {
        "colab": {
          "base_uri": "https://localhost:8080/"
        },
        "id": "pszSnUgChDW_",
        "outputId": "f216cdc6-d8b7-46c0-b2f9-f136761a2ede"
      },
      "execution_count": 14,
      "outputs": [
        {
          "output_type": "stream",
          "name": "stdout",
          "text": [
            "+----+-----------+-------------------+---+--------+---------+\n",
            "|Rank|     Artist|              Title|Wks| Streams|    Total|\n",
            "+----+-----------+-------------------+---+--------+---------+\n",
            "|  12|The Weeknd |        Die For You| 58|21655432|664741027|\n",
            "|  57|Steve Lacy |          Bad Habit| 33|12458884|604464538|\n",
            "|  99|    Eminem |         Without Me| 87| 9450373|628174551|\n",
            "| 114|   KAROL G |           PROVENZA| 44| 9026567|691040730|\n",
            "| 135|    Eminem |The Real Slim Shady| 90| 8423035|610347150|\n",
            "+----+-----------+-------------------+---+--------+---------+\n",
            "only showing top 5 rows\n",
            "\n"
          ]
        }
      ]
    },
    {
      "cell_type": "markdown",
      "source": [
        "Write if/else statement to create a categorical column using when function."
      ],
      "metadata": {
        "id": "vqiPUbi3hfgn"
      }
    },
    {
      "cell_type": "code",
      "source": [
        "##IF COLUMN Wks IS GREATER THAN OR = 35 THEN 1 ELSE 0\n",
        "df.select('Artist', 'Title','Wks',\n",
        "            when(df.Wks >= 35, 1).otherwise(0)\n",
        "           ).show(5)"
      ],
      "metadata": {
        "colab": {
          "base_uri": "https://localhost:8080/"
        },
        "id": "VGWzFF7xhosX",
        "outputId": "278173d4-dfad-474d-f2d5-e22762f1531f"
      },
      "execution_count": 16,
      "outputs": [
        {
          "output_type": "stream",
          "name": "stdout",
          "text": [
            "+---------------+--------------------+---+---------------------------------------+\n",
            "|         Artist|               Title|Wks|CASE WHEN (Wks >= 35) THEN 1 ELSE 0 END|\n",
            "+---------------+--------------------+---+---------------------------------------+\n",
            "|   Miley Cyrus |             Flowers|  6|                                      0|\n",
            "|           SZA |           Kill Bill| 11|                                      0|\n",
            "|PinkPantheress |  Boy's a liar Pt. 2|  3|                                      0|\n",
            "|      Bizarrap |Shakira: Bzrp Mus...|  7|                                      0|\n",
            "|  Harry Styles |           As It Was| 47|                                      1|\n",
            "+---------------+--------------------+---+---------------------------------------+\n",
            "only showing top 5 rows\n",
            "\n"
          ]
        }
      ]
    },
    {
      "cell_type": "code",
      "source": [
        "df.select('Artist', 'Title', \n",
        "            when(df.Wks >= 35, 1).otherwise(0)\n",
        "           ).show(5)"
      ],
      "metadata": {
        "colab": {
          "base_uri": "https://localhost:8080/"
        },
        "id": "_gADBNfUhgS3",
        "outputId": "6a575418-1992-476e-83c8-aa96c87e0a2e"
      },
      "execution_count": 15,
      "outputs": [
        {
          "output_type": "stream",
          "name": "stdout",
          "text": [
            "+---------------+--------------------+---------------------------------------+\n",
            "|         Artist|               Title|CASE WHEN (Wks >= 35) THEN 1 ELSE 0 END|\n",
            "+---------------+--------------------+---------------------------------------+\n",
            "|   Miley Cyrus |             Flowers|                                      0|\n",
            "|           SZA |           Kill Bill|                                      0|\n",
            "|PinkPantheress |  Boy's a liar Pt. 2|                                      0|\n",
            "|      Bizarrap |Shakira: Bzrp Mus...|                                      0|\n",
            "|  Harry Styles |           As It Was|                                      1|\n",
            "+---------------+--------------------+---------------------------------------+\n",
            "only showing top 5 rows\n",
            "\n"
          ]
        }
      ]
    },
    {
      "cell_type": "code",
      "source": [],
      "metadata": {
        "id": "fmeKgOZ6iGjP"
      },
      "execution_count": null,
      "outputs": []
    },
    {
      "cell_type": "markdown",
      "source": [
        "You can use all of the SQL commands as Python API to run a complete query. "
      ],
      "metadata": {
        "id": "I_tVb6BwiHk4"
      }
    },
    {
      "cell_type": "code",
      "source": [
        "##SHOW 3 COLUMN Artist','Wks','Total' GROUP BY Artist MEAN VALUE AND ORDER BY ['avg(Total)'] HIGHEST FIRST AND SHOW 5 RECORDS\n",
        "df.select(['Artist','Wks','Total'])\\\n",
        "        .groupBy('Artist')\\\n",
        "        .mean()\\\n",
        "        .orderBy(['avg(Total)'], ascending = [False])\\\n",
        "        .show(5)"
      ],
      "metadata": {
        "colab": {
          "base_uri": "https://localhost:8080/"
        },
        "id": "jIkv1yOKiIxn",
        "outputId": "66014154-697a-4d68-b49e-ba94d36406fe"
      },
      "execution_count": 17,
      "outputs": [
        {
          "output_type": "stream",
          "name": "stdout",
          "text": [
            "+------------------+--------+--------------------+\n",
            "|            Artist|avg(Wks)|          avg(Total)|\n",
            "+------------------+--------+--------------------+\n",
            "|    Billie Eilish |   253.0|       2.089105993E9|\n",
            "|     James Arthur |   289.0|       1.975186494E9|\n",
            "|     Harry Styles |    86.0|1.5296280663333333E9|\n",
            "|The Neighbourhood |   155.0|       1.427743967E9|\n",
            "|       Elton John |    80.0|       1.378850227E9|\n",
            "+------------------+--------+--------------------+\n",
            "only showing top 5 rows\n",
            "\n"
          ]
        }
      ]
    },
    {
      "cell_type": "markdown",
      "source": [
        "# **Data Visualization**"
      ],
      "metadata": {
        "id": "NuffzpRyimyn"
      }
    },
    {
      "cell_type": "markdown",
      "source": [
        "Let’s take above query and try to display it as a bar chart. We are plotting “artists v.s average song streams” and we are only displaying the top seven artists. \n",
        "\n",
        "It is awesome, if you ask me. "
      ],
      "metadata": {
        "id": "S04iQHQXi44A"
      }
    },
    {
      "cell_type": "markdown",
      "source": [],
      "metadata": {
        "id": "EKj636Iyi_KI"
      }
    },
    {
      "cell_type": "code",
      "source": [
        "vis_df = (\n",
        "    df.select([\"Artist\", \"Wks\", \"Total\"])\n",
        "    .groupBy(\"Artist\")\n",
        "    .mean()\n",
        "    .orderBy([\"avg(Total)\"], ascending=[False])\n",
        "    .toPandas()\n",
        ")\n",
        "\n",
        "vis_df.iloc[0:7].plot(\n",
        "    kind=\"bar\",\n",
        "    x=\"Artist\",\n",
        "    y=\"avg(Total)\",\n",
        "    figsize=(12, 6),\n",
        "    ylabel=\"Average Average Streams\",\n",
        ")"
      ],
      "metadata": {
        "colab": {
          "base_uri": "https://localhost:8080/",
          "height": 507
        },
        "id": "cl24RxvDii_B",
        "outputId": "d541dd75-275b-4552-e09b-01fc9352e907"
      },
      "execution_count": 18,
      "outputs": [
        {
          "output_type": "execute_result",
          "data": {
            "text/plain": [
              "<AxesSubplot:xlabel='Artist', ylabel='Average Average Streams'>"
            ]
          },
          "metadata": {},
          "execution_count": 18
        },
        {
          "output_type": "display_data",
          "data": {
            "text/plain": [
              "<Figure size 864x432 with 1 Axes>"
            ],
            "image/png": "[encoded data removed]"
          },
          "metadata": {
            "needs_background": "light"
          }
        }
      ]
    },
    {
      "cell_type": "markdown",
      "source": [
        "# **Saving the Result**"
      ],
      "metadata": {
        "id": "gMVWw_TqjGwQ"
      }
    },
    {
      "cell_type": "markdown",
      "source": [
        "After processing the data and running analysis, it is the time for saving the results. \n",
        "\n",
        "You can save the results in all of the popular file types, such as CSV, JSON, and Parquet. "
      ],
      "metadata": {
        "id": "BWXD0thQjJlc"
      }
    },
    {
      "cell_type": "code",
      "source": [
        "##final_data is the frame collected to store the data\n",
        "final_data = (\n",
        "    df.select([\"Artist\", \"Wks\", \"Total\"])\n",
        "    .groupBy(\"Artist\")\n",
        "    .mean()\n",
        "    .orderBy([\"avg(Total)\"], ascending=[False])\n",
        ")\n",
        "\n",
        "# CSV\n",
        "final_data.write.csv(\"dataset.csv\")\n",
        "\n",
        "# JSON\n",
        "final_data.write.save(\"dataset.json\", format=\"json\")\n",
        "\n",
        "# Parquet\n",
        "final_data.write.save(\"dataset.parquet\", format=\"parquet\")"
      ],
      "metadata": {
        "id": "JG_ITTSCjKWX"
      },
      "execution_count": 19,
      "outputs": []
    },
    {
      "cell_type": "markdown",
      "source": [
        "# **Data Pre-Processing**"
      ],
      "metadata": {
        "id": "PpJmSttFjgGA"
      }
    },
    {
      "cell_type": "markdown",
      "source": [
        "In this section, we are preparing the data for the machine learning model. \n",
        "\n",
        "1) Categorical Encoding: converting the categorical \n",
        "columns into integers using StringIndexer.\n",
        "2) Assembling Features: assembling important features into one vector column. \n",
        "3) Scaling: scaling the data using the StandardScaler scaling function. "
      ],
      "metadata": {
        "id": "bqDlIp_6jkyQ"
      }
    },
    {
      "cell_type": "code",
      "source": [
        "from pyspark.ml.feature import (\n",
        "    VectorAssembler,\n",
        "    StringIndexer,\n",
        "    OneHotEncoder,\n",
        "    StandardScaler,\n",
        ")\n",
        "\n",
        "## Categorical Encoding\n",
        "indexer = StringIndexer(inputCol=\"Artist\", outputCol=\"Encode_Artist\").fit(\n",
        "    final_data\n",
        ")\n",
        "encoded_df = indexer.transform(final_data)\n",
        "\n",
        "## Assembling Features\n",
        "assemble = VectorAssembler(\n",
        "    inputCols=[\"Encode_Artist\", \"avg(Wks)\", \"avg(Total)\"],\n",
        "    outputCol=\"features\",\n",
        ")\n",
        "\n",
        "assembled_data = assemble.transform(encoded_df)\n",
        "\n",
        "## Standard Scaling\n",
        "scale = StandardScaler(inputCol=\"features\", outputCol=\"standardized\")\n",
        "data_scale = scale.fit(assembled_data)\n",
        "data_scale_output = data_scale.transform(assembled_data)\n",
        "data_scale_output.show(5)\n",
        " "
      ],
      "metadata": {
        "colab": {
          "base_uri": "https://localhost:8080/"
        },
        "id": "xEgLjrLQjfpw",
        "outputId": "1cef8673-ab89-416e-ca08-5f57f1d0ad90"
      },
      "execution_count": 20,
      "outputs": [
        {
          "output_type": "stream",
          "name": "stdout",
          "text": [
            "+------------------+--------+--------------------+-------------+--------------------+--------------------+\n",
            "|            Artist|avg(Wks)|          avg(Total)|Encode_Artist|            features|        standardized|\n",
            "+------------------+--------+--------------------+-------------+--------------------+--------------------+\n",
            "|    Billie Eilish |   253.0|       2.089105993E9|         10.0|[10.0,253.0,2.089...|[0.26958193300859...|\n",
            "|     James Arthur |   289.0|       1.975186494E9|         43.0|[43.0,289.0,1.975...|[1.15920231193696...|\n",
            "|     Harry Styles |    86.0|1.5296280663333333E9|         35.0|[35.0,86.0,1.5296...|[0.94353676553008...|\n",
            "|The Neighbourhood |   155.0|       1.427743967E9|        109.0|[109.0,155.0,1.42...|[2.93844306979369...|\n",
            "|       Elton John |    80.0|       1.378850227E9|         28.0|[28.0,80.0,1.3788...|[0.75482941242406...|\n",
            "+------------------+--------+--------------------+-------------+--------------------+--------------------+\n",
            "only showing top 5 rows\n",
            "\n"
          ]
        }
      ]
    },
    {
      "cell_type": "markdown",
      "source": [
        "# **Kmean Elbow Method**"
      ],
      "metadata": {
        "id": "XX3IqW8zknbA"
      }
    },
    {
      "cell_type": "markdown",
      "source": [],
      "metadata": {
        "id": "b-9hFTsukp1H"
      }
    },
    {
      "cell_type": "code",
      "source": [
        "from pyspark.ml.clustering import KMeans\n",
        "from pyspark.ml.evaluation import ClusteringEvaluator\n",
        "import numpy as np\n",
        "\n",
        "cost = np.zeros(10)\n",
        "\n",
        "evaluator = ClusteringEvaluator(predictionCol='prediction', featuresCol='standardized',metricName='silhouette', distanceMeasure='squaredEuclidean')\n",
        "\n",
        "for i in range(2,10):\n",
        "    KMeans_algo=KMeans(featuresCol='standardized', k=i)\n",
        "    KMeans_fit=KMeans_algo.fit(data_scale_output)\n",
        "    output=KMeans_fit.transform(data_scale_output)\n",
        "    cost[i] = KMeans_fit.summary.trainingCost"
      ],
      "metadata": {
        "id": "WOnfEOc1ktsH"
      },
      "execution_count": 22,
      "outputs": []
    },
    {
      "cell_type": "code",
      "source": [
        "import pandas as pd\n",
        "import pylab as pl\n",
        "df_cost = pd.DataFrame(cost[2:])\n",
        "df_cost.columns = [\"cost\"]\n",
        "new_col = range(2,10)\n",
        "df_cost.insert(0, 'cluster', new_col)\n",
        "pl.plot(df_cost.cluster, df_cost.cost)\n",
        "pl.xlabel('Number of Clusters')\n",
        "pl.ylabel('Score')\n",
        "pl.title('Elbow Curve')\n",
        "pl.show()"
      ],
      "metadata": {
        "colab": {
          "base_uri": "https://localhost:8080/",
          "height": 295
        },
        "id": "5K20oqX_kx7X",
        "outputId": "01a6922e-5e8f-4291-fd46-9f45a66fe5c8"
      },
      "execution_count": 23,
      "outputs": [
        {
          "output_type": "display_data",
          "data": {
            "text/plain": [
              "<Figure size 432x288 with 1 Axes>"
            ],
            "image/png": "[encoded data removed]"
          },
          "metadata": {
            "needs_background": "light"
          }
        }
      ]
    },
    {
      "cell_type": "markdown",
      "source": [
        "# **KMeans Clustering**"
      ],
      "metadata": {
        "id": "F3JZzpGZkBDU"
      }
    },
    {
      "cell_type": "markdown",
      "source": [
        "I have already run the Kmean elbow method to find k. If you want to see all of the code sources with the output, you can check out my notebook.\n",
        "\n",
        "Just like scikit-learn, we will provide a number of clusters and train the Kmeans clustering model. "
      ],
      "metadata": {
        "id": "fpZvGgsrkGX0"
      }
    },
    {
      "cell_type": "code",
      "source": [
        "from pyspark.ml.clustering import KMeans\n",
        "KMeans_algo=KMeans(featuresCol='standardized', k=4)\n",
        "KMeans_fit=KMeans_algo.fit(data_scale_output)\n",
        "preds=KMeans_fit.transform(data_scale_output)\n",
        "\n",
        "preds.show(5)"
      ],
      "metadata": {
        "colab": {
          "base_uri": "https://localhost:8080/"
        },
        "id": "VIj9_fU3kHQR",
        "outputId": "36716a8b-483d-44cf-e720-47e9844bb392"
      },
      "execution_count": 24,
      "outputs": [
        {
          "output_type": "stream",
          "name": "stdout",
          "text": [
            "+------------------+--------+--------------------+-------------+--------------------+--------------------+----------+\n",
            "|            Artist|avg(Wks)|          avg(Total)|Encode_Artist|            features|        standardized|prediction|\n",
            "+------------------+--------+--------------------+-------------+--------------------+--------------------+----------+\n",
            "|    Billie Eilish |   253.0|       2.089105993E9|         10.0|[10.0,253.0,2.089...|[0.26958193300859...|         1|\n",
            "|     James Arthur |   289.0|       1.975186494E9|         43.0|[43.0,289.0,1.975...|[1.15920231193696...|         1|\n",
            "|     Harry Styles |    86.0|1.5296280663333333E9|         35.0|[35.0,86.0,1.5296...|[0.94353676553008...|         3|\n",
            "|The Neighbourhood |   155.0|       1.427743967E9|        109.0|[109.0,155.0,1.42...|[2.93844306979369...|         1|\n",
            "|       Elton John |    80.0|       1.378850227E9|         28.0|[28.0,80.0,1.3788...|[0.75482941242406...|         3|\n",
            "+------------------+--------+--------------------+-------------+--------------------+--------------------+----------+\n",
            "only showing top 5 rows\n",
            "\n"
          ]
        }
      ]
    },
    {
      "cell_type": "markdown",
      "source": [
        "# **Visualizing Predictions**"
      ],
      "metadata": {
        "id": "nrO80ZsWlDyI"
      }
    },
    {
      "cell_type": "markdown",
      "source": [
        "**Model Evaluation**"
      ],
      "metadata": {
        "id": "bwbU0ts1lx-o"
      }
    },
    {
      "cell_type": "code",
      "source": [
        "import matplotlib.pyplot as plt\n",
        "import seaborn as sns\n",
        "\n",
        "df_viz = preds.select('Artist', 'avg(Wks)','avg(Total)','prediction').toPandas()\n",
        "avg_df = df_viz.groupby(['prediction'], as_index=False).mean()\n",
        "\n",
        "list1 = ['avg(Wks)','avg(Total)']\n",
        "\n",
        "for i in list1:\n",
        "    sns.barplot(x='prediction',y=str(i),data=avg_df)\n",
        "    plt.show()"
      ],
      "metadata": {
        "colab": {
          "base_uri": "https://localhost:8080/",
          "height": 552
        },
        "id": "6rDU2uVhmCiR",
        "outputId": "117c2fdc-cd84-4165-8c9e-eaedcf918663"
      },
      "execution_count": 26,
      "outputs": [
        {
          "output_type": "display_data",
          "data": {
            "text/plain": [
              "<Figure size 432x288 with 1 Axes>"
            ],
            "image/png": "[encoded data removed]"
          },
          "metadata": {
            "needs_background": "light"
          }
        },
        {
          "output_type": "display_data",
          "data": {
            "text/plain": [
              "<Figure size 432x288 with 1 Axes>"
            ],
            "image/png": "[encoded data removed]"
          },
          "metadata": {
            "needs_background": "light"
          }
        }
      ]
    },
    {
      "cell_type": "markdown",
      "source": [
        "In this part, we will be using a matplotlib.pyplot.barplot to display the distribution of 4 clusters. "
      ],
      "metadata": {
        "id": "AX3_VVUMlSZo"
      }
    },
    {
      "cell_type": "code",
      "source": [
        "import matplotlib.pyplot as plt\n",
        "import seaborn as sns\n",
        "\n",
        "df_viz = preds.select(\n",
        "    \"Artist\", \"avg(Wks)\", \"avg(Total)\", \"prediction\"\n",
        ").toPandas()\n",
        "avg_df = df_viz.groupby([\"prediction\"], as_index=False).mean()\n",
        "\n",
        "list1 = [\"avg(Wks)\", \"avg(Total)\"]\n",
        "\n",
        "for i in list1:\n",
        "    sns.barplot(x=\"prediction\", y=str(i), data=avg_df)\n",
        "    plt.show()"
      ],
      "metadata": {
        "colab": {
          "base_uri": "https://localhost:8080/",
          "height": 552
        },
        "id": "wJ-s0mtjlW_P",
        "outputId": "c4021902-869a-4ae0-a6e4-5667b301ee9b"
      },
      "execution_count": 25,
      "outputs": [
        {
          "output_type": "display_data",
          "data": {
            "text/plain": [
              "<Figure size 432x288 with 1 Axes>"
            ],
            "image/png": "[encoded data removed]"
          },
          "metadata": {
            "needs_background": "light"
          }
        },
        {
          "output_type": "display_data",
          "data": {
            "text/plain": [
              "<Figure size 432x288 with 1 Axes>"
            ],
            "image/png": "[encoded data removed]"
          },
          "metadata": {
            "needs_background": "light"
          }
        }
      ]
    },
    {
      "cell_type": "markdown",
      "source": [
        "# **Wrapping Up**"
      ],
      "metadata": {
        "id": "aK9jUviNle05"
      }
    },
    {
      "cell_type": "markdown",
      "source": [
        "In this tutorial, I have given an overview of what you can do using PySpark API. The API allows you to perform SQL-like queries, run pandas functions, and training models similar to sci-kit learn. You get the best of all worlds with distributed computing. \n",
        "\n",
        "It outshines a lot of Python packages when dealing with large datasets (>1GB). If you are a programmer and just interested in Python code, check our Google Colab notebook. You just have to download and add the data from Kaggle to start working on it.\n",
        "\n",
        "Do let me know in the comments, if you want me to keep writing code based-tutorials for other Python libraries."
      ],
      "metadata": {
        "id": "CsqbcEaklpcR"
      }
    }
  ]
}