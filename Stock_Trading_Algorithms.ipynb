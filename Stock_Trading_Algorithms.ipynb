{
  "nbformat": 4,
  "nbformat_minor": 0,
  "metadata": {
    "colab": {
      "provenance": [],
      "authorship_tag": "ABX9TyPxwWwu5YwLlqh94huVK3tW",
      "include_colab_link": true
    },
    "kernelspec": {
      "name": "python3",
      "display_name": "Python 3"
    },
    "language_info": {
      "name": "python"
    }
  },
  "cells": [
    {
      "cell_type": "markdown",
      "metadata": {
        "id": "view-in-github",
        "colab_type": "text"
      },
      "source": [
        "<a href=\"https://colab.research.google.com/github/jash-ai/PYTHON/blob/main/Stock_Trading_Algorithms.ipynb\" target=\"_parent\"><img src=\"https://colab.research.google.com/assets/colab-badge.svg\" alt=\"Open In Colab\"/></a>"
      ]
    },
    {
      "cell_type": "markdown",
      "source": [
        "https://www.analyticsvidhya.com/blog/2023/10/building-and-validating-simple-stock-trading-algorithms-using-python/"
      ],
      "metadata": {
        "id": "NFFQnjaXISGs"
      }
    },
    {
      "cell_type": "markdown",
      "source": [
        "Building and Validating Simple Stock Trading Algorithms Using Python"
      ],
      "metadata": {
        "id": "NN7-lsHwIc7N"
      }
    },
    {
      "cell_type": "code",
      "execution_count": null,
      "metadata": {
        "colab": {
          "base_uri": "https://localhost:8080/"
        },
        "id": "XcVnhKANIPRG",
        "outputId": "851e236c-c0e0-4fba-e23a-67172e344bd2"
      },
      "outputs": [
        {
          "output_type": "stream",
          "name": "stdout",
          "text": [
            "Requirement already satisfied: yfinance in /usr/local/lib/python3.10/dist-packages (0.2.31)\n",
            "Requirement already satisfied: pandas>=1.3.0 in /usr/local/lib/python3.10/dist-packages (from yfinance) (1.5.3)\n",
            "Requirement already satisfied: numpy>=1.16.5 in /usr/local/lib/python3.10/dist-packages (from yfinance) (1.23.5)\n",
            "Requirement already satisfied: requests>=2.31 in /usr/local/lib/python3.10/dist-packages (from yfinance) (2.31.0)\n",
            "Requirement already satisfied: multitasking>=0.0.7 in /usr/local/lib/python3.10/dist-packages (from yfinance) (0.0.11)\n",
            "Requirement already satisfied: lxml>=4.9.1 in /usr/local/lib/python3.10/dist-packages (from yfinance) (4.9.3)\n",
            "Requirement already satisfied: appdirs>=1.4.4 in /usr/local/lib/python3.10/dist-packages (from yfinance) (1.4.4)\n",
            "Requirement already satisfied: pytz>=2022.5 in /usr/local/lib/python3.10/dist-packages (from yfinance) (2023.3.post1)\n",
            "Requirement already satisfied: frozendict>=2.3.4 in /usr/local/lib/python3.10/dist-packages (from yfinance) (2.3.8)\n",
            "Requirement already satisfied: peewee>=3.16.2 in /usr/local/lib/python3.10/dist-packages (from yfinance) (3.17.0)\n",
            "Requirement already satisfied: beautifulsoup4>=4.11.1 in /usr/local/lib/python3.10/dist-packages (from yfinance) (4.11.2)\n",
            "Requirement already satisfied: html5lib>=1.1 in /usr/local/lib/python3.10/dist-packages (from yfinance) (1.1)\n",
            "Requirement already satisfied: soupsieve>1.2 in /usr/local/lib/python3.10/dist-packages (from beautifulsoup4>=4.11.1->yfinance) (2.5)\n",
            "Requirement already satisfied: six>=1.9 in /usr/local/lib/python3.10/dist-packages (from html5lib>=1.1->yfinance) (1.16.0)\n",
            "Requirement already satisfied: webencodings in /usr/local/lib/python3.10/dist-packages (from html5lib>=1.1->yfinance) (0.5.1)\n",
            "Requirement already satisfied: python-dateutil>=2.8.1 in /usr/local/lib/python3.10/dist-packages (from pandas>=1.3.0->yfinance) (2.8.2)\n",
            "Requirement already satisfied: charset-normalizer<4,>=2 in /usr/local/lib/python3.10/dist-packages (from requests>=2.31->yfinance) (3.3.0)\n",
            "Requirement already satisfied: idna<4,>=2.5 in /usr/local/lib/python3.10/dist-packages (from requests>=2.31->yfinance) (3.4)\n",
            "Requirement already satisfied: urllib3<3,>=1.21.1 in /usr/local/lib/python3.10/dist-packages (from requests>=2.31->yfinance) (2.0.7)\n",
            "Requirement already satisfied: certifi>=2017.4.17 in /usr/local/lib/python3.10/dist-packages (from requests>=2.31->yfinance) (2023.7.22)\n",
            "Collecting pandas-ta\n",
            "  Downloading pandas_ta-0.3.14b.tar.gz (115 kB)\n",
            "\u001b[2K     \u001b[90m━━━━━━━━━━━━━━━━━━━━━━━━━━━━━━━━━━━━━━━━\u001b[0m \u001b[32m115.1/115.1 kB\u001b[0m \u001b[31m1.8 MB/s\u001b[0m eta \u001b[36m0:00:00\u001b[0m\n",
            "\u001b[?25h  Preparing metadata (setup.py) ... \u001b[?25l\u001b[?25hdone\n",
            "Requirement already satisfied: pandas in /usr/local/lib/python3.10/dist-packages (from pandas-ta) (1.5.3)\n",
            "Requirement already satisfied: python-dateutil>=2.8.1 in /usr/local/lib/python3.10/dist-packages (from pandas->pandas-ta) (2.8.2)\n",
            "Requirement already satisfied: pytz>=2020.1 in /usr/local/lib/python3.10/dist-packages (from pandas->pandas-ta) (2023.3.post1)\n",
            "Requirement already satisfied: numpy>=1.21.0 in /usr/local/lib/python3.10/dist-packages (from pandas->pandas-ta) (1.23.5)\n",
            "Requirement already satisfied: six>=1.5 in /usr/local/lib/python3.10/dist-packages (from python-dateutil>=2.8.1->pandas->pandas-ta) (1.16.0)\n",
            "Building wheels for collected packages: pandas-ta\n",
            "  Building wheel for pandas-ta (setup.py) ... \u001b[?25l\u001b[?25hdone\n",
            "  Created wheel for pandas-ta: filename=pandas_ta-0.3.14b0-py3-none-any.whl size=218908 sha256=113679382e1afa8353ae4fe6d69032d9dcc120f13d76ec3e5f4ce003600c6c0d\n",
            "  Stored in directory: /root/.cache/pip/wheels/69/00/ac/f7fa862c34b0e2ef320175100c233377b4c558944f12474cf0\n",
            "Successfully built pandas-ta\n",
            "Installing collected packages: pandas-ta\n",
            "Successfully installed pandas-ta-0.3.14b0\n"
          ]
        }
      ],
      "source": [
        "!pip install yfinance\n",
        "!pip install pandas-ta"
      ]
    },
    {
      "cell_type": "code",
      "source": [
        "import yfinance as yf\n",
        "import pandas as pd\n",
        "import pandas_ta as ta\n",
        "import numpy as np\n",
        "from datetime import datetime as dt\n",
        "import matplotlib.pyplot as plt\n",
        "from datetime import timedelta as delta\n",
        "import numpy as np\n",
        "import os\n",
        "import seaborn as s"
      ],
      "metadata": {
        "id": "SRy2FJKUIayN"
      },
      "execution_count": null,
      "outputs": []
    },
    {
      "cell_type": "markdown",
      "source": [
        "Extracting the Historical Stock Prices Using yfinance"
      ],
      "metadata": {
        "id": "DA228CBYImXW"
      }
    },
    {
      "cell_type": "code",
      "source": [
        "##file get produced called WIPRO.CSV\n",
        "def get_stock_info(stock, save_to_disk=False):\n",
        "    start_date = '2000-01-01'\n",
        "    end_date = (dt.now() + delta(1)).strftime('%Y-%m-%d')\n",
        "    df = yf.download(f\"{stock}.NS\", period='1d', start=start_date, end=end_date, progress=False)\n",
        "    if(save_to_disk == True):\n",
        "        path = './csv'\n",
        "        try: os.mkdir(path)\n",
        "        except OSError as error: pass\n",
        "        df.to_csv(f'{path}/{stock}.csv')\n",
        "        ##df.to_csv(c'{path}/{stock}.csv')\n",
        "    return df\n",
        "\n",
        "df = get_stock_info('WIPRO', save_to_disk = True)"
      ],
      "metadata": {
        "id": "-3ZAyJPpIjaV"
      },
      "execution_count": 6,
      "outputs": []
    },
    {
      "cell_type": "markdown",
      "source": [
        "Building Stock Trading Algorithms Using Technical Indicators"
      ],
      "metadata": {
        "id": "hL46bdRyJRlk"
      }
    },
    {
      "cell_type": "markdown",
      "source": [
        "https://www.investopedia.com/terms/m/macd.asp\n"
      ],
      "metadata": {
        "id": "oUkEpiBaJe7d"
      }
    },
    {
      "cell_type": "markdown",
      "source": [
        "SMA stands for Simple Moving Average while\n",
        "MACD stands for Moving Average Convergence Divergence."
      ],
      "metadata": {
        "id": "RVND2DMUJWo0"
      }
    },
    {
      "cell_type": "markdown",
      "source": [
        "For the SMA crossover, we will take the 10-day, 30-day, 50-day, and 200-day moving averages into account. For the MACD crossover, we will take the 12-day, 26-day, and 9-day exponential moving averages into account. Let’s calculate these values using the pandas_ta library"
      ],
      "metadata": {
        "id": "bQaaeMbIIP0m"
      }
    },
    {
      "cell_type": "markdown",
      "source": [
        "For calculating the SMA, we will use the “sma()” function by passing the adjusted close price of the stock along with the number of days. For calculating the MACD, we will use the “macd()” function by passing the adjusted close price of the stock and setting the fast, slow, and signal parameters as 12, 26, and 9 respectively. The SMA and MACD values don’t make a lot of sense as such. So, let’s encode them to understand if there are any crossovers"
      ],
      "metadata": {
        "id": "cxkBA2IhJyh-"
      }
    },
    {
      "cell_type": "markdown",
      "source": [
        "In the case of SMA, we will take 3 conditions:\n",
        "The 10-day SMA should be above the 30-day SMA.\n",
        "The 10-day and 30-day SMA should be above the 50-day SMA.\n",
        "The 10-day, 30-day, and 50-day should be above the 200-day SMA.\n",
        "In the case of MACD, we will have 2 conditions:\n",
        "The MACD should be above the MACD signal.\n",
        "The MACD should be greater than 0.\n",
        "The Python code given below creates a function to implement the conditions mentioned above."
      ],
      "metadata": {
        "id": "sQtOTmIYJ788"
      }
    },
    {
      "cell_type": "code",
      "source": [
        "def add_signal_indicators(df):\n",
        "    df['SMA_10'] = ta.sma(df['Adj Close'],length=10)\n",
        "    df['SMA_30'] = ta.sma(df['Adj Close'],length=30)\n",
        "    df['SMA_50'] = ta.sma(df['Adj Close'],length=50)\n",
        "    df['SMA_200'] = ta.sma(df['Adj Close'],length=200)\n",
        "\n",
        "    macd = ta.macd(df['Adj Close'], fast=12, slow=26, signal=9)\n",
        "    df['MACD'] = macd['MACD_12_26_9']\n",
        "    df['MACD_signal'] = macd['MACDs_12_26_9']\n",
        "    df['MACD_hist'] = macd['MACDh_12_26_9']\n",
        "\n",
        "    df['10_cross_30'] = np.where(df['SMA_10'] > df['SMA_30'], 1, 0)\n",
        "\n",
        "    df['MACD_Signal_MACD'] = np.where(df['MACD_signal'] < df['MACD'], 1, 0)\n",
        "\n",
        "    df['MACD_lim'] = np.where(df['MACD']>0, 1, 0)\n",
        "\n",
        "    df['abv_50'] = np.where((df['SMA_30']>df['SMA_50'])\n",
        "            &(df['SMA_10']>df['SMA_50']), 1, 0)\n",
        "\n",
        "    df['abv_200'] = np.where((df['SMA_30']>df['SMA_200'])\n",
        "            &(df['SMA_10']>df['SMA_200'])&(df['SMA_50']>df['SMA_200']), 1, 0)\n",
        "\n",
        "    return df\n",
        "\n",
        "df =  add_signal_indicators(df)"
      ],
      "metadata": {
        "id": "IECF-BlPJyNM"
      },
      "execution_count": 7,
      "outputs": []
    },
    {
      "cell_type": "markdown",
      "source": [
        "Now that we have all the signals added to our data, it is time to calculate the returns. The returns will be the most important aspect for selecting the best trading strategy amongst the lot. We will calculate the 5-day and 10-day returns of the stock. We will also label encode the returns as 0 and 1 with 0 indicating negative returns and 1 indicating positive returns. Let’s go ahead and create the function implementing the same."
      ],
      "metadata": {
        "id": "KzA4fI1lKD0U"
      }
    },
    {
      "cell_type": "code",
      "source": [
        "def calculate_returns(df):\n",
        "    df['5D_returns'] = (df['Adj Close'].shift(-5)-df['Adj Close'])/df['Close']*100\n",
        "    df['10D_returns'] = (df['Adj Close'].shift(-10)-df['Adj Close'])/df['Close']*100\n",
        "\n",
        "    df['5D_positive'] = np.where(df['5D_returns']>0, 1, 0)\n",
        "    df['10D_positive'] = np.where(df['10D_returns']>0, 1, 0)\n",
        "\n",
        "    return df.dropna()"
      ],
      "metadata": {
        "id": "-EA_R_b3JQFh"
      },
      "execution_count": 9,
      "outputs": []
    },
    {
      "cell_type": "code",
      "source": [
        "df = calculate_returns(df)"
      ],
      "metadata": {
        "id": "p05tdqbjKQC2"
      },
      "execution_count": 10,
      "outputs": []
    },
    {
      "cell_type": "code",
      "source": [
        "df\n"
      ],
      "metadata": {
        "colab": {
          "base_uri": "https://localhost:8080/",
          "height": 648
        },
        "id": "PZigc0XrKT6d",
        "outputId": "7500b825-748b-4edb-eea6-ffd4d665a54e"
      },
      "execution_count": 11,
      "outputs": [
        {
          "output_type": "execute_result",
          "data": {
            "text/plain": [
              "                  Open        High         Low       Close   Adj Close  \\\n",
              "Date                                                                     \n",
              "2000-10-06   98.446877   98.446877   94.912506   97.805626   79.794716   \n",
              "2000-10-09   96.384377   98.056877   94.237503   94.798126   77.341049   \n",
              "2000-10-10   96.000008   96.180000   90.375008   91.413757   74.579910   \n",
              "2000-10-11   88.312508   88.871254   84.414375   85.700630   69.918854   \n",
              "2000-10-12   84.425629   88.875008   82.312508   87.283127   71.209946   \n",
              "...                ...         ...         ...         ...         ...   \n",
              "2023-09-28  416.500000  416.500000  404.000000  405.350006  405.350006   \n",
              "2023-09-29  405.000000  409.250000  401.500000  406.049988  406.049988   \n",
              "2023-10-03  406.450012  408.100006  403.600006  405.450012  405.450012   \n",
              "2023-10-04  402.700012  405.450012  400.649994  404.899994  404.899994   \n",
              "2023-10-05  407.950012  410.399994  405.000000  406.799988  406.799988   \n",
              "\n",
              "              Volume      SMA_10      SMA_30      SMA_50     SMA_200  ...  \\\n",
              "Date                                                                  ...   \n",
              "2000-10-06  10832239   81.861690   90.433568   85.179279  112.005841  ...   \n",
              "2000-10-09   8544212   80.988372   89.899695   85.250655  111.975863  ...   \n",
              "2000-10-10  11238852   80.199342   89.218359   85.272072  111.898744  ...   \n",
              "2000-10-11  12785066   78.866039   88.212314   85.177137  111.790984  ...   \n",
              "2000-10-12  14328852   77.878298   87.259911   85.147552  111.698529  ...   \n",
              "...              ...         ...         ...         ...         ...  ...   \n",
              "2023-09-28   8438058  423.915002  421.650003  416.596001  395.893290  ...   \n",
              "2023-09-29   6390136  420.875000  421.266670  416.358000  395.958131  ...   \n",
              "2023-10-03   2864052  417.315002  421.058336  416.114001  396.008500  ...   \n",
              "2023-10-04   3452935  414.195001  420.735003  416.118000  396.049137  ...   \n",
              "2023-10-05   4062652  411.864999  420.391669  416.173000  396.087801  ...   \n",
              "\n",
              "            MACD_hist  10_cross_30  MACD_Signal_MACD  MACD_lim  abv_50  \\\n",
              "Date                                                                     \n",
              "2000-10-06  -0.601153            0                 0         0       0   \n",
              "2000-10-09  -0.654693            0                 0         0       0   \n",
              "2000-10-10  -0.810231            0                 0         0       0   \n",
              "2000-10-11  -1.140947            0                 0         0       0   \n",
              "2000-10-12  -1.181672            0                 0         0       0   \n",
              "...               ...          ...               ...       ...     ...   \n",
              "2023-09-28  -3.641899            1                 0         0       1   \n",
              "2023-09-29  -3.802386            0                 0         0       1   \n",
              "2023-10-03  -3.761103            0                 0         0       1   \n",
              "2023-10-04  -3.583760            0                 0         0       0   \n",
              "2023-10-05  -3.165910            0                 0         0       0   \n",
              "\n",
              "            abv_200  5D_returns  10D_returns  5D_positive  10D_positive  \n",
              "Date                                                                     \n",
              "2000-10-06        0  -13.475762    -9.806515            0             0  \n",
              "2000-10-09        0  -10.098251   -11.834568            0             0  \n",
              "2000-10-10        0  -10.987546    -8.229759            0             0  \n",
              "2000-10-11        0  -13.226509    -0.178484            0             0  \n",
              "2000-10-12        0   -4.663650    -1.381065            0             0  \n",
              "...             ...         ...          ...          ...           ...  \n",
              "2023-09-28        1    0.616751     1.406188            1             1  \n",
              "2023-09-29        1   -0.110819     1.022048            0             1  \n",
              "2023-10-03        1    0.567268     1.467501            1             1  \n",
              "2023-10-04        1    4.013337     0.629790            1             1  \n",
              "2023-10-05        1    2.531961    -2.826942            1             0  \n",
              "\n",
              "[5737 rows x 22 columns]"
            ],
            "text/html": [
              "\n",
              "  <div id=\"df-b822bf1e-82c8-4068-82f6-44b66750241d\" class=\"colab-df-container\">\n",
              "    <div>\n",
              "<style scoped>\n",
              "    .dataframe tbody tr th:only-of-type {\n",
              "        vertical-align: middle;\n",
              "    }\n",
              "\n",
              "    .dataframe tbody tr th {\n",
              "        vertical-align: top;\n",
              "    }\n",
              "\n",
              "    .dataframe thead th {\n",
              "        text-align: right;\n",
              "    }\n",
              "</style>\n",
              "<table border=\"1\" class=\"dataframe\">\n",
              "  <thead>\n",
              "    <tr style=\"text-align: right;\">\n",
              "      <th></th>\n",
              "      <th>Open</th>\n",
              "      <th>High</th>\n",
              "      <th>Low</th>\n",
              "      <th>Close</th>\n",
              "      <th>Adj Close</th>\n",
              "      <th>Volume</th>\n",
              "      <th>SMA_10</th>\n",
              "      <th>SMA_30</th>\n",
              "      <th>SMA_50</th>\n",
              "      <th>SMA_200</th>\n",
              "      <th>...</th>\n",
              "      <th>MACD_hist</th>\n",
              "      <th>10_cross_30</th>\n",
              "      <th>MACD_Signal_MACD</th>\n",
              "      <th>MACD_lim</th>\n",
              "      <th>abv_50</th>\n",
              "      <th>abv_200</th>\n",
              "      <th>5D_returns</th>\n",
              "      <th>10D_returns</th>\n",
              "      <th>5D_positive</th>\n",
              "      <th>10D_positive</th>\n",
              "    </tr>\n",
              "    <tr>\n",
              "      <th>Date</th>\n",
              "      <th></th>\n",
              "      <th></th>\n",
              "      <th></th>\n",
              "      <th></th>\n",
              "      <th></th>\n",
              "      <th></th>\n",
              "      <th></th>\n",
              "      <th></th>\n",
              "      <th></th>\n",
              "      <th></th>\n",
              "      <th></th>\n",
              "      <th></th>\n",
              "      <th></th>\n",
              "      <th></th>\n",
              "      <th></th>\n",
              "      <th></th>\n",
              "      <th></th>\n",
              "      <th></th>\n",
              "      <th></th>\n",
              "      <th></th>\n",
              "      <th></th>\n",
              "    </tr>\n",
              "  </thead>\n",
              "  <tbody>\n",
              "    <tr>\n",
              "      <th>2000-10-06</th>\n",
              "      <td>98.446877</td>\n",
              "      <td>98.446877</td>\n",
              "      <td>94.912506</td>\n",
              "      <td>97.805626</td>\n",
              "      <td>79.794716</td>\n",
              "      <td>10832239</td>\n",
              "      <td>81.861690</td>\n",
              "      <td>90.433568</td>\n",
              "      <td>85.179279</td>\n",
              "      <td>112.005841</td>\n",
              "      <td>...</td>\n",
              "      <td>-0.601153</td>\n",
              "      <td>0</td>\n",
              "      <td>0</td>\n",
              "      <td>0</td>\n",
              "      <td>0</td>\n",
              "      <td>0</td>\n",
              "      <td>-13.475762</td>\n",
              "      <td>-9.806515</td>\n",
              "      <td>0</td>\n",
              "      <td>0</td>\n",
              "    </tr>\n",
              "    <tr>\n",
              "      <th>2000-10-09</th>\n",
              "      <td>96.384377</td>\n",
              "      <td>98.056877</td>\n",
              "      <td>94.237503</td>\n",
              "      <td>94.798126</td>\n",
              "      <td>77.341049</td>\n",
              "      <td>8544212</td>\n",
              "      <td>80.988372</td>\n",
              "      <td>89.899695</td>\n",
              "      <td>85.250655</td>\n",
              "      <td>111.975863</td>\n",
              "      <td>...</td>\n",
              "      <td>-0.654693</td>\n",
              "      <td>0</td>\n",
              "      <td>0</td>\n",
              "      <td>0</td>\n",
              "      <td>0</td>\n",
              "      <td>0</td>\n",
              "      <td>-10.098251</td>\n",
              "      <td>-11.834568</td>\n",
              "      <td>0</td>\n",
              "      <td>0</td>\n",
              "    </tr>\n",
              "    <tr>\n",
              "      <th>2000-10-10</th>\n",
              "      <td>96.000008</td>\n",
              "      <td>96.180000</td>\n",
              "      <td>90.375008</td>\n",
              "      <td>91.413757</td>\n",
              "      <td>74.579910</td>\n",
              "      <td>11238852</td>\n",
              "      <td>80.199342</td>\n",
              "      <td>89.218359</td>\n",
              "      <td>85.272072</td>\n",
              "      <td>111.898744</td>\n",
              "      <td>...</td>\n",
              "      <td>-0.810231</td>\n",
              "      <td>0</td>\n",
              "      <td>0</td>\n",
              "      <td>0</td>\n",
              "      <td>0</td>\n",
              "      <td>0</td>\n",
              "      <td>-10.987546</td>\n",
              "      <td>-8.229759</td>\n",
              "      <td>0</td>\n",
              "      <td>0</td>\n",
              "    </tr>\n",
              "    <tr>\n",
              "      <th>2000-10-11</th>\n",
              "      <td>88.312508</td>\n",
              "      <td>88.871254</td>\n",
              "      <td>84.414375</td>\n",
              "      <td>85.700630</td>\n",
              "      <td>69.918854</td>\n",
              "      <td>12785066</td>\n",
              "      <td>78.866039</td>\n",
              "      <td>88.212314</td>\n",
              "      <td>85.177137</td>\n",
              "      <td>111.790984</td>\n",
              "      <td>...</td>\n",
              "      <td>-1.140947</td>\n",
              "      <td>0</td>\n",
              "      <td>0</td>\n",
              "      <td>0</td>\n",
              "      <td>0</td>\n",
              "      <td>0</td>\n",
              "      <td>-13.226509</td>\n",
              "      <td>-0.178484</td>\n",
              "      <td>0</td>\n",
              "      <td>0</td>\n",
              "    </tr>\n",
              "    <tr>\n",
              "      <th>2000-10-12</th>\n",
              "      <td>84.425629</td>\n",
              "      <td>88.875008</td>\n",
              "      <td>82.312508</td>\n",
              "      <td>87.283127</td>\n",
              "      <td>71.209946</td>\n",
              "      <td>14328852</td>\n",
              "      <td>77.878298</td>\n",
              "      <td>87.259911</td>\n",
              "      <td>85.147552</td>\n",
              "      <td>111.698529</td>\n",
              "      <td>...</td>\n",
              "      <td>-1.181672</td>\n",
              "      <td>0</td>\n",
              "      <td>0</td>\n",
              "      <td>0</td>\n",
              "      <td>0</td>\n",
              "      <td>0</td>\n",
              "      <td>-4.663650</td>\n",
              "      <td>-1.381065</td>\n",
              "      <td>0</td>\n",
              "      <td>0</td>\n",
              "    </tr>\n",
              "    <tr>\n",
              "      <th>...</th>\n",
              "      <td>...</td>\n",
              "      <td>...</td>\n",
              "      <td>...</td>\n",
              "      <td>...</td>\n",
              "      <td>...</td>\n",
              "      <td>...</td>\n",
              "      <td>...</td>\n",
              "      <td>...</td>\n",
              "      <td>...</td>\n",
              "      <td>...</td>\n",
              "      <td>...</td>\n",
              "      <td>...</td>\n",
              "      <td>...</td>\n",
              "      <td>...</td>\n",
              "      <td>...</td>\n",
              "      <td>...</td>\n",
              "      <td>...</td>\n",
              "      <td>...</td>\n",
              "      <td>...</td>\n",
              "      <td>...</td>\n",
              "      <td>...</td>\n",
              "    </tr>\n",
              "    <tr>\n",
              "      <th>2023-09-28</th>\n",
              "      <td>416.500000</td>\n",
              "      <td>416.500000</td>\n",
              "      <td>404.000000</td>\n",
              "      <td>405.350006</td>\n",
              "      <td>405.350006</td>\n",
              "      <td>8438058</td>\n",
              "      <td>423.915002</td>\n",
              "      <td>421.650003</td>\n",
              "      <td>416.596001</td>\n",
              "      <td>395.893290</td>\n",
              "      <td>...</td>\n",
              "      <td>-3.641899</td>\n",
              "      <td>1</td>\n",
              "      <td>0</td>\n",
              "      <td>0</td>\n",
              "      <td>1</td>\n",
              "      <td>1</td>\n",
              "      <td>0.616751</td>\n",
              "      <td>1.406188</td>\n",
              "      <td>1</td>\n",
              "      <td>1</td>\n",
              "    </tr>\n",
              "    <tr>\n",
              "      <th>2023-09-29</th>\n",
              "      <td>405.000000</td>\n",
              "      <td>409.250000</td>\n",
              "      <td>401.500000</td>\n",
              "      <td>406.049988</td>\n",
              "      <td>406.049988</td>\n",
              "      <td>6390136</td>\n",
              "      <td>420.875000</td>\n",
              "      <td>421.266670</td>\n",
              "      <td>416.358000</td>\n",
              "      <td>395.958131</td>\n",
              "      <td>...</td>\n",
              "      <td>-3.802386</td>\n",
              "      <td>0</td>\n",
              "      <td>0</td>\n",
              "      <td>0</td>\n",
              "      <td>1</td>\n",
              "      <td>1</td>\n",
              "      <td>-0.110819</td>\n",
              "      <td>1.022048</td>\n",
              "      <td>0</td>\n",
              "      <td>1</td>\n",
              "    </tr>\n",
              "    <tr>\n",
              "      <th>2023-10-03</th>\n",
              "      <td>406.450012</td>\n",
              "      <td>408.100006</td>\n",
              "      <td>403.600006</td>\n",
              "      <td>405.450012</td>\n",
              "      <td>405.450012</td>\n",
              "      <td>2864052</td>\n",
              "      <td>417.315002</td>\n",
              "      <td>421.058336</td>\n",
              "      <td>416.114001</td>\n",
              "      <td>396.008500</td>\n",
              "      <td>...</td>\n",
              "      <td>-3.761103</td>\n",
              "      <td>0</td>\n",
              "      <td>0</td>\n",
              "      <td>0</td>\n",
              "      <td>1</td>\n",
              "      <td>1</td>\n",
              "      <td>0.567268</td>\n",
              "      <td>1.467501</td>\n",
              "      <td>1</td>\n",
              "      <td>1</td>\n",
              "    </tr>\n",
              "    <tr>\n",
              "      <th>2023-10-04</th>\n",
              "      <td>402.700012</td>\n",
              "      <td>405.450012</td>\n",
              "      <td>400.649994</td>\n",
              "      <td>404.899994</td>\n",
              "      <td>404.899994</td>\n",
              "      <td>3452935</td>\n",
              "      <td>414.195001</td>\n",
              "      <td>420.735003</td>\n",
              "      <td>416.118000</td>\n",
              "      <td>396.049137</td>\n",
              "      <td>...</td>\n",
              "      <td>-3.583760</td>\n",
              "      <td>0</td>\n",
              "      <td>0</td>\n",
              "      <td>0</td>\n",
              "      <td>0</td>\n",
              "      <td>1</td>\n",
              "      <td>4.013337</td>\n",
              "      <td>0.629790</td>\n",
              "      <td>1</td>\n",
              "      <td>1</td>\n",
              "    </tr>\n",
              "    <tr>\n",
              "      <th>2023-10-05</th>\n",
              "      <td>407.950012</td>\n",
              "      <td>410.399994</td>\n",
              "      <td>405.000000</td>\n",
              "      <td>406.799988</td>\n",
              "      <td>406.799988</td>\n",
              "      <td>4062652</td>\n",
              "      <td>411.864999</td>\n",
              "      <td>420.391669</td>\n",
              "      <td>416.173000</td>\n",
              "      <td>396.087801</td>\n",
              "      <td>...</td>\n",
              "      <td>-3.165910</td>\n",
              "      <td>0</td>\n",
              "      <td>0</td>\n",
              "      <td>0</td>\n",
              "      <td>0</td>\n",
              "      <td>1</td>\n",
              "      <td>2.531961</td>\n",
              "      <td>-2.826942</td>\n",
              "      <td>1</td>\n",
              "      <td>0</td>\n",
              "    </tr>\n",
              "  </tbody>\n",
              "</table>\n",
              "<p>5737 rows × 22 columns</p>\n",
              "</div>\n",
              "    <div class=\"colab-df-buttons\">\n",
              "\n",
              "  <div class=\"colab-df-container\">\n",
              "    <button class=\"colab-df-convert\" onclick=\"convertToInteractive('df-b822bf1e-82c8-4068-82f6-44b66750241d')\"\n",
              "            title=\"Convert this dataframe to an interactive table.\"\n",
              "            style=\"display:none;\">\n",
              "\n",
              "  <svg xmlns=\"http://www.w3.org/2000/svg\" height=\"24px\" viewBox=\"0 -960 960 960\">\n",
              "    <path d=\"M120-120v-720h720v720H120Zm60-500h600v-160H180v160Zm220 220h160v-160H400v160Zm0 220h160v-160H400v160ZM180-400h160v-160H180v160Zm440 0h160v-160H620v160ZM180-180h160v-160H180v160Zm440 0h160v-160H620v160Z\"/>\n",
              "  </svg>\n",
              "    </button>\n",
              "\n",
              "  <style>\n",
              "    .colab-df-container {\n",
              "      display:flex;\n",
              "      gap: 12px;\n",
              "    }\n",
              "\n",
              "    .colab-df-convert {\n",
              "      background-color: #E8F0FE;\n",
              "      border: none;\n",
              "      border-radius: 50%;\n",
              "      cursor: pointer;\n",
              "      display: none;\n",
              "      fill: #1967D2;\n",
              "      height: 32px;\n",
              "      padding: 0 0 0 0;\n",
              "      width: 32px;\n",
              "    }\n",
              "\n",
              "    .colab-df-convert:hover {\n",
              "      background-color: #E2EBFA;\n",
              "      box-shadow: 0px 1px 2px rgba(60, 64, 67, 0.3), 0px 1px 3px 1px rgba(60, 64, 67, 0.15);\n",
              "      fill: #174EA6;\n",
              "    }\n",
              "\n",
              "    .colab-df-buttons div {\n",
              "      margin-bottom: 4px;\n",
              "    }\n",
              "\n",
              "    [theme=dark] .colab-df-convert {\n",
              "      background-color: #3B4455;\n",
              "      fill: #D2E3FC;\n",
              "    }\n",
              "\n",
              "    [theme=dark] .colab-df-convert:hover {\n",
              "      background-color: #434B5C;\n",
              "      box-shadow: 0px 1px 3px 1px rgba(0, 0, 0, 0.15);\n",
              "      filter: drop-shadow(0px 1px 2px rgba(0, 0, 0, 0.3));\n",
              "      fill: #FFFFFF;\n",
              "    }\n",
              "  </style>\n",
              "\n",
              "    <script>\n",
              "      const buttonEl =\n",
              "        document.querySelector('#df-b822bf1e-82c8-4068-82f6-44b66750241d button.colab-df-convert');\n",
              "      buttonEl.style.display =\n",
              "        google.colab.kernel.accessAllowed ? 'block' : 'none';\n",
              "\n",
              "      async function convertToInteractive(key) {\n",
              "        const element = document.querySelector('#df-b822bf1e-82c8-4068-82f6-44b66750241d');\n",
              "        const dataTable =\n",
              "          await google.colab.kernel.invokeFunction('convertToInteractive',\n",
              "                                                    [key], {});\n",
              "        if (!dataTable) return;\n",
              "\n",
              "        const docLinkHtml = 'Like what you see? Visit the ' +\n",
              "          '<a target=\"_blank\" href=https://colab.research.google.com/notebooks/data_table.ipynb>data table notebook</a>'\n",
              "          + ' to learn more about interactive tables.';\n",
              "        element.innerHTML = '';\n",
              "        dataTable['output_type'] = 'display_data';\n",
              "        await google.colab.output.renderOutput(dataTable, element);\n",
              "        const docLink = document.createElement('div');\n",
              "        docLink.innerHTML = docLinkHtml;\n",
              "        element.appendChild(docLink);\n",
              "      }\n",
              "    </script>\n",
              "  </div>\n",
              "\n",
              "\n",
              "<div id=\"df-f93fd860-be0e-4c0c-954e-5351a7fcc43c\">\n",
              "  <button class=\"colab-df-quickchart\" onclick=\"quickchart('df-f93fd860-be0e-4c0c-954e-5351a7fcc43c')\"\n",
              "            title=\"Suggest charts.\"\n",
              "            style=\"display:none;\">\n",
              "\n",
              "<svg xmlns=\"http://www.w3.org/2000/svg\" height=\"24px\"viewBox=\"0 0 24 24\"\n",
              "     width=\"24px\">\n",
              "    <g>\n",
              "        <path d=\"M19 3H5c-1.1 0-2 .9-2 2v14c0 1.1.9 2 2 2h14c1.1 0 2-.9 2-2V5c0-1.1-.9-2-2-2zM9 17H7v-7h2v7zm4 0h-2V7h2v10zm4 0h-2v-4h2v4z\"/>\n",
              "    </g>\n",
              "</svg>\n",
              "  </button>\n",
              "\n",
              "<style>\n",
              "  .colab-df-quickchart {\n",
              "      --bg-color: #E8F0FE;\n",
              "      --fill-color: #1967D2;\n",
              "      --hover-bg-color: #E2EBFA;\n",
              "      --hover-fill-color: #174EA6;\n",
              "      --disabled-fill-color: #AAA;\n",
              "      --disabled-bg-color: #DDD;\n",
              "  }\n",
              "\n",
              "  [theme=dark] .colab-df-quickchart {\n",
              "      --bg-color: #3B4455;\n",
              "      --fill-color: #D2E3FC;\n",
              "      --hover-bg-color: #434B5C;\n",
              "      --hover-fill-color: #FFFFFF;\n",
              "      --disabled-bg-color: #3B4455;\n",
              "      --disabled-fill-color: #666;\n",
              "  }\n",
              "\n",
              "  .colab-df-quickchart {\n",
              "    background-color: var(--bg-color);\n",
              "    border: none;\n",
              "    border-radius: 50%;\n",
              "    cursor: pointer;\n",
              "    display: none;\n",
              "    fill: var(--fill-color);\n",
              "    height: 32px;\n",
              "    padding: 0;\n",
              "    width: 32px;\n",
              "  }\n",
              "\n",
              "  .colab-df-quickchart:hover {\n",
              "    background-color: var(--hover-bg-color);\n",
              "    box-shadow: 0 1px 2px rgba(60, 64, 67, 0.3), 0 1px 3px 1px rgba(60, 64, 67, 0.15);\n",
              "    fill: var(--button-hover-fill-color);\n",
              "  }\n",
              "\n",
              "  .colab-df-quickchart-complete:disabled,\n",
              "  .colab-df-quickchart-complete:disabled:hover {\n",
              "    background-color: var(--disabled-bg-color);\n",
              "    fill: var(--disabled-fill-color);\n",
              "    box-shadow: none;\n",
              "  }\n",
              "\n",
              "  .colab-df-spinner {\n",
              "    border: 2px solid var(--fill-color);\n",
              "    border-color: transparent;\n",
              "    border-bottom-color: var(--fill-color);\n",
              "    animation:\n",
              "      spin 1s steps(1) infinite;\n",
              "  }\n",
              "\n",
              "  @keyframes spin {\n",
              "    0% {\n",
              "      border-color: transparent;\n",
              "      border-bottom-color: var(--fill-color);\n",
              "      border-left-color: var(--fill-color);\n",
              "    }\n",
              "    20% {\n",
              "      border-color: transparent;\n",
              "      border-left-color: var(--fill-color);\n",
              "      border-top-color: var(--fill-color);\n",
              "    }\n",
              "    30% {\n",
              "      border-color: transparent;\n",
              "      border-left-color: var(--fill-color);\n",
              "      border-top-color: var(--fill-color);\n",
              "      border-right-color: var(--fill-color);\n",
              "    }\n",
              "    40% {\n",
              "      border-color: transparent;\n",
              "      border-right-color: var(--fill-color);\n",
              "      border-top-color: var(--fill-color);\n",
              "    }\n",
              "    60% {\n",
              "      border-color: transparent;\n",
              "      border-right-color: var(--fill-color);\n",
              "    }\n",
              "    80% {\n",
              "      border-color: transparent;\n",
              "      border-right-color: var(--fill-color);\n",
              "      border-bottom-color: var(--fill-color);\n",
              "    }\n",
              "    90% {\n",
              "      border-color: transparent;\n",
              "      border-bottom-color: var(--fill-color);\n",
              "    }\n",
              "  }\n",
              "</style>\n",
              "\n",
              "  <script>\n",
              "    async function quickchart(key) {\n",
              "      const quickchartButtonEl =\n",
              "        document.querySelector('#' + key + ' button');\n",
              "      quickchartButtonEl.disabled = true;  // To prevent multiple clicks.\n",
              "      quickchartButtonEl.classList.add('colab-df-spinner');\n",
              "      try {\n",
              "        const charts = await google.colab.kernel.invokeFunction(\n",
              "            'suggestCharts', [key], {});\n",
              "      } catch (error) {\n",
              "        console.error('Error during call to suggestCharts:', error);\n",
              "      }\n",
              "      quickchartButtonEl.classList.remove('colab-df-spinner');\n",
              "      quickchartButtonEl.classList.add('colab-df-quickchart-complete');\n",
              "    }\n",
              "    (() => {\n",
              "      let quickchartButtonEl =\n",
              "        document.querySelector('#df-f93fd860-be0e-4c0c-954e-5351a7fcc43c button');\n",
              "      quickchartButtonEl.style.display =\n",
              "        google.colab.kernel.accessAllowed ? 'block' : 'none';\n",
              "    })();\n",
              "  </script>\n",
              "</div>\n",
              "    </div>\n",
              "  </div>\n"
            ]
          },
          "metadata": {},
          "execution_count": 11
        }
      ]
    },
    {
      "cell_type": "code",
      "source": [],
      "metadata": {
        "id": "WWN7QzHgKVzd"
      },
      "execution_count": null,
      "outputs": []
    },
    {
      "cell_type": "markdown",
      "source": [
        "Understanding the Performance of the Signals"
      ],
      "metadata": {
        "id": "OdEC5LkCKWZk"
      }
    },
    {
      "cell_type": "markdown",
      "source": [
        "We can take all the conditions mentioned above and perform a simple aggregate to calculate the average and the median returns we can expect while trading based on these signals. We can also extract the minimum and the maximum returns each signal has generated in the past. This will not only give us a rough understanding of how good the signals are but also an idea of how much returns can be expected while trading using these signals. Let’s write a simple code to do the same using Python."
      ],
      "metadata": {
        "id": "lCo28VMaKhGj"
      }
    },
    {
      "cell_type": "code",
      "source": [
        "def get_eda_and_deepdive(df):\n",
        "    eda = df.dropna().groupby(['10_cross_30', 'MACD_Signal_MACD',\n",
        "    'MACD_lim', 'abv_50', 'abv_200'])[['5D_returns', '10D_returns']]\\\n",
        "    .agg(['count', 'mean','median', 'min', 'max'])\n",
        "\n",
        "    deepdive = df.dropna().groupby(['10_cross_30', 'MACD_Signal_MACD',\n",
        "     'MACD_lim', 'abv_50', 'abv_200','5D_positive', '10D_positive'])[['5D_returns', '10D_returns']]\\\n",
        "    .agg(['count', 'mean','median', 'min', 'max'])\n",
        "\n",
        "    return eda, deepdive\n",
        "\n",
        "\n",
        "eda, deepdive = get_eda_and_deepdive(df)"
      ],
      "metadata": {
        "id": "t5k-8gY0KlfU"
      },
      "execution_count": 12,
      "outputs": []
    },
    {
      "cell_type": "markdown",
      "source": [
        "Let’s visualize the box whiskers plot for the top 10 signal combinations sorted based on the 5-day and the 10-day returns."
      ],
      "metadata": {
        "id": "830rMHPgKqic"
      }
    },
    {
      "cell_type": "code",
      "source": [
        "x = df.copy()\n",
        "\n",
        "def _fun(x):\n",
        "    code = ''\n",
        "    for i in x.keys(): code += str(x[i])\n",
        "    return code\n",
        "\n",
        "x['signal'] = x[['10_cross_30', 'MACD_Signal_MACD', 'MACD_lim', 'abv_50', 'abv_200',\n",
        "                     '5D_positive', '10D_positive']].apply(_fun, axis=1)\n",
        "\n",
        "x = x.dropna()\n",
        "\n",
        "lim = x.groupby(['10_cross_30', 'MACD_Signal_MACD', 'MACD_lim',\n",
        "'abv_50', 'abv_200', '5D_positive', '10D_positive'])['5D_returns'].agg(['mean']).reset_index()\n",
        "lim = lim.sort_values(by='mean', ascending=False).head(10)\n",
        "\n",
        "x = x.merge(lim, on=['10_cross_30', 'MACD_Signal_MACD', 'MACD_lim',\n",
        " 'abv_50', 'abv_200', '5D_positive', '10D_positive'], how='inner')"
      ],
      "metadata": {
        "id": "lHZMS0r5Kr6s"
      },
      "execution_count": 13,
      "outputs": []
    },
    {
      "cell_type": "code",
      "source": [
        "import seaborn as sb"
      ],
      "metadata": {
        "id": "iDL9CNlyK4z9"
      },
      "execution_count": 15,
      "outputs": []
    },
    {
      "cell_type": "code",
      "source": [
        "ax = sb.boxplot(x='signal', y='5D_returns', data=x)\n",
        "ax.set_xticklabels(ax.get_xticklabels(), rotation=45)\n",
        "plt.show()"
      ],
      "metadata": {
        "colab": {
          "base_uri": "https://localhost:8080/",
          "height": 489
        },
        "id": "vz9W0521Kw30",
        "outputId": "ff8a5d19-fb63-4eb9-ef52-dcdcf760a20d"
      },
      "execution_count": 16,
      "outputs": [
        {
          "output_type": "display_data",
          "data": {
            "text/plain": [
              "<Figure size 640x480 with 1 Axes>"
            ],
            "image/png": "[encoded data removed]"
          },
          "metadata": {}
        }
      ]
    },
    {
      "cell_type": "code",
      "source": [
        "ax = sb.boxplot(x='signal', y='10D_returns', data=x)\n",
        "ax.set_xticklabels(ax.get_xticklabels(), rotation=45)\n",
        "plt.show()"
      ],
      "metadata": {
        "colab": {
          "base_uri": "https://localhost:8080/",
          "height": 489
        },
        "id": "DsebrBF2LBi9",
        "outputId": "98a33bcd-dd63-4b7c-b573-6385cd656377"
      },
      "execution_count": 17,
      "outputs": [
        {
          "output_type": "display_data",
          "data": {
            "text/plain": [
              "<Figure size 640x480 with 1 Axes>"
            ],
            "image/png": "[encoded data removed]"
          },
          "metadata": {}
        }
      ]
    },
    {
      "cell_type": "markdown",
      "source": [
        "Taking only the 5-day and 10-day returns for selecting the best signals is not the best approach because we will never know how many times the signal has given positive returns against negative returns. This approach could be taken into account while selecting the best strategies, which could potentially improve the performance of the strategies. I will not take this approach to keep this article simple and beginner-friendly."
      ],
      "metadata": {
        "id": "wur8xE0RLJKe"
      }
    }
  ]
}